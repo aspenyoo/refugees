{
 "cells": [
  {
   "cell_type": "code",
   "execution_count": 9,
   "metadata": {},
   "outputs": [
    {
     "ename": "ModuleNotFoundError",
     "evalue": "No module named 'h2o'",
     "output_type": "error",
     "traceback": [
      "\u001b[0;31m---------------------------------------------------------------------------\u001b[0m",
      "\u001b[0;31mModuleNotFoundError\u001b[0m                       Traceback (most recent call last)",
      "\u001b[0;32m<ipython-input-9-8c2a1b905a3e>\u001b[0m in \u001b[0;36m<module>\u001b[0;34m()\u001b[0m\n\u001b[1;32m      4\u001b[0m \u001b[0;32mimport\u001b[0m \u001b[0mmatplotlib\u001b[0m\u001b[0;34m.\u001b[0m\u001b[0mpyplot\u001b[0m \u001b[0;32mas\u001b[0m \u001b[0mplt\u001b[0m\u001b[0;34m\u001b[0m\u001b[0m\n\u001b[1;32m      5\u001b[0m \u001b[0mwarnings\u001b[0m\u001b[0;34m.\u001b[0m\u001b[0msimplefilter\u001b[0m\u001b[0;34m(\u001b[0m\u001b[0;34m'ignore'\u001b[0m\u001b[0;34m)\u001b[0m\u001b[0;34m\u001b[0m\u001b[0m\n\u001b[0;32m----> 6\u001b[0;31m \u001b[0;32mimport\u001b[0m \u001b[0mh2o\u001b[0m\u001b[0;34m\u001b[0m\u001b[0m\n\u001b[0m\u001b[1;32m      7\u001b[0m \u001b[0mh2o\u001b[0m\u001b[0;34m.\u001b[0m\u001b[0minit\u001b[0m\u001b[0;34m(\u001b[0m\u001b[0mmax_mem_size\u001b[0m \u001b[0;34m=\u001b[0m \u001b[0;34m\"5G\"\u001b[0m\u001b[0;34m)\u001b[0m\u001b[0;34m\u001b[0m\u001b[0m\n\u001b[1;32m      8\u001b[0m \u001b[0;32mfrom\u001b[0m \u001b[0mh2o\u001b[0m\u001b[0;34m.\u001b[0m\u001b[0mestimators\u001b[0m\u001b[0;34m.\u001b[0m\u001b[0mgbm\u001b[0m \u001b[0;32mimport\u001b[0m \u001b[0mH2OGradientBoostingEstimator\u001b[0m\u001b[0;34m\u001b[0m\u001b[0m\n",
      "\u001b[0;31mModuleNotFoundError\u001b[0m: No module named 'h2o'"
     ]
    }
   ],
   "source": [
    "import pandas as pd\n",
    "import numpy as np\n",
    "import warnings; \n",
    "import matplotlib.pyplot as plt\n",
    "warnings.simplefilter('ignore')\n",
    "import h2o\n",
    "h2o.init(max_mem_size = \"5G\")\n",
    "from h2o.estimators.gbm import H2OGradientBoostingEstimator\n",
    "from h2o.estimators.random_forest import H2ORandomForestEstimator"
   ]
  },
  {
   "cell_type": "code",
   "execution_count": 2,
   "metadata": {},
   "outputs": [],
   "source": [
    "flag_early = 0\n",
    "if flag_early:\n",
    "    tag_pred = 'early'\n",
    "else:\n",
    "    tag_pred = 'late'"
   ]
  },
  {
   "cell_type": "code",
   "execution_count": 4,
   "metadata": {},
   "outputs": [],
   "source": [
    "# LOAD AND MERGE DATA FILES\n",
    "\n",
    "# load\n",
    "path = '/data/WorkData/spatialtemporal/'\n",
    "file = pd.read_csv(path + 'finalmerge_any_' + tag_pred + 'v2.csv')\n",
    "timefile = pd.read_csv(path + 'gr_lastyear_' + tag_pred + '.csv')\n",
    "test_cases = pd.read_csv(path + 'test_cases_last_hearingv2.csv', header=None)\n",
    "\n",
    "# merge\n",
    "file = pd.merge(file, timefile, on=['idnproceeding','idncase'], how='left')"
   ]
  },
  {
   "cell_type": "code",
   "execution_count": 5,
   "metadata": {},
   "outputs": [],
   "source": [
    "test_cases = test_cases.rename(columns={0:'num'})\n",
    "train = file[~file.idncase.isin(test_cases.num)]\n",
    "test = file[file.idncase.isin(test_cases.num)]"
   ]
  },
  {
   "cell_type": "code",
   "execution_count": 7,
   "metadata": {},
   "outputs": [
    {
     "data": {
      "text/plain": [
       "idncase                            438696\n",
       "idnproceeding                      438696\n",
       "dec                                438696\n",
       "numAppsPerProc                     438696\n",
       "nat                                438696\n",
       "case_type                          438696\n",
       "c_asy_type                         438696\n",
       "base_city_code                     438696\n",
       "hearing_loc_code                   438696\n",
       "osc_date                           438696\n",
       "comp_date                          438696\n",
       "attorney_flag                      438696\n",
       "tracid                             438696\n",
       "hearing_city                       438696\n",
       "base_city                          438696\n",
       "numProcPerCase                     438696\n",
       "adj_medium                         438696\n",
       "adj_date                           438696\n",
       "sched_type                         438696\n",
       "lang_hearing                       438696\n",
       "notice_desc                        207300\n",
       "adj_time_start2                    207300\n",
       "adj_time_stop2                     207300\n",
       "durationHearing                    438696\n",
       "adj_rsn_desc                       207300\n",
       "numHearingsPerProc                 438696\n",
       "durationFirstLastHearing           438696\n",
       "averageHearingDur                  438696\n",
       "pres_aff                           438696\n",
       "osc_date_delta                     438696\n",
       "caseDuration                       438696\n",
       "hearingDayOfWeek                   438696\n",
       "hearingYear                        438696\n",
       "hearingMonth                       438696\n",
       "nat_num_last1yr_late               438696\n",
       "nat_gr_last1yr_late                438696\n",
       "nat_dmy_last1yr_late               438696\n",
       "tracid_num_last1yr_late            438696\n",
       "tracid_gr_last1yr_late             438696\n",
       "tracid_dmy_last1yr_late            438696\n",
       "base_city_code_num_last1yr_late    438696\n",
       "base_city_code_gr_last1yr_late     438696\n",
       "base_city_code_dmy_last1yr_late    438696\n",
       "tracid_gr_last10d                  438696\n",
       "tracid_dmy_last10d                 438696\n",
       "dtype: int64"
      ]
     },
     "execution_count": 7,
     "metadata": {},
     "output_type": "execute_result"
    }
   ],
   "source": [
    "train.count()"
   ]
  },
  {
   "cell_type": "code",
   "execution_count": 8,
   "metadata": {},
   "outputs": [],
   "source": [
    "# columns to drop in transformer depending on the model\n",
    "if flag_early: \n",
    "    cols = ['idncase', 'idnproceeding','adj_date','comp_date','osc_date','base_city_code', 'hearing_loc_code'\n",
    "            'notice_desc','adj_time_start2','adj_time_stop2', 'caseDuration',\n",
    "            'numAppsPerProc','numProcPerCase','osc_date','adj_rsn_desc', 'durationFirstLastHearing', 'averageHearingDur'\n",
    "            'numHearingsPerProc']\n",
    "else: \n",
    "    cols = ['idncase', 'idnproceeding','adj_date','comp_date','osc_date','numAppsPerProc','numProcPerCase','base_city_code',\n",
    "            'hearing_loc_code', 'notice_desc','adj_time_start2','adj_time_stop2','adj_rsn_desc']"
   ]
  },
  {
   "cell_type": "code",
   "execution_count": null,
   "metadata": {},
   "outputs": [],
   "source": [
    "class Cleaning(BaseEstimator, TransformerMixin):\n",
    "    def fit(self, X, y=None):\n",
    "        return self\n",
    "    def transform(self, X):\n",
    "        # drop unused columns        \n",
    "        X = X.drop(columns=cols)\n",
    "        # changes frame to H2O compatible frame\n",
    "        X = h2o.H2OFrame(X)\n",
    "        # encodes as categorical\n",
    "        X['dec'] = X['dec'].asfactor()\n",
    "        return X\n",
    "    "
   ]
  },
  {
   "cell_type": "code",
   "execution_count": null,
   "metadata": {},
   "outputs": [],
   "source": [
    "clean = Cleaning()\n",
    "train = clean.transform(train)"
   ]
  },
  {
   "cell_type": "code",
   "execution_count": null,
   "metadata": {},
   "outputs": [],
   "source": [
    "# specifying which columns to use as x and y \n",
    "training_columns = train.columns.values.tolist()[1:]\n",
    "response_column = 'dec'"
   ]
  },
  {
   "cell_type": "code",
   "execution_count": null,
   "metadata": {},
   "outputs": [],
   "source": [
    "model = H2ORandomForestEstimator(ntrees=100, max_depth=20, nfolds=5, keep_cross_validation_predictions= True, stopping_metric='auc')\n",
    "model.train(x=training_columns, y=response_column, training_frame=train)`"
   ]
  },
  {
   "cell_type": "code",
   "execution_count": null,
   "metadata": {},
   "outputs": [],
   "source": [
    "model"
   ]
  }
 ],
 "metadata": {
  "kernelspec": {
   "display_name": "Python 3",
   "language": "python",
   "name": "python3"
  },
  "language_info": {
   "codemirror_mode": {
    "name": "ipython",
    "version": 3
   },
   "file_extension": ".py",
   "mimetype": "text/x-python",
   "name": "python",
   "nbconvert_exporter": "python",
   "pygments_lexer": "ipython3",
   "version": "3.6.4"
  }
 },
 "nbformat": 4,
 "nbformat_minor": 2
}
