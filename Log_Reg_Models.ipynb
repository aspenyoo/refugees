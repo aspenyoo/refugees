{
 "cells": [
  {
   "cell_type": "markdown",
   "metadata": {},
   "source": [
    "## Runs logistic regression models"
   ]
  },
  {
   "cell_type": "code",
   "execution_count": 2,
   "metadata": {},
   "outputs": [],
   "source": [
    "import pandas as pd\n",
    "import numpy as np\n",
    "import warnings; \n",
    "import matplotlib.pyplot as plt\n",
    "warnings.simplefilter('ignore')\n",
    "#from sklearn.preprocessing import CategoricalEncoder\n",
    "from sklearn.linear_model import LogisticRegression\n",
    "from sklearn.model_selection import cross_val_score, train_test_split\n",
    "from sklearn.base import BaseEstimator, TransformerMixin\n",
    "from sklearn.pipeline import Pipeline, FeatureUnion\n",
    "from sklearn.preprocessing import LabelEncoder, OneHotEncoder, StandardScaler\n",
    "from sklearn.tree import DecisionTreeClassifier\n",
    "from sklearn.model_selection import GridSearchCV\n",
    "from scipy.stats import randint"
   ]
  },
  {
   "cell_type": "markdown",
   "metadata": {},
   "source": [
    "## Creating Test/Train Sets"
   ]
  },
  {
   "cell_type": "code",
   "execution_count": 3,
   "metadata": {},
   "outputs": [],
   "source": [
    "# FLAGS TO TOGGLE BETWEEN DIFFERENT MODELS\n",
    "# flag_baseline: \n",
    "#   1 - absence of any spatial or temporal features (should be with flag_early = 1)\n",
    "#   0 - all features\n",
    "\n",
    "# flag_early: \n",
    "#   1 - early predictability. features a function of osc_date. \n",
    "#   0 - late predictability. features a function of last hearing.\n",
    "# flag_spatialonly: baseline features + spatial features\n",
    "# flag_temponly: baseline features + temporal features\n",
    "\n",
    "# flags\n",
    "flag_baseline = 0\n",
    "flag_early = 0\n",
    "flag_spatialonly = 0\n",
    "flag_temponly = 0\n",
    "\n",
    "# used for loading appropriate dataset file\n",
    "if flag_early:\n",
    "    tag_pred = 'early'\n",
    "else:\n",
    "    tag_pred = 'late'\n"
   ]
  },
  {
   "cell_type": "code",
   "execution_count": 4,
   "metadata": {},
   "outputs": [],
   "source": [
    "# LOAD AND MERGE DATA FILES\n",
    "\n",
    "# load\n",
    "path = '/data/WorkData/spatialtemporal/'\n",
    "file = pd.read_csv(path + 'finalmerge_any_'+ tag_pred + 'v2.csv')\n",
    "timefile = pd.read_csv(path + 'gr_lastyear_' + tag_pred + '.csv')\n",
    "test_cases = pd.read_csv(path + 'test_cases_last_hearing.csv', header=None)\n",
    "\n",
    "# merge\n",
    "if (not flag_baseline) and (not flag_spatialonly): file = pd.merge(file, timefile, on=['idnproceeding','idncase'], how='left')"
   ]
  },
  {
   "cell_type": "code",
   "execution_count": 5,
   "metadata": {},
   "outputs": [
    {
     "data": {
      "text/plain": [
       "idncase                            float64\n",
       "idnproceeding                      float64\n",
       "dec                                float64\n",
       "numAppsPerProc                       int64\n",
       "nat                                 object\n",
       "case_type                           object\n",
       "c_asy_type                          object\n",
       "base_city_code                      object\n",
       "hearing_loc_code                    object\n",
       "osc_date                            object\n",
       "comp_date                           object\n",
       "attorney_flag                      float64\n",
       "tracid                             float64\n",
       "hearing_city                        object\n",
       "base_city                           object\n",
       "numProcPerCase                       int64\n",
       "adj_medium                          object\n",
       "adj_date                            object\n",
       "sched_type                          object\n",
       "lang_hearing                        object\n",
       "notice_desc                         object\n",
       "adj_time_start2                     object\n",
       "adj_time_stop2                      object\n",
       "durationHearing                    float64\n",
       "adj_rsn_desc                        object\n",
       "numHearingsPerProc                   int64\n",
       "durationFirstLastHearing             int64\n",
       "averageHearingDur                  float64\n",
       "pres_aff                            object\n",
       "osc_date_delta                       int64\n",
       "caseDuration                         int64\n",
       "hearingDayOfWeek                    object\n",
       "hearingYear                          int64\n",
       "hearingMonth                         int64\n",
       "nat_num_last1yr_late               float64\n",
       "nat_gr_last1yr_late                float64\n",
       "nat_dmy_last1yr_late               float64\n",
       "tracid_num_last1yr_late            float64\n",
       "tracid_gr_last1yr_late             float64\n",
       "tracid_dmy_last1yr_late            float64\n",
       "base_city_code_num_last1yr_late    float64\n",
       "base_city_code_gr_last1yr_late     float64\n",
       "base_city_code_dmy_last1yr_late    float64\n",
       "tracid_gr_last10d                  float64\n",
       "tracid_dmy_last10d                 float64\n",
       "dtype: object"
      ]
     },
     "execution_count": 5,
     "metadata": {},
     "output_type": "execute_result"
    }
   ],
   "source": [
    "file.dtypes"
   ]
  },
  {
   "cell_type": "code",
   "execution_count": 6,
   "metadata": {},
   "outputs": [],
   "source": [
    "# GET TRAINING DATASET\n",
    "\n",
    "test_cases = test_cases.rename(columns={0:'num'})\n",
    "train = file[~file.idncase.isin(test_cases.num)]"
   ]
  },
  {
   "cell_type": "code",
   "execution_count": 7,
   "metadata": {},
   "outputs": [],
   "source": [
    "# DEFINE CLEANING SCRIPT AND FEATURE NAMES\n",
    "# this file removes any irrelevant features from dataset\n",
    "\n",
    "if flag_early: # early predictability\n",
    "    cols = ['idncase', 'idnproceeding','adj_date','comp_date','osc_date','base_city_code',\n",
    "            'notice_desc','adj_time_start2','adj_time_stop2','durationHearing',\n",
    "            'numAppsPerProc','numProcPerCase','osc_date','adj_rsn_desc']\n",
    "else: # late predictability\n",
    "    #note: temporary fix by dropping duration hearing and averageHearingDur, which have NaNs. change later!\n",
    "    cols = ['idncase', 'idnproceeding','adj_date','comp_date','osc_date','numAppsPerProc','numProcPerCase','base_city_code',\n",
    "            'notice_desc','adj_time_start2','adj_time_stop2','adj_rsn_desc']\n",
    "\n",
    "if flag_spatialonly: # spatial features only\n",
    "    if flag_early: cols2 = ['osc_date_delta','pres_aff','hearingYear','hearingMonth','hearingDayOfWeek']\n",
    "    else: cols2 = ['osc_date_delta','pres_aff','hearingYear','hearingMonth','hearingDayOfWeek',\n",
    "                  'numHearingsPerProc','durationFirstLastHearing','caseDuration']\n",
    "    \n",
    "if flag_temponly: # temporal features only\n",
    "    cols2 = ['hearing_loc_code','base_city','hearing_city']\n",
    "\n",
    "if flag_baseline: # baseline model only\n",
    "    cols = ['dec','tracid','nat','c_asy_type','case_type','lang_hearing',\n",
    "            'attorney_flag','sched_type','adj_medium'] # dropping spatial and temporal variables\n",
    "    #'numAppsPerProc','numProcPerCase','osc_date_delta'\n",
    "    \n",
    "\n",
    "class Cleaning(BaseEstimator, TransformerMixin):\n",
    "    def fit(self, X, y=None):\n",
    "        return self\n",
    "    def transform(self, X):\n",
    "        \n",
    "        # drop unused columns\n",
    "        if flag_baseline: X = X[cols]\n",
    "        else: X = X.drop(columns=cols)\n",
    "        \n",
    "        if flag_spatialonly: X = X.drop(columns=cols2)\n",
    "        if flag_temponly: X = X.drop(columns=cols2)\n",
    "            \n",
    "        # make variables correct dtypes\n",
    "        X['tracid'] = X['tracid'].astype('str')\n",
    "        X['adj_medium'] = X['adj_medium'].astype('str')\n",
    "        X['sched_type'] = X['sched_type'].astype('str')\n",
    "        X['nat'] = X['nat'].astype('str')\n",
    "        X['case_type'] = X['case_type'].astype('str')\n",
    "        X['c_asy_type'] = X['c_asy_type'].astype('str')\n",
    "        X['lang_hearing'] = X['lang_hearing'].astype('str')\n",
    "\n",
    "        if (not flag_baseline): \n",
    "            if not flag_temponly:\n",
    "                X['hearing_loc_code'] = X['hearing_loc_code'].astype('str')\n",
    "                X['hearing_city'] = X['hearing_city'].astype('str')\n",
    "                X['base_city'] = X['base_city'].astype('str')\n",
    "            if not flag_spatialonly:\n",
    "                X['hearingMonth'] = X['hearingMonth'].astype('str')\n",
    "                X['hearingDayOfWeek'] = X['hearingDayOfWeek'].astype('str')    \n",
    "                X['hearingYear'] = X['hearingYear'].astype('float64')\n",
    "                X['pres_aff'] = X['pres_aff'].astype('str')\n",
    "            #if not flag_early:\n",
    "                #train_data['hearingMonth'] = train_data['hearingMonth'].astype('str')\n",
    "\n",
    "        return X\n",
    "    "
   ]
  },
  {
   "cell_type": "code",
   "execution_count": 8,
   "metadata": {},
   "outputs": [],
   "source": [
    "# RUNNING CLEANING SCRIPT\n",
    "\n",
    "clean = Cleaning()\n",
    "train_data = clean.transform(train)"
   ]
  },
  {
   "cell_type": "code",
   "execution_count": 9,
   "metadata": {},
   "outputs": [],
   "source": [
    "# MAKE VARIABLES CORRECT DTYPES\n",
    "\n",
    "train_data['tracid'] = train_data['tracid'].astype('str')\n",
    "train_data['adj_medium'] = train_data['adj_medium'].astype('str')\n",
    "train_data['sched_type'] = train_data['sched_type'].astype('str')\n",
    "train_data['nat'] = train_data['nat'].astype('str')\n",
    "train_data['case_type'] = train_data['case_type'].astype('str')\n",
    "train_data['c_asy_type'] = train_data['c_asy_type'].astype('str')\n",
    "train_data['lang_hearing'] = train_data['lang_hearing'].astype('str')\n",
    "\n",
    "if (not flag_baseline): \n",
    "    if not flag_temponly:\n",
    "        train_data['hearing_loc_code'] = train_data['hearing_loc_code'].astype('str')\n",
    "        train_data['hearing_city'] = train_data['hearing_city'].astype('str')\n",
    "        train_data['base_city'] = train_data['base_city'].astype('str')\n",
    "    if not flag_spatialonly:\n",
    "        train_data['hearingMonth'] = train_data['hearingMonth'].astype('str')\n",
    "        train_data['hearingDayOfWeek'] = train_data['hearingDayOfWeek'].astype('str')    \n",
    "        train_data['hearingYear'] = train_data['hearingYear'].astype('float64')\n",
    "        train_data['pres_aff'] = train_data['pres_aff'].astype('str')\n",
    "    #if not flag_early:\n",
    "        #train_data['hearingMonth'] = train_data['hearingMonth'].astype('str')\n",
    "    \n",
    "    "
   ]
  },
  {
   "cell_type": "code",
   "execution_count": 10,
   "metadata": {},
   "outputs": [
    {
     "data": {
      "text/plain": [
       "dec                                float64\n",
       "nat                                 object\n",
       "case_type                           object\n",
       "c_asy_type                          object\n",
       "hearing_loc_code                    object\n",
       "attorney_flag                      float64\n",
       "tracid                              object\n",
       "hearing_city                        object\n",
       "base_city                           object\n",
       "adj_medium                          object\n",
       "sched_type                          object\n",
       "lang_hearing                        object\n",
       "durationHearing                    float64\n",
       "numHearingsPerProc                   int64\n",
       "durationFirstLastHearing             int64\n",
       "averageHearingDur                  float64\n",
       "pres_aff                            object\n",
       "osc_date_delta                       int64\n",
       "caseDuration                         int64\n",
       "hearingDayOfWeek                    object\n",
       "hearingYear                        float64\n",
       "hearingMonth                        object\n",
       "nat_num_last1yr_late               float64\n",
       "nat_gr_last1yr_late                float64\n",
       "nat_dmy_last1yr_late               float64\n",
       "tracid_num_last1yr_late            float64\n",
       "tracid_gr_last1yr_late             float64\n",
       "tracid_dmy_last1yr_late            float64\n",
       "base_city_code_num_last1yr_late    float64\n",
       "base_city_code_gr_last1yr_late     float64\n",
       "base_city_code_dmy_last1yr_late    float64\n",
       "tracid_gr_last10d                  float64\n",
       "tracid_dmy_last10d                 float64\n",
       "dtype: object"
      ]
     },
     "execution_count": 10,
     "metadata": {},
     "output_type": "execute_result"
    }
   ],
   "source": [
    "# last minute inspection of features and dtypes to make sure they are correct\n",
    "train_data.dtypes"
   ]
  },
  {
   "cell_type": "code",
   "execution_count": 11,
   "metadata": {},
   "outputs": [],
   "source": [
    "#these showed that these two columns have nans for late\n",
    "#np.any(np.isnan(X_train.averageHearingDur))\n",
    "#np.any(np.isnan(X_train.durationHearing))\n"
   ]
  },
  {
   "cell_type": "code",
   "execution_count": 12,
   "metadata": {},
   "outputs": [],
   "source": [
    "# make input and output variables\n",
    "y_train = train_data['dec']\n",
    "X_train = train_data.drop(columns=['dec'], axis=1)"
   ]
  },
  {
   "cell_type": "markdown",
   "metadata": {},
   "source": [
    "## Generating Pipeline"
   ]
  },
  {
   "cell_type": "code",
   "execution_count": 13,
   "metadata": {},
   "outputs": [],
   "source": [
    "class Selector(BaseEstimator, TransformerMixin):\n",
    "    def __init__(self, dtype):\n",
    "        self.dtype = dtype\n",
    "    def fit(self, X, y=None):\n",
    "        return self\n",
    "    def transform(self, X):\n",
    "        num_frame = X.select_dtypes(include=[self.dtype])\n",
    "        self.names = num_frame.columns\n",
    "        return num_frame\n",
    "    def get_feature_names(self):\n",
    "        return self.names.tolist()"
   ]
  },
  {
   "cell_type": "code",
   "execution_count": 14,
   "metadata": {},
   "outputs": [],
   "source": [
    "class CustomLabelEncoder(BaseEstimator, TransformerMixin):\n",
    "    def fit(self, X, y=None):\n",
    "        return self\n",
    "    def transform(self, X):\n",
    "        #X = np.asarray(pd.get_dummies(X))\n",
    "        #self.names = X.columns \n",
    "        self.names = np.array(0)\n",
    "        self.orig_classes = np.array(0)\n",
    "        for col in X.columns:\n",
    "            le = LabelEncoder()\n",
    "            X[col] = le.fit_transform(X[col])\n",
    "            #cat_frame = X.apply(le.fit_transform)\n",
    "            self.names = np.append(self.names, le.classes_)\n",
    "            c_list = np.array(0)\n",
    "            for f in le.classes_:\n",
    "                c_list = np.append(c_list,col)\n",
    "            c_list = c_list[1:]\n",
    "            self.orig_classes = np.append(self.orig_classes, c_list)\n",
    "        self.names = self.names[1:]\n",
    "        self.orig_classes =  self.orig_classes[1:]\n",
    "    \n",
    "        return X\n",
    "    def get_feature_names(self):\n",
    "        return self.names.tolist()\n",
    "    def get_orig_classes(self): \n",
    "        # returns original variable type of the feature, i.e. nat\n",
    "        return self.orig_classes.tolist()"
   ]
  },
  {
   "cell_type": "code",
   "execution_count": 15,
   "metadata": {},
   "outputs": [],
   "source": [
    "# CODE FOR PUTTING FEATURES IN CORRECT FORMAT FOR EACH MODEL\n",
    "\n",
    "# shift and scale numerical data\n",
    "num_pipeline = Pipeline([\n",
    "        ('selector', Selector(np.number)),\n",
    "        ('scaler', StandardScaler()),\n",
    "])\n",
    "\n",
    "\n",
    "# one hot encoding categorical features for regression\n",
    "cat_pipeline_reg = Pipeline([\n",
    "        ('selector', Selector('object')),\n",
    "        ('labeler', CustomLabelEncoder()),\n",
    "        ('encoder', OneHotEncoder())\n",
    "]) \n",
    "\n",
    "\n",
    "# feature pipeline for regression\n",
    "full_pipeline_reg = FeatureUnion(transformer_list=[ \n",
    "        ('numerical', num_pipeline),  \n",
    "        ('categorical', cat_pipeline_reg)   \n",
    "])  "
   ]
  },
  {
   "cell_type": "markdown",
   "metadata": {},
   "source": [
    "## Pipeline-for regression models\n",
    "### (categorical variables one hot encoded)"
   ]
  },
  {
   "cell_type": "code",
   "execution_count": 16,
   "metadata": {},
   "outputs": [],
   "source": [
    "# training data for regression\n",
    "X_train_tr_reg = full_pipeline_reg.fit_transform(X_train)"
   ]
  },
  {
   "cell_type": "code",
   "execution_count": 17,
   "metadata": {},
   "outputs": [
    {
     "data": {
      "text/plain": [
       "['attorney_flag',\n",
       " 'durationHearing',\n",
       " 'numHearingsPerProc',\n",
       " 'durationFirstLastHearing',\n",
       " 'averageHearingDur',\n",
       " 'osc_date_delta',\n",
       " 'caseDuration',\n",
       " 'hearingYear',\n",
       " 'nat_num_last1yr_late',\n",
       " 'nat_gr_last1yr_late',\n",
       " 'nat_dmy_last1yr_late',\n",
       " 'tracid_num_last1yr_late',\n",
       " 'tracid_gr_last1yr_late',\n",
       " 'tracid_dmy_last1yr_late',\n",
       " 'base_city_code_num_last1yr_late',\n",
       " 'base_city_code_gr_last1yr_late',\n",
       " 'base_city_code_dmy_last1yr_late',\n",
       " 'tracid_gr_last10d',\n",
       " 'tracid_dmy_last10d']"
      ]
     },
     "execution_count": 17,
     "metadata": {},
     "output_type": "execute_result"
    }
   ],
   "source": [
    "num_features = num_pipeline.named_steps['selector'].get_feature_names()\n",
    "cat_features = cat_pipeline_reg.named_steps['labeler'].get_feature_names()\n",
    "cat_classes = cat_pipeline_reg.named_steps['labeler'].get_orig_classes()\n",
    "num_features"
   ]
  },
  {
   "cell_type": "markdown",
   "metadata": {},
   "source": [
    "## Hyperparameter Grid Search On Logistic Regression"
   ]
  },
  {
   "cell_type": "code",
   "execution_count": 19,
   "metadata": {},
   "outputs": [],
   "source": [
    "# HYPERPARAMETERS (differences in regularization parameter because of different number of features per model)\n",
    "c_vec = 10**np.arange(-10,2).astype('float64')\n",
    "\n",
    "param_grid = {'penalty': ['l1','l2'], 'C': c_vec}"
   ]
  },
  {
   "cell_type": "code",
   "execution_count": 20,
   "metadata": {},
   "outputs": [
    {
     "name": "stdout",
     "output_type": "stream",
     "text": [
      "    mean_fit_time  mean_score_time  mean_test_score  mean_train_score param_C  \\\n",
      "0        1.297078         0.035957         0.500000          0.500000   1e-10   \n",
      "1        1.191061         0.051065         0.853424          0.797679   1e-10   \n",
      "2        1.449831         0.037808         0.500000          0.500000   1e-09   \n",
      "3        1.343026         0.048498         0.853426          0.797692   1e-09   \n",
      "4        1.307283         0.037306         0.500000          0.500000   1e-08   \n",
      "5        1.302289         0.052454         0.853439          0.797807   1e-08   \n",
      "6        1.254023         0.039306         0.500000          0.500000   1e-07   \n",
      "7        1.403329         0.048199         0.853573          0.798942   1e-07   \n",
      "8        1.294865         0.032312         0.500000          0.500000   1e-06   \n",
      "9        1.644993         0.055062         0.854421          0.808363   1e-06   \n",
      "10       1.315910         0.037017         0.500000          0.500000   1e-05   \n",
      "11       2.295481         0.048463         0.852927          0.838087   1e-05   \n",
      "12       2.418294         0.064937         0.854746          0.845572  0.0001   \n",
      "13       4.251996         0.066037         0.841259          0.857728  0.0001   \n",
      "14       8.900310         0.081135         0.832351          0.857410   0.001   \n",
      "15      11.420609         0.115095         0.819960          0.866219   0.001   \n",
      "16      92.065984         0.085486         0.806711          0.866646    0.01   \n",
      "17      26.939061         0.085355         0.802970          0.872093    0.01   \n",
      "18     236.297636         0.102542         0.797656          0.873732     0.1   \n",
      "19      59.809232         0.108708         0.795795          0.874737     0.1   \n",
      "20     366.698500         0.087332         0.792201          0.875218       1   \n",
      "21     122.153181         0.107563         0.792107          0.875306       1   \n",
      "22     336.654035         0.041005         0.788987          0.875456      10   \n",
      "23     191.008914         0.067969         0.789908          0.875439      10   \n",
      "\n",
      "   param_penalty                          params  rank_test_score  \\\n",
      "0             l1   {'C': 1e-10, 'penalty': 'l1'}               19   \n",
      "1             l2   {'C': 1e-10, 'penalty': 'l2'}                6   \n",
      "2             l1   {'C': 1e-09, 'penalty': 'l1'}               19   \n",
      "3             l2   {'C': 1e-09, 'penalty': 'l2'}                5   \n",
      "4             l1   {'C': 1e-08, 'penalty': 'l1'}               19   \n",
      "5             l2   {'C': 1e-08, 'penalty': 'l2'}                4   \n",
      "6             l1   {'C': 1e-07, 'penalty': 'l1'}               19   \n",
      "7             l2   {'C': 1e-07, 'penalty': 'l2'}                3   \n",
      "8             l1   {'C': 1e-06, 'penalty': 'l1'}               19   \n",
      "9             l2   {'C': 1e-06, 'penalty': 'l2'}                2   \n",
      "10            l1   {'C': 1e-05, 'penalty': 'l1'}               19   \n",
      "11            l2   {'C': 1e-05, 'penalty': 'l2'}                7   \n",
      "12            l1  {'C': 0.0001, 'penalty': 'l1'}                1   \n",
      "13            l2  {'C': 0.0001, 'penalty': 'l2'}                8   \n",
      "14            l1   {'C': 0.001, 'penalty': 'l1'}                9   \n",
      "15            l2   {'C': 0.001, 'penalty': 'l2'}               10   \n",
      "16            l1    {'C': 0.01, 'penalty': 'l1'}               11   \n",
      "17            l2    {'C': 0.01, 'penalty': 'l2'}               12   \n",
      "18            l1     {'C': 0.1, 'penalty': 'l1'}               13   \n",
      "19            l2     {'C': 0.1, 'penalty': 'l2'}               14   \n",
      "20            l1     {'C': 1.0, 'penalty': 'l1'}               15   \n",
      "21            l2     {'C': 1.0, 'penalty': 'l2'}               16   \n",
      "22            l1    {'C': 10.0, 'penalty': 'l1'}               18   \n",
      "23            l2    {'C': 10.0, 'penalty': 'l2'}               17   \n",
      "\n",
      "    split0_test_score  split0_train_score       ...         split2_test_score  \\\n",
      "0            0.500000            0.500000       ...                  0.500000   \n",
      "1            0.815596            0.825190       ...                  0.870725   \n",
      "2            0.500000            0.500000       ...                  0.500000   \n",
      "3            0.815601            0.825198       ...                  0.870724   \n",
      "4            0.500000            0.500000       ...                  0.500000   \n",
      "5            0.815643            0.825273       ...                  0.870711   \n",
      "6            0.500000            0.500000       ...                  0.500000   \n",
      "7            0.816051            0.826002       ...                  0.870585   \n",
      "8            0.500000            0.500000       ...                  0.500000   \n",
      "9            0.819105            0.832077       ...                  0.868944   \n",
      "10           0.500000            0.500000       ...                  0.500000   \n",
      "11           0.825826            0.852518       ...                  0.853257   \n",
      "12           0.825596            0.856983       ...                  0.852463   \n",
      "13           0.828205            0.868683       ...                  0.822181   \n",
      "14           0.829620            0.867812       ...                  0.817639   \n",
      "15           0.825582            0.875453       ...                  0.800906   \n",
      "16           0.820796            0.875847       ...                  0.794898   \n",
      "17           0.821435            0.880651       ...                  0.790520   \n",
      "18           0.819670            0.882281       ...                  0.786907   \n",
      "19           0.818477            0.883227       ...                  0.785447   \n",
      "20           0.813392            0.883688       ...                  0.783464   \n",
      "21           0.813845            0.883775       ...                  0.783256   \n",
      "22           0.807889            0.883913       ...                  0.782703   \n",
      "23           0.809782            0.883891       ...                  0.782736   \n",
      "\n",
      "    split2_train_score  split3_test_score  split3_train_score  \\\n",
      "0             0.500000           0.500000            0.500000   \n",
      "1             0.778163           0.874382            0.788584   \n",
      "2             0.500000           0.500000            0.500000   \n",
      "3             0.778181           0.874379            0.788601   \n",
      "4             0.500000           0.500000            0.500000   \n",
      "5             0.778344           0.874347            0.788754   \n",
      "6             0.500000           0.500000            0.500000   \n",
      "7             0.779944           0.874026            0.790255   \n",
      "8             0.500000           0.500000            0.500000   \n",
      "9             0.793239           0.870799            0.802572   \n",
      "10            0.500000           0.500000            0.500000   \n",
      "11            0.832735           0.852560            0.838818   \n",
      "12            0.839543           0.863290            0.844561   \n",
      "13            0.853284           0.827665            0.859032   \n",
      "14            0.851363           0.818533            0.858935   \n",
      "15            0.860592           0.802441            0.867366   \n",
      "16            0.860598           0.791756            0.868062   \n",
      "17            0.866306           0.782062            0.874016   \n",
      "18            0.867964           0.773436            0.875940   \n",
      "19            0.869042           0.770111            0.877000   \n",
      "20            0.869546           0.766482            0.877534   \n",
      "21            0.869631           0.766020            0.877613   \n",
      "22            0.869786           0.765196            0.877761   \n",
      "23            0.869774           0.765142            0.877751   \n",
      "\n",
      "    split4_test_score  split4_train_score  std_fit_time  std_score_time  \\\n",
      "0            0.500000            0.500000      0.109793        0.003854   \n",
      "1            0.879374            0.802848      0.068714        0.006151   \n",
      "2            0.500000            0.500000      0.077962        0.005594   \n",
      "3            0.879378            0.802856      0.075478        0.005613   \n",
      "4            0.500000            0.500000      0.033887        0.005669   \n",
      "5            0.879415            0.802932      0.082256        0.007323   \n",
      "6            0.500000            0.500000      0.082154        0.005129   \n",
      "7            0.879786            0.803673      0.057941        0.006726   \n",
      "8            0.500000            0.500000      0.038133        0.004770   \n",
      "9            0.882908            0.809943      0.128512        0.005313   \n",
      "10           0.500000            0.500000      0.096845        0.011565   \n",
      "11           0.893361            0.833085      0.157376        0.005401   \n",
      "12           0.891141            0.842895      0.153679        0.017108   \n",
      "13           0.901830            0.853200      0.228896        0.008742   \n",
      "14           0.900401            0.853031      2.859804        0.006349   \n",
      "15           0.907447            0.861345      0.830929        0.038868   \n",
      "16           0.907667            0.861278     79.344929        0.013020   \n",
      "17           0.910568            0.866398      3.156705        0.019786   \n",
      "18           0.910610            0.867695    112.906417        0.030385   \n",
      "19           0.909348            0.868615      3.655089        0.037757   \n",
      "20           0.905124            0.869049     85.345047        0.046986   \n",
      "21           0.905047            0.869146     19.881842        0.029662   \n",
      "22           0.897341            0.869322     33.330051        0.004474   \n",
      "23           0.900084            0.869295     14.172997        0.018382   \n",
      "\n",
      "    std_test_score  std_train_score  \n",
      "0         0.000000         0.000000  \n",
      "1         0.026604         0.015898  \n",
      "2         0.000000         0.000000  \n",
      "3         0.026602         0.015894  \n",
      "4         0.000000         0.000000  \n",
      "5         0.026584         0.015862  \n",
      "6         0.000000         0.000000  \n",
      "7         0.026408         0.015542  \n",
      "8         0.000000         0.000000  \n",
      "9         0.024970         0.013010  \n",
      "10        0.000000         0.000000  \n",
      "11        0.022567         0.007557  \n",
      "12        0.022068         0.005960  \n",
      "13        0.030359         0.005878  \n",
      "14        0.035774         0.005806  \n",
      "15        0.048066         0.005330  \n",
      "16        0.060902         0.005526  \n",
      "17        0.064968         0.005364  \n",
      "18        0.069202         0.005455  \n",
      "19        0.069593         0.005445  \n",
      "20        0.069094         0.005449  \n",
      "21        0.069187         0.005446  \n",
      "22        0.066553         0.005435  \n",
      "23        0.067563         0.005435  \n",
      "\n",
      "[24 rows x 22 columns]\n"
     ]
    }
   ],
   "source": [
    "# FIT MODEL AND PRINT RESULTS\n",
    "\n",
    "log_reg = LogisticRegression()\n",
    "grid_search = GridSearchCV(log_reg, param_grid, cv=5, scoring='roc_auc', n_jobs=-1)\n",
    "\n",
    "grid_search.fit(X_train_tr_reg, y_train)\n",
    "result = pd.DataFrame(grid_search.cv_results_)\n",
    "print(result)"
   ]
  },
  {
   "cell_type": "code",
   "execution_count": 24,
   "metadata": {},
   "outputs": [
    {
     "data": {
      "text/plain": [
       "array([0.15924591, 0.        , 0.        , ..., 0.        , 0.        ,\n",
       "       0.        ])"
      ]
     },
     "execution_count": 24,
     "metadata": {},
     "output_type": "execute_result"
    }
   ],
   "source": [
    "final_model = grid_search.best_estimator_\n",
    "feature_weight = np.abs(grid_search.best_estimator_.coef_[0])\n"
   ]
  },
  {
   "cell_type": "code",
   "execution_count": 30,
   "metadata": {},
   "outputs": [
    {
     "data": {
      "image/png": "[encoded data removed]",
      "text/plain": [
       "<Figure size 432x288 with 1 Axes>"
      ]
     },
     "metadata": {},
     "output_type": "display_data"
    }
   ],
   "source": [
    "# PLOT FEATURE IMPORTANCE (summed absolute weights)--just top 10\n",
    "\n",
    "# simplify feature weights--sum together all weights for a given category (all nationalities)\n",
    "num_features = num_pipeline.named_steps['selector'].get_feature_names()\n",
    "cat_features = cat_pipeline_reg.named_steps['labeler'].get_feature_names()\n",
    "cat_classes = cat_pipeline_reg.named_steps['labeler'].get_orig_classes()\n",
    "attributes = np.append(num_features,pd.unique(cat_classes)) \n",
    "attributes_long = num_features + cat_classes #for each of >1000 feature, lists original feature name, i.e. nat or tracid\n",
    "feature_weight_simple = np.zeros(len(attributes))\n",
    "for i in range(len(attributes)):\n",
    "    weights = feature_weight[[x == attributes[i] for x in attributes_long]]\n",
    "    feature_weight_simple[i] = np.sum(weights)\n",
    "    \n",
    "indices = np.argsort(feature_weight_simple)\n",
    "plt.title('Feature Importances')\n",
    "plt.barh(range(len(indices[-10:])), feature_weight_simple[indices[-10:]], align='center')\n",
    "plt.yticks(range(len(indices[-10:])), [attributes[i] for i in indices[-10:]])\n",
    "plt.savefig(path + tag_pred + 'logreg_feature_importance.png')"
   ]
  }
 ],
 "metadata": {
  "kernelspec": {
   "display_name": "Python 3",
   "language": "python",
   "name": "python3"
  },
  "language_info": {
   "codemirror_mode": {
    "name": "ipython",
    "version": 3
   },
   "file_extension": ".py",
   "mimetype": "text/x-python",
   "name": "python",
   "nbconvert_exporter": "python",
   "pygments_lexer": "ipython3",
   "version": "3.6.4"
  }
 },
 "nbformat": 4,
 "nbformat_minor": 2
}
