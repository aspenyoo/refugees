{
 "cells": [
  {
   "cell_type": "code",
   "execution_count": 1,
   "metadata": {},
   "outputs": [],
   "source": [
    "import pandas as pd\n",
    "import numpy as np\n",
    "import matplotlib.pyplot as plt\n",
    "pd.set_option('precision', 5)"
   ]
  },
  {
   "cell_type": "code",
   "execution_count": 2,
   "metadata": {},
   "outputs": [],
   "source": [
    "path = '/data/Dropbox/Data/Asylum_Courts/tbl_schedule'\n",
    "raw_folder = '/data/Dropbox/Data/Asylum_Courts/raw'"
   ]
  },
  {
   "cell_type": "code",
   "execution_count": 3,
   "metadata": {},
   "outputs": [],
   "source": [
    "cols = [\"IDNSCHEDULE\",\"IDNPROCEEDING\",\"IDNCASE\",\"OSC_DATE\",\"GENERATION\",\"SUB_GENERATION\",\"REC_TYPE\",\"ALIEN_ATTY_CODE\",\"LANG\",\"HEARING_LOC_CODE\",\"BASE_CITY_CODE\",\"IJ_CODE\",\"INTERPRETER_CODE\",\"INPUT_DATE\",\"INPUT_TIME\",\"UPDATE_DATE\",\"UPDATE_TIME\",\"ASSIGNMENT_PATH\",\"CONTINUE_FLAG\",\"CAL_TYPE\",\"ADJ_DATE\",\"ADJ_TIME_START\",\"ADJ_TIME_STOP\",\"ADJ_RSN\",\"ADJ_MEDIUM\",\"ADJ_MSG\",\"ADJ_ELAP_DAYS\",\"ID_1\",\"LNGSESSNID\",\"SCHEDULE_TYPE\",\"NOTICE_CODE\",\"DATBATCHMODIFIED\",\"STRCREATEDBY\",\"STRMODIFIEDBY\",\"BLNCLOCKOVERRIDE\",\"EOIRAttorneyID\"]\n",
    "cols = [x.lower() for x in cols]"
   ]
  },
  {
   "cell_type": "code",
   "execution_count": 4,
   "metadata": {},
   "outputs": [],
   "source": [
    "sched_tbl = pd.read_csv(path + '/tbl_schedule_01.csv', header=None, names=cols, encoding='ISO-8859-1', low_memory=False, dtype={'adj_date':'str', 'adj_time_start':'str', 'adj_time_stop':'str'})"
   ]
  },
  {
   "cell_type": "code",
   "execution_count": 5,
   "metadata": {},
   "outputs": [
    {
     "data": {
      "text/plain": [
       "idnschedule         7710560\n",
       "idnproceeding       7710542\n",
       "idncase             7710560\n",
       "osc_date            7707682\n",
       "generation          7709369\n",
       "sub_generation       592617\n",
       "rec_type            7710530\n",
       "alien_atty_code     4259127\n",
       "lang                7288862\n",
       "hearing_loc_code    7710558\n",
       "base_city_code      7710558\n",
       "ij_code             7709156\n",
       "interpreter_code      10772\n",
       "input_date          7710558\n",
       "input_time          7710203\n",
       "update_date         7710556\n",
       "update_time         7710536\n",
       "assignment_path      387076\n",
       "continue_flag             0\n",
       "cal_type            7706235\n",
       "adj_date            7710560\n",
       "adj_time_start      7710558\n",
       "adj_time_stop       6728583\n",
       "adj_rsn             6672863\n",
       "adj_medium          7508811\n",
       "adj_msg             1923835\n",
       "adj_elap_days       2719424\n",
       "id_1                1594869\n",
       "lngsessnid          5686379\n",
       "schedule_type       7710559\n",
       "notice_code         5453180\n",
       "datbatchmodified     292701\n",
       "strcreatedby        7710205\n",
       "strmodifiedby       7697821\n",
       "blnclockoverride    7710560\n",
       "eoirattorneyid      4157165\n",
       "dtype: int64"
      ]
     },
     "execution_count": 5,
     "metadata": {},
     "output_type": "execute_result"
    }
   ],
   "source": [
    "sched_tbl.count()"
   ]
  },
  {
   "cell_type": "code",
   "execution_count": 6,
   "metadata": {},
   "outputs": [],
   "source": [
    "sched_tbl2 = sched_tbl[['idnschedule','idnproceeding','idncase','osc_date','ij_code','cal_type', 'lang','hearing_loc_code', 'base_city_code', 'alien_atty_code', 'adj_date','adj_time_start','adj_time_stop','adj_rsn','schedule_type', 'notice_code','eoirattorneyid']]"
   ]
  },
  {
   "cell_type": "code",
   "execution_count": 7,
   "metadata": {},
   "outputs": [
    {
     "data": {
      "text/plain": [
       "idnschedule         7710542\n",
       "idnproceeding       7710542\n",
       "idncase             7710542\n",
       "osc_date            7707664\n",
       "ij_code             7709138\n",
       "cal_type            7706217\n",
       "lang                7288862\n",
       "hearing_loc_code    7710540\n",
       "base_city_code      7710540\n",
       "alien_atty_code     4259121\n",
       "adj_date            7710542\n",
       "adj_time_start      7710540\n",
       "adj_time_stop       6728571\n",
       "adj_rsn             6672852\n",
       "schedule_type       7710541\n",
       "notice_code         5453180\n",
       "eoirattorneyid      4157165\n",
       "dtype: int64"
      ]
     },
     "execution_count": 7,
     "metadata": {},
     "output_type": "execute_result"
    }
   ],
   "source": [
    "sched_tbl2 = sched_tbl2.dropna(subset=['idnschedule', 'idnproceeding', 'idncase', 'adj_date'])\n",
    "sched_tbl2.count()"
   ]
  },
  {
   "cell_type": "markdown",
   "metadata": {},
   "source": [
    "## Creating attorney_present feature"
   ]
  },
  {
   "cell_type": "code",
   "execution_count": 8,
   "metadata": {},
   "outputs": [],
   "source": [
    "sched_tbl2['alien_atty_code'] = sched_tbl2['alien_atty_code'].astype('str').str.strip().replace('', np.nan)"
   ]
  },
  {
   "cell_type": "code",
   "execution_count": 9,
   "metadata": {},
   "outputs": [],
   "source": [
    "sched_tbl2.loc[sched_tbl2.alien_atty_code.notnull(), 'attorney_present'] = 'YES'\n",
    "sched_tbl2.loc[sched_tbl2.alien_atty_code.isnull(), 'attorney_present'] = 'NO'"
   ]
  },
  {
   "cell_type": "markdown",
   "metadata": {},
   "source": [
    "## Mapping and cleaning lang"
   ]
  },
  {
   "cell_type": "code",
   "execution_count": 10,
   "metadata": {},
   "outputs": [],
   "source": [
    "lang_map = pd.read_excel('../tbl_language.xlsx')"
   ]
  },
  {
   "cell_type": "code",
   "execution_count": 11,
   "metadata": {},
   "outputs": [
    {
     "data": {
      "text/plain": [
       "lang            550\n",
       "lang_hearing    550\n",
       "dtype: int64"
      ]
     },
     "execution_count": 11,
     "metadata": {},
     "output_type": "execute_result"
    }
   ],
   "source": [
    "lang_map.count()"
   ]
  },
  {
   "cell_type": "code",
   "execution_count": 12,
   "metadata": {},
   "outputs": [
    {
     "data": {
      "text/plain": [
       "508"
      ]
     },
     "execution_count": 12,
     "metadata": {},
     "output_type": "execute_result"
    }
   ],
   "source": [
    "len(sched_tbl2.lang.unique())"
   ]
  },
  {
   "cell_type": "code",
   "execution_count": 13,
   "metadata": {},
   "outputs": [],
   "source": [
    "sched_tbl2['lang'] = sched_tbl2['lang'].astype('str').str.strip()\n",
    "lang_map['lang'] = lang_map['lang'].astype('str').str.strip()"
   ]
  },
  {
   "cell_type": "code",
   "execution_count": 14,
   "metadata": {},
   "outputs": [],
   "source": [
    "sched_tbl2 = pd.merge(sched_tbl2, lang_map, on=['lang'], how='left')"
   ]
  },
  {
   "cell_type": "code",
   "execution_count": 15,
   "metadata": {},
   "outputs": [
    {
     "data": {
      "text/plain": [
       "idnschedule         7710566\n",
       "idnproceeding       7710566\n",
       "idncase             7710566\n",
       "osc_date            7707688\n",
       "ij_code             7709162\n",
       "cal_type            7706241\n",
       "lang                7710566\n",
       "hearing_loc_code    7710564\n",
       "base_city_code      7710564\n",
       "alien_atty_code     7332485\n",
       "adj_date            7710566\n",
       "adj_time_start      7710564\n",
       "adj_time_stop       6728593\n",
       "adj_rsn             6672876\n",
       "schedule_type       7710565\n",
       "notice_code         5453196\n",
       "eoirattorneyid      4157188\n",
       "attorney_present    7710566\n",
       "lang_hearing        7287338\n",
       "dtype: int64"
      ]
     },
     "execution_count": 15,
     "metadata": {},
     "output_type": "execute_result"
    }
   ],
   "source": [
    "sched_tbl2.count()"
   ]
  },
  {
   "cell_type": "code",
   "execution_count": 16,
   "metadata": {},
   "outputs": [],
   "source": [
    "# mark the ones that don't match as UNKNOWN\n",
    "sched_tbl2['lang_hearing'] = sched_tbl2['lang_hearing'].fillna('UNKNOWN LANGUAGE')"
   ]
  },
  {
   "cell_type": "markdown",
   "metadata": {},
   "source": [
    "## Mapping and cleaning hearing_loc_code"
   ]
  },
  {
   "cell_type": "code",
   "execution_count": 17,
   "metadata": {},
   "outputs": [],
   "source": [
    "hearingloc_map = pd.read_csv(raw_folder + '/tblLookupHloc.csv', header=None)"
   ]
  },
  {
   "cell_type": "code",
   "execution_count": 18,
   "metadata": {},
   "outputs": [
    {
     "data": {
      "text/html": [
       "<div>\n",
       "<style scoped>\n",
       "    .dataframe tbody tr th:only-of-type {\n",
       "        vertical-align: middle;\n",
       "    }\n",
       "\n",
       "    .dataframe tbody tr th {\n",
       "        vertical-align: top;\n",
       "    }\n",
       "\n",
       "    .dataframe thead th {\n",
       "        text-align: right;\n",
       "    }\n",
       "</style>\n",
       "<table border=\"1\" class=\"dataframe\">\n",
       "  <thead>\n",
       "    <tr style=\"text-align: right;\">\n",
       "      <th></th>\n",
       "      <th>0</th>\n",
       "      <th>1</th>\n",
       "      <th>2</th>\n",
       "      <th>3</th>\n",
       "      <th>4</th>\n",
       "      <th>5</th>\n",
       "      <th>6</th>\n",
       "      <th>7</th>\n",
       "      <th>8</th>\n",
       "      <th>9</th>\n",
       "      <th>...</th>\n",
       "      <th>20</th>\n",
       "      <th>21</th>\n",
       "      <th>22</th>\n",
       "      <th>23</th>\n",
       "      <th>24</th>\n",
       "      <th>25</th>\n",
       "      <th>26</th>\n",
       "      <th>27</th>\n",
       "      <th>28</th>\n",
       "      <th>29</th>\n",
       "    </tr>\n",
       "  </thead>\n",
       "  <tbody>\n",
       "    <tr>\n",
       "      <th>0</th>\n",
       "      <td>2</td>\n",
       "      <td>AAP</td>\n",
       "      <td>ATLANTA AIRPORT</td>\n",
       "      <td>** INACTIVE HEARING LOCATION **</td>\n",
       "      <td>CONCOURSE E., ROOM A</td>\n",
       "      <td>ATLANTA</td>\n",
       "      <td>GA</td>\n",
       "      <td>30320</td>\n",
       "      <td>9999999999</td>\n",
       "      <td>ATL</td>\n",
       "      <td>...</td>\n",
       "      <td>2</td>\n",
       "      <td>0</td>\n",
       "      <td>0</td>\n",
       "      <td>0</td>\n",
       "      <td>30</td>\n",
       "      <td>0</td>\n",
       "      <td>0</td>\n",
       "      <td>11</td>\n",
       "      <td>False</td>\n",
       "      <td>False</td>\n",
       "    </tr>\n",
       "    <tr>\n",
       "      <th>1</th>\n",
       "      <td>288</td>\n",
       "      <td>ABQ</td>\n",
       "      <td>REGIONAL CORRECTIONS CENTER</td>\n",
       "      <td>REGIONAL CORRECTIONS CENTER</td>\n",
       "      <td>415 ROMA NW</td>\n",
       "      <td>ALBUQUERQUE</td>\n",
       "      <td>NM</td>\n",
       "      <td>87102</td>\n",
       "      <td>5052426177</td>\n",
       "      <td>ELP</td>\n",
       "      <td>...</td>\n",
       "      <td>2</td>\n",
       "      <td>0</td>\n",
       "      <td>0</td>\n",
       "      <td>0</td>\n",
       "      <td>30</td>\n",
       "      <td>0</td>\n",
       "      <td>0</td>\n",
       "      <td>10</td>\n",
       "      <td>False</td>\n",
       "      <td>True</td>\n",
       "    </tr>\n",
       "    <tr>\n",
       "      <th>2</th>\n",
       "      <td>3</td>\n",
       "      <td>ADC</td>\n",
       "      <td>DHS-Litigation Unit/Oakdale</td>\n",
       "      <td>IMMIGRATION COURT</td>\n",
       "      <td>1900 East Whatley Road</td>\n",
       "      <td>OAKDALE</td>\n",
       "      <td>LA</td>\n",
       "      <td>71463</td>\n",
       "      <td>318335365</td>\n",
       "      <td>OAK</td>\n",
       "      <td>...</td>\n",
       "      <td>0</td>\n",
       "      <td>0</td>\n",
       "      <td>0</td>\n",
       "      <td>0</td>\n",
       "      <td>30</td>\n",
       "      <td>0</td>\n",
       "      <td>0</td>\n",
       "      <td>5</td>\n",
       "      <td>False</td>\n",
       "      <td>True</td>\n",
       "    </tr>\n",
       "    <tr>\n",
       "      <th>3</th>\n",
       "      <td>326</td>\n",
       "      <td>ADE</td>\n",
       "      <td>ADELANTO DETENTION FACILITY EAST</td>\n",
       "      <td>IMMIGRATION COURT</td>\n",
       "      <td>10400 RANCHO ROAD</td>\n",
       "      <td>ADELANTO</td>\n",
       "      <td>CA</td>\n",
       "      <td>923012237</td>\n",
       "      <td>2138942811</td>\n",
       "      <td>ADL</td>\n",
       "      <td>...</td>\n",
       "      <td>2</td>\n",
       "      <td>0</td>\n",
       "      <td>0</td>\n",
       "      <td>0</td>\n",
       "      <td>30</td>\n",
       "      <td>0</td>\n",
       "      <td>0</td>\n",
       "      <td>9</td>\n",
       "      <td>True</td>\n",
       "      <td>True</td>\n",
       "    </tr>\n",
       "    <tr>\n",
       "      <th>4</th>\n",
       "      <td>341</td>\n",
       "      <td>ADL</td>\n",
       "      <td>ADELANTO</td>\n",
       "      <td>IMMIGRATION COURT</td>\n",
       "      <td>10250 RANCHO RD., SUITE 201A</td>\n",
       "      <td>ADELANTO</td>\n",
       "      <td>CA</td>\n",
       "      <td>92301</td>\n",
       "      <td>1111111111</td>\n",
       "      <td>ADL</td>\n",
       "      <td>...</td>\n",
       "      <td>2</td>\n",
       "      <td>0</td>\n",
       "      <td>0</td>\n",
       "      <td>0</td>\n",
       "      <td>30</td>\n",
       "      <td>0</td>\n",
       "      <td>0</td>\n",
       "      <td>9</td>\n",
       "      <td>False</td>\n",
       "      <td>False</td>\n",
       "    </tr>\n",
       "  </tbody>\n",
       "</table>\n",
       "<p>5 rows × 30 columns</p>\n",
       "</div>"
      ],
      "text/plain": [
       "    0    1                                 2   \\\n",
       "0    2  AAP                   ATLANTA AIRPORT   \n",
       "1  288  ABQ       REGIONAL CORRECTIONS CENTER   \n",
       "2    3  ADC       DHS-Litigation Unit/Oakdale   \n",
       "3  326  ADE  ADELANTO DETENTION FACILITY EAST   \n",
       "4  341  ADL                          ADELANTO   \n",
       "\n",
       "                                3                             4            5   \\\n",
       "0  ** INACTIVE HEARING LOCATION **          CONCOURSE E., ROOM A      ATLANTA   \n",
       "1      REGIONAL CORRECTIONS CENTER                   415 ROMA NW  ALBUQUERQUE   \n",
       "2                IMMIGRATION COURT        1900 East Whatley Road      OAKDALE   \n",
       "3                IMMIGRATION COURT             10400 RANCHO ROAD     ADELANTO   \n",
       "4                IMMIGRATION COURT  10250 RANCHO RD., SUITE 201A     ADELANTO   \n",
       "\n",
       "   6          7           8    9   ...   20 21 22 23  24 25 26  27     28  \\\n",
       "0  GA      30320  9999999999  ATL  ...    2  0  0  0  30  0  0  11  False   \n",
       "1  NM      87102  5052426177  ELP  ...    2  0  0  0  30  0  0  10  False   \n",
       "2  LA      71463   318335365  OAK  ...    0  0  0  0  30  0  0   5  False   \n",
       "3  CA  923012237  2138942811  ADL  ...    2  0  0  0  30  0  0   9   True   \n",
       "4  CA      92301  1111111111  ADL  ...    2  0  0  0  30  0  0   9  False   \n",
       "\n",
       "      29  \n",
       "0  False  \n",
       "1   True  \n",
       "2   True  \n",
       "3   True  \n",
       "4  False  \n",
       "\n",
       "[5 rows x 30 columns]"
      ]
     },
     "execution_count": 18,
     "metadata": {},
     "output_type": "execute_result"
    }
   ],
   "source": [
    "hearingloc_map.head(5)"
   ]
  },
  {
   "cell_type": "code",
   "execution_count": 19,
   "metadata": {},
   "outputs": [],
   "source": [
    "hearingloc_map = hearingloc_map.rename(columns={1:'hearing_loc_code', 5:'hearing_city', 6:'hearing_state'})"
   ]
  },
  {
   "cell_type": "code",
   "execution_count": 20,
   "metadata": {
    "scrolled": true
   },
   "outputs": [],
   "source": [
    "sched_tbl2['hearing_loc_code'] = sched_tbl2['hearing_loc_code'].astype('str').str.strip()\n",
    "hearingloc_map['hearing_loc_code'] = hearingloc_map['hearing_loc_code'].astype('str').str.strip()"
   ]
  },
  {
   "cell_type": "code",
   "execution_count": 21,
   "metadata": {},
   "outputs": [],
   "source": [
    "hearingloc_map = hearingloc_map[['hearing_loc_code','hearing_city','hearing_state']]"
   ]
  },
  {
   "cell_type": "code",
   "execution_count": 22,
   "metadata": {},
   "outputs": [],
   "source": [
    "sched_tbl2 = pd.merge(sched_tbl2, hearingloc_map, on=['hearing_loc_code'], how='left')"
   ]
  },
  {
   "cell_type": "code",
   "execution_count": 23,
   "metadata": {},
   "outputs": [],
   "source": [
    "sched_tbl2['hearing_city'] = sched_tbl2['hearing_city'].fillna('UNKNOWN')\n",
    "sched_tbl2['hearing_state'] = sched_tbl2['hearing_state'].fillna('UNKNOWN')"
   ]
  },
  {
   "cell_type": "code",
   "execution_count": 24,
   "metadata": {},
   "outputs": [],
   "source": [
    "# delete some columns from dataframe\n",
    "sched_tbl2 = sched_tbl2.drop(columns=['alien_atty_code','lang','hearing_loc_code'])"
   ]
  },
  {
   "cell_type": "markdown",
   "metadata": {},
   "source": [
    "## Mapping and cleaning base_city_code"
   ]
  },
  {
   "cell_type": "code",
   "execution_count": 25,
   "metadata": {},
   "outputs": [],
   "source": [
    "basecity_map = pd.read_csv(raw_folder + '/tblLookupBaseCity.csv', header=None)"
   ]
  },
  {
   "cell_type": "code",
   "execution_count": 26,
   "metadata": {
    "scrolled": true
   },
   "outputs": [
    {
     "data": {
      "text/html": [
       "<div>\n",
       "<style scoped>\n",
       "    .dataframe tbody tr th:only-of-type {\n",
       "        vertical-align: middle;\n",
       "    }\n",
       "\n",
       "    .dataframe tbody tr th {\n",
       "        vertical-align: top;\n",
       "    }\n",
       "\n",
       "    .dataframe thead th {\n",
       "        text-align: right;\n",
       "    }\n",
       "</style>\n",
       "<table border=\"1\" class=\"dataframe\">\n",
       "  <thead>\n",
       "    <tr style=\"text-align: right;\">\n",
       "      <th></th>\n",
       "      <th>0</th>\n",
       "      <th>1</th>\n",
       "      <th>2</th>\n",
       "      <th>3</th>\n",
       "      <th>4</th>\n",
       "      <th>5</th>\n",
       "      <th>6</th>\n",
       "      <th>7</th>\n",
       "      <th>8</th>\n",
       "      <th>9</th>\n",
       "      <th>...</th>\n",
       "      <th>90</th>\n",
       "      <th>91</th>\n",
       "      <th>92</th>\n",
       "      <th>93</th>\n",
       "      <th>94</th>\n",
       "      <th>95</th>\n",
       "      <th>96</th>\n",
       "      <th>97</th>\n",
       "      <th>98</th>\n",
       "      <th>99</th>\n",
       "    </tr>\n",
       "  </thead>\n",
       "  <tbody>\n",
       "    <tr>\n",
       "      <th>0</th>\n",
       "      <td>2</td>\n",
       "      <td>AGA</td>\n",
       "      <td>IMMIGRATION COURT                             ...</td>\n",
       "      <td>M</td>\n",
       "      <td>108 HERNAN CORTEZ AVE., RM 126</td>\n",
       "      <td>HAGATNA</td>\n",
       "      <td>GU</td>\n",
       "      <td>96910</td>\n",
       "      <td>0.0</td>\n",
       "      <td>6714727528</td>\n",
       "      <td>...</td>\n",
       "      <td>NaN</td>\n",
       "      <td>NaN</td>\n",
       "      <td>NaN</td>\n",
       "      <td>NaN</td>\n",
       "      <td>2004-09-12 23:35:21.247000000</td>\n",
       "      <td>NaN</td>\n",
       "      <td>2007-01-13 11:58:28.187000000</td>\n",
       "      <td>AGA Conversion</td>\n",
       "      <td>True</td>\n",
       "      <td>False</td>\n",
       "    </tr>\n",
       "    <tr>\n",
       "      <th>1</th>\n",
       "      <td>3</td>\n",
       "      <td>ATL</td>\n",
       "      <td>OFFICE OF THE IMMIGRATION JUDGE</td>\n",
       "      <td>M</td>\n",
       "      <td>180 SPRING ST., SW, SUITE 241</td>\n",
       "      <td>ATLANTA</td>\n",
       "      <td>GA</td>\n",
       "      <td>30303</td>\n",
       "      <td>0.0</td>\n",
       "      <td>4043310907</td>\n",
       "      <td>...</td>\n",
       "      <td>NaN</td>\n",
       "      <td>NaN</td>\n",
       "      <td>NaN</td>\n",
       "      <td>NaN</td>\n",
       "      <td>2004-09-12 23:35:21.247000000</td>\n",
       "      <td>NaN</td>\n",
       "      <td>2007-11-09 08:40:33</td>\n",
       "      <td>NongP</td>\n",
       "      <td>True</td>\n",
       "      <td>True</td>\n",
       "    </tr>\n",
       "    <tr>\n",
       "      <th>2</th>\n",
       "      <td>4</td>\n",
       "      <td>BAL</td>\n",
       "      <td>IMMIGRATION COURT                             ...</td>\n",
       "      <td>M</td>\n",
       "      <td>31 HOPKINS PLAZA, ROOM 440</td>\n",
       "      <td>BALTIMORE</td>\n",
       "      <td>MD</td>\n",
       "      <td>21201</td>\n",
       "      <td>0.0</td>\n",
       "      <td>4109623092</td>\n",
       "      <td>...</td>\n",
       "      <td>NaN</td>\n",
       "      <td>NaN</td>\n",
       "      <td>NaN</td>\n",
       "      <td>NaN</td>\n",
       "      <td>2004-09-12 23:35:21.247000000</td>\n",
       "      <td>NaN</td>\n",
       "      <td>2006-07-01 10:18:49.623000000</td>\n",
       "      <td>BAL Conversion</td>\n",
       "      <td>True</td>\n",
       "      <td>True</td>\n",
       "    </tr>\n",
       "    <tr>\n",
       "      <th>3</th>\n",
       "      <td>5</td>\n",
       "      <td>BDC</td>\n",
       "      <td>IMMIGRATION COURT</td>\n",
       "      <td>NaN</td>\n",
       "      <td>515 11TH ST., WEST SUITE 300</td>\n",
       "      <td>BRADENTON</td>\n",
       "      <td>FL</td>\n",
       "      <td>34205</td>\n",
       "      <td>1111.0</td>\n",
       "      <td>9417491044</td>\n",
       "      <td>...</td>\n",
       "      <td>NaN</td>\n",
       "      <td>NaN</td>\n",
       "      <td>NaN</td>\n",
       "      <td>NaN</td>\n",
       "      <td>2004-09-12 23:35:21.247000000</td>\n",
       "      <td>NaN</td>\n",
       "      <td>2007-03-19 14:20:24</td>\n",
       "      <td>fruehwad</td>\n",
       "      <td>False</td>\n",
       "      <td>True</td>\n",
       "    </tr>\n",
       "    <tr>\n",
       "      <th>4</th>\n",
       "      <td>6</td>\n",
       "      <td>BIA</td>\n",
       "      <td>BOARD OF IMMIGRATION APPEALS                  ...</td>\n",
       "      <td>NaN</td>\n",
       "      <td>5107 LEESBURG PIKE SUITE 1711</td>\n",
       "      <td>FALLS CHURCH</td>\n",
       "      <td>VA</td>\n",
       "      <td>22041</td>\n",
       "      <td>0.0</td>\n",
       "      <td>703305242</td>\n",
       "      <td>...</td>\n",
       "      <td>NaN</td>\n",
       "      <td>NaN</td>\n",
       "      <td>NaN</td>\n",
       "      <td>NaN</td>\n",
       "      <td>2004-09-12 23:35:21.247000000</td>\n",
       "      <td>NaN</td>\n",
       "      <td>NaN</td>\n",
       "      <td>NaN</td>\n",
       "      <td>True</td>\n",
       "      <td>False</td>\n",
       "    </tr>\n",
       "  </tbody>\n",
       "</table>\n",
       "<p>5 rows × 100 columns</p>\n",
       "</div>"
      ],
      "text/plain": [
       "   0    1                                                  2    3   \\\n",
       "0   2  AGA  IMMIGRATION COURT                             ...    M   \n",
       "1   3  ATL                    OFFICE OF THE IMMIGRATION JUDGE    M   \n",
       "2   4  BAL  IMMIGRATION COURT                             ...    M   \n",
       "3   5  BDC                                  IMMIGRATION COURT  NaN   \n",
       "4   6  BIA  BOARD OF IMMIGRATION APPEALS                  ...  NaN   \n",
       "\n",
       "                               4                5   6      7       8   \\\n",
       "0  108 HERNAN CORTEZ AVE., RM 126  HAGATNA          GU  96910     0.0   \n",
       "1   180 SPRING ST., SW, SUITE 241          ATLANTA  GA  30303     0.0   \n",
       "2  31 HOPKINS PLAZA, ROOM 440      BALTIMORE        MD  21201     0.0   \n",
       "3    515 11TH ST., WEST SUITE 300        BRADENTON  FL  34205  1111.0   \n",
       "4  5107 LEESBURG PIKE SUITE 1711   FALLS CHURCH     VA  22041     0.0   \n",
       "\n",
       "           9   ...    90  91  92  93                             94   95  \\\n",
       "0  6714727528  ...   NaN NaN NaN NaN  2004-09-12 23:35:21.247000000  NaN   \n",
       "1  4043310907  ...   NaN NaN NaN NaN  2004-09-12 23:35:21.247000000  NaN   \n",
       "2  4109623092  ...   NaN NaN NaN NaN  2004-09-12 23:35:21.247000000  NaN   \n",
       "3  9417491044  ...   NaN NaN NaN NaN  2004-09-12 23:35:21.247000000  NaN   \n",
       "4   703305242  ...   NaN NaN NaN NaN  2004-09-12 23:35:21.247000000  NaN   \n",
       "\n",
       "                              96              97     98     99  \n",
       "0  2007-01-13 11:58:28.187000000  AGA Conversion   True  False  \n",
       "1            2007-11-09 08:40:33           NongP   True   True  \n",
       "2  2006-07-01 10:18:49.623000000  BAL Conversion   True   True  \n",
       "3            2007-03-19 14:20:24        fruehwad  False   True  \n",
       "4                            NaN             NaN   True  False  \n",
       "\n",
       "[5 rows x 100 columns]"
      ]
     },
     "execution_count": 26,
     "metadata": {},
     "output_type": "execute_result"
    }
   ],
   "source": [
    "basecity_map.head(5)"
   ]
  },
  {
   "cell_type": "code",
   "execution_count": 27,
   "metadata": {},
   "outputs": [],
   "source": [
    "basecity_map = basecity_map.rename(columns={1:'base_city_code', 5:'base_city', 6:'base_state'})"
   ]
  },
  {
   "cell_type": "code",
   "execution_count": 28,
   "metadata": {},
   "outputs": [],
   "source": [
    "basecity_map = basecity_map[['base_city_code','base_city','base_state']]"
   ]
  },
  {
   "cell_type": "code",
   "execution_count": 29,
   "metadata": {},
   "outputs": [
    {
     "data": {
      "text/html": [
       "<div>\n",
       "<style scoped>\n",
       "    .dataframe tbody tr th:only-of-type {\n",
       "        vertical-align: middle;\n",
       "    }\n",
       "\n",
       "    .dataframe tbody tr th {\n",
       "        vertical-align: top;\n",
       "    }\n",
       "\n",
       "    .dataframe thead th {\n",
       "        text-align: right;\n",
       "    }\n",
       "</style>\n",
       "<table border=\"1\" class=\"dataframe\">\n",
       "  <thead>\n",
       "    <tr style=\"text-align: right;\">\n",
       "      <th></th>\n",
       "      <th>base_city_code</th>\n",
       "      <th>base_city</th>\n",
       "      <th>base_state</th>\n",
       "    </tr>\n",
       "  </thead>\n",
       "  <tbody>\n",
       "    <tr>\n",
       "      <th>0</th>\n",
       "      <td>AGA</td>\n",
       "      <td>HAGATNA</td>\n",
       "      <td>GU</td>\n",
       "    </tr>\n",
       "    <tr>\n",
       "      <th>1</th>\n",
       "      <td>ATL</td>\n",
       "      <td>ATLANTA</td>\n",
       "      <td>GA</td>\n",
       "    </tr>\n",
       "    <tr>\n",
       "      <th>2</th>\n",
       "      <td>BAL</td>\n",
       "      <td>BALTIMORE</td>\n",
       "      <td>MD</td>\n",
       "    </tr>\n",
       "    <tr>\n",
       "      <th>3</th>\n",
       "      <td>BDC</td>\n",
       "      <td>BRADENTON</td>\n",
       "      <td>FL</td>\n",
       "    </tr>\n",
       "    <tr>\n",
       "      <th>4</th>\n",
       "      <td>BIA</td>\n",
       "      <td>FALLS CHURCH</td>\n",
       "      <td>VA</td>\n",
       "    </tr>\n",
       "  </tbody>\n",
       "</table>\n",
       "</div>"
      ],
      "text/plain": [
       "  base_city_code        base_city base_state\n",
       "0            AGA  HAGATNA                 GU\n",
       "1            ATL          ATLANTA         GA\n",
       "2            BAL  BALTIMORE               MD\n",
       "3            BDC        BRADENTON         FL\n",
       "4            BIA  FALLS CHURCH            VA"
      ]
     },
     "execution_count": 29,
     "metadata": {},
     "output_type": "execute_result"
    }
   ],
   "source": [
    "basecity_map.head(5)"
   ]
  },
  {
   "cell_type": "code",
   "execution_count": 30,
   "metadata": {},
   "outputs": [],
   "source": [
    "sched_tbl2['base_city_code'] = sched_tbl2['base_city_code'].astype('str').str.strip()\n",
    "basecity_map['base_city_code'] = basecity_map['base_city_code'].astype('str').str.strip()"
   ]
  },
  {
   "cell_type": "code",
   "execution_count": 31,
   "metadata": {},
   "outputs": [],
   "source": [
    "sched_tbl2 = pd.merge(sched_tbl2, basecity_map, on=['base_city_code'], how='left')"
   ]
  },
  {
   "cell_type": "code",
   "execution_count": 32,
   "metadata": {},
   "outputs": [],
   "source": [
    "sched_tbl2['base_city'] = sched_tbl2['base_city'].fillna('UNKNOWN')\n",
    "sched_tbl2['base_state'] = sched_tbl2['base_state'].fillna('UNKNOWN')"
   ]
  },
  {
   "cell_type": "markdown",
   "metadata": {},
   "source": [
    "## Mapping and cleaning sched_type"
   ]
  },
  {
   "cell_type": "code",
   "execution_count": 33,
   "metadata": {},
   "outputs": [],
   "source": [
    "schedtype_map = pd.read_csv(raw_folder + '/tbllookupSchedule_Type.csv', header=None)"
   ]
  },
  {
   "cell_type": "code",
   "execution_count": 34,
   "metadata": {},
   "outputs": [
    {
     "data": {
      "text/html": [
       "<div>\n",
       "<style scoped>\n",
       "    .dataframe tbody tr th:only-of-type {\n",
       "        vertical-align: middle;\n",
       "    }\n",
       "\n",
       "    .dataframe tbody tr th {\n",
       "        vertical-align: top;\n",
       "    }\n",
       "\n",
       "    .dataframe thead th {\n",
       "        text-align: right;\n",
       "    }\n",
       "</style>\n",
       "<table border=\"1\" class=\"dataframe\">\n",
       "  <thead>\n",
       "    <tr style=\"text-align: right;\">\n",
       "      <th></th>\n",
       "      <th>0</th>\n",
       "      <th>1</th>\n",
       "      <th>2</th>\n",
       "      <th>3</th>\n",
       "      <th>4</th>\n",
       "      <th>5</th>\n",
       "      <th>6</th>\n",
       "      <th>7</th>\n",
       "      <th>8</th>\n",
       "      <th>9</th>\n",
       "    </tr>\n",
       "  </thead>\n",
       "  <tbody>\n",
       "    <tr>\n",
       "      <th>0</th>\n",
       "      <td>1</td>\n",
       "      <td>**</td>\n",
       "      <td>Non-Work</td>\n",
       "      <td>2002-11-21 12:46:14.360000000</td>\n",
       "      <td>EOIRHDQ\\eckertk</td>\n",
       "      <td>NaN</td>\n",
       "      <td>NaN</td>\n",
       "      <td>N</td>\n",
       "      <td>True</td>\n",
       "      <td>True</td>\n",
       "    </tr>\n",
       "    <tr>\n",
       "      <th>1</th>\n",
       "      <td>29</td>\n",
       "      <td>--</td>\n",
       "      <td>UNKNOWN</td>\n",
       "      <td>2007-10-18 08:26:28.770000000</td>\n",
       "      <td>admin</td>\n",
       "      <td>2007-10-18 08:26:28.770000000</td>\n",
       "      <td>admin</td>\n",
       "      <td>-</td>\n",
       "      <td>False</td>\n",
       "      <td>True</td>\n",
       "    </tr>\n",
       "    <tr>\n",
       "      <th>2</th>\n",
       "      <td>23</td>\n",
       "      <td>AA</td>\n",
       "      <td>Administrative</td>\n",
       "      <td>NaN</td>\n",
       "      <td>NaN</td>\n",
       "      <td>NaN</td>\n",
       "      <td>NaN</td>\n",
       "      <td>N</td>\n",
       "      <td>True</td>\n",
       "      <td>True</td>\n",
       "    </tr>\n",
       "    <tr>\n",
       "      <th>3</th>\n",
       "      <td>21</td>\n",
       "      <td>AD</td>\n",
       "      <td>Admin Leave</td>\n",
       "      <td>2002-11-21 12:46:14.360000000</td>\n",
       "      <td>EOIRHDQ\\eckertk</td>\n",
       "      <td>NaN</td>\n",
       "      <td>NaN</td>\n",
       "      <td>S</td>\n",
       "      <td>True</td>\n",
       "      <td>True</td>\n",
       "    </tr>\n",
       "    <tr>\n",
       "      <th>4</th>\n",
       "      <td>25</td>\n",
       "      <td>AN</td>\n",
       "      <td>Annual Leave</td>\n",
       "      <td>NaN</td>\n",
       "      <td>NaN</td>\n",
       "      <td>NaN</td>\n",
       "      <td>NaN</td>\n",
       "      <td>S</td>\n",
       "      <td>True</td>\n",
       "      <td>True</td>\n",
       "    </tr>\n",
       "  </tbody>\n",
       "</table>\n",
       "</div>"
      ],
      "text/plain": [
       "    0   1               2                              3                4  \\\n",
       "0   1  **        Non-Work  2002-11-21 12:46:14.360000000  EOIRHDQ\\eckertk   \n",
       "1  29  --         UNKNOWN  2007-10-18 08:26:28.770000000            admin   \n",
       "2  23  AA  Administrative                            NaN              NaN   \n",
       "3  21  AD     Admin Leave  2002-11-21 12:46:14.360000000  EOIRHDQ\\eckertk   \n",
       "4  25  AN    Annual Leave                            NaN              NaN   \n",
       "\n",
       "                               5      6  7      8     9  \n",
       "0                            NaN    NaN  N   True  True  \n",
       "1  2007-10-18 08:26:28.770000000  admin  -  False  True  \n",
       "2                            NaN    NaN  N   True  True  \n",
       "3                            NaN    NaN  S   True  True  \n",
       "4                            NaN    NaN  S   True  True  "
      ]
     },
     "execution_count": 34,
     "metadata": {},
     "output_type": "execute_result"
    }
   ],
   "source": [
    "schedtype_map.head(5)"
   ]
  },
  {
   "cell_type": "code",
   "execution_count": 35,
   "metadata": {},
   "outputs": [],
   "source": [
    "schedtype_map = schedtype_map.rename(columns={1:'schedule_type', 2:'sched_type'})\n",
    "schedtype_map = schedtype_map[['schedule_type', 'sched_type']]"
   ]
  },
  {
   "cell_type": "code",
   "execution_count": 36,
   "metadata": {},
   "outputs": [],
   "source": [
    "sched_tbl2['schedule_type'] = sched_tbl2['schedule_type'].astype('str').str.strip()\n",
    "schedtype_map['schedule_type'] = schedtype_map['schedule_type'].astype('str').str.strip()"
   ]
  },
  {
   "cell_type": "code",
   "execution_count": 37,
   "metadata": {},
   "outputs": [],
   "source": [
    "sched_tbl2 = pd.merge(sched_tbl2, schedtype_map, on=['schedule_type'], how='left')"
   ]
  },
  {
   "cell_type": "code",
   "execution_count": 38,
   "metadata": {},
   "outputs": [],
   "source": [
    "sched_tbl2 = sched_tbl2.drop(columns=['schedule_type', 'base_city_code'])"
   ]
  },
  {
   "cell_type": "markdown",
   "metadata": {},
   "source": [
    "## Mapping and cleaning notice_code"
   ]
  },
  {
   "cell_type": "code",
   "execution_count": 39,
   "metadata": {},
   "outputs": [],
   "source": [
    "notice_map = pd.read_csv(raw_folder + '/eoir/tblLookupNOTICE.csv', header=None)"
   ]
  },
  {
   "cell_type": "code",
   "execution_count": 40,
   "metadata": {},
   "outputs": [
    {
     "data": {
      "text/html": [
       "<div>\n",
       "<style scoped>\n",
       "    .dataframe tbody tr th:only-of-type {\n",
       "        vertical-align: middle;\n",
       "    }\n",
       "\n",
       "    .dataframe tbody tr th {\n",
       "        vertical-align: top;\n",
       "    }\n",
       "\n",
       "    .dataframe thead th {\n",
       "        text-align: right;\n",
       "    }\n",
       "</style>\n",
       "<table border=\"1\" class=\"dataframe\">\n",
       "  <thead>\n",
       "    <tr style=\"text-align: right;\">\n",
       "      <th></th>\n",
       "      <th>0</th>\n",
       "      <th>1</th>\n",
       "      <th>2</th>\n",
       "      <th>3</th>\n",
       "      <th>4</th>\n",
       "      <th>5</th>\n",
       "      <th>6</th>\n",
       "      <th>7</th>\n",
       "      <th>8</th>\n",
       "    </tr>\n",
       "  </thead>\n",
       "  <tbody>\n",
       "    <tr>\n",
       "      <th>0</th>\n",
       "      <td>1</td>\n",
       "      <td>#Q</td>\n",
       "      <td>RELIEF FROM EXCLUSION ABANDONED - DEPORT</td>\n",
       "      <td>NaN</td>\n",
       "      <td>NaN</td>\n",
       "      <td>NaN</td>\n",
       "      <td>NaN</td>\n",
       "      <td>True</td>\n",
       "      <td>N</td>\n",
       "    </tr>\n",
       "    <tr>\n",
       "      <th>1</th>\n",
       "      <td>2</td>\n",
       "      <td>$Q</td>\n",
       "      <td>RELIEF FROM DEPORT ABANDONED - DEPORT</td>\n",
       "      <td>NaN</td>\n",
       "      <td>NaN</td>\n",
       "      <td>NaN</td>\n",
       "      <td>NaN</td>\n",
       "      <td>True</td>\n",
       "      <td>N</td>\n",
       "    </tr>\n",
       "    <tr>\n",
       "      <th>2</th>\n",
       "      <td>3</td>\n",
       "      <td>&amp;F</td>\n",
       "      <td>ORDER ON MOTION TO REOPEN BOND PROCEEDINGS</td>\n",
       "      <td>NaN</td>\n",
       "      <td>NaN</td>\n",
       "      <td>2005-10-08 11:09:08.310000000</td>\n",
       "      <td>ECP-CASE-57</td>\n",
       "      <td>False</td>\n",
       "      <td>N</td>\n",
       "    </tr>\n",
       "    <tr>\n",
       "      <th>3</th>\n",
       "      <td>4</td>\n",
       "      <td>*0</td>\n",
       "      <td>REJ. PROTECTIVE ORDER FOR LACK OF CERTIFICATE SEV</td>\n",
       "      <td>NaN</td>\n",
       "      <td>NaN</td>\n",
       "      <td>2005-12-13 13:48:01</td>\n",
       "      <td>Forsmany</td>\n",
       "      <td>True</td>\n",
       "      <td>N</td>\n",
       "    </tr>\n",
       "    <tr>\n",
       "      <th>4</th>\n",
       "      <td>5</td>\n",
       "      <td>*1</td>\n",
       "      <td>GRANTING A MOTION FOR A PROTECTIVE ORDER</td>\n",
       "      <td>NaN</td>\n",
       "      <td>NaN</td>\n",
       "      <td>2005-10-08 11:09:21.420000000</td>\n",
       "      <td>ECP-CASE-57</td>\n",
       "      <td>True</td>\n",
       "      <td>N</td>\n",
       "    </tr>\n",
       "  </tbody>\n",
       "</table>\n",
       "</div>"
      ],
      "text/plain": [
       "   0   1                                                  2    3    4  \\\n",
       "0  1  #Q           RELIEF FROM EXCLUSION ABANDONED - DEPORT  NaN  NaN   \n",
       "1  2  $Q              RELIEF FROM DEPORT ABANDONED - DEPORT  NaN  NaN   \n",
       "2  3  &F         ORDER ON MOTION TO REOPEN BOND PROCEEDINGS  NaN  NaN   \n",
       "3  4  *0  REJ. PROTECTIVE ORDER FOR LACK OF CERTIFICATE SEV  NaN  NaN   \n",
       "4  5  *1           GRANTING A MOTION FOR A PROTECTIVE ORDER  NaN  NaN   \n",
       "\n",
       "                               5            6      7  8  \n",
       "0                            NaN          NaN   True  N  \n",
       "1                            NaN          NaN   True  N  \n",
       "2  2005-10-08 11:09:08.310000000  ECP-CASE-57  False  N  \n",
       "3            2005-12-13 13:48:01     Forsmany   True  N  \n",
       "4  2005-10-08 11:09:21.420000000  ECP-CASE-57   True  N  "
      ]
     },
     "execution_count": 40,
     "metadata": {},
     "output_type": "execute_result"
    }
   ],
   "source": [
    "notice_map.head(5)"
   ]
  },
  {
   "cell_type": "code",
   "execution_count": 41,
   "metadata": {},
   "outputs": [],
   "source": [
    "notice_map = notice_map.rename(columns={1:'notice_code', 2:'notice_desc'})\n",
    "notice_map = notice_map[['notice_code', 'notice_desc']]"
   ]
  },
  {
   "cell_type": "code",
   "execution_count": 42,
   "metadata": {},
   "outputs": [],
   "source": [
    "sched_tbl2['notice_code'] = sched_tbl2['notice_code'].astype('str').str.strip()\n",
    "notice_map['notice_code'] = notice_map['notice_code'].astype('str').str.strip()"
   ]
  },
  {
   "cell_type": "code",
   "execution_count": 43,
   "metadata": {},
   "outputs": [],
   "source": [
    "sched_tbl2 = pd.merge(sched_tbl2, notice_map, on=['notice_code'], how='left')"
   ]
  },
  {
   "cell_type": "code",
   "execution_count": 44,
   "metadata": {},
   "outputs": [],
   "source": [
    "sched_tbl2['notice_desc'] = sched_tbl2['notice_desc'].fillna('UNKNOWN')"
   ]
  },
  {
   "cell_type": "code",
   "execution_count": 45,
   "metadata": {},
   "outputs": [],
   "source": [
    "sched_tbl2 = sched_tbl2.drop(columns=['notice_code', 'eoirattorneyid', 'cal_type'], axis=1)"
   ]
  },
  {
   "cell_type": "markdown",
   "metadata": {},
   "source": [
    "## Mapping and cleaning ij_code"
   ]
  },
  {
   "cell_type": "code",
   "execution_count": 46,
   "metadata": {},
   "outputs": [],
   "source": [
    "ij_map = pd.read_csv(raw_folder + '/ijcodemap.csv')"
   ]
  },
  {
   "cell_type": "code",
   "execution_count": 47,
   "metadata": {},
   "outputs": [
    {
     "data": {
      "text/html": [
       "<div>\n",
       "<style scoped>\n",
       "    .dataframe tbody tr th:only-of-type {\n",
       "        vertical-align: middle;\n",
       "    }\n",
       "\n",
       "    .dataframe tbody tr th {\n",
       "        vertical-align: top;\n",
       "    }\n",
       "\n",
       "    .dataframe thead th {\n",
       "        text-align: right;\n",
       "    }\n",
       "</style>\n",
       "<table border=\"1\" class=\"dataframe\">\n",
       "  <thead>\n",
       "    <tr style=\"text-align: right;\">\n",
       "      <th></th>\n",
       "      <th>EOIR ID</th>\n",
       "      <th>EOIR Data</th>\n",
       "      <th>TRAC Id</th>\n",
       "    </tr>\n",
       "  </thead>\n",
       "  <tbody>\n",
       "    <tr>\n",
       "      <th>0</th>\n",
       "      <td>AA</td>\n",
       "      <td>Anthony Atenaide</td>\n",
       "      <td>185</td>\n",
       "    </tr>\n",
       "    <tr>\n",
       "      <th>1</th>\n",
       "      <td>AAT</td>\n",
       "      <td>A. Ashley Tabaddor</td>\n",
       "      <td>103</td>\n",
       "    </tr>\n",
       "    <tr>\n",
       "      <th>2</th>\n",
       "      <td>AAV</td>\n",
       "      <td>Alan A. Vomacka</td>\n",
       "      <td>216</td>\n",
       "    </tr>\n",
       "    <tr>\n",
       "      <th>3</th>\n",
       "      <td>ADP</td>\n",
       "      <td>Anthony D. Petrone, Jr.</td>\n",
       "      <td>230</td>\n",
       "    </tr>\n",
       "    <tr>\n",
       "      <th>4</th>\n",
       "      <td>AED</td>\n",
       "      <td>Alison E Daw</td>\n",
       "      <td>88</td>\n",
       "    </tr>\n",
       "  </tbody>\n",
       "</table>\n",
       "</div>"
      ],
      "text/plain": [
       "  EOIR ID                EOIR Data  TRAC Id\n",
       "0      AA         Anthony Atenaide      185\n",
       "1     AAT       A. Ashley Tabaddor      103\n",
       "2     AAV          Alan A. Vomacka      216\n",
       "3     ADP  Anthony D. Petrone, Jr.      230\n",
       "4     AED             Alison E Daw       88"
      ]
     },
     "execution_count": 47,
     "metadata": {},
     "output_type": "execute_result"
    }
   ],
   "source": [
    "ij_map.head(5)"
   ]
  },
  {
   "cell_type": "code",
   "execution_count": 48,
   "metadata": {},
   "outputs": [],
   "source": [
    "ij_map = ij_map.rename(columns={'EOIR ID':'ij_code', 'TRAC Id':'trac_id'})\n",
    "ij_map = ij_map[['ij_code', 'trac_id']]"
   ]
  },
  {
   "cell_type": "code",
   "execution_count": 49,
   "metadata": {},
   "outputs": [],
   "source": [
    "sched_tbl2['ij_code'] = sched_tbl2['ij_code'].astype('str').str.strip()\n",
    "ij_map['ij_code'] = ij_map['ij_code'].astype('str').str.strip()"
   ]
  },
  {
   "cell_type": "code",
   "execution_count": 50,
   "metadata": {},
   "outputs": [],
   "source": [
    "ij_map = ij_map.drop_duplicates('ij_code')"
   ]
  },
  {
   "cell_type": "code",
   "execution_count": 51,
   "metadata": {},
   "outputs": [],
   "source": [
    "sched_tbl2 = pd.merge(sched_tbl2, ij_map, on=['ij_code'], how='left')"
   ]
  },
  {
   "cell_type": "code",
   "execution_count": 52,
   "metadata": {},
   "outputs": [
    {
     "data": {
      "text/plain": [
       "array(['CLR', 'LRM', 'VIJ', 'VIS', 'GZM', 'CEA', 'RJD', 'ACB', 'DK',\n",
       "       'RLE', 'AMC', 'JSS', 'HGW', 'HIC', 'MEP', 'CAL', 'VJ1', 'GGD',\n",
       "       'JM', 'JMS', 'XXX', 'SS', 'FJL', 'SJM', 'AMD', 'LDC', 'DLK', 'MJB',\n",
       "       'IJ5', 'BQM', 'MFS', 'WEW', 'MAS', 'WD', 'VJ5', 'nan', 'CLE',\n",
       "       'IJ6', 'VJ2', 'VJ3', 'cep', 'ZZP', 'cka', 'IJD', 'CRY', 'DRK',\n",
       "       'OLD', 'MAM', 'IWE', 'BUF', 'RTG', 'JNB', 'SBM', 'WRR', 'MCK',\n",
       "       'SCB', 'S', 'VJ9', 'VHJ', 'CCS', 'RSC', 'FF', 'JRS', 'OJN', 'IHK',\n",
       "       'CM', 'RS0', 'CHI', 'JJJ', 'HOR', 'IJ2', 'WBT', 'AIM', 'EPE', 'WF',\n",
       "       'HIM', 'IF', 'MMS', 'AS', 'AAS', 'WBG', 'SG', 'JPR', 'DET', 'ipf',\n",
       "       'VID', 'IJC', 'GWS', 'VJ', '801', 'AAA', 'jlr', 'AJM', 'PAD',\n",
       "       'QBV', 'HU1', 'HU2', 'HU3', 'COR', 'HU', 'HUB', 'jdl', 'FC', 'CR',\n",
       "       'SVJ', 'VJ4', 'RP1', 'ao', 'TFJ', 'CAH', 'AMP', 'JCO', 'JTH',\n",
       "       'ATL', 'EHM', 'TRE'], dtype=object)"
      ]
     },
     "execution_count": 52,
     "metadata": {},
     "output_type": "execute_result"
    }
   ],
   "source": [
    "# not mapped to any trac_id\n",
    "sched_tbl2[sched_tbl2.trac_id.isnull()]['ij_code'].unique()"
   ]
  },
  {
   "cell_type": "code",
   "execution_count": 53,
   "metadata": {},
   "outputs": [
    {
     "data": {
      "text/plain": [
       "idnschedule         7710566\n",
       "idnproceeding       7710566\n",
       "idncase             7710566\n",
       "osc_date            7707688\n",
       "ij_code             7710566\n",
       "adj_date            7710566\n",
       "adj_time_start      7710564\n",
       "adj_time_stop       6728593\n",
       "adj_rsn             6672876\n",
       "attorney_present    7710566\n",
       "lang_hearing        7710566\n",
       "hearing_city        7710566\n",
       "hearing_state       7710566\n",
       "base_city           7710566\n",
       "base_state          7710566\n",
       "sched_type          7710566\n",
       "notice_desc         7710566\n",
       "trac_id             7597831\n",
       "dtype: int64"
      ]
     },
     "execution_count": 53,
     "metadata": {},
     "output_type": "execute_result"
    }
   ],
   "source": [
    "sched_tbl2.count()"
   ]
  },
  {
   "cell_type": "code",
   "execution_count": 54,
   "metadata": {},
   "outputs": [],
   "source": [
    "sched_tbl2['trac_id'] = sched_tbl2['trac_id'].fillna('UNKNOWN')"
   ]
  },
  {
   "cell_type": "markdown",
   "metadata": {},
   "source": [
    "## Cleaning adj_date, adj_time_start, adj_time_stop"
   ]
  },
  {
   "cell_type": "code",
   "execution_count": 55,
   "metadata": {},
   "outputs": [],
   "source": [
    "#sched_tbl2['adj_date'] = sched_tbl2['adj_date'].astype('str')\n",
    "sched_tbl2['adj_date'] = pd.to_datetime(sched_tbl2['adj_date'])"
   ]
  },
  {
   "cell_type": "code",
   "execution_count": 56,
   "metadata": {},
   "outputs": [],
   "source": [
    "sched_tbl2['adj_time_start'] = sched_tbl2['adj_time_start'].str.zfill(4)\n",
    "sched_tbl2['adj_time_stop'] = sched_tbl2['adj_time_stop'].str.zfill(4)"
   ]
  },
  {
   "cell_type": "code",
   "execution_count": 57,
   "metadata": {},
   "outputs": [],
   "source": [
    "#sched_tbl2['adj_time_start'] = sched_tbl2['adj_time_start'].str[:2] + ':' + sched_tbl2['adj_time_start'].str[2:]\n",
    "#sched_tbl2['adj_time_stop'] = sched_tbl2['adj_time_stop'].str[:2] + ':' +sched_tbl2['adj_time_stop'].str[2:]"
   ]
  },
  {
   "cell_type": "code",
   "execution_count": 58,
   "metadata": {},
   "outputs": [],
   "source": [
    "sched_tbl2['adj_time_start'] = pd.to_datetime(sched_tbl2['adj_time_start'], format='%H%M', errors='coerce')\n",
    "sched_tbl2['adj_time_stop'] = pd.to_datetime(sched_tbl2['adj_time_stop'], format='%H%M', errors='coerce')\n",
    "#sched_tbl2['adj_time_start'] = pd.to_timedelta(sched_tbl2['adj_time_start'], errors='coerce')"
   ]
  },
  {
   "cell_type": "code",
   "execution_count": 59,
   "metadata": {},
   "outputs": [
    {
     "data": {
      "text/plain": [
       "0   1900-01-01 13:00:00\n",
       "1   1900-01-01 08:30:00\n",
       "2   1900-01-01 13:00:00\n",
       "3   1900-01-01 09:00:00\n",
       "4   1900-01-01 13:00:00\n",
       "Name: adj_time_start, dtype: datetime64[ns]"
      ]
     },
     "execution_count": 59,
     "metadata": {},
     "output_type": "execute_result"
    }
   ],
   "source": [
    "sched_tbl2['adj_time_start'].head(5)"
   ]
  },
  {
   "cell_type": "code",
   "execution_count": 60,
   "metadata": {},
   "outputs": [
    {
     "data": {
      "text/plain": [
       "0    1996-11-27\n",
       "1    1991-05-21\n",
       "2    1997-04-02\n",
       "3    1996-04-16\n",
       "4    2003-01-08\n",
       "Name: adj_date, dtype: object"
      ]
     },
     "execution_count": 60,
     "metadata": {},
     "output_type": "execute_result"
    }
   ],
   "source": [
    "# extract adj_date year-month-day portion\n",
    "d = sched_tbl2['adj_date'].dt.strftime('%Y-%m-%d')\n",
    "\n",
    "#pd.to_datetime(sched_tbl2['adj_time_start'].dt.strftime('{} %H:%M:%S'.format(sched_tbl2['adj_date'])))\n",
    "#a.strftime('{} %H:%M:%S'.format(b.strftime('%Y-%m-%d')))\n",
    "d.head(5)"
   ]
  },
  {
   "cell_type": "code",
   "execution_count": 61,
   "metadata": {},
   "outputs": [],
   "source": [
    "sched_tbl2.loc[sched_tbl2.adj_time_start.dt.hour == 0, 'adj_time_start'] = pd.NaT\n",
    "sched_tbl2.loc[sched_tbl2.adj_time_stop.dt.hour == 0, 'adj_time_stop'] = pd.NaT"
   ]
  },
  {
   "cell_type": "code",
   "execution_count": 62,
   "metadata": {},
   "outputs": [],
   "source": [
    "sched_tbl2.loc[sched_tbl2.adj_time_start.dt.hour < 6, 'adj_time_start'] += pd.to_timedelta(12, unit='h')\n",
    "sched_tbl2.loc[sched_tbl2.adj_time_stop.dt.hour < 6, 'adj_time_stop'] += pd.to_timedelta(5, unit='h')"
   ]
  },
  {
   "cell_type": "code",
   "execution_count": 63,
   "metadata": {},
   "outputs": [],
   "source": [
    "t_start = sched_tbl2['adj_time_start'].dt.strftime('%H:%M:%S')\n",
    "t_stop = sched_tbl2['adj_time_stop'].dt.strftime('%H:%M:%S')\n",
    "#sched_tbl2['adj_time_start'] = sched_tbl2['adj_time_start'].transform(lambda x: x.strftime('{} %H:%M:%S'.format(d)))"
   ]
  },
  {
   "cell_type": "code",
   "execution_count": 64,
   "metadata": {},
   "outputs": [],
   "source": [
    "sched_tbl2['adj_time_start2'] = pd.to_datetime(d + \" \" + t_start, errors='coerce')\n",
    "sched_tbl2['adj_time_stop2'] = pd.to_datetime(d + \" \" + t_stop, errors='coerce')"
   ]
  },
  {
   "cell_type": "code",
   "execution_count": 65,
   "metadata": {},
   "outputs": [
    {
     "data": {
      "text/html": [
       "<div>\n",
       "<style scoped>\n",
       "    .dataframe tbody tr th:only-of-type {\n",
       "        vertical-align: middle;\n",
       "    }\n",
       "\n",
       "    .dataframe tbody tr th {\n",
       "        vertical-align: top;\n",
       "    }\n",
       "\n",
       "    .dataframe thead th {\n",
       "        text-align: right;\n",
       "    }\n",
       "</style>\n",
       "<table border=\"1\" class=\"dataframe\">\n",
       "  <thead>\n",
       "    <tr style=\"text-align: right;\">\n",
       "      <th></th>\n",
       "      <th>idnschedule</th>\n",
       "      <th>idnproceeding</th>\n",
       "      <th>idncase</th>\n",
       "      <th>osc_date</th>\n",
       "      <th>ij_code</th>\n",
       "      <th>adj_date</th>\n",
       "      <th>adj_time_start</th>\n",
       "      <th>adj_time_stop</th>\n",
       "      <th>adj_rsn</th>\n",
       "      <th>attorney_present</th>\n",
       "      <th>lang_hearing</th>\n",
       "      <th>hearing_city</th>\n",
       "      <th>hearing_state</th>\n",
       "      <th>base_city</th>\n",
       "      <th>base_state</th>\n",
       "      <th>sched_type</th>\n",
       "      <th>notice_desc</th>\n",
       "      <th>trac_id</th>\n",
       "      <th>adj_time_start2</th>\n",
       "      <th>adj_time_stop2</th>\n",
       "    </tr>\n",
       "  </thead>\n",
       "  <tbody>\n",
       "    <tr>\n",
       "      <th>0</th>\n",
       "      <td>17035561</td>\n",
       "      <td>961394.0</td>\n",
       "      <td>2706979</td>\n",
       "      <td>1995-06-30 00:00:00</td>\n",
       "      <td>LIS</td>\n",
       "      <td>1996-11-27</td>\n",
       "      <td>1900-01-01 13:00:00</td>\n",
       "      <td>1900-01-01 14:30:00</td>\n",
       "      <td>01</td>\n",
       "      <td>YES</td>\n",
       "      <td>CAPE VERDIAN</td>\n",
       "      <td>BOSTON</td>\n",
       "      <td>MA</td>\n",
       "      <td>BOSTON</td>\n",
       "      <td>MA</td>\n",
       "      <td>UNKNOWN</td>\n",
       "      <td>NO ADDRESS MTN TO REOPEN ORDER OF THE IJ - SNA</td>\n",
       "      <td>19</td>\n",
       "      <td>1996-11-27 13:00:00</td>\n",
       "      <td>1996-11-27 14:30:00</td>\n",
       "    </tr>\n",
       "    <tr>\n",
       "      <th>1</th>\n",
       "      <td>17035562</td>\n",
       "      <td>961398.0</td>\n",
       "      <td>2706991</td>\n",
       "      <td>1991-01-18 00:00:00</td>\n",
       "      <td>LIS</td>\n",
       "      <td>1991-05-21</td>\n",
       "      <td>1900-01-01 08:30:00</td>\n",
       "      <td>1900-01-01 09:00:00</td>\n",
       "      <td>14</td>\n",
       "      <td>NO</td>\n",
       "      <td>ENGLISH</td>\n",
       "      <td>BOSTON</td>\n",
       "      <td>MA</td>\n",
       "      <td>BOSTON</td>\n",
       "      <td>MA</td>\n",
       "      <td>UNKNOWN</td>\n",
       "      <td>NO ADDRESS MTN TO REOPEN ORDER OF THE IJ - SNA</td>\n",
       "      <td>19</td>\n",
       "      <td>1991-05-21 08:30:00</td>\n",
       "      <td>1991-05-21 09:00:00</td>\n",
       "    </tr>\n",
       "    <tr>\n",
       "      <th>2</th>\n",
       "      <td>17035563</td>\n",
       "      <td>961402.0</td>\n",
       "      <td>2707014</td>\n",
       "      <td>1995-05-17 00:00:00</td>\n",
       "      <td>BWD</td>\n",
       "      <td>1997-04-02</td>\n",
       "      <td>1900-01-01 13:00:00</td>\n",
       "      <td>1900-01-01 16:30:00</td>\n",
       "      <td>NaN</td>\n",
       "      <td>YES</td>\n",
       "      <td>ENGLISH</td>\n",
       "      <td>BOSTON</td>\n",
       "      <td>MA</td>\n",
       "      <td>BOSTON</td>\n",
       "      <td>MA</td>\n",
       "      <td>UNKNOWN</td>\n",
       "      <td>NO ADDRESS MTN TO REOPEN ORDER OF THE IJ - SNA</td>\n",
       "      <td>226</td>\n",
       "      <td>1997-04-02 13:00:00</td>\n",
       "      <td>1997-04-02 16:30:00</td>\n",
       "    </tr>\n",
       "    <tr>\n",
       "      <th>3</th>\n",
       "      <td>17035564</td>\n",
       "      <td>961405.0</td>\n",
       "      <td>2707014</td>\n",
       "      <td>1995-05-17 00:00:00</td>\n",
       "      <td>PS</td>\n",
       "      <td>1996-04-16</td>\n",
       "      <td>1900-01-01 09:00:00</td>\n",
       "      <td>1900-01-01 10:30:00</td>\n",
       "      <td>NaN</td>\n",
       "      <td>YES</td>\n",
       "      <td>UNKNOWN LANGUAGE</td>\n",
       "      <td>BOSTON</td>\n",
       "      <td>MA</td>\n",
       "      <td>BOSTON</td>\n",
       "      <td>MA</td>\n",
       "      <td>UNKNOWN</td>\n",
       "      <td>NO ADDRESS MTN TO REOPEN ORDER OF THE IJ - SNA</td>\n",
       "      <td>20</td>\n",
       "      <td>1996-04-16 09:00:00</td>\n",
       "      <td>1996-04-16 10:30:00</td>\n",
       "    </tr>\n",
       "    <tr>\n",
       "      <th>4</th>\n",
       "      <td>17035565</td>\n",
       "      <td>961406.0</td>\n",
       "      <td>2707020</td>\n",
       "      <td>1996-03-12 00:00:00</td>\n",
       "      <td>ECK</td>\n",
       "      <td>2003-01-08</td>\n",
       "      <td>1900-01-01 13:00:00</td>\n",
       "      <td>1900-01-01 16:00:00</td>\n",
       "      <td>04</td>\n",
       "      <td>YES</td>\n",
       "      <td>ENGLISH</td>\n",
       "      <td>BOSTON</td>\n",
       "      <td>MA</td>\n",
       "      <td>BOSTON</td>\n",
       "      <td>MA</td>\n",
       "      <td>UNKNOWN</td>\n",
       "      <td>NO ADDRESS MTN TO REOPEN ORDER OF THE IJ - SNA</td>\n",
       "      <td>18</td>\n",
       "      <td>2003-01-08 13:00:00</td>\n",
       "      <td>2003-01-08 16:00:00</td>\n",
       "    </tr>\n",
       "    <tr>\n",
       "      <th>5</th>\n",
       "      <td>17035566</td>\n",
       "      <td>961407.0</td>\n",
       "      <td>2707020</td>\n",
       "      <td>1996-03-12 00:00:00</td>\n",
       "      <td>ECK</td>\n",
       "      <td>2001-03-15</td>\n",
       "      <td>1900-01-01 09:00:00</td>\n",
       "      <td>1900-01-01 09:30:00</td>\n",
       "      <td>01</td>\n",
       "      <td>YES</td>\n",
       "      <td>ENGLISH</td>\n",
       "      <td>BOSTON</td>\n",
       "      <td>MA</td>\n",
       "      <td>BOSTON</td>\n",
       "      <td>MA</td>\n",
       "      <td>UNKNOWN</td>\n",
       "      <td>NO ADDRESS MTN TO REOPEN ORDER OF THE IJ - SNA</td>\n",
       "      <td>18</td>\n",
       "      <td>2001-03-15 09:00:00</td>\n",
       "      <td>2001-03-15 09:30:00</td>\n",
       "    </tr>\n",
       "    <tr>\n",
       "      <th>6</th>\n",
       "      <td>17035567</td>\n",
       "      <td>961409.0</td>\n",
       "      <td>2707025</td>\n",
       "      <td>1995-07-25 00:00:00</td>\n",
       "      <td>BWD</td>\n",
       "      <td>1996-10-29</td>\n",
       "      <td>1900-01-01 13:00:00</td>\n",
       "      <td>1900-01-01 14:30:00</td>\n",
       "      <td>03</td>\n",
       "      <td>YES</td>\n",
       "      <td>ENGLISH</td>\n",
       "      <td>BOSTON</td>\n",
       "      <td>MA</td>\n",
       "      <td>BOSTON</td>\n",
       "      <td>MA</td>\n",
       "      <td>UNKNOWN</td>\n",
       "      <td>NO ADDRESS MTN TO REOPEN ORDER OF THE IJ - SNA</td>\n",
       "      <td>226</td>\n",
       "      <td>1996-10-29 13:00:00</td>\n",
       "      <td>1996-10-29 14:30:00</td>\n",
       "    </tr>\n",
       "    <tr>\n",
       "      <th>7</th>\n",
       "      <td>17035568</td>\n",
       "      <td>961410.0</td>\n",
       "      <td>2707031</td>\n",
       "      <td>1990-08-23 00:00:00</td>\n",
       "      <td>KAB</td>\n",
       "      <td>1991-09-24</td>\n",
       "      <td>1900-01-01 13:00:00</td>\n",
       "      <td>1900-01-01 16:00:00</td>\n",
       "      <td>NaN</td>\n",
       "      <td>YES</td>\n",
       "      <td>PORTUGUESE</td>\n",
       "      <td>BOSTON</td>\n",
       "      <td>MA</td>\n",
       "      <td>BOSTON</td>\n",
       "      <td>MA</td>\n",
       "      <td>UNKNOWN</td>\n",
       "      <td>NO ADDRESS MTN TO REOPEN ORDER OF THE IJ - SNA</td>\n",
       "      <td>186</td>\n",
       "      <td>1991-09-24 13:00:00</td>\n",
       "      <td>1991-09-24 16:00:00</td>\n",
       "    </tr>\n",
       "    <tr>\n",
       "      <th>8</th>\n",
       "      <td>17035569</td>\n",
       "      <td>961412.0</td>\n",
       "      <td>2707037</td>\n",
       "      <td>1994-12-20 00:00:00</td>\n",
       "      <td>TMR</td>\n",
       "      <td>1995-08-09</td>\n",
       "      <td>1900-01-01 09:00:00</td>\n",
       "      <td>1900-01-01 10:30:00</td>\n",
       "      <td>NaN</td>\n",
       "      <td>NO</td>\n",
       "      <td>UNKNOWN LANGUAGE</td>\n",
       "      <td>BOSTON</td>\n",
       "      <td>MA</td>\n",
       "      <td>BOSTON</td>\n",
       "      <td>MA</td>\n",
       "      <td>UNKNOWN</td>\n",
       "      <td>NO ADDRESS MTN TO REOPEN ORDER OF THE IJ - SNA</td>\n",
       "      <td>228</td>\n",
       "      <td>1995-08-09 09:00:00</td>\n",
       "      <td>1995-08-09 10:30:00</td>\n",
       "    </tr>\n",
       "    <tr>\n",
       "      <th>9</th>\n",
       "      <td>17035570</td>\n",
       "      <td>961413.0</td>\n",
       "      <td>2707042</td>\n",
       "      <td>1994-10-03 00:00:00</td>\n",
       "      <td>LIS</td>\n",
       "      <td>1995-02-01</td>\n",
       "      <td>1900-01-01 13:00:00</td>\n",
       "      <td>1900-01-01 16:30:00</td>\n",
       "      <td>01</td>\n",
       "      <td>NO</td>\n",
       "      <td>ENGLISH</td>\n",
       "      <td>BOSTON</td>\n",
       "      <td>MA</td>\n",
       "      <td>BOSTON</td>\n",
       "      <td>MA</td>\n",
       "      <td>UNKNOWN</td>\n",
       "      <td>NO ADDRESS MTN TO REOPEN ORDER OF THE IJ - SNA</td>\n",
       "      <td>19</td>\n",
       "      <td>1995-02-01 13:00:00</td>\n",
       "      <td>1995-02-01 16:30:00</td>\n",
       "    </tr>\n",
       "  </tbody>\n",
       "</table>\n",
       "</div>"
      ],
      "text/plain": [
       "   idnschedule  idnproceeding  idncase             osc_date ij_code  \\\n",
       "0     17035561       961394.0  2706979  1995-06-30 00:00:00     LIS   \n",
       "1     17035562       961398.0  2706991  1991-01-18 00:00:00     LIS   \n",
       "2     17035563       961402.0  2707014  1995-05-17 00:00:00     BWD   \n",
       "3     17035564       961405.0  2707014  1995-05-17 00:00:00      PS   \n",
       "4     17035565       961406.0  2707020  1996-03-12 00:00:00     ECK   \n",
       "5     17035566       961407.0  2707020  1996-03-12 00:00:00     ECK   \n",
       "6     17035567       961409.0  2707025  1995-07-25 00:00:00     BWD   \n",
       "7     17035568       961410.0  2707031  1990-08-23 00:00:00     KAB   \n",
       "8     17035569       961412.0  2707037  1994-12-20 00:00:00     TMR   \n",
       "9     17035570       961413.0  2707042  1994-10-03 00:00:00     LIS   \n",
       "\n",
       "    adj_date      adj_time_start       adj_time_stop adj_rsn attorney_present  \\\n",
       "0 1996-11-27 1900-01-01 13:00:00 1900-01-01 14:30:00      01              YES   \n",
       "1 1991-05-21 1900-01-01 08:30:00 1900-01-01 09:00:00      14               NO   \n",
       "2 1997-04-02 1900-01-01 13:00:00 1900-01-01 16:30:00     NaN              YES   \n",
       "3 1996-04-16 1900-01-01 09:00:00 1900-01-01 10:30:00     NaN              YES   \n",
       "4 2003-01-08 1900-01-01 13:00:00 1900-01-01 16:00:00      04              YES   \n",
       "5 2001-03-15 1900-01-01 09:00:00 1900-01-01 09:30:00      01              YES   \n",
       "6 1996-10-29 1900-01-01 13:00:00 1900-01-01 14:30:00      03              YES   \n",
       "7 1991-09-24 1900-01-01 13:00:00 1900-01-01 16:00:00     NaN              YES   \n",
       "8 1995-08-09 1900-01-01 09:00:00 1900-01-01 10:30:00     NaN               NO   \n",
       "9 1995-02-01 1900-01-01 13:00:00 1900-01-01 16:30:00      01               NO   \n",
       "\n",
       "       lang_hearing hearing_city hearing_state base_city base_state  \\\n",
       "0      CAPE VERDIAN       BOSTON            MA    BOSTON         MA   \n",
       "1           ENGLISH       BOSTON            MA    BOSTON         MA   \n",
       "2           ENGLISH       BOSTON            MA    BOSTON         MA   \n",
       "3  UNKNOWN LANGUAGE       BOSTON            MA    BOSTON         MA   \n",
       "4           ENGLISH       BOSTON            MA    BOSTON         MA   \n",
       "5           ENGLISH       BOSTON            MA    BOSTON         MA   \n",
       "6           ENGLISH       BOSTON            MA    BOSTON         MA   \n",
       "7        PORTUGUESE       BOSTON            MA    BOSTON         MA   \n",
       "8  UNKNOWN LANGUAGE       BOSTON            MA    BOSTON         MA   \n",
       "9           ENGLISH       BOSTON            MA    BOSTON         MA   \n",
       "\n",
       "  sched_type                                     notice_desc trac_id  \\\n",
       "0    UNKNOWN  NO ADDRESS MTN TO REOPEN ORDER OF THE IJ - SNA      19   \n",
       "1    UNKNOWN  NO ADDRESS MTN TO REOPEN ORDER OF THE IJ - SNA      19   \n",
       "2    UNKNOWN  NO ADDRESS MTN TO REOPEN ORDER OF THE IJ - SNA     226   \n",
       "3    UNKNOWN  NO ADDRESS MTN TO REOPEN ORDER OF THE IJ - SNA      20   \n",
       "4    UNKNOWN  NO ADDRESS MTN TO REOPEN ORDER OF THE IJ - SNA      18   \n",
       "5    UNKNOWN  NO ADDRESS MTN TO REOPEN ORDER OF THE IJ - SNA      18   \n",
       "6    UNKNOWN  NO ADDRESS MTN TO REOPEN ORDER OF THE IJ - SNA     226   \n",
       "7    UNKNOWN  NO ADDRESS MTN TO REOPEN ORDER OF THE IJ - SNA     186   \n",
       "8    UNKNOWN  NO ADDRESS MTN TO REOPEN ORDER OF THE IJ - SNA     228   \n",
       "9    UNKNOWN  NO ADDRESS MTN TO REOPEN ORDER OF THE IJ - SNA      19   \n",
       "\n",
       "      adj_time_start2      adj_time_stop2  \n",
       "0 1996-11-27 13:00:00 1996-11-27 14:30:00  \n",
       "1 1991-05-21 08:30:00 1991-05-21 09:00:00  \n",
       "2 1997-04-02 13:00:00 1997-04-02 16:30:00  \n",
       "3 1996-04-16 09:00:00 1996-04-16 10:30:00  \n",
       "4 2003-01-08 13:00:00 2003-01-08 16:00:00  \n",
       "5 2001-03-15 09:00:00 2001-03-15 09:30:00  \n",
       "6 1996-10-29 13:00:00 1996-10-29 14:30:00  \n",
       "7 1991-09-24 13:00:00 1991-09-24 16:00:00  \n",
       "8 1995-08-09 09:00:00 1995-08-09 10:30:00  \n",
       "9 1995-02-01 13:00:00 1995-02-01 16:30:00  "
      ]
     },
     "execution_count": 65,
     "metadata": {},
     "output_type": "execute_result"
    }
   ],
   "source": [
    "sched_tbl2.head(10)"
   ]
  },
  {
   "cell_type": "code",
   "execution_count": 66,
   "metadata": {},
   "outputs": [],
   "source": [
    "sched_tbl2['durationHearing'] = sched_tbl2['adj_time_stop2'] - sched_tbl2['adj_time_start2']"
   ]
  },
  {
   "cell_type": "code",
   "execution_count": 67,
   "metadata": {},
   "outputs": [
    {
     "data": {
      "text/plain": [
       "idnschedule         2555\n",
       "idnproceeding       2555\n",
       "idncase             2555\n",
       "osc_date            2555\n",
       "ij_code             2555\n",
       "adj_date            2555\n",
       "adj_time_start      2555\n",
       "adj_time_stop       2555\n",
       "adj_rsn             1944\n",
       "attorney_present    2555\n",
       "lang_hearing        2555\n",
       "hearing_city        2555\n",
       "hearing_state       2555\n",
       "base_city           2555\n",
       "base_state          2555\n",
       "sched_type          2555\n",
       "notice_desc         2555\n",
       "trac_id             2555\n",
       "adj_time_start2     2555\n",
       "adj_time_stop2      2555\n",
       "durationHearing     2555\n",
       "dtype: int64"
      ]
     },
     "execution_count": 67,
     "metadata": {},
     "output_type": "execute_result"
    }
   ],
   "source": [
    "sched_tbl2[sched_tbl2.adj_time_stop2 < sched_tbl2.adj_time_start2].count()"
   ]
  },
  {
   "cell_type": "code",
   "execution_count": 68,
   "metadata": {},
   "outputs": [],
   "source": [
    "# converting the unit to minutes\n",
    "sched_tbl2['durationHearing'] = sched_tbl2['durationHearing'].astype('timedelta64[m]')"
   ]
  },
  {
   "cell_type": "code",
   "execution_count": 69,
   "metadata": {},
   "outputs": [],
   "source": [
    "sched_tbl2 = sched_tbl2[sched_tbl2.durationHearing >= 0]"
   ]
  },
  {
   "cell_type": "code",
   "execution_count": 70,
   "metadata": {},
   "outputs": [
    {
     "data": {
      "image/png": "[encoded data removed]",
      "text/plain": [
       "<Figure size 432x288 with 1 Axes>"
      ]
     },
     "metadata": {},
     "output_type": "display_data"
    }
   ],
   "source": [
    "sched_tbl2['durationHearing'].hist(bins=100)\n",
    "plt.show()"
   ]
  },
  {
   "cell_type": "code",
   "execution_count": 71,
   "metadata": {},
   "outputs": [],
   "source": [
    "sched_tbl2 = sched_tbl2.drop(columns=['adj_time_start', 'adj_time_stop', 'ij_code'], axis=1)"
   ]
  },
  {
   "cell_type": "code",
   "execution_count": 72,
   "metadata": {},
   "outputs": [
    {
     "data": {
      "text/plain": [
       "idnschedule         6725795\n",
       "idnproceeding       6725795\n",
       "idncase             6725795\n",
       "osc_date            6725303\n",
       "adj_date            6725795\n",
       "adj_rsn             6020723\n",
       "attorney_present    6725795\n",
       "lang_hearing        6725795\n",
       "hearing_city        6725795\n",
       "hearing_state       6725795\n",
       "base_city           6725795\n",
       "base_state          6725795\n",
       "sched_type          6725795\n",
       "notice_desc         6725795\n",
       "trac_id             6725795\n",
       "adj_time_start2     6725795\n",
       "adj_time_stop2      6725795\n",
       "durationHearing     6725795\n",
       "dtype: int64"
      ]
     },
     "execution_count": 72,
     "metadata": {},
     "output_type": "execute_result"
    }
   ],
   "source": [
    "sched_tbl2.count()"
   ]
  },
  {
   "cell_type": "code",
   "execution_count": 73,
   "metadata": {},
   "outputs": [
    {
     "data": {
      "text/html": [
       "<div>\n",
       "<style scoped>\n",
       "    .dataframe tbody tr th:only-of-type {\n",
       "        vertical-align: middle;\n",
       "    }\n",
       "\n",
       "    .dataframe tbody tr th {\n",
       "        vertical-align: top;\n",
       "    }\n",
       "\n",
       "    .dataframe thead th {\n",
       "        text-align: right;\n",
       "    }\n",
       "</style>\n",
       "<table border=\"1\" class=\"dataframe\">\n",
       "  <thead>\n",
       "    <tr style=\"text-align: right;\">\n",
       "      <th></th>\n",
       "      <th>idnschedule</th>\n",
       "      <th>idnproceeding</th>\n",
       "      <th>idncase</th>\n",
       "      <th>osc_date</th>\n",
       "      <th>adj_date</th>\n",
       "      <th>adj_rsn</th>\n",
       "      <th>attorney_present</th>\n",
       "      <th>lang_hearing</th>\n",
       "      <th>hearing_city</th>\n",
       "      <th>hearing_state</th>\n",
       "      <th>base_city</th>\n",
       "      <th>base_state</th>\n",
       "      <th>sched_type</th>\n",
       "      <th>notice_desc</th>\n",
       "      <th>trac_id</th>\n",
       "      <th>adj_time_start2</th>\n",
       "      <th>adj_time_stop2</th>\n",
       "      <th>durationHearing</th>\n",
       "    </tr>\n",
       "  </thead>\n",
       "  <tbody>\n",
       "    <tr>\n",
       "      <th>0</th>\n",
       "      <td>17035561</td>\n",
       "      <td>961394.0</td>\n",
       "      <td>2706979</td>\n",
       "      <td>1995-06-30 00:00:00</td>\n",
       "      <td>1996-11-27</td>\n",
       "      <td>01</td>\n",
       "      <td>YES</td>\n",
       "      <td>CAPE VERDIAN</td>\n",
       "      <td>BOSTON</td>\n",
       "      <td>MA</td>\n",
       "      <td>BOSTON</td>\n",
       "      <td>MA</td>\n",
       "      <td>UNKNOWN</td>\n",
       "      <td>NO ADDRESS MTN TO REOPEN ORDER OF THE IJ - SNA</td>\n",
       "      <td>19</td>\n",
       "      <td>1996-11-27 13:00:00</td>\n",
       "      <td>1996-11-27 14:30:00</td>\n",
       "      <td>90.0</td>\n",
       "    </tr>\n",
       "    <tr>\n",
       "      <th>1</th>\n",
       "      <td>17035562</td>\n",
       "      <td>961398.0</td>\n",
       "      <td>2706991</td>\n",
       "      <td>1991-01-18 00:00:00</td>\n",
       "      <td>1991-05-21</td>\n",
       "      <td>14</td>\n",
       "      <td>NO</td>\n",
       "      <td>ENGLISH</td>\n",
       "      <td>BOSTON</td>\n",
       "      <td>MA</td>\n",
       "      <td>BOSTON</td>\n",
       "      <td>MA</td>\n",
       "      <td>UNKNOWN</td>\n",
       "      <td>NO ADDRESS MTN TO REOPEN ORDER OF THE IJ - SNA</td>\n",
       "      <td>19</td>\n",
       "      <td>1991-05-21 08:30:00</td>\n",
       "      <td>1991-05-21 09:00:00</td>\n",
       "      <td>30.0</td>\n",
       "    </tr>\n",
       "    <tr>\n",
       "      <th>2</th>\n",
       "      <td>17035563</td>\n",
       "      <td>961402.0</td>\n",
       "      <td>2707014</td>\n",
       "      <td>1995-05-17 00:00:00</td>\n",
       "      <td>1997-04-02</td>\n",
       "      <td>NaN</td>\n",
       "      <td>YES</td>\n",
       "      <td>ENGLISH</td>\n",
       "      <td>BOSTON</td>\n",
       "      <td>MA</td>\n",
       "      <td>BOSTON</td>\n",
       "      <td>MA</td>\n",
       "      <td>UNKNOWN</td>\n",
       "      <td>NO ADDRESS MTN TO REOPEN ORDER OF THE IJ - SNA</td>\n",
       "      <td>226</td>\n",
       "      <td>1997-04-02 13:00:00</td>\n",
       "      <td>1997-04-02 16:30:00</td>\n",
       "      <td>210.0</td>\n",
       "    </tr>\n",
       "    <tr>\n",
       "      <th>3</th>\n",
       "      <td>17035564</td>\n",
       "      <td>961405.0</td>\n",
       "      <td>2707014</td>\n",
       "      <td>1995-05-17 00:00:00</td>\n",
       "      <td>1996-04-16</td>\n",
       "      <td>NaN</td>\n",
       "      <td>YES</td>\n",
       "      <td>UNKNOWN LANGUAGE</td>\n",
       "      <td>BOSTON</td>\n",
       "      <td>MA</td>\n",
       "      <td>BOSTON</td>\n",
       "      <td>MA</td>\n",
       "      <td>UNKNOWN</td>\n",
       "      <td>NO ADDRESS MTN TO REOPEN ORDER OF THE IJ - SNA</td>\n",
       "      <td>20</td>\n",
       "      <td>1996-04-16 09:00:00</td>\n",
       "      <td>1996-04-16 10:30:00</td>\n",
       "      <td>90.0</td>\n",
       "    </tr>\n",
       "    <tr>\n",
       "      <th>4</th>\n",
       "      <td>17035565</td>\n",
       "      <td>961406.0</td>\n",
       "      <td>2707020</td>\n",
       "      <td>1996-03-12 00:00:00</td>\n",
       "      <td>2003-01-08</td>\n",
       "      <td>04</td>\n",
       "      <td>YES</td>\n",
       "      <td>ENGLISH</td>\n",
       "      <td>BOSTON</td>\n",
       "      <td>MA</td>\n",
       "      <td>BOSTON</td>\n",
       "      <td>MA</td>\n",
       "      <td>UNKNOWN</td>\n",
       "      <td>NO ADDRESS MTN TO REOPEN ORDER OF THE IJ - SNA</td>\n",
       "      <td>18</td>\n",
       "      <td>2003-01-08 13:00:00</td>\n",
       "      <td>2003-01-08 16:00:00</td>\n",
       "      <td>180.0</td>\n",
       "    </tr>\n",
       "    <tr>\n",
       "      <th>5</th>\n",
       "      <td>17035566</td>\n",
       "      <td>961407.0</td>\n",
       "      <td>2707020</td>\n",
       "      <td>1996-03-12 00:00:00</td>\n",
       "      <td>2001-03-15</td>\n",
       "      <td>01</td>\n",
       "      <td>YES</td>\n",
       "      <td>ENGLISH</td>\n",
       "      <td>BOSTON</td>\n",
       "      <td>MA</td>\n",
       "      <td>BOSTON</td>\n",
       "      <td>MA</td>\n",
       "      <td>UNKNOWN</td>\n",
       "      <td>NO ADDRESS MTN TO REOPEN ORDER OF THE IJ - SNA</td>\n",
       "      <td>18</td>\n",
       "      <td>2001-03-15 09:00:00</td>\n",
       "      <td>2001-03-15 09:30:00</td>\n",
       "      <td>30.0</td>\n",
       "    </tr>\n",
       "    <tr>\n",
       "      <th>6</th>\n",
       "      <td>17035567</td>\n",
       "      <td>961409.0</td>\n",
       "      <td>2707025</td>\n",
       "      <td>1995-07-25 00:00:00</td>\n",
       "      <td>1996-10-29</td>\n",
       "      <td>03</td>\n",
       "      <td>YES</td>\n",
       "      <td>ENGLISH</td>\n",
       "      <td>BOSTON</td>\n",
       "      <td>MA</td>\n",
       "      <td>BOSTON</td>\n",
       "      <td>MA</td>\n",
       "      <td>UNKNOWN</td>\n",
       "      <td>NO ADDRESS MTN TO REOPEN ORDER OF THE IJ - SNA</td>\n",
       "      <td>226</td>\n",
       "      <td>1996-10-29 13:00:00</td>\n",
       "      <td>1996-10-29 14:30:00</td>\n",
       "      <td>90.0</td>\n",
       "    </tr>\n",
       "    <tr>\n",
       "      <th>7</th>\n",
       "      <td>17035568</td>\n",
       "      <td>961410.0</td>\n",
       "      <td>2707031</td>\n",
       "      <td>1990-08-23 00:00:00</td>\n",
       "      <td>1991-09-24</td>\n",
       "      <td>NaN</td>\n",
       "      <td>YES</td>\n",
       "      <td>PORTUGUESE</td>\n",
       "      <td>BOSTON</td>\n",
       "      <td>MA</td>\n",
       "      <td>BOSTON</td>\n",
       "      <td>MA</td>\n",
       "      <td>UNKNOWN</td>\n",
       "      <td>NO ADDRESS MTN TO REOPEN ORDER OF THE IJ - SNA</td>\n",
       "      <td>186</td>\n",
       "      <td>1991-09-24 13:00:00</td>\n",
       "      <td>1991-09-24 16:00:00</td>\n",
       "      <td>180.0</td>\n",
       "    </tr>\n",
       "    <tr>\n",
       "      <th>8</th>\n",
       "      <td>17035569</td>\n",
       "      <td>961412.0</td>\n",
       "      <td>2707037</td>\n",
       "      <td>1994-12-20 00:00:00</td>\n",
       "      <td>1995-08-09</td>\n",
       "      <td>NaN</td>\n",
       "      <td>NO</td>\n",
       "      <td>UNKNOWN LANGUAGE</td>\n",
       "      <td>BOSTON</td>\n",
       "      <td>MA</td>\n",
       "      <td>BOSTON</td>\n",
       "      <td>MA</td>\n",
       "      <td>UNKNOWN</td>\n",
       "      <td>NO ADDRESS MTN TO REOPEN ORDER OF THE IJ - SNA</td>\n",
       "      <td>228</td>\n",
       "      <td>1995-08-09 09:00:00</td>\n",
       "      <td>1995-08-09 10:30:00</td>\n",
       "      <td>90.0</td>\n",
       "    </tr>\n",
       "    <tr>\n",
       "      <th>9</th>\n",
       "      <td>17035570</td>\n",
       "      <td>961413.0</td>\n",
       "      <td>2707042</td>\n",
       "      <td>1994-10-03 00:00:00</td>\n",
       "      <td>1995-02-01</td>\n",
       "      <td>01</td>\n",
       "      <td>NO</td>\n",
       "      <td>ENGLISH</td>\n",
       "      <td>BOSTON</td>\n",
       "      <td>MA</td>\n",
       "      <td>BOSTON</td>\n",
       "      <td>MA</td>\n",
       "      <td>UNKNOWN</td>\n",
       "      <td>NO ADDRESS MTN TO REOPEN ORDER OF THE IJ - SNA</td>\n",
       "      <td>19</td>\n",
       "      <td>1995-02-01 13:00:00</td>\n",
       "      <td>1995-02-01 16:30:00</td>\n",
       "      <td>210.0</td>\n",
       "    </tr>\n",
       "  </tbody>\n",
       "</table>\n",
       "</div>"
      ],
      "text/plain": [
       "   idnschedule  idnproceeding  idncase             osc_date   adj_date  \\\n",
       "0     17035561       961394.0  2706979  1995-06-30 00:00:00 1996-11-27   \n",
       "1     17035562       961398.0  2706991  1991-01-18 00:00:00 1991-05-21   \n",
       "2     17035563       961402.0  2707014  1995-05-17 00:00:00 1997-04-02   \n",
       "3     17035564       961405.0  2707014  1995-05-17 00:00:00 1996-04-16   \n",
       "4     17035565       961406.0  2707020  1996-03-12 00:00:00 2003-01-08   \n",
       "5     17035566       961407.0  2707020  1996-03-12 00:00:00 2001-03-15   \n",
       "6     17035567       961409.0  2707025  1995-07-25 00:00:00 1996-10-29   \n",
       "7     17035568       961410.0  2707031  1990-08-23 00:00:00 1991-09-24   \n",
       "8     17035569       961412.0  2707037  1994-12-20 00:00:00 1995-08-09   \n",
       "9     17035570       961413.0  2707042  1994-10-03 00:00:00 1995-02-01   \n",
       "\n",
       "  adj_rsn attorney_present      lang_hearing hearing_city hearing_state  \\\n",
       "0      01              YES      CAPE VERDIAN       BOSTON            MA   \n",
       "1      14               NO           ENGLISH       BOSTON            MA   \n",
       "2     NaN              YES           ENGLISH       BOSTON            MA   \n",
       "3     NaN              YES  UNKNOWN LANGUAGE       BOSTON            MA   \n",
       "4      04              YES           ENGLISH       BOSTON            MA   \n",
       "5      01              YES           ENGLISH       BOSTON            MA   \n",
       "6      03              YES           ENGLISH       BOSTON            MA   \n",
       "7     NaN              YES        PORTUGUESE       BOSTON            MA   \n",
       "8     NaN               NO  UNKNOWN LANGUAGE       BOSTON            MA   \n",
       "9      01               NO           ENGLISH       BOSTON            MA   \n",
       "\n",
       "  base_city base_state sched_type  \\\n",
       "0    BOSTON         MA    UNKNOWN   \n",
       "1    BOSTON         MA    UNKNOWN   \n",
       "2    BOSTON         MA    UNKNOWN   \n",
       "3    BOSTON         MA    UNKNOWN   \n",
       "4    BOSTON         MA    UNKNOWN   \n",
       "5    BOSTON         MA    UNKNOWN   \n",
       "6    BOSTON         MA    UNKNOWN   \n",
       "7    BOSTON         MA    UNKNOWN   \n",
       "8    BOSTON         MA    UNKNOWN   \n",
       "9    BOSTON         MA    UNKNOWN   \n",
       "\n",
       "                                      notice_desc trac_id     adj_time_start2  \\\n",
       "0  NO ADDRESS MTN TO REOPEN ORDER OF THE IJ - SNA      19 1996-11-27 13:00:00   \n",
       "1  NO ADDRESS MTN TO REOPEN ORDER OF THE IJ - SNA      19 1991-05-21 08:30:00   \n",
       "2  NO ADDRESS MTN TO REOPEN ORDER OF THE IJ - SNA     226 1997-04-02 13:00:00   \n",
       "3  NO ADDRESS MTN TO REOPEN ORDER OF THE IJ - SNA      20 1996-04-16 09:00:00   \n",
       "4  NO ADDRESS MTN TO REOPEN ORDER OF THE IJ - SNA      18 2003-01-08 13:00:00   \n",
       "5  NO ADDRESS MTN TO REOPEN ORDER OF THE IJ - SNA      18 2001-03-15 09:00:00   \n",
       "6  NO ADDRESS MTN TO REOPEN ORDER OF THE IJ - SNA     226 1996-10-29 13:00:00   \n",
       "7  NO ADDRESS MTN TO REOPEN ORDER OF THE IJ - SNA     186 1991-09-24 13:00:00   \n",
       "8  NO ADDRESS MTN TO REOPEN ORDER OF THE IJ - SNA     228 1995-08-09 09:00:00   \n",
       "9  NO ADDRESS MTN TO REOPEN ORDER OF THE IJ - SNA      19 1995-02-01 13:00:00   \n",
       "\n",
       "       adj_time_stop2  durationHearing  \n",
       "0 1996-11-27 14:30:00             90.0  \n",
       "1 1991-05-21 09:00:00             30.0  \n",
       "2 1997-04-02 16:30:00            210.0  \n",
       "3 1996-04-16 10:30:00             90.0  \n",
       "4 2003-01-08 16:00:00            180.0  \n",
       "5 2001-03-15 09:30:00             30.0  \n",
       "6 1996-10-29 14:30:00             90.0  \n",
       "7 1991-09-24 16:00:00            180.0  \n",
       "8 1995-08-09 10:30:00             90.0  \n",
       "9 1995-02-01 16:30:00            210.0  "
      ]
     },
     "execution_count": 73,
     "metadata": {},
     "output_type": "execute_result"
    }
   ],
   "source": [
    "sched_tbl2.head(10)"
   ]
  },
  {
   "cell_type": "markdown",
   "metadata": {},
   "source": [
    "## Mapping and cleaning adj_rsn"
   ]
  },
  {
   "cell_type": "code",
   "execution_count": 74,
   "metadata": {},
   "outputs": [],
   "source": [
    "adjrsn_map = pd.read_excel(raw_folder+'/dbo_tblAdjournmentcodes.xlsx')"
   ]
  },
  {
   "cell_type": "code",
   "execution_count": 75,
   "metadata": {},
   "outputs": [],
   "source": [
    "adjrsn_map = adjrsn_map.rename(columns={'strcode':'adj_rsn', 'strDesciption':'adj_rsn_desc'})\n",
    "adjrsn_map = adjrsn_map[['adj_rsn', 'adj_rsn_desc']]"
   ]
  },
  {
   "cell_type": "code",
   "execution_count": 76,
   "metadata": {},
   "outputs": [
    {
     "data": {
      "text/html": [
       "<div>\n",
       "<style scoped>\n",
       "    .dataframe tbody tr th:only-of-type {\n",
       "        vertical-align: middle;\n",
       "    }\n",
       "\n",
       "    .dataframe tbody tr th {\n",
       "        vertical-align: top;\n",
       "    }\n",
       "\n",
       "    .dataframe thead th {\n",
       "        text-align: right;\n",
       "    }\n",
       "</style>\n",
       "<table border=\"1\" class=\"dataframe\">\n",
       "  <thead>\n",
       "    <tr style=\"text-align: right;\">\n",
       "      <th></th>\n",
       "      <th>adj_rsn</th>\n",
       "      <th>adj_rsn_desc</th>\n",
       "    </tr>\n",
       "  </thead>\n",
       "  <tbody>\n",
       "    <tr>\n",
       "      <th>0</th>\n",
       "      <td>01</td>\n",
       "      <td>ALIEN TO SEEK REPRESENTATION</td>\n",
       "    </tr>\n",
       "    <tr>\n",
       "      <th>1</th>\n",
       "      <td>02</td>\n",
       "      <td>PREPARATION--ALIEN/ATTORNEY/REPRESENTATIVE</td>\n",
       "    </tr>\n",
       "    <tr>\n",
       "      <th>2</th>\n",
       "      <td>03</td>\n",
       "      <td>PREPARATION--DHS</td>\n",
       "    </tr>\n",
       "    <tr>\n",
       "      <th>3</th>\n",
       "      <td>04</td>\n",
       "      <td>DHS OR DHS ADMIN FILE UNAVAILABLE FOR HEARING</td>\n",
       "    </tr>\n",
       "    <tr>\n",
       "      <th>4</th>\n",
       "      <td>05</td>\n",
       "      <td>ALIEN TO FILE FOR ASYLUM</td>\n",
       "    </tr>\n",
       "    <tr>\n",
       "      <th>5</th>\n",
       "      <td>06</td>\n",
       "      <td>ALIEN TO FILE OTHER APPLICATION</td>\n",
       "    </tr>\n",
       "    <tr>\n",
       "      <th>6</th>\n",
       "      <td>07</td>\n",
       "      <td>ALIEN/DHS APPLICATION PROCESS</td>\n",
       "    </tr>\n",
       "    <tr>\n",
       "      <th>7</th>\n",
       "      <td>08</td>\n",
       "      <td>STATE DEPARTMENT RESPONSE NOT IN FILE</td>\n",
       "    </tr>\n",
       "    <tr>\n",
       "      <th>8</th>\n",
       "      <td>09</td>\n",
       "      <td>ALIEN IN DHS/CORR. CUSTODY NOT PRESENTED FOR HRG.</td>\n",
       "    </tr>\n",
       "    <tr>\n",
       "      <th>9</th>\n",
       "      <td>10</td>\n",
       "      <td>NOTICE SENT/SERVED INCORRECTLY</td>\n",
       "    </tr>\n",
       "  </tbody>\n",
       "</table>\n",
       "</div>"
      ],
      "text/plain": [
       "  adj_rsn                                       adj_rsn_desc\n",
       "0      01                       ALIEN TO SEEK REPRESENTATION\n",
       "1      02         PREPARATION--ALIEN/ATTORNEY/REPRESENTATIVE\n",
       "2      03                                   PREPARATION--DHS\n",
       "3      04      DHS OR DHS ADMIN FILE UNAVAILABLE FOR HEARING\n",
       "4      05                           ALIEN TO FILE FOR ASYLUM\n",
       "5      06                    ALIEN TO FILE OTHER APPLICATION\n",
       "6      07                      ALIEN/DHS APPLICATION PROCESS\n",
       "7      08              STATE DEPARTMENT RESPONSE NOT IN FILE\n",
       "8      09  ALIEN IN DHS/CORR. CUSTODY NOT PRESENTED FOR HRG.\n",
       "9      10                     NOTICE SENT/SERVED INCORRECTLY"
      ]
     },
     "execution_count": 76,
     "metadata": {},
     "output_type": "execute_result"
    }
   ],
   "source": [
    "adjrsn_map.head(10)"
   ]
  },
  {
   "cell_type": "code",
   "execution_count": 77,
   "metadata": {},
   "outputs": [],
   "source": [
    "sched_tbl2['adj_rsn'] = sched_tbl2['adj_rsn'].astype('str').str.strip()\n",
    "adjrsn_map['adj_rsn'] = adjrsn_map['adj_rsn'].astype('str').str.strip()"
   ]
  },
  {
   "cell_type": "code",
   "execution_count": 78,
   "metadata": {},
   "outputs": [
    {
     "data": {
      "text/plain": [
       "idnschedule         6725795\n",
       "idnproceeding       6725795\n",
       "idncase             6725795\n",
       "osc_date            6725303\n",
       "adj_date            6725795\n",
       "adj_rsn             6725795\n",
       "attorney_present    6725795\n",
       "lang_hearing        6725795\n",
       "hearing_city        6725795\n",
       "hearing_state       6725795\n",
       "base_city           6725795\n",
       "base_state          6725795\n",
       "sched_type          6725795\n",
       "notice_desc         6725795\n",
       "trac_id             6725795\n",
       "adj_time_start2     6725795\n",
       "adj_time_stop2      6725795\n",
       "durationHearing     6725795\n",
       "dtype: int64"
      ]
     },
     "execution_count": 78,
     "metadata": {},
     "output_type": "execute_result"
    }
   ],
   "source": [
    "sched_tbl2.count()"
   ]
  },
  {
   "cell_type": "code",
   "execution_count": 79,
   "metadata": {},
   "outputs": [],
   "source": [
    "sched_tbl2 = pd.merge(sched_tbl2, adjrsn_map, on=['adj_rsn'], how='left')"
   ]
  },
  {
   "cell_type": "code",
   "execution_count": 80,
   "metadata": {},
   "outputs": [],
   "source": [
    "# mark the ones that don't match as UNKNOWN\n",
    "sched_tbl2['adj_rsn_desc'] = sched_tbl2['adj_rsn_desc'].fillna('UNKNOWN')"
   ]
  },
  {
   "cell_type": "code",
   "execution_count": 81,
   "metadata": {},
   "outputs": [
    {
     "data": {
      "text/plain": [
       "idnschedule         6725795\n",
       "idnproceeding       6725795\n",
       "idncase             6725795\n",
       "osc_date            6725303\n",
       "adj_date            6725795\n",
       "adj_rsn             6725795\n",
       "attorney_present    6725795\n",
       "lang_hearing        6725795\n",
       "hearing_city        6725795\n",
       "hearing_state       6725795\n",
       "base_city           6725795\n",
       "base_state          6725795\n",
       "sched_type          6725795\n",
       "notice_desc         6725795\n",
       "trac_id             6725795\n",
       "adj_time_start2     6725795\n",
       "adj_time_stop2      6725795\n",
       "durationHearing     6725795\n",
       "adj_rsn_desc        6725795\n",
       "dtype: int64"
      ]
     },
     "execution_count": 81,
     "metadata": {},
     "output_type": "execute_result"
    }
   ],
   "source": [
    "sched_tbl2.count()"
   ]
  },
  {
   "cell_type": "markdown",
   "metadata": {},
   "source": [
    "## Mapping cal_type"
   ]
  },
  {
   "cell_type": "code",
   "execution_count": 82,
   "metadata": {},
   "outputs": [],
   "source": [
    "#caltype_map = pd.read_csv(raw_folder+'/eoir/tbllookupCal_Type.csv')"
   ]
  },
  {
   "cell_type": "code",
   "execution_count": 83,
   "metadata": {},
   "outputs": [],
   "source": [
    "#caltype_map"
   ]
  },
  {
   "cell_type": "code",
   "execution_count": 84,
   "metadata": {},
   "outputs": [],
   "source": [
    "#sched_tbl2['cal_type'].unique()"
   ]
  },
  {
   "cell_type": "markdown",
   "metadata": {},
   "source": [
    "## Ouputting cleaned version"
   ]
  },
  {
   "cell_type": "code",
   "execution_count": 85,
   "metadata": {},
   "outputs": [],
   "source": [
    "sched_tbl2.to_csv('../detailed_schedule.csv', index=False)"
   ]
  }
 ],
 "metadata": {
  "kernelspec": {
   "display_name": "Python 3",
   "language": "python",
   "name": "python3"
  },
  "language_info": {
   "codemirror_mode": {
    "name": "ipython",
    "version": 3
   },
   "file_extension": ".py",
   "mimetype": "text/x-python",
   "name": "python",
   "nbconvert_exporter": "python",
   "pygments_lexer": "ipython3",
   "version": "3.6.4"
  }
 },
 "nbformat": 4,
 "nbformat_minor": 2
}
