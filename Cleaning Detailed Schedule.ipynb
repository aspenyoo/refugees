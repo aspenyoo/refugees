{
 "cells": [
  {
   "cell_type": "code",
   "execution_count": 1,
   "metadata": {},
   "outputs": [],
   "source": [
    "import pandas as pd\n",
    "import numpy as np\n",
    "import matplotlib.pyplot as plt\n",
    "pd.set_option('precision', 5)"
   ]
  },
  {
   "cell_type": "code",
   "execution_count": 2,
   "metadata": {},
   "outputs": [],
   "source": [
    "path = '/data/Dropbox/Data/Asylum_Courts/tbl_schedule'"
   ]
  },
  {
   "cell_type": "code",
   "execution_count": 3,
   "metadata": {},
   "outputs": [],
   "source": [
    "cols = [\"IDNSCHEDULE\",\"IDNPROCEEDING\",\"IDNCASE\",\"OSC_DATE\",\"GENERATION\",\"SUB_GENERATION\",\"REC_TYPE\",\"ALIEN_ATTY_CODE\",\"LANG\",\"HEARING_LOC_CODE\",\"BASE_CITY_CODE\",\"IJ_CODE\",\"INTERPRETER_CODE\",\"INPUT_DATE\",\"INPUT_TIME\",\"UPDATE_DATE\",\"UPDATE_TIME\",\"ASSIGNMENT_PATH\",\"CONTINUE_FLAG\",\"CAL_TYPE\",\"ADJ_DATE\",\"ADJ_TIME_START\",\"ADJ_TIME_STOP\",\"ADJ_RSN\",\"ADJ_MEDIUM\",\"ADJ_MSG\",\"ADJ_ELAP_DAYS\",\"ID_1\",\"LNGSESSNID\",\"SCHEDULE_TYPE\",\"NOTICE_CODE\",\"DATBATCHMODIFIED\",\"STRCREATEDBY\",\"STRMODIFIEDBY\",\"BLNCLOCKOVERRIDE\",\"EOIRAttorneyID\"]\n",
    "cols = [x.lower() for x in cols]"
   ]
  },
  {
   "cell_type": "code",
   "execution_count": 4,
   "metadata": {},
   "outputs": [],
   "source": [
    "sched_tbl = pd.read_csv(path + '/tbl_schedule_01.csv', header=None, names=cols, encoding='ISO-8859-1', low_memory=False, dtype={'adj_date':'str', 'adj_time_start':'str', 'adj_time_stop':'str'})"
   ]
  },
  {
   "cell_type": "code",
   "execution_count": 6,
   "metadata": {},
   "outputs": [
    {
     "data": {
      "text/plain": [
       "idnschedule         7710560\n",
       "idnproceeding       7710542\n",
       "idncase             7710560\n",
       "osc_date            7707682\n",
       "generation          7709369\n",
       "sub_generation       592617\n",
       "rec_type            7710530\n",
       "alien_atty_code     4259127\n",
       "lang                7288862\n",
       "hearing_loc_code    7710558\n",
       "base_city_code      7710558\n",
       "ij_code             7709156\n",
       "interpreter_code      10772\n",
       "input_date          7710558\n",
       "input_time          7710203\n",
       "update_date         7710556\n",
       "update_time         7710536\n",
       "assignment_path      387076\n",
       "continue_flag             0\n",
       "cal_type            7706235\n",
       "adj_date            7710560\n",
       "adj_time_start      7710558\n",
       "adj_time_stop       6728583\n",
       "adj_rsn             6672863\n",
       "adj_medium          7508811\n",
       "adj_msg             1923835\n",
       "adj_elap_days       2719424\n",
       "id_1                1594869\n",
       "lngsessnid          5686379\n",
       "schedule_type       7710559\n",
       "notice_code         5453180\n",
       "datbatchmodified     292701\n",
       "strcreatedby        7710205\n",
       "strmodifiedby       7697821\n",
       "blnclockoverride    7710560\n",
       "eoirattorneyid      4157165\n",
       "dtype: int64"
      ]
     },
     "execution_count": 6,
     "metadata": {},
     "output_type": "execute_result"
    }
   ],
   "source": [
    "sched_tbl.count()"
   ]
  },
  {
   "cell_type": "code",
   "execution_count": 7,
   "metadata": {},
   "outputs": [
    {
     "data": {
      "text/html": [
       "<div>\n",
       "<style scoped>\n",
       "    .dataframe tbody tr th:only-of-type {\n",
       "        vertical-align: middle;\n",
       "    }\n",
       "\n",
       "    .dataframe tbody tr th {\n",
       "        vertical-align: top;\n",
       "    }\n",
       "\n",
       "    .dataframe thead th {\n",
       "        text-align: right;\n",
       "    }\n",
       "</style>\n",
       "<table border=\"1\" class=\"dataframe\">\n",
       "  <thead>\n",
       "    <tr style=\"text-align: right;\">\n",
       "      <th></th>\n",
       "      <th>idnschedule</th>\n",
       "      <th>idnproceeding</th>\n",
       "      <th>idncase</th>\n",
       "      <th>osc_date</th>\n",
       "      <th>generation</th>\n",
       "      <th>sub_generation</th>\n",
       "      <th>rec_type</th>\n",
       "      <th>alien_atty_code</th>\n",
       "      <th>lang</th>\n",
       "      <th>hearing_loc_code</th>\n",
       "      <th>...</th>\n",
       "      <th>adj_elap_days</th>\n",
       "      <th>id_1</th>\n",
       "      <th>lngsessnid</th>\n",
       "      <th>schedule_type</th>\n",
       "      <th>notice_code</th>\n",
       "      <th>datbatchmodified</th>\n",
       "      <th>strcreatedby</th>\n",
       "      <th>strmodifiedby</th>\n",
       "      <th>blnclockoverride</th>\n",
       "      <th>eoirattorneyid</th>\n",
       "    </tr>\n",
       "  </thead>\n",
       "  <tbody>\n",
       "    <tr>\n",
       "      <th>0</th>\n",
       "      <td>17035561</td>\n",
       "      <td>961394.0</td>\n",
       "      <td>2706979</td>\n",
       "      <td>1995-06-30 00:00:00</td>\n",
       "      <td>99.0</td>\n",
       "      <td>NaN</td>\n",
       "      <td>X</td>\n",
       "      <td>GLI</td>\n",
       "      <td>CV</td>\n",
       "      <td>BOS</td>\n",
       "      <td>...</td>\n",
       "      <td>0000</td>\n",
       "      <td>RVG</td>\n",
       "      <td>NaN</td>\n",
       "      <td>--</td>\n",
       "      <td>NaN</td>\n",
       "      <td>NaN</td>\n",
       "      <td>ADMIN</td>\n",
       "      <td>ADMIN</td>\n",
       "      <td>False</td>\n",
       "      <td>{64B26B92-3683-E211-AC6D-F4CE46838609}</td>\n",
       "    </tr>\n",
       "    <tr>\n",
       "      <th>1</th>\n",
       "      <td>17035562</td>\n",
       "      <td>961398.0</td>\n",
       "      <td>2706991</td>\n",
       "      <td>1991-01-18 00:00:00</td>\n",
       "      <td>99.0</td>\n",
       "      <td>NaN</td>\n",
       "      <td>X</td>\n",
       "      <td></td>\n",
       "      <td>ENG</td>\n",
       "      <td>BOS</td>\n",
       "      <td>...</td>\n",
       "      <td>0000</td>\n",
       "      <td>TP</td>\n",
       "      <td>NaN</td>\n",
       "      <td>--</td>\n",
       "      <td>NaN</td>\n",
       "      <td>NaN</td>\n",
       "      <td>ADMIN</td>\n",
       "      <td>ADMIN</td>\n",
       "      <td>False</td>\n",
       "      <td>NaN</td>\n",
       "    </tr>\n",
       "    <tr>\n",
       "      <th>2</th>\n",
       "      <td>17035563</td>\n",
       "      <td>961402.0</td>\n",
       "      <td>2707014</td>\n",
       "      <td>1995-05-17 00:00:00</td>\n",
       "      <td>96.0</td>\n",
       "      <td>NaN</td>\n",
       "      <td>X</td>\n",
       "      <td>GAL</td>\n",
       "      <td>ENG</td>\n",
       "      <td>BOS</td>\n",
       "      <td>...</td>\n",
       "      <td>0000</td>\n",
       "      <td>GET</td>\n",
       "      <td>NaN</td>\n",
       "      <td>--</td>\n",
       "      <td>NaN</td>\n",
       "      <td>NaN</td>\n",
       "      <td>ADMIN</td>\n",
       "      <td>ADMIN</td>\n",
       "      <td>False</td>\n",
       "      <td>{50B26B92-3683-E211-AC6D-F4CE46838609}</td>\n",
       "    </tr>\n",
       "    <tr>\n",
       "      <th>3</th>\n",
       "      <td>17035564</td>\n",
       "      <td>961405.0</td>\n",
       "      <td>2707014</td>\n",
       "      <td>1995-05-17 00:00:00</td>\n",
       "      <td>99.0</td>\n",
       "      <td>NaN</td>\n",
       "      <td>X</td>\n",
       "      <td>GAL</td>\n",
       "      <td>UNK</td>\n",
       "      <td>BOS</td>\n",
       "      <td>...</td>\n",
       "      <td>0000</td>\n",
       "      <td>GET</td>\n",
       "      <td>NaN</td>\n",
       "      <td>--</td>\n",
       "      <td>NaN</td>\n",
       "      <td>NaN</td>\n",
       "      <td>ADMIN</td>\n",
       "      <td>ADMIN</td>\n",
       "      <td>False</td>\n",
       "      <td>{50B26B92-3683-E211-AC6D-F4CE46838609}</td>\n",
       "    </tr>\n",
       "    <tr>\n",
       "      <th>4</th>\n",
       "      <td>17035565</td>\n",
       "      <td>961406.0</td>\n",
       "      <td>2707020</td>\n",
       "      <td>1996-03-12 00:00:00</td>\n",
       "      <td>97.0</td>\n",
       "      <td>NaN</td>\n",
       "      <td>X</td>\n",
       "      <td>SAN</td>\n",
       "      <td>ENG</td>\n",
       "      <td>BOS</td>\n",
       "      <td>...</td>\n",
       "      <td>0000</td>\n",
       "      <td>GET</td>\n",
       "      <td>NaN</td>\n",
       "      <td>--</td>\n",
       "      <td>NaN</td>\n",
       "      <td>NaN</td>\n",
       "      <td>ADMIN</td>\n",
       "      <td>ADMIN</td>\n",
       "      <td>False</td>\n",
       "      <td>{5E250E92-3683-E211-AC6D-F4CE46838609}</td>\n",
       "    </tr>\n",
       "  </tbody>\n",
       "</table>\n",
       "<p>5 rows × 36 columns</p>\n",
       "</div>"
      ],
      "text/plain": [
       "   idnschedule  idnproceeding  idncase             osc_date  generation  \\\n",
       "0     17035561       961394.0  2706979  1995-06-30 00:00:00        99.0   \n",
       "1     17035562       961398.0  2706991  1991-01-18 00:00:00        99.0   \n",
       "2     17035563       961402.0  2707014  1995-05-17 00:00:00        96.0   \n",
       "3     17035564       961405.0  2707014  1995-05-17 00:00:00        99.0   \n",
       "4     17035565       961406.0  2707020  1996-03-12 00:00:00        97.0   \n",
       "\n",
       "   sub_generation rec_type alien_atty_code lang hearing_loc_code  \\\n",
       "0             NaN        X             GLI  CV               BOS   \n",
       "1             NaN        X                  ENG              BOS   \n",
       "2             NaN        X             GAL  ENG              BOS   \n",
       "3             NaN        X             GAL  UNK              BOS   \n",
       "4             NaN        X             SAN  ENG              BOS   \n",
       "\n",
       "                    ...                   adj_elap_days id_1 lngsessnid  \\\n",
       "0                   ...                            0000  RVG        NaN   \n",
       "1                   ...                            0000  TP         NaN   \n",
       "2                   ...                            0000  GET        NaN   \n",
       "3                   ...                            0000  GET        NaN   \n",
       "4                   ...                            0000  GET        NaN   \n",
       "\n",
       "  schedule_type notice_code datbatchmodified strcreatedby strmodifiedby  \\\n",
       "0            --         NaN              NaN        ADMIN         ADMIN   \n",
       "1            --         NaN              NaN        ADMIN         ADMIN   \n",
       "2            --         NaN              NaN        ADMIN         ADMIN   \n",
       "3            --         NaN              NaN        ADMIN         ADMIN   \n",
       "4            --         NaN              NaN        ADMIN         ADMIN   \n",
       "\n",
       "   blnclockoverride                          eoirattorneyid  \n",
       "0             False  {64B26B92-3683-E211-AC6D-F4CE46838609}  \n",
       "1             False                                     NaN  \n",
       "2             False  {50B26B92-3683-E211-AC6D-F4CE46838609}  \n",
       "3             False  {50B26B92-3683-E211-AC6D-F4CE46838609}  \n",
       "4             False  {5E250E92-3683-E211-AC6D-F4CE46838609}  \n",
       "\n",
       "[5 rows x 36 columns]"
      ]
     },
     "execution_count": 7,
     "metadata": {},
     "output_type": "execute_result"
    }
   ],
   "source": [
    "sched_tbl.head(5)"
   ]
  },
  {
   "cell_type": "code",
   "execution_count": 128,
   "metadata": {},
   "outputs": [],
   "source": [
    "sched_tbl2 = sched_tbl[['idnschedule','idnproceeding','idncase','osc_date','ij_code','cal_type','adj_date','adj_time_start','adj_time_stop','adj_rsn','notice_code','eoirattorneyid']]"
   ]
  },
  {
   "cell_type": "code",
   "execution_count": 129,
   "metadata": {},
   "outputs": [
    {
     "data": {
      "text/plain": [
       "idnschedule       7710542\n",
       "idnproceeding     7710542\n",
       "idncase           7710542\n",
       "osc_date          7707664\n",
       "ij_code           7709138\n",
       "cal_type          7706217\n",
       "adj_date          7710542\n",
       "adj_time_start    7710540\n",
       "adj_time_stop     6728571\n",
       "adj_rsn           6672852\n",
       "notice_code       5453180\n",
       "eoirattorneyid    4157165\n",
       "dtype: int64"
      ]
     },
     "execution_count": 129,
     "metadata": {},
     "output_type": "execute_result"
    }
   ],
   "source": [
    "sched_tbl2 = sched_tbl2.dropna(subset=['idnschedule', 'idnproceeding', 'idncase', 'adj_date'])\n",
    "sched_tbl2.count()"
   ]
  },
  {
   "cell_type": "code",
   "execution_count": 130,
   "metadata": {},
   "outputs": [],
   "source": [
    "#sched_tbl2['adj_date'] = sched_tbl2['adj_date'].astype('str')\n",
    "sched_tbl2['adj_date'] = pd.to_datetime(sched_tbl2['adj_date'])"
   ]
  },
  {
   "cell_type": "code",
   "execution_count": 131,
   "metadata": {},
   "outputs": [],
   "source": [
    "sched_tbl2['adj_time_start'] = sched_tbl2['adj_time_start'].str.zfill(4)\n",
    "sched_tbl2['adj_time_stop'] = sched_tbl2['adj_time_stop'].str.zfill(4)"
   ]
  },
  {
   "cell_type": "code",
   "execution_count": 118,
   "metadata": {},
   "outputs": [],
   "source": [
    "#sched_tbl2['adj_time_start'] = sched_tbl2['adj_time_start'].str[:2] + ':' + sched_tbl2['adj_time_start'].str[2:]\n",
    "#sched_tbl2['adj_time_stop'] = sched_tbl2['adj_time_stop'].str[:2] + ':' +sched_tbl2['adj_time_stop'].str[2:]"
   ]
  },
  {
   "cell_type": "code",
   "execution_count": 132,
   "metadata": {},
   "outputs": [],
   "source": [
    "sched_tbl2['adj_time_start'] = pd.to_datetime(sched_tbl2['adj_time_start'], format='%H%M', errors='coerce')\n",
    "sched_tbl2['adj_time_stop'] = pd.to_datetime(sched_tbl2['adj_time_stop'], format='%H%M', errors='coerce')\n",
    "#sched_tbl2['adj_time_start'] = pd.to_timedelta(sched_tbl2['adj_time_start'], errors='coerce')"
   ]
  },
  {
   "cell_type": "code",
   "execution_count": 133,
   "metadata": {},
   "outputs": [
    {
     "data": {
      "text/plain": [
       "0   1900-01-01 13:00:00\n",
       "1   1900-01-01 08:30:00\n",
       "2   1900-01-01 13:00:00\n",
       "3   1900-01-01 09:00:00\n",
       "4   1900-01-01 13:00:00\n",
       "Name: adj_time_start, dtype: datetime64[ns]"
      ]
     },
     "execution_count": 133,
     "metadata": {},
     "output_type": "execute_result"
    }
   ],
   "source": [
    "sched_tbl2['adj_time_start'].head(5)"
   ]
  },
  {
   "cell_type": "code",
   "execution_count": 146,
   "metadata": {},
   "outputs": [
    {
     "data": {
      "text/plain": [
       "0    1996-11-27\n",
       "1    1991-05-21\n",
       "2    1997-04-02\n",
       "3    1996-04-16\n",
       "4    2003-01-08\n",
       "Name: adj_date, dtype: object"
      ]
     },
     "execution_count": 146,
     "metadata": {},
     "output_type": "execute_result"
    }
   ],
   "source": [
    "# extract adj_date year-month-day portion\n",
    "d = sched_tbl2['adj_date'].dt.strftime('%Y-%m-%d')\n",
    "\n",
    "#pd.to_datetime(sched_tbl2['adj_time_start'].dt.strftime('{} %H:%M:%S'.format(sched_tbl2['adj_date'])))\n",
    "#a.strftime('{} %H:%M:%S'.format(b.strftime('%Y-%m-%d')))\n",
    "d.head(5)"
   ]
  },
  {
   "cell_type": "code",
   "execution_count": 156,
   "metadata": {},
   "outputs": [],
   "source": [
    "sched_tbl2.loc[sched_tbl2.adj_time_start.dt.hour == 0, 'adj_time_start'] = pd.NaT\n",
    "sched_tbl2.loc[sched_tbl2.adj_time_stop.dt.hour == 0, 'adj_time_stop'] = pd.NaT"
   ]
  },
  {
   "cell_type": "code",
   "execution_count": 157,
   "metadata": {},
   "outputs": [],
   "source": [
    "sched_tbl2.loc[sched_tbl2.adj_time_start.dt.hour < 6, 'adj_time_start'] += pd.to_timedelta(12, unit='h')\n",
    "sched_tbl2.loc[sched_tbl2.adj_time_stop.dt.hour < 6, 'adj_time_stop'] += pd.to_timedelta(5, unit='h')"
   ]
  },
  {
   "cell_type": "code",
   "execution_count": 158,
   "metadata": {},
   "outputs": [],
   "source": [
    "t_start = sched_tbl2['adj_time_start'].dt.strftime('%H:%M:%S')\n",
    "t_stop = sched_tbl2['adj_time_stop'].dt.strftime('%H:%M:%S')\n",
    "#sched_tbl2['adj_time_start'] = sched_tbl2['adj_time_start'].transform(lambda x: x.strftime('{} %H:%M:%S'.format(d)))"
   ]
  },
  {
   "cell_type": "code",
   "execution_count": 159,
   "metadata": {},
   "outputs": [],
   "source": [
    "sched_tbl2['adj_time_start2'] = pd.to_datetime(d + \" \" + t_start, errors='coerce')\n",
    "sched_tbl2['adj_time_stop2'] = pd.to_datetime(d + \" \" + t_stop, errors='coerce')"
   ]
  },
  {
   "cell_type": "code",
   "execution_count": 160,
   "metadata": {},
   "outputs": [
    {
     "data": {
      "text/html": [
       "<div>\n",
       "<style scoped>\n",
       "    .dataframe tbody tr th:only-of-type {\n",
       "        vertical-align: middle;\n",
       "    }\n",
       "\n",
       "    .dataframe tbody tr th {\n",
       "        vertical-align: top;\n",
       "    }\n",
       "\n",
       "    .dataframe thead th {\n",
       "        text-align: right;\n",
       "    }\n",
       "</style>\n",
       "<table border=\"1\" class=\"dataframe\">\n",
       "  <thead>\n",
       "    <tr style=\"text-align: right;\">\n",
       "      <th></th>\n",
       "      <th>idnschedule</th>\n",
       "      <th>idnproceeding</th>\n",
       "      <th>idncase</th>\n",
       "      <th>osc_date</th>\n",
       "      <th>ij_code</th>\n",
       "      <th>cal_type</th>\n",
       "      <th>adj_date</th>\n",
       "      <th>adj_time_start</th>\n",
       "      <th>adj_time_stop</th>\n",
       "      <th>adj_rsn</th>\n",
       "      <th>notice_code</th>\n",
       "      <th>eoirattorneyid</th>\n",
       "      <th>adj_time_start2</th>\n",
       "      <th>adj_time_stop2</th>\n",
       "    </tr>\n",
       "  </thead>\n",
       "  <tbody>\n",
       "    <tr>\n",
       "      <th>0</th>\n",
       "      <td>17035561</td>\n",
       "      <td>961394.0</td>\n",
       "      <td>2706979</td>\n",
       "      <td>1995-06-30 00:00:00</td>\n",
       "      <td>LIS</td>\n",
       "      <td>M</td>\n",
       "      <td>1996-11-27</td>\n",
       "      <td>1900-01-01 13:00:00</td>\n",
       "      <td>1900-01-01 14:30:00</td>\n",
       "      <td>01</td>\n",
       "      <td>NaN</td>\n",
       "      <td>{64B26B92-3683-E211-AC6D-F4CE46838609}</td>\n",
       "      <td>1996-11-27 13:00:00</td>\n",
       "      <td>1996-11-27 14:30:00</td>\n",
       "    </tr>\n",
       "    <tr>\n",
       "      <th>1</th>\n",
       "      <td>17035562</td>\n",
       "      <td>961398.0</td>\n",
       "      <td>2706991</td>\n",
       "      <td>1991-01-18 00:00:00</td>\n",
       "      <td>LIS</td>\n",
       "      <td>M</td>\n",
       "      <td>1991-05-21</td>\n",
       "      <td>1900-01-01 08:30:00</td>\n",
       "      <td>1900-01-01 09:00:00</td>\n",
       "      <td>14</td>\n",
       "      <td>NaN</td>\n",
       "      <td>NaN</td>\n",
       "      <td>1991-05-21 08:30:00</td>\n",
       "      <td>1991-05-21 09:00:00</td>\n",
       "    </tr>\n",
       "    <tr>\n",
       "      <th>2</th>\n",
       "      <td>17035563</td>\n",
       "      <td>961402.0</td>\n",
       "      <td>2707014</td>\n",
       "      <td>1995-05-17 00:00:00</td>\n",
       "      <td>BWD</td>\n",
       "      <td>M</td>\n",
       "      <td>1997-04-02</td>\n",
       "      <td>1900-01-01 13:00:00</td>\n",
       "      <td>1900-01-01 16:30:00</td>\n",
       "      <td>NaN</td>\n",
       "      <td>NaN</td>\n",
       "      <td>{50B26B92-3683-E211-AC6D-F4CE46838609}</td>\n",
       "      <td>1997-04-02 13:00:00</td>\n",
       "      <td>1997-04-02 16:30:00</td>\n",
       "    </tr>\n",
       "    <tr>\n",
       "      <th>3</th>\n",
       "      <td>17035564</td>\n",
       "      <td>961405.0</td>\n",
       "      <td>2707014</td>\n",
       "      <td>1995-05-17 00:00:00</td>\n",
       "      <td>PS</td>\n",
       "      <td>M</td>\n",
       "      <td>1996-04-16</td>\n",
       "      <td>1900-01-01 09:00:00</td>\n",
       "      <td>1900-01-01 10:30:00</td>\n",
       "      <td>NaN</td>\n",
       "      <td>NaN</td>\n",
       "      <td>{50B26B92-3683-E211-AC6D-F4CE46838609}</td>\n",
       "      <td>1996-04-16 09:00:00</td>\n",
       "      <td>1996-04-16 10:30:00</td>\n",
       "    </tr>\n",
       "    <tr>\n",
       "      <th>4</th>\n",
       "      <td>17035565</td>\n",
       "      <td>961406.0</td>\n",
       "      <td>2707020</td>\n",
       "      <td>1996-03-12 00:00:00</td>\n",
       "      <td>ECK</td>\n",
       "      <td>I</td>\n",
       "      <td>2003-01-08</td>\n",
       "      <td>1900-01-01 13:00:00</td>\n",
       "      <td>1900-01-01 16:00:00</td>\n",
       "      <td>04</td>\n",
       "      <td>NaN</td>\n",
       "      <td>{5E250E92-3683-E211-AC6D-F4CE46838609}</td>\n",
       "      <td>2003-01-08 13:00:00</td>\n",
       "      <td>2003-01-08 16:00:00</td>\n",
       "    </tr>\n",
       "    <tr>\n",
       "      <th>5</th>\n",
       "      <td>17035566</td>\n",
       "      <td>961407.0</td>\n",
       "      <td>2707020</td>\n",
       "      <td>1996-03-12 00:00:00</td>\n",
       "      <td>ECK</td>\n",
       "      <td>M</td>\n",
       "      <td>2001-03-15</td>\n",
       "      <td>1900-01-01 09:00:00</td>\n",
       "      <td>1900-01-01 09:30:00</td>\n",
       "      <td>01</td>\n",
       "      <td>NaN</td>\n",
       "      <td>{5E250E92-3683-E211-AC6D-F4CE46838609}</td>\n",
       "      <td>2001-03-15 09:00:00</td>\n",
       "      <td>2001-03-15 09:30:00</td>\n",
       "    </tr>\n",
       "    <tr>\n",
       "      <th>6</th>\n",
       "      <td>17035567</td>\n",
       "      <td>961409.0</td>\n",
       "      <td>2707025</td>\n",
       "      <td>1995-07-25 00:00:00</td>\n",
       "      <td>BWD</td>\n",
       "      <td>M</td>\n",
       "      <td>1996-10-29</td>\n",
       "      <td>1900-01-01 13:00:00</td>\n",
       "      <td>1900-01-01 14:30:00</td>\n",
       "      <td>03</td>\n",
       "      <td>NaN</td>\n",
       "      <td>{50B26B92-3683-E211-AC6D-F4CE46838609}</td>\n",
       "      <td>1996-10-29 13:00:00</td>\n",
       "      <td>1996-10-29 14:30:00</td>\n",
       "    </tr>\n",
       "    <tr>\n",
       "      <th>7</th>\n",
       "      <td>17035568</td>\n",
       "      <td>961410.0</td>\n",
       "      <td>2707031</td>\n",
       "      <td>1990-08-23 00:00:00</td>\n",
       "      <td>KAB</td>\n",
       "      <td>I</td>\n",
       "      <td>1991-09-24</td>\n",
       "      <td>1900-01-01 13:00:00</td>\n",
       "      <td>1900-01-01 16:00:00</td>\n",
       "      <td>NaN</td>\n",
       "      <td>NaN</td>\n",
       "      <td>{50B26B92-3683-E211-AC6D-F4CE46838609}</td>\n",
       "      <td>1991-09-24 13:00:00</td>\n",
       "      <td>1991-09-24 16:00:00</td>\n",
       "    </tr>\n",
       "    <tr>\n",
       "      <th>8</th>\n",
       "      <td>17035569</td>\n",
       "      <td>961412.0</td>\n",
       "      <td>2707037</td>\n",
       "      <td>1994-12-20 00:00:00</td>\n",
       "      <td>TMR</td>\n",
       "      <td>M</td>\n",
       "      <td>1995-08-09</td>\n",
       "      <td>1900-01-01 09:00:00</td>\n",
       "      <td>1900-01-01 10:30:00</td>\n",
       "      <td>NaN</td>\n",
       "      <td>NaN</td>\n",
       "      <td>NaN</td>\n",
       "      <td>1995-08-09 09:00:00</td>\n",
       "      <td>1995-08-09 10:30:00</td>\n",
       "    </tr>\n",
       "    <tr>\n",
       "      <th>9</th>\n",
       "      <td>17035570</td>\n",
       "      <td>961413.0</td>\n",
       "      <td>2707042</td>\n",
       "      <td>1994-10-03 00:00:00</td>\n",
       "      <td>LIS</td>\n",
       "      <td>M</td>\n",
       "      <td>1995-02-01</td>\n",
       "      <td>1900-01-01 13:00:00</td>\n",
       "      <td>1900-01-01 16:30:00</td>\n",
       "      <td>01</td>\n",
       "      <td>NaN</td>\n",
       "      <td>NaN</td>\n",
       "      <td>1995-02-01 13:00:00</td>\n",
       "      <td>1995-02-01 16:30:00</td>\n",
       "    </tr>\n",
       "  </tbody>\n",
       "</table>\n",
       "</div>"
      ],
      "text/plain": [
       "   idnschedule  idnproceeding  idncase             osc_date ij_code cal_type  \\\n",
       "0     17035561       961394.0  2706979  1995-06-30 00:00:00     LIS        M   \n",
       "1     17035562       961398.0  2706991  1991-01-18 00:00:00     LIS        M   \n",
       "2     17035563       961402.0  2707014  1995-05-17 00:00:00     BWD        M   \n",
       "3     17035564       961405.0  2707014  1995-05-17 00:00:00      PS        M   \n",
       "4     17035565       961406.0  2707020  1996-03-12 00:00:00     ECK        I   \n",
       "5     17035566       961407.0  2707020  1996-03-12 00:00:00     ECK        M   \n",
       "6     17035567       961409.0  2707025  1995-07-25 00:00:00     BWD        M   \n",
       "7     17035568       961410.0  2707031  1990-08-23 00:00:00     KAB        I   \n",
       "8     17035569       961412.0  2707037  1994-12-20 00:00:00     TMR        M   \n",
       "9     17035570       961413.0  2707042  1994-10-03 00:00:00     LIS        M   \n",
       "\n",
       "    adj_date      adj_time_start       adj_time_stop adj_rsn notice_code  \\\n",
       "0 1996-11-27 1900-01-01 13:00:00 1900-01-01 14:30:00      01         NaN   \n",
       "1 1991-05-21 1900-01-01 08:30:00 1900-01-01 09:00:00      14         NaN   \n",
       "2 1997-04-02 1900-01-01 13:00:00 1900-01-01 16:30:00     NaN         NaN   \n",
       "3 1996-04-16 1900-01-01 09:00:00 1900-01-01 10:30:00     NaN         NaN   \n",
       "4 2003-01-08 1900-01-01 13:00:00 1900-01-01 16:00:00      04         NaN   \n",
       "5 2001-03-15 1900-01-01 09:00:00 1900-01-01 09:30:00      01         NaN   \n",
       "6 1996-10-29 1900-01-01 13:00:00 1900-01-01 14:30:00      03         NaN   \n",
       "7 1991-09-24 1900-01-01 13:00:00 1900-01-01 16:00:00     NaN         NaN   \n",
       "8 1995-08-09 1900-01-01 09:00:00 1900-01-01 10:30:00     NaN         NaN   \n",
       "9 1995-02-01 1900-01-01 13:00:00 1900-01-01 16:30:00      01         NaN   \n",
       "\n",
       "                           eoirattorneyid     adj_time_start2  \\\n",
       "0  {64B26B92-3683-E211-AC6D-F4CE46838609} 1996-11-27 13:00:00   \n",
       "1                                     NaN 1991-05-21 08:30:00   \n",
       "2  {50B26B92-3683-E211-AC6D-F4CE46838609} 1997-04-02 13:00:00   \n",
       "3  {50B26B92-3683-E211-AC6D-F4CE46838609} 1996-04-16 09:00:00   \n",
       "4  {5E250E92-3683-E211-AC6D-F4CE46838609} 2003-01-08 13:00:00   \n",
       "5  {5E250E92-3683-E211-AC6D-F4CE46838609} 2001-03-15 09:00:00   \n",
       "6  {50B26B92-3683-E211-AC6D-F4CE46838609} 1996-10-29 13:00:00   \n",
       "7  {50B26B92-3683-E211-AC6D-F4CE46838609} 1991-09-24 13:00:00   \n",
       "8                                     NaN 1995-08-09 09:00:00   \n",
       "9                                     NaN 1995-02-01 13:00:00   \n",
       "\n",
       "       adj_time_stop2  \n",
       "0 1996-11-27 14:30:00  \n",
       "1 1991-05-21 09:00:00  \n",
       "2 1997-04-02 16:30:00  \n",
       "3 1996-04-16 10:30:00  \n",
       "4 2003-01-08 16:00:00  \n",
       "5 2001-03-15 09:30:00  \n",
       "6 1996-10-29 14:30:00  \n",
       "7 1991-09-24 16:00:00  \n",
       "8 1995-08-09 10:30:00  \n",
       "9 1995-02-01 16:30:00  "
      ]
     },
     "execution_count": 160,
     "metadata": {},
     "output_type": "execute_result"
    }
   ],
   "source": [
    "sched_tbl2.head(10)"
   ]
  },
  {
   "cell_type": "code",
   "execution_count": 169,
   "metadata": {},
   "outputs": [],
   "source": [
    "sched_tbl2['durationHearing'] = sched_tbl2['adj_time_stop2'] - sched_tbl2['adj_time_start2']"
   ]
  },
  {
   "cell_type": "code",
   "execution_count": 170,
   "metadata": {},
   "outputs": [
    {
     "data": {
      "text/plain": [
       "idnschedule        2555\n",
       "idnproceeding      2555\n",
       "idncase            2555\n",
       "osc_date           2555\n",
       "ij_code            2555\n",
       "cal_type           2555\n",
       "adj_date           2555\n",
       "adj_time_start     2555\n",
       "adj_time_stop      2555\n",
       "adj_rsn            1944\n",
       "notice_code         173\n",
       "eoirattorneyid     1581\n",
       "adj_time_start2    2555\n",
       "adj_time_stop2     2555\n",
       "durationHearing    2555\n",
       "dtype: int64"
      ]
     },
     "execution_count": 170,
     "metadata": {},
     "output_type": "execute_result"
    }
   ],
   "source": [
    "sched_tbl2[sched_tbl2.adj_time_stop2 < sched_tbl2.adj_time_start2].count()"
   ]
  },
  {
   "cell_type": "code",
   "execution_count": 171,
   "metadata": {},
   "outputs": [],
   "source": [
    "# converting the unit to minutes\n",
    "sched_tbl2['durationHearing'] = sched_tbl2['durationHearing'].astype('timedelta64[m]')"
   ]
  },
  {
   "cell_type": "code",
   "execution_count": 172,
   "metadata": {},
   "outputs": [],
   "source": [
    "sched_tbl2 = sched_tbl2[sched_tbl2.durationHearing >= 0]"
   ]
  },
  {
   "cell_type": "code",
   "execution_count": 173,
   "metadata": {},
   "outputs": [
    {
     "data": {
      "image/png": "[encoded data removed]",
      "text/plain": [
       "<Figure size 432x288 with 1 Axes>"
      ]
     },
     "metadata": {},
     "output_type": "display_data"
    }
   ],
   "source": [
    "sched_tbl2['durationHearing'].hist(bins=100)\n",
    "plt.show()"
   ]
  },
  {
   "cell_type": "code",
   "execution_count": 177,
   "metadata": {},
   "outputs": [],
   "source": [
    "sched_tbl2 = sched_tbl2.drop(columns=['adj_time_start', 'adj_time_stop'], axis=1)"
   ]
  },
  {
   "cell_type": "code",
   "execution_count": 181,
   "metadata": {},
   "outputs": [],
   "source": [
    "sched_tbl2.to_csv('../detailed_schedule.csv', index=False)"
   ]
  }
 ],
 "metadata": {
  "kernelspec": {
   "display_name": "Python 3",
   "language": "python",
   "name": "python3"
  },
  "language_info": {
   "codemirror_mode": {
    "name": "ipython",
    "version": 3
   },
   "file_extension": ".py",
   "mimetype": "text/x-python",
   "name": "python",
   "nbconvert_exporter": "python",
   "pygments_lexer": "ipython3",
   "version": "3.6.4"
  }
 },
 "nbformat": 4,
 "nbformat_minor": 2
}
