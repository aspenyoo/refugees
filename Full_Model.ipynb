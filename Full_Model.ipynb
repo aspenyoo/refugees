{
 "cells": [
  {
   "cell_type": "code",
   "execution_count": 94,
   "metadata": {},
   "outputs": [],
   "source": [
    "import pandas as pd\n",
    "import numpy as np\n",
    "import warnings; \n",
    "import matplotlib.pyplot as plt\n",
    "warnings.simplefilter('ignore')\n",
    "#from sklearn.preprocessing import CategoricalEncoder\n",
    "from sklearn.linear_model import LogisticRegression\n",
    "from sklearn.model_selection import cross_val_score, train_test_split\n",
    "from sklearn.base import BaseEstimator, TransformerMixin\n",
    "from sklearn.pipeline import Pipeline, FeatureUnion\n",
    "from sklearn.preprocessing import LabelEncoder, OneHotEncoder, StandardScaler\n",
    "from sklearn.tree import DecisionTreeClassifier\n",
    "from sklearn.model_selection import GridSearchCV, RandomizedSearchCV\n",
    "from scipy.stats import randint\n",
    "from sklearn.ensemble import RandomForestClassifier"
   ]
  },
  {
   "cell_type": "markdown",
   "metadata": {},
   "source": [
    "## Creating Test/Train Sets"
   ]
  },
  {
   "cell_type": "code",
   "execution_count": 74,
   "metadata": {},
   "outputs": [],
   "source": [
    "file = pd.read_csv('../merged_any_master_schedule.csv')\n",
    "test_cases = pd.read_csv('../test_cases_any_asylum_full_model.csv', header=None)"
   ]
  },
  {
   "cell_type": "code",
   "execution_count": 75,
   "metadata": {},
   "outputs": [],
   "source": [
    "test_cases = test_cases.rename(columns={0:'num'})"
   ]
  },
  {
   "cell_type": "code",
   "execution_count": 76,
   "metadata": {},
   "outputs": [],
   "source": [
    "train = file[~file.idncase.isin(test_cases.num)]"
   ]
  },
  {
   "cell_type": "code",
   "execution_count": 77,
   "metadata": {},
   "outputs": [],
   "source": [
    "test = file[file.idncase.isin(test_cases.num)]"
   ]
  },
  {
   "cell_type": "code",
   "execution_count": 78,
   "metadata": {},
   "outputs": [],
   "source": [
    "class Cleaning(BaseEstimator, TransformerMixin):\n",
    "    def fit(self, X, y=None):\n",
    "        return self\n",
    "    def transform(self, X):\n",
    "        X = X.drop(columns=['idncase', 'idnproceeding', 'adj_date', 'adj_time_start2', 'adj_time_stop2', 'osc_date_y'])\n",
    "        X.loc[(X[\"dec\"] == 'DENY'),'dec'] = 0\n",
    "        X.loc[(X[\"dec\"] == 'GRANT'),'dec'] = 1\n",
    "        X['comp_date'] = pd.to_datetime(X['comp_date'],infer_datetime_format = True)\n",
    "        startdate = np.datetime64('1984-07-11')\n",
    "        X['comp_date_in_days'] = X['comp_date'].apply(lambda x: (x - startdate).days)\n",
    "        X = X.drop(columns=['comp_date'], axis=1)\n",
    "        return X\n",
    "    "
   ]
  },
  {
   "cell_type": "code",
   "execution_count": 79,
   "metadata": {},
   "outputs": [],
   "source": [
    "clean = Cleaning()\n",
    "train_data = clean.transform(train)"
   ]
  },
  {
   "cell_type": "code",
   "execution_count": 80,
   "metadata": {},
   "outputs": [],
   "source": [
    "y_train = train_data['dec']\n",
    "X_train = train_data.drop(columns=['dec'], axis=1)"
   ]
  },
  {
   "cell_type": "markdown",
   "metadata": {},
   "source": [
    "## Generating Pipeline"
   ]
  },
  {
   "cell_type": "code",
   "execution_count": 58,
   "metadata": {},
   "outputs": [],
   "source": [
    "class Selector(BaseEstimator, TransformerMixin):\n",
    "    def __init__(self, dtype):\n",
    "        self.dtype = dtype\n",
    "    def fit(self, X, y=None):\n",
    "        return self\n",
    "    def transform(self, X):\n",
    "        num_frame = X.select_dtypes(include=[self.dtype])\n",
    "        self.names = num_frame.columns\n",
    "        return num_frame\n",
    "    def get_feature_names(self):\n",
    "        return self.names.tolist()"
   ]
  },
  {
   "cell_type": "code",
   "execution_count": 59,
   "metadata": {},
   "outputs": [],
   "source": [
    "class CustomLabelEncoder(BaseEstimator, TransformerMixin):\n",
    "    def fit(self, X, y=None):\n",
    "        return self\n",
    "    def transform(self, X):\n",
    "        #X = np.asarray(pd.get_dummies(X))\n",
    "        #self.names = X.columns \n",
    "        self.names = np.array(0)\n",
    "        for col in X.columns:\n",
    "            le = LabelEncoder()\n",
    "            X[col] = le.fit_transform(X[col])\n",
    "            #cat_frame = X.apply(le.fit_transform)\n",
    "            self.names = np.append(self.names, le.classes_)\n",
    "    \n",
    "        return X\n",
    "    def get_feature_names(self):\n",
    "        return self.names.tolist()"
   ]
  },
  {
   "cell_type": "code",
   "execution_count": 60,
   "metadata": {},
   "outputs": [],
   "source": [
    "num_pipeline = Pipeline([\n",
    "        ('selector', Selector(np.number)),\n",
    "        ('scaler', StandardScaler()),\n",
    "])\n",
    "\n",
    "cat_pipeline = Pipeline([\n",
    "        ('selector', Selector('object')),\n",
    "        ('labeler', CustomLabelEncoder())\n",
    "        #('encoder', OneHotEncoder()),\n",
    "]) \n",
    "\n",
    "full_pipeline = FeatureUnion(transformer_list=[ \n",
    "        ('numerical', num_pipeline),  \n",
    "        ('categorical', cat_pipeline)   \n",
    "])  "
   ]
  },
  {
   "cell_type": "code",
   "execution_count": 61,
   "metadata": {},
   "outputs": [],
   "source": [
    "test = cat_pipeline.fit_transform(X_train)"
   ]
  },
  {
   "cell_type": "code",
   "execution_count": 62,
   "metadata": {},
   "outputs": [
    {
     "data": {
      "text/plain": [
       "1343"
      ]
     },
     "execution_count": 62,
     "metadata": {},
     "output_type": "execute_result"
    }
   ],
   "source": [
    "len(cat_pipeline.named_steps['labeler'].get_feature_names())"
   ]
  },
  {
   "cell_type": "code",
   "execution_count": 81,
   "metadata": {},
   "outputs": [],
   "source": [
    "X_train_tr= full_pipeline.fit_transform(X_train)"
   ]
  },
  {
   "cell_type": "markdown",
   "metadata": {},
   "source": [
    "## Hyperparameter Grid Search On Logistic Regression"
   ]
  },
  {
   "cell_type": "code",
   "execution_count": 30,
   "metadata": {},
   "outputs": [],
   "source": [
    "param_grid = {'penalty': ['l1','l2'], 'C': [0.001, 0.01, 0.1, 1, 10, 100, 1000]}"
   ]
  },
  {
   "cell_type": "code",
   "execution_count": 31,
   "metadata": {},
   "outputs": [
    {
     "name": "stderr",
     "output_type": "stream",
     "text": [
      "/usr/local/anaconda/anaconda3/lib/python3.6/site-packages/sklearn/utils/deprecation.py:122: FutureWarning: You are accessing a training score ('mean_train_score'), which will not be available by default any more in 0.21. If you need training scores, please set return_train_score=True\n",
      "  warnings.warn(*warn_args, **warn_kwargs)\n",
      "/usr/local/anaconda/anaconda3/lib/python3.6/site-packages/sklearn/utils/deprecation.py:122: FutureWarning: You are accessing a training score ('split0_train_score'), which will not be available by default any more in 0.21. If you need training scores, please set return_train_score=True\n",
      "  warnings.warn(*warn_args, **warn_kwargs)\n",
      "/usr/local/anaconda/anaconda3/lib/python3.6/site-packages/sklearn/utils/deprecation.py:122: FutureWarning: You are accessing a training score ('split1_train_score'), which will not be available by default any more in 0.21. If you need training scores, please set return_train_score=True\n",
      "  warnings.warn(*warn_args, **warn_kwargs)\n",
      "/usr/local/anaconda/anaconda3/lib/python3.6/site-packages/sklearn/utils/deprecation.py:122: FutureWarning: You are accessing a training score ('split2_train_score'), which will not be available by default any more in 0.21. If you need training scores, please set return_train_score=True\n",
      "  warnings.warn(*warn_args, **warn_kwargs)\n",
      "/usr/local/anaconda/anaconda3/lib/python3.6/site-packages/sklearn/utils/deprecation.py:122: FutureWarning: You are accessing a training score ('split3_train_score'), which will not be available by default any more in 0.21. If you need training scores, please set return_train_score=True\n",
      "  warnings.warn(*warn_args, **warn_kwargs)\n",
      "/usr/local/anaconda/anaconda3/lib/python3.6/site-packages/sklearn/utils/deprecation.py:122: FutureWarning: You are accessing a training score ('split4_train_score'), which will not be available by default any more in 0.21. If you need training scores, please set return_train_score=True\n",
      "  warnings.warn(*warn_args, **warn_kwargs)\n",
      "/usr/local/anaconda/anaconda3/lib/python3.6/site-packages/sklearn/utils/deprecation.py:122: FutureWarning: You are accessing a training score ('std_train_score'), which will not be available by default any more in 0.21. If you need training scores, please set return_train_score=True\n",
      "  warnings.warn(*warn_args, **warn_kwargs)\n"
     ]
    }
   ],
   "source": [
    "log_reg = LogisticRegression()\n",
    "grid_search = GridSearchCV(log_reg, param_grid, cv=5, scoring='accuracy', n_jobs=-1)\n",
    "grid_search.fit(X_train_tr, y_train)\n",
    "result = pd.DataFrame(grid_search.cv_results_)"
   ]
  },
  {
   "cell_type": "code",
   "execution_count": 32,
   "metadata": {},
   "outputs": [
    {
     "name": "stdout",
     "output_type": "stream",
     "text": [
      "    mean_fit_time  mean_score_time  mean_test_score  mean_train_score param_C  \\\n",
      "0        2.373631         0.013899         0.643052          0.726646   0.001   \n",
      "1        2.424796         0.019857         0.669493          0.765314   0.001   \n",
      "2       10.345317         0.032659         0.680687          0.776167    0.01   \n",
      "3        4.903254         0.017303         0.694461          0.786889    0.01   \n",
      "4       53.518398         0.022968         0.702331          0.792865     0.1   \n",
      "5        9.248451         0.018657         0.704239          0.794846     0.1   \n",
      "6      100.118109         0.015562         0.704828          0.796316       1   \n",
      "7       21.231059         0.014013         0.704770          0.796598       1   \n",
      "8       97.647666         0.013785         0.703872          0.796872      10   \n",
      "9       41.358622         0.021417         0.703997          0.796837      10   \n",
      "10      20.346499         0.018359         0.703046          0.796869     100   \n",
      "11      51.879921         0.011552         0.703447          0.796867     100   \n",
      "12      12.985975         0.018247         0.703036          0.796864    1000   \n",
      "13      63.449292         0.007964         0.703447          0.796867    1000   \n",
      "\n",
      "   param_penalty                         params  rank_test_score  \\\n",
      "0             l1  {'C': 0.001, 'penalty': 'l1'}               14   \n",
      "1             l2  {'C': 0.001, 'penalty': 'l2'}               13   \n",
      "2             l1   {'C': 0.01, 'penalty': 'l1'}               12   \n",
      "3             l2   {'C': 0.01, 'penalty': 'l2'}               11   \n",
      "4             l1    {'C': 0.1, 'penalty': 'l1'}               10   \n",
      "5             l2    {'C': 0.1, 'penalty': 'l2'}                3   \n",
      "6             l1      {'C': 1, 'penalty': 'l1'}                1   \n",
      "7             l2      {'C': 1, 'penalty': 'l2'}                2   \n",
      "8             l1     {'C': 10, 'penalty': 'l1'}                5   \n",
      "9             l2     {'C': 10, 'penalty': 'l2'}                4   \n",
      "10            l1    {'C': 100, 'penalty': 'l1'}                8   \n",
      "11            l2    {'C': 100, 'penalty': 'l2'}                6   \n",
      "12            l1   {'C': 1000, 'penalty': 'l1'}                9   \n",
      "13            l2   {'C': 1000, 'penalty': 'l2'}                6   \n",
      "\n",
      "    split0_test_score  split0_train_score       ...         split2_test_score  \\\n",
      "0            0.578830            0.743793       ...                  0.648767   \n",
      "1            0.596005            0.782951       ...                  0.643042   \n",
      "2            0.597744            0.793126       ...                  0.657197   \n",
      "3            0.599676            0.803779       ...                  0.677175   \n",
      "4            0.600256            0.810024       ...                  0.690098   \n",
      "5            0.601343            0.811998       ...                  0.689180   \n",
      "6            0.600039            0.813418       ...                  0.689205   \n",
      "7            0.600304            0.813877       ...                  0.689349   \n",
      "8            0.600111            0.814124       ...                  0.689011   \n",
      "9            0.600087            0.814021       ...                  0.689205   \n",
      "10           0.600304            0.814142       ...                  0.689011   \n",
      "11           0.600039            0.814124       ...                  0.689060   \n",
      "12           0.600546            0.814160       ...                  0.688963   \n",
      "13           0.600353            0.814112       ...                  0.689035   \n",
      "\n",
      "    split2_train_score  split3_test_score  split3_train_score  \\\n",
      "0             0.728457           0.691137            0.716675   \n",
      "1             0.768031           0.749499            0.758984   \n",
      "2             0.779801           0.761963            0.769649   \n",
      "3             0.792277           0.764814            0.779746   \n",
      "4             0.799331           0.767978            0.785683   \n",
      "5             0.801330           0.768389            0.787652   \n",
      "6             0.802997           0.767012            0.789161   \n",
      "7             0.803196           0.767230            0.789210   \n",
      "8             0.803516           0.765973            0.789524   \n",
      "9             0.803474           0.766022            0.789542   \n",
      "10            0.803443           0.765442            0.789548   \n",
      "11            0.803492           0.765563            0.789542   \n",
      "12            0.803474           0.765369            0.789518   \n",
      "13            0.803474           0.765418            0.789554   \n",
      "\n",
      "    split4_test_score  split4_train_score  std_fit_time  std_score_time  \\\n",
      "0            0.721381            0.712877      1.301111        0.001366   \n",
      "1            0.746286            0.751913      0.139450        0.010119   \n",
      "2            0.736503            0.762499      3.929177        0.027449   \n",
      "3            0.772351            0.771896      0.660963        0.004592   \n",
      "4            0.785902            0.776636     39.271053        0.009386   \n",
      "5            0.793946            0.778412      1.194199        0.006812   \n",
      "6            0.798754            0.779445     24.876109        0.000474   \n",
      "7            0.798391            0.779698      2.657546        0.001554   \n",
      "8            0.795154            0.779910     17.634962        0.003252   \n",
      "9            0.795444            0.779873      2.705105        0.007757   \n",
      "10           0.791241            0.779885     19.814247        0.006704   \n",
      "11           0.793318            0.779879      3.266144        0.003909   \n",
      "12           0.791144            0.779903      6.225239        0.004292   \n",
      "13           0.793149            0.779885      2.560239        0.001305   \n",
      "\n",
      "    std_test_score  std_train_score  \n",
      "0         0.058678         0.011038  \n",
      "1         0.065773         0.010378  \n",
      "2         0.060154         0.010298  \n",
      "3         0.065738         0.010864  \n",
      "4         0.067943         0.011412  \n",
      "5         0.069665         0.011472  \n",
      "6         0.070976         0.011602  \n",
      "7         0.070890         0.011683  \n",
      "8         0.069835         0.011693  \n",
      "9         0.069906         0.011666  \n",
      "10        0.068655         0.011695  \n",
      "11        0.069289         0.011697  \n",
      "12        0.068554         0.011702  \n",
      "13        0.069124         0.011688  \n",
      "\n",
      "[14 rows x 22 columns]\n"
     ]
    }
   ],
   "source": [
    "print(result)"
   ]
  },
  {
   "cell_type": "code",
   "execution_count": 33,
   "metadata": {},
   "outputs": [],
   "source": [
    "final_model = grid_search.best_estimator_\n",
    "feature_weight = np.abs(grid_search.best_estimator_.coef_[0])"
   ]
  },
  {
   "cell_type": "code",
   "execution_count": null,
   "metadata": {},
   "outputs": [],
   "source": [
    "num_features = num_pipeline.named_steps['selector'].get_feature_names()\n",
    "cat_features = cat_pipeline.named_steps['labeler'].get_feature_names()\n",
    "attributes = num_features + cat_features\n",
    "indices = np.argsort(feature_weight_rf)\n",
    "plt.title('Feature Importances')\n",
    "plt.barh(range(len(indices)), importances[indices], align='center')\n",
    "plt.yticks(range(len(indices)), features[indices])"
   ]
  },
  {
   "cell_type": "markdown",
   "metadata": {},
   "source": [
    "## Evaluate on Test Set"
   ]
  },
  {
   "cell_type": "code",
   "execution_count": 82,
   "metadata": {},
   "outputs": [],
   "source": [
    "test_data = clean.transform(test)\n",
    "y_test = test_data['dec']\n",
    "X_test = test_data.drop(columns=['dec'], axis=1)\n",
    "X_test_tr = full_pipeline.transform(X_test)"
   ]
  },
  {
   "cell_type": "code",
   "execution_count": null,
   "metadata": {},
   "outputs": [],
   "source": [
    "#num_features = num_pipeline.named_steps['selector'].get_feature_names()\n",
    "#cat_features = cat_pipeline.named_steps['labeler'].get_feature_names()"
   ]
  },
  {
   "cell_type": "code",
   "execution_count": 37,
   "metadata": {},
   "outputs": [
    {
     "name": "stdout",
     "output_type": "stream",
     "text": [
      "0.696774692252691\n"
     ]
    }
   ],
   "source": [
    "print(final_model.score(X_test_tr, y_test))"
   ]
  },
  {
   "cell_type": "markdown",
   "metadata": {},
   "source": [
    "## Hyperparameter Grid Search On Decision Tree"
   ]
  },
  {
   "cell_type": "code",
   "execution_count": 83,
   "metadata": {},
   "outputs": [],
   "source": [
    "param_grid_dt = {\"max_depth\": [10, 5, 3, 1, None],\n",
    "        \"max_features\": randint(1, 20),\n",
    "        \"min_samples_leaf\": randint(1, 20),\n",
    "        \"criterion\": [\"gini\", \"entropy\"]}"
   ]
  },
  {
   "cell_type": "code",
   "execution_count": 84,
   "metadata": {},
   "outputs": [
    {
     "name": "stdout",
     "output_type": "stream",
     "text": [
      "   mean_fit_time  mean_score_time  mean_test_score  mean_train_score  \\\n",
      "0       2.001384         0.239409         0.525180          0.610466   \n",
      "1       4.919968         0.237922         0.617900          0.743138   \n",
      "2       4.009336         0.314842         0.623042          0.734575   \n",
      "3       1.691454         0.130752         0.557951          0.578748   \n",
      "4       1.247001         0.060586         0.553210          0.595725   \n",
      "5       1.144782         0.096876         0.509322          0.602275   \n",
      "6      10.359612         0.146603         0.642793          0.978936   \n",
      "7       9.214299         0.048461         0.708796          0.874548   \n",
      "8       2.139269         0.131492         0.525180          0.610466   \n",
      "9       2.082549         0.108281         0.696164          0.804679   \n",
      "\n",
      "  param_criterion param_max_depth param_max_features param_min_samples_leaf  \\\n",
      "0         entropy               1                 14                      8   \n",
      "1            gini               3                 19                      6   \n",
      "2         entropy               3                 11                      1   \n",
      "3         entropy               1                  4                     16   \n",
      "4            gini               1                 12                      8   \n",
      "5            gini               1                  4                      6   \n",
      "6         entropy            None                 16                      5   \n",
      "7         entropy              10                 19                     18   \n",
      "8         entropy               1                 15                      1   \n",
      "9         entropy            None                  1                     19   \n",
      "\n",
      "                                              params  rank_test_score  \\\n",
      "0  {'criterion': 'entropy', 'max_depth': 1, 'max_...                8   \n",
      "1  {'criterion': 'gini', 'max_depth': 3, 'max_fea...                5   \n",
      "2  {'criterion': 'entropy', 'max_depth': 3, 'max_...                4   \n",
      "3  {'criterion': 'entropy', 'max_depth': 1, 'max_...                6   \n",
      "4  {'criterion': 'gini', 'max_depth': 1, 'max_fea...                7   \n",
      "5  {'criterion': 'gini', 'max_depth': 1, 'max_fea...               10   \n",
      "6  {'criterion': 'entropy', 'max_depth': None, 'm...                3   \n",
      "7  {'criterion': 'entropy', 'max_depth': 10, 'max...                1   \n",
      "8  {'criterion': 'entropy', 'max_depth': 1, 'max_...                8   \n",
      "9  {'criterion': 'entropy', 'max_depth': None, 'm...                2   \n",
      "\n",
      "        ...         split2_test_score  split2_train_score  split3_test_score  \\\n",
      "0       ...                  0.504187            0.606689           0.500000   \n",
      "1       ...                  0.546218            0.742974           0.674307   \n",
      "2       ...                  0.557309            0.737109           0.637778   \n",
      "3       ...                  0.521119            0.599144           0.629436   \n",
      "4       ...                  0.521119            0.599144           0.619511   \n",
      "5       ...                  0.521119            0.599144           0.500000   \n",
      "6       ...                  0.570251            0.980047           0.685170   \n",
      "7       ...                  0.684149            0.880388           0.786581   \n",
      "8       ...                  0.504187            0.606689           0.500000   \n",
      "9       ...                  0.642700            0.832977           0.742728   \n",
      "\n",
      "   split3_train_score  split4_test_score  split4_train_score  std_fit_time  \\\n",
      "0            0.607736           0.500227            0.607679      0.257269   \n",
      "1            0.726832           0.636481            0.735727      0.608208   \n",
      "2            0.712441           0.676672            0.731836      0.893743   \n",
      "3            0.572059           0.501875            0.539519      0.255301   \n",
      "4            0.584124           0.597167            0.589710      0.249291   \n",
      "5            0.607736           0.500227            0.607679      0.168534   \n",
      "6            0.979119           0.751743            0.976514      0.890435   \n",
      "7            0.872577           0.832770            0.864127      0.375718   \n",
      "8            0.607736           0.500227            0.607679      0.342243   \n",
      "9            0.783856           0.778087            0.826351      0.673638   \n",
      "\n",
      "   std_score_time  std_test_score  std_train_score  \n",
      "0        0.069060        0.040214         0.018333  \n",
      "1        0.048432        0.042237         0.011470  \n",
      "2        0.028595        0.052248         0.012496  \n",
      "3        0.116345        0.049866         0.021774  \n",
      "4        0.022986        0.059650         0.008909  \n",
      "5        0.014674        0.038340         0.008769  \n",
      "6        0.068034        0.067694         0.001325  \n",
      "7        0.014180        0.087749         0.005805  \n",
      "8        0.059506        0.040214         0.018333  \n",
      "9        0.035451        0.056513         0.026188  \n",
      "\n",
      "[10 rows x 24 columns]\n"
     ]
    }
   ],
   "source": [
    "dec_tree = DecisionTreeClassifier()\n",
    "grid_search_dt = RandomizedSearchCV(dec_tree, param_grid_dt, cv=5, scoring='roc_auc', n_jobs=-1)\n",
    "grid_search_dt.fit(X_train_tr, y_train)\n",
    "result = pd.DataFrame(grid_search_dt.cv_results_)\n",
    "print(result)"
   ]
  },
  {
   "cell_type": "code",
   "execution_count": 86,
   "metadata": {},
   "outputs": [
    {
     "name": "stdout",
     "output_type": "stream",
     "text": [
      "0.7174522194523354\n"
     ]
    }
   ],
   "source": [
    "final_model_dt = grid_search_dt.best_estimator_\n",
    "print(final_model_dt.score(X_test_tr, y_test))"
   ]
  },
  {
   "cell_type": "code",
   "execution_count": 105,
   "metadata": {},
   "outputs": [
    {
     "data": {
      "text/plain": [
       "Text(0.5,0,'Relative Importance')"
      ]
     },
     "execution_count": 105,
     "metadata": {},
     "output_type": "execute_result"
    },
    {
     "data": {
      "image/png": "[encoded data removed]",
      "text/plain": [
       "<Figure size 432x288 with 1 Axes>"
      ]
     },
     "metadata": {},
     "output_type": "display_data"
    }
   ],
   "source": [
    "feature_weight_dt = grid_search_dt.best_estimator_.feature_importances_\n",
    "num_features = num_pipeline.named_steps['selector'].get_feature_names()\n",
    "cat_features = cat_pipeline.named_steps['selector'].get_feature_names()\n",
    "attributes = num_features + cat_features\n",
    "indices = np.argsort(feature_weight_dt)\n",
    "ordered_attributes = [attributes[i] for i in indices]\n",
    "\n",
    "plt.figure(1)\n",
    "plt.title('Feature Importances')\n",
    "plt.barh(range(len(indices)), feature_weight_dt[indices], align='center')\n",
    "plt.yticks(range(len(indices)), ordered_attributes)\n",
    "plt.xlabel('Relative Importance')"
   ]
  },
  {
   "cell_type": "markdown",
   "metadata": {},
   "source": [
    "## Hyperparameter Grid Search On Decision Tree"
   ]
  },
  {
   "cell_type": "code",
   "execution_count": 106,
   "metadata": {},
   "outputs": [],
   "source": [
    "param_grid_rf = {\n",
    "    'n_estimators': [100, 300, 500],\n",
    "    'max_features': [2, 4, 6, 8, 10],\n",
    "    'bootstrap': [False, True],\n",
    "    'max_depth':[2, 4, 6, 8]\n",
    "}"
   ]
  },
  {
   "cell_type": "code",
   "execution_count": null,
   "metadata": {},
   "outputs": [],
   "source": [
    "rf = RandomForestClassifier()\n",
    "grid_search_rf = RandomizedSearchCV(rf, param_grid_rf, cv=5, scoring='roc_auc', n_jobs=-1)\n",
    "grid_search_rf.fit(X_train_tr, y_train)\n",
    "result = pd.DataFrame(grid_search_rf.cv_results_)\n",
    "print(result)"
   ]
  },
  {
   "cell_type": "markdown",
   "metadata": {},
   "source": [
    "## Evaluate Random Forest Classifier on Test Set"
   ]
  },
  {
   "cell_type": "code",
   "execution_count": null,
   "metadata": {},
   "outputs": [],
   "source": [
    "final_model_rf = grid_search_rf.best_estimator_\n",
    "print(final_model_rf.score(X_test_tr, y_test))"
   ]
  },
  {
   "cell_type": "code",
   "execution_count": null,
   "metadata": {},
   "outputs": [],
   "source": [
    "feature_weight_rf = grid_search_rf.best_estimator_.feature_importances_\n",
    "indices_rf = np.argsort(feature_weight_rf)\n",
    "ordered_attributes_rf = [attributes[i] for i in indices_rf]\n",
    "plt.figure(1)\n",
    "plt.title('Feature Importances')\n",
    "plt.barh(range(len(indices_rf)), feature_weight_rf[indices_rf], align='center')\n",
    "plt.yticks(range(len(indices_rf)), ordered_attributes_rf)\n",
    "plt.xlabel('Relative Importance')"
   ]
  }
 ],
 "metadata": {
  "kernelspec": {
   "display_name": "Python 3",
   "language": "python",
   "name": "python3"
  },
  "language_info": {
   "codemirror_mode": {
    "name": "ipython",
    "version": 3
   },
   "file_extension": ".py",
   "mimetype": "text/x-python",
   "name": "python",
   "nbconvert_exporter": "python",
   "pygments_lexer": "ipython3",
   "version": "3.6.4"
  }
 },
 "nbformat": 4,
 "nbformat_minor": 2
}
