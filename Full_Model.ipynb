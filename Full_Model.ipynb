{
 "cells": [
  {
   "cell_type": "code",
   "execution_count": 1,
   "metadata": {},
   "outputs": [],
   "source": [
    "import pandas as pd\n",
    "import numpy as np\n",
    "import warnings; \n",
    "import matplotlib.pyplot as plt\n",
    "warnings.simplefilter('ignore')\n",
    "#from sklearn.preprocessing import CategoricalEncoder\n",
    "from sklearn.linear_model import LogisticRegression\n",
    "from sklearn.model_selection import cross_val_score, train_test_split\n",
    "from sklearn.base import BaseEstimator, TransformerMixin\n",
    "from sklearn.pipeline import Pipeline, FeatureUnion\n",
    "from sklearn.preprocessing import LabelEncoder, OneHotEncoder, StandardScaler\n",
    "from sklearn.tree import DecisionTreeClassifier\n",
    "from sklearn.model_selection import GridSearchCV, RandomizedSearchCV\n",
    "from scipy.stats import randint\n",
    "from sklearn.ensemble import RandomForestClassifier\n",
    "\n",
    "#note: should probably make attorney binary numeric--want one 0 1 feature, not a yes feature and a no features"
   ]
  },
  {
   "cell_type": "markdown",
   "metadata": {},
   "source": [
    "## Creating Test/Train Sets"
   ]
  },
  {
   "cell_type": "code",
   "execution_count": 6,
   "metadata": {},
   "outputs": [],
   "source": [
    "# this is to toggle the 2 (asylum: full, any) x 2 (predictability: early, late) models we may have\n",
    "\n",
    "flag_full = 1\n",
    "flag_early = 1\n",
    "\n",
    "if flag_early:\n",
    "    predtext = 'early'\n",
    "else:\n",
    "    predtext = 'late'\n",
    "    \n",
    "if flag_full:\n",
    "    asylumtext = 'full'\n",
    "else:\n",
    "    asylumtext = 'any'"
   ]
  },
  {
   "cell_type": "code",
   "execution_count": 7,
   "metadata": {},
   "outputs": [],
   "source": [
    "# loading appropriate files\n",
    "path = '/data/WorkData/spatialtemporal/'\n",
    "file = pd.read_csv(path + 'merged_last_hearing.csv')\n",
    "timefile = pd.read_csv(path + 'gr_lastyear_' + predtext + '.csv')\n",
    "test_cases = pd.read_csv(path + 'test_cases_last_hearing.csv', header=None)"
   ]
  },
  {
   "cell_type": "code",
   "execution_count": 8,
   "metadata": {},
   "outputs": [
    {
     "data": {
      "text/plain": [
       "idnproceeding                       float64\n",
       "idncase                             float64\n",
       "nat_num_last1yr_early               float64\n",
       "nat_gr_last1yr_early                float64\n",
       "nat_dmy_last1yr_early               float64\n",
       "tracid_num_last1yr_early            float64\n",
       "tracid_gr_last1yr_early             float64\n",
       "tracid_dmy_last1yr_early            float64\n",
       "base_city_code_num_last1yr_early    float64\n",
       "base_city_code_gr_last1yr_early     float64\n",
       "base_city_code_dmy_last1yr_early    float64\n",
       "dtype: object"
      ]
     },
     "execution_count": 8,
     "metadata": {},
     "output_type": "execute_result"
    }
   ],
   "source": [
    "timefile.dtypes"
   ]
  },
  {
   "cell_type": "code",
   "execution_count": 5,
   "metadata": {},
   "outputs": [],
   "source": [
    "# merge files\n",
    "mergedfile = pd.merge(file, timefile, on=['idnproceeding','idncase'], how='left')"
   ]
  },
  {
   "cell_type": "code",
   "execution_count": 60,
   "metadata": {},
   "outputs": [],
   "source": [
    "# get training data set\n",
    "test_cases = test_cases.rename(columns={0:'num'})\n",
    "train = mergedfile[~mergedfile.idncase.isin(test_cases.num)]"
   ]
  },
  {
   "cell_type": "code",
   "execution_count": 64,
   "metadata": {},
   "outputs": [],
   "source": [
    "if flag_early:\n",
    "    cols = ['idncase', 'idnproceeding','numAppsPerProc','dec_code','adj_date','osc_date','comp_date',\n",
    "            'notice_desc','adj_time_start2','adj_time_stop2','durationHearing','averageHearingDur',\n",
    "            'hearingDayOfWeek', \n",
    "            'caseDuration','numProcPerCase','numHearingsPerProc','durationFirstLastHearing','hearingYear',\n",
    "            'hearingMonth','sched_type','adj_medium','adj_rsn_desc']\n",
    "else:\n",
    "    cols = ['idncase', 'idnproceeding','numAppsPerProc','dec_code','adj_date','osc_date','comp_date',\n",
    "            'notice_desc','adj_time_start2','adj_time_stop2','durationHearing','averageHearingDur',\n",
    "            'hearingDayOfWeek','tracid_num_last1yr_late.1']\n",
    "\n",
    "class Cleaning(BaseEstimator, TransformerMixin):\n",
    "    def fit(self, X, y=None):\n",
    "        return self\n",
    "    def transform(self, X):\n",
    "        X = X.drop(columns=cols)\n",
    "            \n",
    "        #X.loc[(X[\"dec\"] == 'DENY'),'dec'] = 0\n",
    "        #X.loc[(X[\"dec\"] == 'GRANT'),'dec'] = 1\n",
    "        #X['comp_date'] = pd.to_datetime(X['comp_date'],infer_datetime_format = True)\n",
    "        #startdate = np.datetime64('1984-07-11')\n",
    "        #X['comp_date_in_days'] = X['comp_date'].apply(lambda x: (x - startdate).days)\n",
    "        #X = X.drop(columns=['comp_date'], axis=1)\n",
    "        return X\n",
    "    "
   ]
  },
  {
   "cell_type": "code",
   "execution_count": 65,
   "metadata": {},
   "outputs": [],
   "source": [
    "clean = Cleaning()\n",
    "train_data = clean.transform(train)"
   ]
  },
  {
   "cell_type": "code",
   "execution_count": 66,
   "metadata": {},
   "outputs": [],
   "source": [
    "y_train = train_data['dec']\n",
    "X_train = train_data.drop(columns=['dec'], axis=1)"
   ]
  },
  {
   "cell_type": "code",
   "execution_count": 67,
   "metadata": {},
   "outputs": [
    {
     "ename": "AttributeError",
     "evalue": "'DataFrame' object has no attribute 'sched_type'",
     "output_type": "error",
     "traceback": [
      "\u001b[0;31m---------------------------------------------------------------------------\u001b[0m",
      "\u001b[0;31mAttributeError\u001b[0m                            Traceback (most recent call last)",
      "\u001b[0;32m<ipython-input-67-8a59d702bdf7>\u001b[0m in \u001b[0;36m<module>\u001b[0;34m()\u001b[0m\n\u001b[0;32m----> 1\u001b[0;31m \u001b[0mX_train\u001b[0m\u001b[0;34m.\u001b[0m\u001b[0msched_type\u001b[0m\u001b[0;34m.\u001b[0m\u001b[0munique\u001b[0m\u001b[0;34m(\u001b[0m\u001b[0;34m)\u001b[0m\u001b[0;34m\u001b[0m\u001b[0m\n\u001b[0m",
      "\u001b[0;32m/usr/local/anaconda/anaconda3/lib/python3.6/site-packages/pandas/core/generic.py\u001b[0m in \u001b[0;36m__getattr__\u001b[0;34m(self, name)\u001b[0m\n\u001b[1;32m   3612\u001b[0m             \u001b[0;32mif\u001b[0m \u001b[0mname\u001b[0m \u001b[0;32min\u001b[0m \u001b[0mself\u001b[0m\u001b[0;34m.\u001b[0m\u001b[0m_info_axis\u001b[0m\u001b[0;34m:\u001b[0m\u001b[0;34m\u001b[0m\u001b[0m\n\u001b[1;32m   3613\u001b[0m                 \u001b[0;32mreturn\u001b[0m \u001b[0mself\u001b[0m\u001b[0;34m[\u001b[0m\u001b[0mname\u001b[0m\u001b[0;34m]\u001b[0m\u001b[0;34m\u001b[0m\u001b[0m\n\u001b[0;32m-> 3614\u001b[0;31m             \u001b[0;32mreturn\u001b[0m \u001b[0mobject\u001b[0m\u001b[0;34m.\u001b[0m\u001b[0m__getattribute__\u001b[0m\u001b[0;34m(\u001b[0m\u001b[0mself\u001b[0m\u001b[0;34m,\u001b[0m \u001b[0mname\u001b[0m\u001b[0;34m)\u001b[0m\u001b[0;34m\u001b[0m\u001b[0m\n\u001b[0m\u001b[1;32m   3615\u001b[0m \u001b[0;34m\u001b[0m\u001b[0m\n\u001b[1;32m   3616\u001b[0m     \u001b[0;32mdef\u001b[0m \u001b[0m__setattr__\u001b[0m\u001b[0;34m(\u001b[0m\u001b[0mself\u001b[0m\u001b[0;34m,\u001b[0m \u001b[0mname\u001b[0m\u001b[0;34m,\u001b[0m \u001b[0mvalue\u001b[0m\u001b[0;34m)\u001b[0m\u001b[0;34m:\u001b[0m\u001b[0;34m\u001b[0m\u001b[0m\n",
      "\u001b[0;31mAttributeError\u001b[0m: 'DataFrame' object has no attribute 'sched_type'"
     ]
    }
   ],
   "source": [
    "# WHY DO WE DO THIS?Å\n",
    "X_train.sched_type.unique()"
   ]
  },
  {
   "cell_type": "markdown",
   "metadata": {},
   "source": [
    "## Generating Pipeline"
   ]
  },
  {
   "cell_type": "code",
   "execution_count": 68,
   "metadata": {},
   "outputs": [],
   "source": [
    "class Selector(BaseEstimator, TransformerMixin):\n",
    "    def __init__(self, dtype):\n",
    "        self.dtype = dtype\n",
    "    def fit(self, X, y=None):\n",
    "        return self\n",
    "    def transform(self, X):\n",
    "        num_frame = X.select_dtypes(include=[self.dtype])\n",
    "        self.names = num_frame.columns\n",
    "        return num_frame\n",
    "    def get_feature_names(self):\n",
    "        return self.names.tolist()"
   ]
  },
  {
   "cell_type": "code",
   "execution_count": 69,
   "metadata": {},
   "outputs": [],
   "source": [
    "class CustomLabelEncoder(BaseEstimator, TransformerMixin):\n",
    "    def fit(self, X, y=None):\n",
    "        return self\n",
    "    def transform(self, X):\n",
    "        #X = np.asarray(pd.get_dummies(X))\n",
    "        #self.names = X.columns \n",
    "        self.names = np.array(0)\n",
    "        self.orig_classes = np.array(0)\n",
    "        for col in X.columns:\n",
    "            le = LabelEncoder()\n",
    "            X[col] = le.fit_transform(X[col])\n",
    "            #cat_frame = X.apply(le.fit_transform)\n",
    "            self.names = np.append(self.names, le.classes_)\n",
    "            c_list = np.array(0)\n",
    "            for f in le.classes_:\n",
    "                c_list = np.append(c_list,col)\n",
    "            c_list = c_list[1:]\n",
    "            self.orig_classes = np.append(self.orig_classes, c_list)\n",
    "        self.names = self.names[1:]\n",
    "        self.orig_classes =  self.orig_classes[1:]\n",
    "    \n",
    "        return X\n",
    "    def get_feature_names(self):\n",
    "        return self.names.tolist()\n",
    "    def get_orig_classes(self): \n",
    "        # returns original variable type of the feature, i.e. nat\n",
    "        return self.orig_classes.tolist()"
   ]
  },
  {
   "cell_type": "code",
   "execution_count": 79,
   "metadata": {},
   "outputs": [],
   "source": [
    "# ===== DELETE THIS CELL ONCE LOADING FILES ARE UPDATED!! =====\n",
    "\n",
    "# changing variables to appropriate types\n",
    "# was erroring before. ASPEN: put into cleaning pipeline\n",
    " \n",
    "    \n",
    "# strings\n",
    "X_train['nat'] = X_train['nat'].astype('str')\n",
    "X_train['case_type'] = X_train['case_type'].astype('str')\n",
    "X_train['c_asy_type'] = X_train['c_asy_type'].astype('str')\n",
    "X_train['base_city_code'] = X_train['base_city_code'].astype('str')\n",
    "X_train['hearing_loc_code'] = X_train['hearing_loc_code'].astype('str')\n",
    "X_train['hearing_city'] = X_train['hearing_city'].astype('str')\n",
    "X_train['base_city'] = X_train['base_city'].astype('str')\n",
    "X_train['lang_hearing'] = X_train['lang_hearing'].astype('str')\n",
    "X_train['pres_aff'] = X_train['pres_aff'].astype('str')\n",
    "\n",
    "if not flag_early:\n",
    "    X_train['adj_medium'] = X_train['adj_medium'].astype('str')\n",
    "    X_train['sched_type'] = X_train['sched_type'].astype('str')\n",
    "    X_train['caseDuration'] = X_train['caseDuration'].astype('float64')\n",
    "    X_train['numProcPerCase'] = X_train['numProcPerCase'].astype('float64')\n",
    "    X_train['numHearingsPerProc'] = X_train['numHearingsPerProc'].astype('float64')\n",
    "    X_train['durationFirstLastHearing'] = X_train['durationFirstLastHearing'].astype('float64')\n",
    "    X_train['hearingMonth'] = X_train['hearingMonth'].astype('float64')\n",
    "    X_train['hearingYear'] = X_train['hearingYear'].astype('float64')\n"
   ]
  },
  {
   "cell_type": "code",
   "execution_count": 71,
   "metadata": {},
   "outputs": [],
   "source": [
    "num_pipeline = Pipeline([\n",
    "        ('selector', Selector(np.number)),\n",
    "        ('scaler', StandardScaler()),\n",
    "])\n",
    "\n",
    "cat_pipeline = Pipeline([\n",
    "        ('selector', Selector('object')),\n",
    "        ('labeler', CustomLabelEncoder())\n",
    "        #('encoder', OneHotEncoder()),\n",
    "]) \n",
    "\n",
    "full_pipeline = FeatureUnion(transformer_list=[ \n",
    "        ('numerical', num_pipeline),  \n",
    "        ('categorical', cat_pipeline)   \n",
    "])  "
   ]
  },
  {
   "cell_type": "code",
   "execution_count": 72,
   "metadata": {},
   "outputs": [],
   "source": [
    "cat_pipeline_reg = Pipeline([\n",
    "        ('selector', Selector('object')),\n",
    "        ('labeler', CustomLabelEncoder()),\n",
    "        ('encoder', OneHotEncoder())\n",
    "]) \n",
    "\n",
    "full_pipeline_reg = FeatureUnion(transformer_list=[ \n",
    "        ('numerical', num_pipeline),  \n",
    "        ('categorical', cat_pipeline_reg)   \n",
    "])  "
   ]
  },
  {
   "cell_type": "markdown",
   "metadata": {},
   "source": [
    "## Pipeline-for regression models\n",
    "### (categorical variables one hot encoded)"
   ]
  },
  {
   "cell_type": "code",
   "execution_count": 18,
   "metadata": {},
   "outputs": [],
   "source": [
    "\n",
    "#X_train = X_train[['nat','case_type','c_asy_type','base_city_code','hearing_loc_code']]\n",
    "#X_train.head(5)"
   ]
  },
  {
   "cell_type": "code",
   "execution_count": 80,
   "metadata": {},
   "outputs": [],
   "source": [
    "X_train_tr_reg = full_pipeline_reg.fit_transform(X_train)"
   ]
  },
  {
   "cell_type": "markdown",
   "metadata": {},
   "source": [
    "## Hyperparameter Grid Search On Logistic Regression"
   ]
  },
  {
   "cell_type": "code",
   "execution_count": 81,
   "metadata": {},
   "outputs": [],
   "source": [
    "c_vec = 10**np.arange(-3,5).astype('float64')\n",
    "param_grid = {'penalty': ['l1','l2'], 'C': c_vec}"
   ]
  },
  {
   "cell_type": "code",
   "execution_count": 82,
   "metadata": {},
   "outputs": [],
   "source": [
    "log_reg = LogisticRegression()\n",
    "grid_search = GridSearchCV(log_reg, param_grid, cv=5, scoring='accuracy', n_jobs=-1)\n",
    "#simplified for testing/writing code\n",
    "#grid_search = GridSearchCV(log_reg, param_grid, cv=5, scoring='accuracy', n_jobs=-1,penalty = 'l1')\n",
    "\n",
    "grid_search.fit(X_train_tr_reg, y_train)\n",
    "result = pd.DataFrame(grid_search.cv_results_)"
   ]
  },
  {
   "cell_type": "code",
   "execution_count": 83,
   "metadata": {},
   "outputs": [
    {
     "name": "stdout",
     "output_type": "stream",
     "text": [
      "    mean_fit_time  mean_score_time  mean_test_score  mean_train_score param_C  \\\n",
      "0       15.844636         0.045373         0.681483          0.750957   0.001   \n",
      "1        7.829264         0.044171         0.664485          0.760448   0.001   \n",
      "2       57.288725         0.051625         0.654665          0.762684    0.01   \n",
      "3       16.793991         0.048411         0.648542          0.765589    0.01   \n",
      "4      165.350966         0.042591         0.644581          0.766633     0.1   \n",
      "5       35.167538         0.051095         0.643981          0.767210     0.1   \n",
      "6      267.230272         0.041521         0.643409          0.767496       1   \n",
      "7       73.661618         0.054070         0.643375          0.767522       1   \n",
      "8      208.500463         0.042602         0.643345          0.767628      10   \n",
      "9      135.088985         0.046818         0.643400          0.767623      10   \n",
      "10     116.338254         0.042226         0.643202          0.767616     100   \n",
      "11     200.225213         0.035367         0.643286          0.767620     100   \n",
      "12      16.740298         0.042507         0.643222          0.767614    1000   \n",
      "13     208.580927         0.020013         0.643281          0.767623    1000   \n",
      "14      32.566746         0.040962         0.643222          0.767616   10000   \n",
      "15     141.932574         0.022786         0.643293          0.767632   10000   \n",
      "\n",
      "   param_penalty                           params  rank_test_score  \\\n",
      "0             l1    {'C': 0.001, 'penalty': 'l1'}                1   \n",
      "1             l2    {'C': 0.001, 'penalty': 'l2'}                2   \n",
      "2             l1     {'C': 0.01, 'penalty': 'l1'}                3   \n",
      "3             l2     {'C': 0.01, 'penalty': 'l2'}                4   \n",
      "4             l1      {'C': 0.1, 'penalty': 'l1'}                5   \n",
      "5             l2      {'C': 0.1, 'penalty': 'l2'}                6   \n",
      "6             l1      {'C': 1.0, 'penalty': 'l1'}                7   \n",
      "7             l2      {'C': 1.0, 'penalty': 'l2'}                9   \n",
      "8             l1     {'C': 10.0, 'penalty': 'l1'}               10   \n",
      "9             l2     {'C': 10.0, 'penalty': 'l2'}                8   \n",
      "10            l1    {'C': 100.0, 'penalty': 'l1'}               16   \n",
      "11            l2    {'C': 100.0, 'penalty': 'l2'}               12   \n",
      "12            l1   {'C': 1000.0, 'penalty': 'l1'}               14   \n",
      "13            l2   {'C': 1000.0, 'penalty': 'l2'}               13   \n",
      "14            l1  {'C': 10000.0, 'penalty': 'l1'}               14   \n",
      "15            l2  {'C': 10000.0, 'penalty': 'l2'}               11   \n",
      "\n",
      "    split0_test_score  split0_train_score       ...         split2_test_score  \\\n",
      "0            0.635890            0.764879       ...                  0.713047   \n",
      "1            0.633690            0.771521       ...                  0.702117   \n",
      "2            0.634249            0.772701       ...                  0.696520   \n",
      "3            0.635252            0.774926       ...                  0.695928   \n",
      "4            0.635491            0.775983       ...                  0.693945   \n",
      "5            0.635959            0.776542       ...                  0.693432   \n",
      "6            0.636266            0.776738       ...                  0.692736   \n",
      "7            0.636335            0.776807       ...                  0.692600   \n",
      "8            0.636357            0.776838       ...                  0.692588   \n",
      "9            0.636437            0.776787       ...                  0.692577   \n",
      "10           0.636335            0.776810       ...                  0.692463   \n",
      "11           0.636312            0.776850       ...                  0.692451   \n",
      "12           0.636323            0.776798       ...                  0.692508   \n",
      "13           0.636278            0.776798       ...                  0.692474   \n",
      "14           0.636346            0.776815       ...                  0.692497   \n",
      "15           0.636289            0.776804       ...                  0.692429   \n",
      "\n",
      "    split2_train_score  split3_test_score  split3_train_score  \\\n",
      "0             0.745886           0.657473            0.755910   \n",
      "1             0.753702           0.638108            0.762888   \n",
      "2             0.756674           0.631384            0.765054   \n",
      "3             0.759754           0.627554            0.767875   \n",
      "4             0.760563           0.626198            0.769168   \n",
      "5             0.761227           0.625537            0.769556   \n",
      "6             0.761498           0.625150            0.769701   \n",
      "7             0.761504           0.624899            0.769650   \n",
      "8             0.761623           0.624842            0.769807   \n",
      "9             0.761649           0.625036            0.769798   \n",
      "10            0.761640           0.624876            0.769792   \n",
      "11            0.761643           0.624865            0.769761   \n",
      "12            0.761666           0.624876            0.769798   \n",
      "13            0.761680           0.624876            0.769787   \n",
      "14            0.761652           0.624887            0.769789   \n",
      "15            0.761669           0.624887            0.769832   \n",
      "\n",
      "    split4_test_score  split4_train_score  std_fit_time  std_score_time  \\\n",
      "0            0.736625            0.737675     13.205192        0.010847   \n",
      "1            0.720634            0.750033      1.356845        0.009435   \n",
      "2            0.709567            0.751665     35.484749        0.014363   \n",
      "3            0.687718            0.755523      1.622812        0.012115   \n",
      "4            0.677050            0.757056     53.201005        0.000486   \n",
      "5            0.674280            0.757581      2.333442        0.010828   \n",
      "6            0.672593            0.757937     82.445147        0.002778   \n",
      "7            0.672616            0.757994      6.176418        0.020548   \n",
      "8            0.672468            0.758082     33.352531        0.002492   \n",
      "9            0.672457            0.758079     15.336531        0.010621   \n",
      "10           0.671773            0.758076     33.981521        0.001850   \n",
      "11           0.672229            0.758074     26.691039        0.004751   \n",
      "12           0.671910            0.758054      5.581310        0.003248   \n",
      "13           0.672194            0.758062     20.148963        0.003036   \n",
      "14           0.671807            0.758057     20.800790        0.003348   \n",
      "15           0.672297            0.758074     14.604919        0.001198   \n",
      "\n",
      "    std_test_score  std_train_score  \n",
      "0         0.037375         0.009173  \n",
      "1         0.038866         0.007692  \n",
      "2         0.041328         0.007550  \n",
      "3         0.037764         0.007015  \n",
      "4         0.037058         0.006878  \n",
      "5         0.036351         0.006878  \n",
      "6         0.036027         0.006849  \n",
      "7         0.035980         0.006853  \n",
      "8         0.035944         0.006842  \n",
      "9         0.035909         0.006825  \n",
      "10        0.035768         0.006829  \n",
      "11        0.035837         0.006839  \n",
      "12        0.035823         0.006827  \n",
      "13        0.035834         0.006826  \n",
      "14        0.035778         0.006834  \n",
      "15        0.035844         0.006828  \n",
      "\n",
      "[16 rows x 22 columns]\n"
     ]
    }
   ],
   "source": [
    "print(result)"
   ]
  },
  {
   "cell_type": "code",
   "execution_count": 86,
   "metadata": {},
   "outputs": [],
   "source": [
    "final_model = grid_search.best_estimator_\n",
    "feature_weight = np.abs(grid_search.best_estimator_.coef_[0])"
   ]
  },
  {
   "cell_type": "code",
   "execution_count": 87,
   "metadata": {},
   "outputs": [
    {
     "data": {
      "text/plain": [
       "([<matplotlib.axis.YTick at 0x7f46f3687048>,\n",
       "  <matplotlib.axis.YTick at 0x7f46f23e4940>,\n",
       "  <matplotlib.axis.YTick at 0x7f46f2eef198>,\n",
       "  <matplotlib.axis.YTick at 0x7f46eecbf550>,\n",
       "  <matplotlib.axis.YTick at 0x7f46eecbf1d0>,\n",
       "  <matplotlib.axis.YTick at 0x7f46eecbe710>,\n",
       "  <matplotlib.axis.YTick at 0x7f46eecbe518>,\n",
       "  <matplotlib.axis.YTick at 0x7f46eecbe9e8>,\n",
       "  <matplotlib.axis.YTick at 0x7f46eeda8f60>,\n",
       "  <matplotlib.axis.YTick at 0x7f46eeda8e48>,\n",
       "  <matplotlib.axis.YTick at 0x7f46eeda8320>,\n",
       "  <matplotlib.axis.YTick at 0x7f46eeda7ba8>,\n",
       "  <matplotlib.axis.YTick at 0x7f46eeda7be0>,\n",
       "  <matplotlib.axis.YTick at 0x7f46eeda8a20>,\n",
       "  <matplotlib.axis.YTick at 0x7f46eecbe898>,\n",
       "  <matplotlib.axis.YTick at 0x7f46eeda75c0>,\n",
       "  <matplotlib.axis.YTick at 0x7f46eeee17b8>,\n",
       "  <matplotlib.axis.YTick at 0x7f46eeee1e10>,\n",
       "  <matplotlib.axis.YTick at 0x7f46eeee1a90>,\n",
       "  <matplotlib.axis.YTick at 0x7f46ef1624e0>],\n",
       " <a list of 20 Text yticklabel objects>)"
      ]
     },
     "execution_count": 87,
     "metadata": {},
     "output_type": "execute_result"
    },
    {
     "data": {
      "image/png": "[encoded data removed]",
      "text/plain": [
       "<Figure size 432x288 with 1 Axes>"
      ]
     },
     "metadata": {},
     "output_type": "display_data"
    }
   ],
   "source": [
    "# simplify feature weights--sum together all weights for a given category (all nationalities)\n",
    "\n",
    "num_features = num_pipeline.named_steps['selector'].get_feature_names()\n",
    "cat_features = cat_pipeline_reg.named_steps['labeler'].get_feature_names()\n",
    "cat_classes = cat_pipeline_reg.named_steps['labeler'].get_orig_classes()\n",
    "attributes = np.append(num_features,pd.unique(cat_classes)) \n",
    "attributes_long = num_features + cat_classes #for each of >1000 feature, lists original feature name, i.e. nat or tracid\n",
    "feature_weight_simple = np.zeros(len(attributes))\n",
    "for i in range(len(attributes)):\n",
    "    weights = feature_weight[[x == attributes[i] for x in attributes_long]]\n",
    "    feature_weight_simple[i] = np.mean(weights)\n",
    "    \n",
    "indices = np.argsort(feature_weight_simple)\n",
    "plt.title('Feature Importances')\n",
    "plt.barh(range(len(indices)), feature_weight_simple[indices], align='center')\n",
    "plt.yticks(range(len(indices)), [attributes[i] for i in indices])\n"
   ]
  },
  {
   "cell_type": "markdown",
   "metadata": {},
   "source": [
    "## Evaluate on Test Set"
   ]
  },
  {
   "cell_type": "code",
   "execution_count": null,
   "metadata": {},
   "outputs": [],
   "source": [
    "test = mergedfile[mergedfile.idncase.isin(test_cases.num)] #don't need this now\n",
    "test_data = clean.transform(test)\n",
    "y_test = test_data['dec']\n",
    "X_test = test_data.drop(columns=['dec'], axis=1)\n",
    "X_test_tr = full_pipeline.transform(X_test)"
   ]
  },
  {
   "cell_type": "code",
   "execution_count": null,
   "metadata": {},
   "outputs": [],
   "source": [
    "#num_features = num_pipeline.named_steps['selector'].get_feature_names()\n",
    "#cat_features = cat_pipeline.named_steps['labeler'].get_feature_names()"
   ]
  },
  {
   "cell_type": "code",
   "execution_count": null,
   "metadata": {},
   "outputs": [],
   "source": [
    "print(final_model.score(X_test_tr, y_test))"
   ]
  },
  {
   "cell_type": "markdown",
   "metadata": {},
   "source": [
    "## Hyperparameter Grid Search On Decision Tree"
   ]
  },
  {
   "cell_type": "code",
   "execution_count": 88,
   "metadata": {},
   "outputs": [],
   "source": [
    "X_train_tr = full_pipeline.fit_transform(X_train)"
   ]
  },
  {
   "cell_type": "code",
   "execution_count": 89,
   "metadata": {},
   "outputs": [],
   "source": [
    "param_grid_dt = {\"max_depth\": [10, 5, 3, 1, None],\n",
    "        \"max_features\": randint(1, 20),\n",
    "        \"min_samples_leaf\": randint(1, 20),\n",
    "        \"criterion\": [\"gini\", \"entropy\"]}"
   ]
  },
  {
   "cell_type": "code",
   "execution_count": 90,
   "metadata": {},
   "outputs": [
    {
     "name": "stdout",
     "output_type": "stream",
     "text": [
      "   mean_fit_time  mean_score_time  mean_test_score  mean_train_score  \\\n",
      "0       2.354762         0.065968         0.623568          0.839373   \n",
      "1       6.058885         0.128149         0.482921          0.992855   \n",
      "2       1.743527         0.083743         0.599375          0.747695   \n",
      "3       8.080369         0.071348         0.595161          0.853013   \n",
      "4       1.468466         0.067361         0.552303          0.612737   \n",
      "5       1.480776         0.058937         0.646645          0.714874   \n",
      "6       3.491362         0.061570         0.711854          0.805664   \n",
      "7       6.554572         0.064179         0.598632          0.850842   \n",
      "8       2.340130         0.053034         0.756172          0.780553   \n",
      "9       2.193084         0.088294         0.692190          0.770113   \n",
      "\n",
      "  param_criterion param_max_depth param_max_features param_min_samples_leaf  \\\n",
      "0         entropy              10                  5                     10   \n",
      "1         entropy            None                  6                      2   \n",
      "2            gini               5                  2                     15   \n",
      "3         entropy              10                 18                     18   \n",
      "4            gini               1                 11                     17   \n",
      "5            gini               3                  3                     14   \n",
      "6         entropy               5                 13                     16   \n",
      "7         entropy              10                 14                      7   \n",
      "8            gini               3                 12                     16   \n",
      "9         entropy               3                 11                      2   \n",
      "\n",
      "                                              params  rank_test_score  \\\n",
      "0  {'criterion': 'entropy', 'max_depth': 10, 'max...                5   \n",
      "1  {'criterion': 'entropy', 'max_depth': None, 'm...               10   \n",
      "2  {'criterion': 'gini', 'max_depth': 5, 'max_fea...                6   \n",
      "3  {'criterion': 'entropy', 'max_depth': 10, 'max...                8   \n",
      "4  {'criterion': 'gini', 'max_depth': 1, 'max_fea...                9   \n",
      "5  {'criterion': 'gini', 'max_depth': 3, 'max_fea...                4   \n",
      "6  {'criterion': 'entropy', 'max_depth': 5, 'max_...                2   \n",
      "7  {'criterion': 'entropy', 'max_depth': 10, 'max...                7   \n",
      "8  {'criterion': 'gini', 'max_depth': 3, 'max_fea...                1   \n",
      "9  {'criterion': 'entropy', 'max_depth': 3, 'max_...                3   \n",
      "\n",
      "        ...         split2_test_score  split2_train_score  split3_test_score  \\\n",
      "0       ...                  0.587947            0.833646           0.521414   \n",
      "1       ...                  0.423000            0.992973           0.326566   \n",
      "2       ...                  0.638392            0.737663           0.711760   \n",
      "3       ...                  0.533349            0.851209           0.431644   \n",
      "4       ...                  0.602455            0.632457           0.539961   \n",
      "5       ...                  0.663801            0.696352           0.582543   \n",
      "6       ...                  0.691680            0.797082           0.711457   \n",
      "7       ...                  0.568903            0.846947           0.430286   \n",
      "8       ...                  0.739778            0.768691           0.730054   \n",
      "9       ...                  0.728387            0.760892           0.730685   \n",
      "\n",
      "   split3_train_score  split4_test_score  split4_train_score  std_fit_time  \\\n",
      "0            0.849712           0.818767            0.824874      0.353765   \n",
      "1            0.993461           0.643595            0.991634      0.433604   \n",
      "2            0.740110           0.528429            0.733674      0.251686   \n",
      "3            0.860726           0.801971            0.834399      1.065327   \n",
      "4            0.590523           0.578538            0.580879      0.315519   \n",
      "5            0.680972           0.754650            0.718284      0.213657   \n",
      "6            0.809914           0.802990            0.792793      0.293831   \n",
      "7            0.857308           0.784000            0.834353      0.332581   \n",
      "8            0.787752           0.836399            0.771329      0.167245   \n",
      "9            0.785365           0.717211            0.754356      0.358561   \n",
      "\n",
      "   std_score_time  std_test_score  std_train_score  \n",
      "0        0.020332        0.103217         0.009000  \n",
      "1        0.036541        0.113203         0.000635  \n",
      "2        0.044455        0.068446         0.013208  \n",
      "3        0.017087        0.130854         0.010059  \n",
      "4        0.026243        0.032884         0.026659  \n",
      "5        0.026262        0.068387         0.024488  \n",
      "6        0.013245        0.047941         0.010989  \n",
      "7        0.018184        0.117953         0.009392  \n",
      "8        0.010251        0.054166         0.014047  \n",
      "9        0.063233        0.049692         0.012859  \n",
      "\n",
      "[10 rows x 24 columns]\n"
     ]
    }
   ],
   "source": [
    "dec_tree = DecisionTreeClassifier()\n",
    "grid_search_dt = RandomizedSearchCV(dec_tree, param_grid_dt, cv=5, scoring='roc_auc', n_jobs=-1)\n",
    "grid_search_dt.fit(X_train_tr, y_train)\n",
    "result = pd.DataFrame(grid_search_dt.cv_results_)\n",
    "print(result)"
   ]
  },
  {
   "cell_type": "code",
   "execution_count": null,
   "metadata": {},
   "outputs": [],
   "source": [
    "final_model_dt = grid_search_dt.best_estimator_\n",
    "print(final_model_dt.score(X_test_tr, y_test))"
   ]
  },
  {
   "cell_type": "code",
   "execution_count": 92,
   "metadata": {},
   "outputs": [
    {
     "data": {
      "text/plain": [
       "Text(0.5,0,'Relative Importance')"
      ]
     },
     "execution_count": 92,
     "metadata": {},
     "output_type": "execute_result"
    },
    {
     "data": {
      "image/png": "[encoded data removed]",
      "text/plain": [
       "<Figure size 432x288 with 1 Axes>"
      ]
     },
     "metadata": {},
     "output_type": "display_data"
    }
   ],
   "source": [
    "feature_weight_dt = grid_search_dt.best_estimator_.feature_importances_\n",
    "num_features = num_pipeline.named_steps['selector'].get_feature_names()\n",
    "cat_features = cat_pipeline.named_steps['selector'].get_feature_names()\n",
    "attributes = num_features + cat_features\n",
    "indices = np.argsort(feature_weight_dt)\n",
    "ordered_attributes = [attributes[i] for i in indices]\n",
    "\n",
    "plt.figure(1)\n",
    "plt.title('Feature Importances')\n",
    "plt.barh(range(len(indices)), feature_weight_dt[indices], align='center')\n",
    "plt.yticks(range(len(indices)), ordered_attributes)\n",
    "plt.xlabel('Relative Importance')"
   ]
  },
  {
   "cell_type": "markdown",
   "metadata": {},
   "source": [
    "## Hyperparameter Grid Search On Decision Tree"
   ]
  },
  {
   "cell_type": "code",
   "execution_count": 93,
   "metadata": {},
   "outputs": [],
   "source": [
    "param_grid_rf = {\n",
    "    'n_estimators': [100, 300, 500],\n",
    "    'max_features': [2, 4, 6, 8, 10],\n",
    "    'bootstrap': [False, True],\n",
    "    'max_depth':[2, 4, 6, 8]\n",
    "}"
   ]
  },
  {
   "cell_type": "code",
   "execution_count": null,
   "metadata": {},
   "outputs": [],
   "source": [
    "rf = RandomForestClassifier()\n",
    "grid_search_rf = RandomizedSearchCV(rf, param_grid_rf, cv=5, scoring='roc_auc', n_jobs=-1)\n",
    "grid_search_rf.fit(X_train_tr, y_train)\n",
    "result = pd.DataFrame(grid_search_rf.cv_results_)\n",
    "print(result)"
   ]
  },
  {
   "cell_type": "markdown",
   "metadata": {},
   "source": [
    "## Evaluate Random Forest Classifier on Test Set"
   ]
  },
  {
   "cell_type": "code",
   "execution_count": null,
   "metadata": {},
   "outputs": [],
   "source": [
    "final_model_rf = grid_search_rf.best_estimator_\n",
    "print(final_model_rf.score(X_test_tr, y_test))"
   ]
  },
  {
   "cell_type": "code",
   "execution_count": null,
   "metadata": {},
   "outputs": [],
   "source": [
    "feature_weight_rf = grid_search_rf.best_estimator_.feature_importances_\n",
    "indices_rf = np.argsort(feature_weight_rf)\n",
    "ordered_attributes_rf = [attributes[i] for i in indices_rf]\n",
    "plt.figure(1)\n",
    "plt.title('Feature Importances')\n",
    "plt.barh(range(len(indices_rf)), feature_weight_rf[indices_rf], align='center')\n",
    "plt.yticks(range(len(indices_rf)), ordered_attributes_rf)\n",
    "plt.xlabel('Relative Importance')"
   ]
  }
 ],
 "metadata": {
  "kernelspec": {
   "display_name": "Python 3",
   "language": "python",
   "name": "python3"
  },
  "language_info": {
   "codemirror_mode": {
    "name": "ipython",
    "version": 3
   },
   "file_extension": ".py",
   "mimetype": "text/x-python",
   "name": "python",
   "nbconvert_exporter": "python",
   "pygments_lexer": "ipython3",
   "version": "3.6.4"
  }
 },
 "nbformat": 4,
 "nbformat_minor": 2
}
