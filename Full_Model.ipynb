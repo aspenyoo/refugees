{
 "cells": [
  {
   "cell_type": "code",
   "execution_count": 1,
   "metadata": {},
   "outputs": [],
   "source": [
    "import pandas as pd\n",
    "import numpy as np\n",
    "#from sklearn.preprocessing import CategoricalEncoder\n",
    "from sklearn.linear_model import LogisticRegression\n",
    "from sklearn.model_selection import cross_val_score, train_test_split\n",
    "from sklearn.base import BaseEstimator, TransformerMixin\n",
    "from sklearn.pipeline import Pipeline, FeatureUnion\n",
    "from sklearn.preprocessing import LabelEncoder, OneHotEncoder, StandardScaler\n",
    "from sklearn.tree import DecisionTreeClassifier\n",
    "from sklearn.model_selection import GridSearchCV"
   ]
  },
  {
   "cell_type": "code",
   "execution_count": 2,
   "metadata": {},
   "outputs": [],
   "source": [
    "file = pd.read_csv('../merged_any_master_schedule.csv')\n",
    "test_cases = pd.read_csv('../test_cases_any_asylum_full_model.csv', header=None)"
   ]
  },
  {
   "cell_type": "code",
   "execution_count": 3,
   "metadata": {},
   "outputs": [],
   "source": [
    "test_cases = test_cases.rename(columns={0:'num'})"
   ]
  },
  {
   "cell_type": "code",
   "execution_count": 4,
   "metadata": {},
   "outputs": [],
   "source": [
    "train = file[~file.idncase.isin(test_cases.num)]"
   ]
  },
  {
   "cell_type": "code",
   "execution_count": null,
   "metadata": {},
   "outputs": [],
   "source": [
    "test = file[file.idncase.isin(test_cases.num)]"
   ]
  },
  {
   "cell_type": "code",
   "execution_count": null,
   "metadata": {},
   "outputs": [],
   "source": [
    "class Cleaning(BaseEstimator, TransformerMixin):\n",
    "    def fit(self, X, y=None):\n",
    "        return self\n",
    "    def transform(self, X):\n",
    "        X = X.drop(columns=['idncase', 'idnproceeding', 'adj_date', 'adj_time_start2', 'adj_time_stop2', 'osc_date_y'])\n",
    "        X.loc[(X[\"dec\"] == 'DENY'),'dec'] = 0\n",
    "        X.loc[(X[\"dec\"] == 'GRANT'),'dec'] = 1\n",
    "        X['comp_date'] = pd.to_datetime(X['comp_date'],infer_datetime_format = True)\n",
    "        startdate = np.datetime64('1984-07-11')\n",
    "        X['comp_date_in_days'] = X['comp_date'].apply(lambda x: (x - startdate).days)\n",
    "        X = X.drop(columns=['comp_date'], axis=1)\n",
    "        return X\n",
    "    "
   ]
  },
  {
   "cell_type": "code",
   "execution_count": 5,
   "metadata": {},
   "outputs": [],
   "source": [
    "train = train.drop(columns=['idncase', 'idnproceeding', 'adj_date', 'adj_time_start2', 'adj_time_stop2', 'osc_date_y'])"
   ]
  },
  {
   "cell_type": "code",
   "execution_count": 6,
   "metadata": {},
   "outputs": [],
   "source": [
    "train.loc[(train[\"dec\"] == 'DENY'),'dec'] = 0\n",
    "train.loc[(train[\"dec\"] == 'GRANT'),'dec'] = 1"
   ]
  },
  {
   "cell_type": "code",
   "execution_count": 7,
   "metadata": {},
   "outputs": [],
   "source": [
    "train['comp_date'] = pd.to_datetime(train['comp_date'],infer_datetime_format = True)"
   ]
  },
  {
   "cell_type": "code",
   "execution_count": 8,
   "metadata": {},
   "outputs": [
    {
     "data": {
      "text/html": [
       "<div>\n",
       "<style scoped>\n",
       "    .dataframe tbody tr th:only-of-type {\n",
       "        vertical-align: middle;\n",
       "    }\n",
       "\n",
       "    .dataframe tbody tr th {\n",
       "        vertical-align: top;\n",
       "    }\n",
       "\n",
       "    .dataframe thead th {\n",
       "        text-align: right;\n",
       "    }\n",
       "</style>\n",
       "<table border=\"1\" class=\"dataframe\">\n",
       "  <thead>\n",
       "    <tr style=\"text-align: right;\">\n",
       "      <th></th>\n",
       "      <th>numAppsPerProc</th>\n",
       "      <th>dec</th>\n",
       "      <th>nat</th>\n",
       "      <th>case_type</th>\n",
       "      <th>c_asy_type</th>\n",
       "      <th>comp_date</th>\n",
       "      <th>numProcPerCase</th>\n",
       "      <th>attorney_present</th>\n",
       "      <th>lang_hearing</th>\n",
       "      <th>hearing_city</th>\n",
       "      <th>...</th>\n",
       "      <th>base_city</th>\n",
       "      <th>base_state</th>\n",
       "      <th>sched_type</th>\n",
       "      <th>notice_desc</th>\n",
       "      <th>trac_id</th>\n",
       "      <th>durationHearing</th>\n",
       "      <th>adj_rsn_desc</th>\n",
       "      <th>numHearingsPerProc</th>\n",
       "      <th>durationFirstLastHearing</th>\n",
       "      <th>averageHearingDur</th>\n",
       "    </tr>\n",
       "  </thead>\n",
       "  <tbody>\n",
       "    <tr>\n",
       "      <th>451</th>\n",
       "      <td>3.0</td>\n",
       "      <td>0</td>\n",
       "      <td>IR</td>\n",
       "      <td>DEP</td>\n",
       "      <td>def</td>\n",
       "      <td>1985-01-07</td>\n",
       "      <td>1</td>\n",
       "      <td>NO</td>\n",
       "      <td>ENGLISH</td>\n",
       "      <td>DETROIT</td>\n",
       "      <td>...</td>\n",
       "      <td>DETROIT</td>\n",
       "      <td>MI</td>\n",
       "      <td>UNKNOWN</td>\n",
       "      <td>NO ADDRESS MTN TO REOPEN ORDER OF THE IJ - SNA</td>\n",
       "      <td>230.0</td>\n",
       "      <td>60.0</td>\n",
       "      <td>UNKNOWN</td>\n",
       "      <td>1</td>\n",
       "      <td>0</td>\n",
       "      <td>60.0</td>\n",
       "    </tr>\n",
       "    <tr>\n",
       "      <th>2259</th>\n",
       "      <td>3.0</td>\n",
       "      <td>0</td>\n",
       "      <td>CO</td>\n",
       "      <td>DEP</td>\n",
       "      <td>def</td>\n",
       "      <td>1985-01-09</td>\n",
       "      <td>1</td>\n",
       "      <td>YES</td>\n",
       "      <td>SPANISH</td>\n",
       "      <td>BOSTON</td>\n",
       "      <td>...</td>\n",
       "      <td>BOSTON</td>\n",
       "      <td>MA</td>\n",
       "      <td>UNKNOWN</td>\n",
       "      <td>NO ADDRESS MTN TO REOPEN ORDER OF THE IJ - SNA</td>\n",
       "      <td>226.0</td>\n",
       "      <td>120.0</td>\n",
       "      <td>UNKNOWN</td>\n",
       "      <td>1</td>\n",
       "      <td>0</td>\n",
       "      <td>120.0</td>\n",
       "    </tr>\n",
       "    <tr>\n",
       "      <th>2258</th>\n",
       "      <td>3.0</td>\n",
       "      <td>0</td>\n",
       "      <td>CO</td>\n",
       "      <td>DEP</td>\n",
       "      <td>def</td>\n",
       "      <td>1985-01-10</td>\n",
       "      <td>1</td>\n",
       "      <td>YES</td>\n",
       "      <td>UNKNOWN LANGUAGE</td>\n",
       "      <td>BOSTON</td>\n",
       "      <td>...</td>\n",
       "      <td>BOSTON</td>\n",
       "      <td>MA</td>\n",
       "      <td>UNKNOWN</td>\n",
       "      <td>NO ADDRESS MTN TO REOPEN ORDER OF THE IJ - SNA</td>\n",
       "      <td>226.0</td>\n",
       "      <td>60.0</td>\n",
       "      <td>UNKNOWN</td>\n",
       "      <td>1</td>\n",
       "      <td>0</td>\n",
       "      <td>60.0</td>\n",
       "    </tr>\n",
       "    <tr>\n",
       "      <th>1924</th>\n",
       "      <td>3.0</td>\n",
       "      <td>0</td>\n",
       "      <td>IR</td>\n",
       "      <td>DEP</td>\n",
       "      <td>def</td>\n",
       "      <td>1985-01-23</td>\n",
       "      <td>1</td>\n",
       "      <td>YES</td>\n",
       "      <td>UNKNOWN LANGUAGE</td>\n",
       "      <td>KANSAS CITY</td>\n",
       "      <td>...</td>\n",
       "      <td>KANSAS CITY</td>\n",
       "      <td>MO</td>\n",
       "      <td>UNKNOWN</td>\n",
       "      <td>NO ADDRESS MTN TO REOPEN ORDER OF THE IJ - SNA</td>\n",
       "      <td>26.0</td>\n",
       "      <td>60.0</td>\n",
       "      <td>UNKNOWN</td>\n",
       "      <td>1</td>\n",
       "      <td>0</td>\n",
       "      <td>60.0</td>\n",
       "    </tr>\n",
       "    <tr>\n",
       "      <th>2572</th>\n",
       "      <td>2.0</td>\n",
       "      <td>0</td>\n",
       "      <td>ES</td>\n",
       "      <td>DEP</td>\n",
       "      <td>def</td>\n",
       "      <td>1985-01-28</td>\n",
       "      <td>1</td>\n",
       "      <td>YES</td>\n",
       "      <td>SPANISH</td>\n",
       "      <td>NEW YORK</td>\n",
       "      <td>...</td>\n",
       "      <td>NEW YORK</td>\n",
       "      <td>NY</td>\n",
       "      <td>UNKNOWN</td>\n",
       "      <td>NO ADDRESS MTN TO REOPEN ORDER OF THE IJ - SNA</td>\n",
       "      <td>331.0</td>\n",
       "      <td>60.0</td>\n",
       "      <td>UNKNOWN</td>\n",
       "      <td>4</td>\n",
       "      <td>184</td>\n",
       "      <td>60.0</td>\n",
       "    </tr>\n",
       "  </tbody>\n",
       "</table>\n",
       "<p>5 rows × 21 columns</p>\n",
       "</div>"
      ],
      "text/plain": [
       "      numAppsPerProc  dec nat case_type c_asy_type  comp_date  numProcPerCase  \\\n",
       "451              3.0    0  IR       DEP        def 1985-01-07               1   \n",
       "2259             3.0    0  CO       DEP        def 1985-01-09               1   \n",
       "2258             3.0    0  CO       DEP        def 1985-01-10               1   \n",
       "1924             3.0    0  IR       DEP        def 1985-01-23               1   \n",
       "2572             2.0    0  ES       DEP        def 1985-01-28               1   \n",
       "\n",
       "     attorney_present      lang_hearing hearing_city        ...          \\\n",
       "451                NO           ENGLISH      DETROIT        ...           \n",
       "2259              YES           SPANISH       BOSTON        ...           \n",
       "2258              YES  UNKNOWN LANGUAGE       BOSTON        ...           \n",
       "1924              YES  UNKNOWN LANGUAGE  KANSAS CITY        ...           \n",
       "2572              YES           SPANISH     NEW YORK        ...           \n",
       "\n",
       "            base_city base_state sched_type  \\\n",
       "451           DETROIT         MI    UNKNOWN   \n",
       "2259           BOSTON         MA    UNKNOWN   \n",
       "2258           BOSTON         MA    UNKNOWN   \n",
       "1924      KANSAS CITY         MO    UNKNOWN   \n",
       "2572  NEW YORK                NY    UNKNOWN   \n",
       "\n",
       "                                         notice_desc trac_id durationHearing  \\\n",
       "451   NO ADDRESS MTN TO REOPEN ORDER OF THE IJ - SNA   230.0            60.0   \n",
       "2259  NO ADDRESS MTN TO REOPEN ORDER OF THE IJ - SNA   226.0           120.0   \n",
       "2258  NO ADDRESS MTN TO REOPEN ORDER OF THE IJ - SNA   226.0            60.0   \n",
       "1924  NO ADDRESS MTN TO REOPEN ORDER OF THE IJ - SNA    26.0            60.0   \n",
       "2572  NO ADDRESS MTN TO REOPEN ORDER OF THE IJ - SNA   331.0            60.0   \n",
       "\n",
       "      adj_rsn_desc numHearingsPerProc  durationFirstLastHearing  \\\n",
       "451        UNKNOWN                  1                         0   \n",
       "2259       UNKNOWN                  1                         0   \n",
       "2258       UNKNOWN                  1                         0   \n",
       "1924       UNKNOWN                  1                         0   \n",
       "2572       UNKNOWN                  4                       184   \n",
       "\n",
       "      averageHearingDur  \n",
       "451                60.0  \n",
       "2259              120.0  \n",
       "2258               60.0  \n",
       "1924               60.0  \n",
       "2572               60.0  \n",
       "\n",
       "[5 rows x 21 columns]"
      ]
     },
     "execution_count": 8,
     "metadata": {},
     "output_type": "execute_result"
    }
   ],
   "source": [
    "train.sort_values('comp_date').head(2)"
   ]
  },
  {
   "cell_type": "code",
   "execution_count": 9,
   "metadata": {},
   "outputs": [],
   "source": []
  },
  {
   "cell_type": "code",
   "execution_count": 10,
   "metadata": {},
   "outputs": [],
   "source": [
    "train['comp_date_in_days'] = train['comp_date'].apply(lambda x: (x - startdate).days)"
   ]
  },
  {
   "cell_type": "code",
   "execution_count": 11,
   "metadata": {},
   "outputs": [],
   "source": [
    "train = train.drop(columns=['comp_date'], axis=1)"
   ]
  },
  {
   "cell_type": "code",
   "execution_count": 12,
   "metadata": {},
   "outputs": [],
   "source": [
    "y = train['dec']\n",
    "X = train.drop(columns=['dec'], axis=1)\n",
    "#X_train, X_test, y_train, y_test = train_test_split(X, y, test_size=0.2, random_state=42)"
   ]
  },
  {
   "cell_type": "markdown",
   "metadata": {},
   "source": [
    "## Generating Pipeline"
   ]
  },
  {
   "cell_type": "code",
   "execution_count": 55,
   "metadata": {},
   "outputs": [],
   "source": [
    "class Selector(BaseEstimator, TransformerMixin):\n",
    "    def __init__(self, dtype):\n",
    "        self.dtype = dtype\n",
    "    def fit(self, X, y=None):\n",
    "        return self\n",
    "    def transform(self, X):\n",
    "        num_frame = X.select_dtypes(include=[self.dtype])\n",
    "        self.names = num_frame.columns\n",
    "        return num_frame\n",
    "    def get_feature_names(self):\n",
    "        return self.names.tolist()"
   ]
  },
  {
   "cell_type": "code",
   "execution_count": 72,
   "metadata": {},
   "outputs": [],
   "source": [
    "class CustomLabelEncoder(BaseEstimator, TransformerMixin):\n",
    "    def fit(self, X, y=None):\n",
    "        return self\n",
    "    def transform(self, X):\n",
    "        le = LabelEncoder()\n",
    "        cat_frame = X.apply(le.fit_transform)\n",
    "        self.names = le.classes_\n",
    "        return cat_frame\n",
    "    def get_feature_names(self):\n",
    "        return self.names.tolist()"
   ]
  },
  {
   "cell_type": "code",
   "execution_count": 73,
   "metadata": {},
   "outputs": [],
   "source": [
    "\n",
    "num_pipeline = Pipeline([\n",
    "        ('selector', Selector(np.number)),\n",
    "        ('scaler', StandardScaler()),\n",
    "])\n",
    "\n",
    "cat_pipeline = Pipeline([\n",
    "        ('selector', Selector('object')),\n",
    "        ('labeler', CustomLabelEncoder()),\n",
    "        ('encoder', OneHotEncoder()),\n",
    "]) \n",
    "\n",
    "full_pipeline = FeatureUnion(transformer_list=[ \n",
    "        ('numerical', num_pipeline),  \n",
    "        ('categorical', cat_pipeline)   \n",
    "])  "
   ]
  },
  {
   "cell_type": "code",
   "execution_count": 74,
   "metadata": {},
   "outputs": [],
   "source": [
    "X_tr= full_pipeline.fit_transform(X)"
   ]
  },
  {
   "cell_type": "markdown",
   "metadata": {},
   "source": [
    "## Hyperparameter Grid Search "
   ]
  },
  {
   "cell_type": "code",
   "execution_count": 17,
   "metadata": {},
   "outputs": [],
   "source": [
    "param_grid = {'penalty': ['l1','l2'], 'C': [0.001, 0.01, 0.1, 1, 10, 100, 1000]}"
   ]
  },
  {
   "cell_type": "code",
   "execution_count": 18,
   "metadata": {},
   "outputs": [
    {
     "name": "stderr",
     "output_type": "stream",
     "text": [
      "/usr/local/anaconda/anaconda3/lib/python3.6/site-packages/sklearn/utils/deprecation.py:122: FutureWarning: You are accessing a training score ('mean_train_score'), which will not be available by default any more in 0.21. If you need training scores, please set return_train_score=True\n",
      "  warnings.warn(*warn_args, **warn_kwargs)\n",
      "/usr/local/anaconda/anaconda3/lib/python3.6/site-packages/sklearn/utils/deprecation.py:122: FutureWarning: You are accessing a training score ('split0_train_score'), which will not be available by default any more in 0.21. If you need training scores, please set return_train_score=True\n",
      "  warnings.warn(*warn_args, **warn_kwargs)\n",
      "/usr/local/anaconda/anaconda3/lib/python3.6/site-packages/sklearn/utils/deprecation.py:122: FutureWarning: You are accessing a training score ('split1_train_score'), which will not be available by default any more in 0.21. If you need training scores, please set return_train_score=True\n",
      "  warnings.warn(*warn_args, **warn_kwargs)\n",
      "/usr/local/anaconda/anaconda3/lib/python3.6/site-packages/sklearn/utils/deprecation.py:122: FutureWarning: You are accessing a training score ('split2_train_score'), which will not be available by default any more in 0.21. If you need training scores, please set return_train_score=True\n",
      "  warnings.warn(*warn_args, **warn_kwargs)\n",
      "/usr/local/anaconda/anaconda3/lib/python3.6/site-packages/sklearn/utils/deprecation.py:122: FutureWarning: You are accessing a training score ('split3_train_score'), which will not be available by default any more in 0.21. If you need training scores, please set return_train_score=True\n",
      "  warnings.warn(*warn_args, **warn_kwargs)\n",
      "/usr/local/anaconda/anaconda3/lib/python3.6/site-packages/sklearn/utils/deprecation.py:122: FutureWarning: You are accessing a training score ('split4_train_score'), which will not be available by default any more in 0.21. If you need training scores, please set return_train_score=True\n",
      "  warnings.warn(*warn_args, **warn_kwargs)\n",
      "/usr/local/anaconda/anaconda3/lib/python3.6/site-packages/sklearn/utils/deprecation.py:122: FutureWarning: You are accessing a training score ('std_train_score'), which will not be available by default any more in 0.21. If you need training scores, please set return_train_score=True\n",
      "  warnings.warn(*warn_args, **warn_kwargs)\n"
     ]
    }
   ],
   "source": [
    "log_reg = LogisticRegression()\n",
    "grid_search = GridSearchCV(log_reg, param_grid, cv=5, scoring='accuracy', n_jobs=-1)\n",
    "grid_search.fit(X_tr, y)\n",
    "result = pd.DataFrame(grid_search.cv_results_)"
   ]
  },
  {
   "cell_type": "code",
   "execution_count": 19,
   "metadata": {},
   "outputs": [
    {
     "name": "stdout",
     "output_type": "stream",
     "text": [
      "    mean_fit_time  mean_score_time  mean_test_score  mean_train_score param_C  \\\n",
      "0        0.942166         0.006413         0.643061          0.726648   0.001   \n",
      "1        1.352957         0.006362         0.669493          0.765314   0.001   \n",
      "2        3.571588         0.006252         0.680682          0.776185    0.01   \n",
      "3        2.203953         0.007030         0.694461          0.786889    0.01   \n",
      "4       17.446706         0.008017         0.702258          0.792867     0.1   \n",
      "5        4.167243         0.007036         0.704239          0.794846     0.1   \n",
      "6       40.928398         0.006685         0.704838          0.796323       1   \n",
      "7        8.928708         0.007158         0.704770          0.796598       1   \n",
      "8       39.456467         0.007051         0.703867          0.796869      10   \n",
      "9       17.957599         0.006143         0.703997          0.796837      10   \n",
      "10       6.656963         0.006687         0.702983          0.796854     100   \n",
      "11      24.527359         0.006064         0.703447          0.796867     100   \n",
      "12       5.163990         0.006783         0.703079          0.796867    1000   \n",
      "13      48.067012         0.007102         0.703447          0.796867    1000   \n",
      "\n",
      "   param_penalty                         params  rank_test_score  \\\n",
      "0             l1  {'C': 0.001, 'penalty': 'l1'}               14   \n",
      "1             l2  {'C': 0.001, 'penalty': 'l2'}               13   \n",
      "2             l1   {'C': 0.01, 'penalty': 'l1'}               12   \n",
      "3             l2   {'C': 0.01, 'penalty': 'l2'}               11   \n",
      "4             l1    {'C': 0.1, 'penalty': 'l1'}               10   \n",
      "5             l2    {'C': 0.1, 'penalty': 'l2'}                3   \n",
      "6             l1      {'C': 1, 'penalty': 'l1'}                1   \n",
      "7             l2      {'C': 1, 'penalty': 'l2'}                2   \n",
      "8             l1     {'C': 10, 'penalty': 'l1'}                5   \n",
      "9             l2     {'C': 10, 'penalty': 'l2'}                4   \n",
      "10            l1    {'C': 100, 'penalty': 'l1'}                9   \n",
      "11            l2    {'C': 100, 'penalty': 'l2'}                6   \n",
      "12            l1   {'C': 1000, 'penalty': 'l1'}                8   \n",
      "13            l2   {'C': 1000, 'penalty': 'l2'}                6   \n",
      "\n",
      "    split0_test_score  split0_train_score       ...         split2_test_score  \\\n",
      "0            0.578830            0.743805       ...                  0.648791   \n",
      "1            0.596005            0.782951       ...                  0.643042   \n",
      "2            0.597744            0.793138       ...                  0.657270   \n",
      "3            0.599676            0.803779       ...                  0.677175   \n",
      "4            0.600280            0.810012       ...                  0.690002   \n",
      "5            0.601343            0.811998       ...                  0.689180   \n",
      "6            0.600039            0.813442       ...                  0.689205   \n",
      "7            0.600304            0.813877       ...                  0.689349   \n",
      "8            0.600135            0.814118       ...                  0.689011   \n",
      "9            0.600087            0.814021       ...                  0.689205   \n",
      "10           0.600329            0.814166       ...                  0.689060   \n",
      "11           0.600039            0.814124       ...                  0.689060   \n",
      "12           0.600570            0.814154       ...                  0.688987   \n",
      "13           0.600353            0.814112       ...                  0.689035   \n",
      "\n",
      "    split2_train_score  split3_test_score  split3_train_score  \\\n",
      "0             0.728482           0.691113            0.716675   \n",
      "1             0.768031           0.749499            0.758984   \n",
      "2             0.779807           0.761963            0.769673   \n",
      "3             0.792277           0.764814            0.779746   \n",
      "4             0.799337           0.767978            0.785689   \n",
      "5             0.801330           0.768389            0.787652   \n",
      "6             0.803009           0.767036            0.789179   \n",
      "7             0.803196           0.767230            0.789210   \n",
      "8             0.803522           0.765877            0.789548   \n",
      "9             0.803474           0.766022            0.789542   \n",
      "10            0.803431           0.765394            0.789518   \n",
      "11            0.803492           0.765563            0.789542   \n",
      "12            0.803437           0.765321            0.789566   \n",
      "13            0.803474           0.765418            0.789554   \n",
      "\n",
      "    split4_test_score  split4_train_score  std_fit_time  std_score_time  \\\n",
      "0            0.721381            0.712853      0.105134        0.000366   \n",
      "1            0.746286            0.751913      0.049732        0.000392   \n",
      "2            0.736382            0.762523      1.283709        0.000459   \n",
      "3            0.772351            0.771896      0.261487        0.000441   \n",
      "4            0.785902            0.776648     12.423207        0.003047   \n",
      "5            0.793946            0.778412      0.584999        0.000754   \n",
      "6            0.798850            0.779463      6.310945        0.000509   \n",
      "7            0.798391            0.779698      0.912703        0.000311   \n",
      "8            0.795203            0.779897      5.186914        0.000916   \n",
      "9            0.795444            0.779873      1.454641        0.000269   \n",
      "10           0.790927            0.779867      6.283613        0.000837   \n",
      "11           0.793318            0.779879      2.402708        0.000276   \n",
      "12           0.791313            0.779891      2.356638        0.000230   \n",
      "13           0.793149            0.779885      2.840342        0.000836   \n",
      "\n",
      "    std_test_score  std_train_score  \n",
      "0         0.058663         0.011048  \n",
      "1         0.065773         0.010378  \n",
      "2         0.060123         0.010293  \n",
      "3         0.065738         0.010864  \n",
      "4         0.067969         0.011405  \n",
      "5         0.069665         0.011472  \n",
      "6         0.071013         0.011603  \n",
      "7         0.070890         0.011683  \n",
      "8         0.069823         0.011693  \n",
      "9         0.069906         0.011666  \n",
      "10        0.068559         0.011709  \n",
      "11        0.069289         0.011697  \n",
      "12        0.068576         0.011693  \n",
      "13        0.069124         0.011688  \n",
      "\n",
      "[14 rows x 22 columns]\n"
     ]
    }
   ],
   "source": [
    "print(result)"
   ]
  },
  {
   "cell_type": "code",
   "execution_count": 84,
   "metadata": {},
   "outputs": [],
   "source": [
    "final_model = grid_search.best_estimator_\n",
    "feature_weight = np.abs(grid_search.best_estimator_.coef_[0])"
   ]
  },
  {
   "cell_type": "markdown",
   "metadata": {},
   "source": [
    "## Evaluate on Test Set"
   ]
  },
  {
   "cell_type": "code",
   "execution_count": null,
   "metadata": {},
   "outputs": [],
   "source": [
    "clean = Cleaning()\n",
    "test = clean.transform(test)\n",
    "y_test = test['dec']\n",
    "X_test = test.drop(columns=['dec'], axis=1)\n",
    "X_test_tr = full_pipeline.transform(X_test)"
   ]
  },
  {
   "cell_type": "code",
   "execution_count": 80,
   "metadata": {},
   "outputs": [
    {
     "name": "stdout",
     "output_type": "stream",
     "text": [
      "67\n"
     ]
    }
   ],
   "source": [
    "#num_features = num_pipeline.named_steps['selector'].get_feature_names()\n",
    "#cat_features = cat_pipeline.named_steps['labeler'].get_feature_names()\n"
   ]
  },
  {
   "cell_type": "code",
   "execution_count": null,
   "metadata": {},
   "outputs": [],
   "source": [
    "final_pred = final_model.score(X_test_tr, y_test)"
   ]
  }
 ],
 "metadata": {
  "kernelspec": {
   "display_name": "Python 3",
   "language": "python",
   "name": "python3"
  },
  "language_info": {
   "codemirror_mode": {
    "name": "ipython",
    "version": 3
   },
   "file_extension": ".py",
   "mimetype": "text/x-python",
   "name": "python",
   "nbconvert_exporter": "python",
   "pygments_lexer": "ipython3",
   "version": "3.6.4"
  }
 },
 "nbformat": 4,
 "nbformat_minor": 2
}
