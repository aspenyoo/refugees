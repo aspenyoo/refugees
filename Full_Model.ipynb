{
 "cells": [
  {
   "cell_type": "code",
   "execution_count": 1,
   "metadata": {},
   "outputs": [],
   "source": [
    "import pandas as pd\n",
    "import numpy as np\n",
    "import warnings; \n",
    "import matplotlib.pyplot as plt\n",
    "warnings.simplefilter('ignore')\n",
    "#from sklearn.preprocessing import CategoricalEncoder\n",
    "from sklearn.linear_model import LogisticRegression\n",
    "from sklearn.model_selection import cross_val_score, train_test_split\n",
    "from sklearn.base import BaseEstimator, TransformerMixin\n",
    "from sklearn.pipeline import Pipeline, FeatureUnion\n",
    "from sklearn.preprocessing import LabelEncoder, OneHotEncoder, StandardScaler\n",
    "from sklearn.tree import DecisionTreeClassifier\n",
    "from sklearn.model_selection import GridSearchCV, RandomizedSearchCV\n",
    "from scipy.stats import randint\n",
    "from sklearn.ensemble import RandomForestClassifier"
   ]
  },
  {
   "cell_type": "markdown",
   "metadata": {},
   "source": [
    "## Creating Test/Train Sets"
   ]
  },
  {
   "cell_type": "code",
   "execution_count": 2,
   "metadata": {},
   "outputs": [],
   "source": [
    "# FLAGS TO TOGGLE BETWEEN DIFFERENT MODELS\n",
    "# flag_baseline: \n",
    "#   1 - absence of any spatial or temporal features (should be with flag_early = 1)\n",
    "#   0 - all features\n",
    "# flag_full: \n",
    "#   1 - full asylum only (ASYL)\n",
    "#   0 - any asylum (ASYL,ASYW,WCAT)\n",
    "# flag_early: \n",
    "#   1 - early predictability. features a function of osc_date. \n",
    "#   0 - late predictability. features a function of last hearing.\n",
    "# flag_spatialonly: baseline features + spatial features\n",
    "# flag_temponly: baseline features + temporal features\n",
    "\n",
    "# flags\n",
    "flag_baseline = 0\n",
    "flag_full = 0\n",
    "flag_early = 0\n",
    "flag_spatialonly = 0\n",
    "flag_temponly = 0\n",
    "\n",
    "# used for loading appropriate dataset file\n",
    "if flag_early:\n",
    "    tag_pred = 'early'\n",
    "else:\n",
    "    tag_pred = 'late'\n",
    "    \n",
    "if flag_full:\n",
    "    tag_asyl = 'full'\n",
    "else:\n",
    "    tag_asyl = 'any'"
   ]
  },
  {
   "cell_type": "code",
   "execution_count": 3,
   "metadata": {},
   "outputs": [],
   "source": [
    "# LOAD AND MERGE DATA FILES\n",
    "\n",
    "# load\n",
    "path = '/data/WorkData/spatialtemporal/'\n",
    "file = pd.read_csv(path + 'finalmerge_'+ tag_asyl + '_' + tag_pred + '.csv')\n",
    "timefile = pd.read_csv(path + 'gr_lastyear_' + tag_pred + '.csv')\n",
    "test_cases = pd.read_csv(path + 'test_cases_last_hearing.csv', header=None)\n",
    "\n",
    "# merge\n",
    "if (not flag_baseline) and (not flag_spatialonly): file = pd.merge(file, timefile, on=['idnproceeding','idncase'], how='left')"
   ]
  },
  {
   "cell_type": "code",
   "execution_count": 4,
   "metadata": {},
   "outputs": [
    {
     "data": {
      "text/plain": [
       "idncase                            float64\n",
       "idnproceeding                      float64\n",
       "dec                                float64\n",
       "numAppsPerProc                       int64\n",
       "nat                                 object\n",
       "case_type                           object\n",
       "c_asy_type                          object\n",
       "base_city_code                      object\n",
       "hearing_loc_code                    object\n",
       "osc_date                            object\n",
       "comp_date                           object\n",
       "attorney_flag                      float64\n",
       "tracid                             float64\n",
       "hearing_city                        object\n",
       "base_city                           object\n",
       "numProcPerCase                       int64\n",
       "adj_medium                          object\n",
       "adj_date                            object\n",
       "sched_type                          object\n",
       "lang_hearing                        object\n",
       "notice_desc                         object\n",
       "adj_time_start2                     object\n",
       "adj_time_stop2                      object\n",
       "durationHearing                    float64\n",
       "adj_rsn_desc                        object\n",
       "numHearingsPerProc                   int64\n",
       "durationFirstLastHearing             int64\n",
       "averageHearingDur                  float64\n",
       "pres_aff                            object\n",
       "osc_date_delta                       int64\n",
       "caseDuration                         int64\n",
       "hearingDayOfWeek                    object\n",
       "hearingYear                          int64\n",
       "hearingMonth                         int64\n",
       "nat_num_last1yr_late               float64\n",
       "nat_gr_last1yr_late                float64\n",
       "nat_dmy_last1yr_late               float64\n",
       "tracid_num_last1yr_late            float64\n",
       "tracid_gr_last1yr_late             float64\n",
       "tracid_dmy_last1yr_late            float64\n",
       "base_city_code_num_last1yr_late    float64\n",
       "base_city_code_gr_last1yr_late     float64\n",
       "base_city_code_dmy_last1yr_late    float64\n",
       "tracid_gr_last10d                  float64\n",
       "tracid_dmy_last10d                 float64\n",
       "dtype: object"
      ]
     },
     "execution_count": 4,
     "metadata": {},
     "output_type": "execute_result"
    }
   ],
   "source": [
    "file.dtypes"
   ]
  },
  {
   "cell_type": "code",
   "execution_count": 5,
   "metadata": {},
   "outputs": [],
   "source": [
    "# GET TRAINING DATASET\n",
    "\n",
    "test_cases = test_cases.rename(columns={0:'num'})\n",
    "train = file[~file.idncase.isin(test_cases.num)]"
   ]
  },
  {
   "cell_type": "code",
   "execution_count": 6,
   "metadata": {},
   "outputs": [],
   "source": [
    "# DEFINE CLEANING SCRIPT AND FEATURE NAMES\n",
    "# this file removes any irrelevant features from dataset\n",
    "\n",
    "if flag_early: # early predictability\n",
    "    cols = ['idncase', 'idnproceeding','adj_date','comp_date','osc_date','base_city_code',\n",
    "            'notice_desc','adj_time_start2','adj_time_stop2','durationHearing',\n",
    "            'numAppsPerProc','numProcPerCase','osc_date','adj_rsn_desc']\n",
    "else: # late predictability\n",
    "    #note: temporary fix by dropping duration hearing and averageHearingDur, which have NaNs. change later!\n",
    "    cols = ['idncase', 'idnproceeding','adj_date','comp_date','osc_date','numAppsPerProc','numProcPerCase','base_city_code',\n",
    "            'notice_desc','adj_time_start2','adj_time_stop2','adj_rsn_desc','durationHearing','averageHearingDur']\n",
    "\n",
    "if flag_spatialonly: # spatial features only\n",
    "    if flag_early: cols2 = ['osc_date_delta','pres_aff','hearingYear','hearingMonth','hearingDayOfWeek']\n",
    "    else: cols2 = ['osc_date_delta','pres_aff','hearingYear','hearingMonth','hearingDayOfWeek',\n",
    "                  'numHearingsPerProc','durationFirstLastHearing','caseDuration']\n",
    "    \n",
    "if flag_temponly: # temporal features only\n",
    "    cols2 = ['hearing_loc_code','base_city','hearing_city']\n",
    "\n",
    "if flag_baseline: # baseline model only\n",
    "    cols = ['dec','tracid','nat','c_asy_type','case_type','lang_hearing',\n",
    "            'attorney_flag','sched_type','adj_medium'] # dropping spatial and temporal variables\n",
    "    #'numAppsPerProc','numProcPerCase','osc_date_delta'\n",
    "    \n",
    "\n",
    "class Cleaning(BaseEstimator, TransformerMixin):\n",
    "    def fit(self, X, y=None):\n",
    "        return self\n",
    "    def transform(self, X):\n",
    "        \n",
    "        # drop unused columns\n",
    "        if flag_baseline: X = X[cols]\n",
    "        else: X = X.drop(columns=cols)\n",
    "        \n",
    "        if flag_spatialonly: X = X.drop(columns=cols2)\n",
    "        if flag_temponly: X = X.drop(columns=cols2)\n",
    "            \n",
    "        # make variables correct dtypes\n",
    "        X['tracid'] = X['tracid'].astype('str')\n",
    "        X['adj_medium'] = X['adj_medium'].astype('str')\n",
    "        X['sched_type'] = X['sched_type'].astype('str')\n",
    "        X['nat'] = X['nat'].astype('str')\n",
    "        X['case_type'] = X['case_type'].astype('str')\n",
    "        X['c_asy_type'] = X['c_asy_type'].astype('str')\n",
    "        X['lang_hearing'] = X['lang_hearing'].astype('str')\n",
    "\n",
    "        if (not flag_baseline): \n",
    "            if not flag_temponly:\n",
    "                X['hearing_loc_code'] = X['hearing_loc_code'].astype('str')\n",
    "                X['hearing_city'] = X['hearing_city'].astype('str')\n",
    "                X['base_city'] = X['base_city'].astype('str')\n",
    "            if not flag_spatialonly:\n",
    "                X['hearingMonth'] = X['hearingMonth'].astype('str')\n",
    "                X['hearingDayOfWeek'] = X['hearingDayOfWeek'].astype('str')    \n",
    "                X['hearingYear'] = X['hearingYear'].astype('float64')\n",
    "                X['pres_aff'] = X['pres_aff'].astype('str')\n",
    "            #if not flag_early:\n",
    "                #train_data['hearingMonth'] = train_data['hearingMonth'].astype('str')\n",
    "\n",
    "        return X\n",
    "    "
   ]
  },
  {
   "cell_type": "code",
   "execution_count": 7,
   "metadata": {},
   "outputs": [],
   "source": [
    "# RUNNING CLEANING SCRIPT\n",
    "\n",
    "clean = Cleaning()\n",
    "train_data = clean.transform(train)"
   ]
  },
  {
   "cell_type": "code",
   "execution_count": 8,
   "metadata": {},
   "outputs": [],
   "source": [
    "# MAKE VARIABLES CORRECT DTYPES\n",
    "\n",
    "train_data['tracid'] = train_data['tracid'].astype('str')\n",
    "train_data['adj_medium'] = train_data['adj_medium'].astype('str')\n",
    "train_data['sched_type'] = train_data['sched_type'].astype('str')\n",
    "train_data['nat'] = train_data['nat'].astype('str')\n",
    "train_data['case_type'] = train_data['case_type'].astype('str')\n",
    "train_data['c_asy_type'] = train_data['c_asy_type'].astype('str')\n",
    "train_data['lang_hearing'] = train_data['lang_hearing'].astype('str')\n",
    "\n",
    "if (not flag_baseline): \n",
    "    if not flag_temponly:\n",
    "        train_data['hearing_loc_code'] = train_data['hearing_loc_code'].astype('str')\n",
    "        train_data['hearing_city'] = train_data['hearing_city'].astype('str')\n",
    "        train_data['base_city'] = train_data['base_city'].astype('str')\n",
    "    if not flag_spatialonly:\n",
    "        train_data['hearingMonth'] = train_data['hearingMonth'].astype('str')\n",
    "        train_data['hearingDayOfWeek'] = train_data['hearingDayOfWeek'].astype('str')    \n",
    "        train_data['hearingYear'] = train_data['hearingYear'].astype('float64')\n",
    "        train_data['pres_aff'] = train_data['pres_aff'].astype('str')\n",
    "    #if not flag_early:\n",
    "        #train_data['hearingMonth'] = train_data['hearingMonth'].astype('str')\n",
    "    \n",
    "    "
   ]
  },
  {
   "cell_type": "code",
   "execution_count": 9,
   "metadata": {},
   "outputs": [
    {
     "data": {
      "text/plain": [
       "dec                                float64\n",
       "nat                                 object\n",
       "case_type                           object\n",
       "c_asy_type                          object\n",
       "hearing_loc_code                    object\n",
       "attorney_flag                      float64\n",
       "tracid                              object\n",
       "hearing_city                        object\n",
       "base_city                           object\n",
       "adj_medium                          object\n",
       "sched_type                          object\n",
       "lang_hearing                        object\n",
       "numHearingsPerProc                   int64\n",
       "durationFirstLastHearing             int64\n",
       "pres_aff                            object\n",
       "osc_date_delta                       int64\n",
       "caseDuration                         int64\n",
       "hearingDayOfWeek                    object\n",
       "hearingYear                        float64\n",
       "hearingMonth                        object\n",
       "nat_num_last1yr_late               float64\n",
       "nat_gr_last1yr_late                float64\n",
       "nat_dmy_last1yr_late               float64\n",
       "tracid_num_last1yr_late            float64\n",
       "tracid_gr_last1yr_late             float64\n",
       "tracid_dmy_last1yr_late            float64\n",
       "base_city_code_num_last1yr_late    float64\n",
       "base_city_code_gr_last1yr_late     float64\n",
       "base_city_code_dmy_last1yr_late    float64\n",
       "tracid_gr_last10d                  float64\n",
       "tracid_dmy_last10d                 float64\n",
       "dtype: object"
      ]
     },
     "execution_count": 9,
     "metadata": {},
     "output_type": "execute_result"
    }
   ],
   "source": [
    "# last minute inspection of features and dtypes to make sure they are correct\n",
    "train_data.dtypes"
   ]
  },
  {
   "cell_type": "code",
   "execution_count": 10,
   "metadata": {},
   "outputs": [],
   "source": [
    "#these showed that these two columns have nans for late\n",
    "#np.any(np.isnan(X_train.averageHearingDur))\n",
    "#np.any(np.isnan(X_train.durationHearing))\n"
   ]
  },
  {
   "cell_type": "code",
   "execution_count": 11,
   "metadata": {},
   "outputs": [],
   "source": [
    "# make input and output variables\n",
    "y_train = train_data['dec']\n",
    "X_train = train_data.drop(columns=['dec'], axis=1)"
   ]
  },
  {
   "cell_type": "markdown",
   "metadata": {},
   "source": [
    "## Generating Pipeline"
   ]
  },
  {
   "cell_type": "code",
   "execution_count": 12,
   "metadata": {},
   "outputs": [],
   "source": [
    "class Selector(BaseEstimator, TransformerMixin):\n",
    "    def __init__(self, dtype):\n",
    "        self.dtype = dtype\n",
    "    def fit(self, X, y=None):\n",
    "        return self\n",
    "    def transform(self, X):\n",
    "        num_frame = X.select_dtypes(include=[self.dtype])\n",
    "        self.names = num_frame.columns\n",
    "        return num_frame\n",
    "    def get_feature_names(self):\n",
    "        return self.names.tolist()"
   ]
  },
  {
   "cell_type": "code",
   "execution_count": 13,
   "metadata": {},
   "outputs": [],
   "source": [
    "class CustomLabelEncoder(BaseEstimator, TransformerMixin):\n",
    "    def fit(self, X, y=None):\n",
    "        return self\n",
    "    def transform(self, X):\n",
    "        #X = np.asarray(pd.get_dummies(X))\n",
    "        #self.names = X.columns \n",
    "        self.names = np.array(0)\n",
    "        self.orig_classes = np.array(0)\n",
    "        for col in X.columns:\n",
    "            le = LabelEncoder()\n",
    "            X[col] = le.fit_transform(X[col])\n",
    "            #cat_frame = X.apply(le.fit_transform)\n",
    "            self.names = np.append(self.names, le.classes_)\n",
    "            c_list = np.array(0)\n",
    "            for f in le.classes_:\n",
    "                c_list = np.append(c_list,col)\n",
    "            c_list = c_list[1:]\n",
    "            self.orig_classes = np.append(self.orig_classes, c_list)\n",
    "        self.names = self.names[1:]\n",
    "        self.orig_classes =  self.orig_classes[1:]\n",
    "    \n",
    "        return X\n",
    "    def get_feature_names(self):\n",
    "        return self.names.tolist()\n",
    "    def get_orig_classes(self): \n",
    "        # returns original variable type of the feature, i.e. nat\n",
    "        return self.orig_classes.tolist()"
   ]
  },
  {
   "cell_type": "code",
   "execution_count": 14,
   "metadata": {},
   "outputs": [],
   "source": [
    "# CODE FOR PUTTING FEATURES IN CORRECT FORMAT FOR EACH MODEL\n",
    "\n",
    "# shift and scale numerical data\n",
    "num_pipeline = Pipeline([\n",
    "        ('selector', Selector(np.number)),\n",
    "        ('scaler', StandardScaler()),\n",
    "])\n",
    "\n",
    "# categorical for random forest\n",
    "cat_pipeline = Pipeline([\n",
    "        ('selector', Selector('object')),\n",
    "        ('labeler', CustomLabelEncoder())\n",
    "]) \n",
    "\n",
    "# one hot encoding categorical features for regression\n",
    "cat_pipeline_reg = Pipeline([\n",
    "        ('selector', Selector('object')),\n",
    "        ('labeler', CustomLabelEncoder()),\n",
    "        ('encoder', OneHotEncoder())\n",
    "]) \n",
    "\n",
    "# feature pipeline for random forest\n",
    "full_pipeline = FeatureUnion(transformer_list=[ \n",
    "        ('numerical', num_pipeline),  \n",
    "        ('categorical', cat_pipeline)   \n",
    "])  \n",
    "\n",
    "# feature pipeline for regression\n",
    "full_pipeline_reg = FeatureUnion(transformer_list=[ \n",
    "        ('numerical', num_pipeline),  \n",
    "        ('categorical', cat_pipeline_reg)   \n",
    "])  "
   ]
  },
  {
   "cell_type": "markdown",
   "metadata": {},
   "source": [
    "## Pipeline-for regression models\n",
    "### (categorical variables one hot encoded)"
   ]
  },
  {
   "cell_type": "code",
   "execution_count": 15,
   "metadata": {},
   "outputs": [],
   "source": [
    "# training data for regression\n",
    "X_train_tr_reg = full_pipeline_reg.fit_transform(X_train)"
   ]
  },
  {
   "cell_type": "code",
   "execution_count": 16,
   "metadata": {},
   "outputs": [
    {
     "data": {
      "text/plain": [
       "['attorney_flag',\n",
       " 'numHearingsPerProc',\n",
       " 'durationFirstLastHearing',\n",
       " 'osc_date_delta',\n",
       " 'caseDuration',\n",
       " 'hearingYear',\n",
       " 'nat_num_last1yr_late',\n",
       " 'nat_gr_last1yr_late',\n",
       " 'nat_dmy_last1yr_late',\n",
       " 'tracid_num_last1yr_late',\n",
       " 'tracid_gr_last1yr_late',\n",
       " 'tracid_dmy_last1yr_late',\n",
       " 'base_city_code_num_last1yr_late',\n",
       " 'base_city_code_gr_last1yr_late',\n",
       " 'base_city_code_dmy_last1yr_late',\n",
       " 'tracid_gr_last10d',\n",
       " 'tracid_dmy_last10d']"
      ]
     },
     "execution_count": 16,
     "metadata": {},
     "output_type": "execute_result"
    }
   ],
   "source": [
    "num_features = num_pipeline.named_steps['selector'].get_feature_names()\n",
    "cat_features = cat_pipeline_reg.named_steps['labeler'].get_feature_names()\n",
    "cat_classes = cat_pipeline_reg.named_steps['labeler'].get_orig_classes()\n",
    "num_features"
   ]
  },
  {
   "cell_type": "markdown",
   "metadata": {},
   "source": [
    "## Hyperparameter Grid Search On Logistic Regression"
   ]
  },
  {
   "cell_type": "code",
   "execution_count": 17,
   "metadata": {},
   "outputs": [],
   "source": [
    "# HYPERPARAMETERS (differences in regularization parameter because of different number of features per model)\n",
    "\n",
    "if flag_baseline or (flag_early and (flag_spatialonly or flag_temponly)): \n",
    "    c_vec = 10**np.arange(-3,2).astype('float64')\n",
    "elif flag_early:\n",
    "    c_vec = 10**np.arange(-10,-3).astype('float64')\n",
    "else: \n",
    "     c_vec = 10**np.arange(-7,-1).astype('float64')\n",
    "        \n",
    "param_grid = {'penalty': ['l1','l2'], 'C': c_vec}"
   ]
  },
  {
   "cell_type": "code",
   "execution_count": 18,
   "metadata": {},
   "outputs": [
    {
     "name": "stdout",
     "output_type": "stream",
     "text": [
      "    mean_fit_time  mean_score_time  mean_test_score  mean_train_score param_C  \\\n",
      "0        1.368106         0.035317         0.500000          0.500000   1e-07   \n",
      "1        2.120039         0.070248         0.853738          0.798680   1e-07   \n",
      "2        1.785406         0.047895         0.500000          0.500000   1e-06   \n",
      "3        1.833263         0.051707         0.854553          0.807931   1e-06   \n",
      "4        1.456050         0.038074         0.500000          0.500000   1e-05   \n",
      "5        2.453006         0.054972         0.853002          0.837582   1e-05   \n",
      "6        2.948437         0.059475         0.854776          0.845559  0.0001   \n",
      "7        4.673710         0.072568         0.841209          0.857294  0.0001   \n",
      "8        7.744091         0.111103         0.832367          0.857064   0.001   \n",
      "9       11.279418         0.100754         0.819927          0.865813   0.001   \n",
      "10      35.714748         0.081598         0.806742          0.866255    0.01   \n",
      "11      18.583347         0.053251         0.802994          0.871706    0.01   \n",
      "\n",
      "   param_penalty                          params  rank_test_score  \\\n",
      "0             l1   {'C': 1e-07, 'penalty': 'l1'}               10   \n",
      "1             l2   {'C': 1e-07, 'penalty': 'l2'}                3   \n",
      "2             l1   {'C': 1e-06, 'penalty': 'l1'}               10   \n",
      "3             l2   {'C': 1e-06, 'penalty': 'l2'}                2   \n",
      "4             l1   {'C': 1e-05, 'penalty': 'l1'}               10   \n",
      "5             l2   {'C': 1e-05, 'penalty': 'l2'}                4   \n",
      "6             l1  {'C': 0.0001, 'penalty': 'l1'}                1   \n",
      "7             l2  {'C': 0.0001, 'penalty': 'l2'}                5   \n",
      "8             l1   {'C': 0.001, 'penalty': 'l1'}                6   \n",
      "9             l2   {'C': 0.001, 'penalty': 'l2'}                7   \n",
      "10            l1    {'C': 0.01, 'penalty': 'l1'}                8   \n",
      "11            l2    {'C': 0.01, 'penalty': 'l2'}                9   \n",
      "\n",
      "    split0_test_score  split0_train_score       ...         split2_test_score  \\\n",
      "0            0.500000            0.500000       ...                  0.500000   \n",
      "1            0.816381            0.825743       ...                  0.870077   \n",
      "2            0.500000            0.500000       ...                  0.500000   \n",
      "3            0.819283            0.831637       ...                  0.868465   \n",
      "4            0.500000            0.500000       ...                  0.500000   \n",
      "5            0.825745            0.851897       ...                  0.852556   \n",
      "6            0.825594            0.856983       ...                  0.852566   \n",
      "7            0.828096            0.868157       ...                  0.821370   \n",
      "8            0.829407            0.867350       ...                  0.817462   \n",
      "9            0.825759            0.874990       ...                  0.800162   \n",
      "10           0.821044            0.875427       ...                  0.794078   \n",
      "11           0.821709            0.880244       ...                  0.789757   \n",
      "\n",
      "    split2_train_score  split3_test_score  split3_train_score  \\\n",
      "0             0.500000           0.500000            0.500000   \n",
      "1             0.779718           0.874210            0.789644   \n",
      "2             0.500000           0.500000            0.500000   \n",
      "3             0.792793           0.871266            0.801766   \n",
      "4             0.500000           0.500000            0.500000   \n",
      "5             0.832240           0.853615            0.838260   \n",
      "6             0.839514           0.863355            0.844525   \n",
      "7             0.852873           0.827417            0.858830   \n",
      "8             0.851050           0.818311            0.858795   \n",
      "9             0.860223           0.801338            0.867180   \n",
      "10            0.860264           0.790738            0.867865   \n",
      "11            0.865968           0.780991            0.873826   \n",
      "\n",
      "    split4_test_score  split4_train_score  std_fit_time  std_score_time  \\\n",
      "0            0.500000            0.500000      0.153241        0.005989   \n",
      "1            0.880815            0.803624      0.106701        0.024117   \n",
      "2            0.500000            0.500000      0.102161        0.020432   \n",
      "3            0.883778            0.809834      0.155507        0.007727   \n",
      "4            0.500000            0.500000      0.152509        0.001588   \n",
      "5            0.894074            0.832777      0.091882        0.005932   \n",
      "6            0.891142            0.842897      0.400671        0.011159   \n",
      "7            0.903249            0.852675      0.327922        0.015338   \n",
      "8            0.901225            0.852577      1.847843        0.051363   \n",
      "9            0.909459            0.860760      1.315153        0.025680   \n",
      "10           0.909735            0.860700     19.120998        0.060426   \n",
      "11           0.912607            0.865792      0.963453        0.004874   \n",
      "\n",
      "    std_test_score  std_train_score  \n",
      "0         0.000000         0.000000  \n",
      "1         0.026528         0.015583  \n",
      "2         0.000000         0.000000  \n",
      "3         0.025200         0.013049  \n",
      "4         0.000000         0.000000  \n",
      "5         0.022917         0.007490  \n",
      "6         0.022073         0.005967  \n",
      "7         0.031108         0.005874  \n",
      "8         0.036150         0.005786  \n",
      "9         0.049064         0.005346  \n",
      "10        0.061778         0.005551  \n",
      "11        0.065863         0.005409  \n",
      "\n",
      "[12 rows x 22 columns]\n"
     ]
    }
   ],
   "source": [
    "# FIT MODEL AND PRINT RESULTS\n",
    "\n",
    "log_reg = LogisticRegression()\n",
    "grid_search = GridSearchCV(log_reg, param_grid, cv=5, scoring='roc_auc', n_jobs=-1)\n",
    "\n",
    "grid_search.fit(X_train_tr_reg, y_train)\n",
    "result = pd.DataFrame(grid_search.cv_results_)\n",
    "print(result)"
   ]
  },
  {
   "cell_type": "code",
   "execution_count": 19,
   "metadata": {},
   "outputs": [],
   "source": [
    "final_model = grid_search.best_estimator_\n",
    "feature_weight = np.abs(grid_search.best_estimator_.coef_[0])"
   ]
  },
  {
   "cell_type": "code",
   "execution_count": 20,
   "metadata": {},
   "outputs": [
    {
     "data": {
      "text/plain": [
       "([<matplotlib.axis.YTick at 0x7f42181a1438>,\n",
       "  <matplotlib.axis.YTick at 0x7f421816a6a0>,\n",
       "  <matplotlib.axis.YTick at 0x7f4218fcf940>,\n",
       "  <matplotlib.axis.YTick at 0x7f421811ed68>,\n",
       "  <matplotlib.axis.YTick at 0x7f42180af278>,\n",
       "  <matplotlib.axis.YTick at 0x7f42180af780>,\n",
       "  <matplotlib.axis.YTick at 0x7f42180afc88>,\n",
       "  <matplotlib.axis.YTick at 0x7f42180b71d0>,\n",
       "  <matplotlib.axis.YTick at 0x7f42180b76d8>,\n",
       "  <matplotlib.axis.YTick at 0x7f42180b7be0>,\n",
       "  <matplotlib.axis.YTick at 0x7f42180bd160>,\n",
       "  <matplotlib.axis.YTick at 0x7f42180b7f60>,\n",
       "  <matplotlib.axis.YTick at 0x7f42180af588>,\n",
       "  <matplotlib.axis.YTick at 0x7f42180bd080>,\n",
       "  <matplotlib.axis.YTick at 0x7f42180bda90>,\n",
       "  <matplotlib.axis.YTick at 0x7f42180bde80>,\n",
       "  <matplotlib.axis.YTick at 0x7f42180c34e0>,\n",
       "  <matplotlib.axis.YTick at 0x7f42180c39e8>,\n",
       "  <matplotlib.axis.YTick at 0x7f42180c3ef0>,\n",
       "  <matplotlib.axis.YTick at 0x7f42180ca438>,\n",
       "  <matplotlib.axis.YTick at 0x7f42180c39b0>,\n",
       "  <matplotlib.axis.YTick at 0x7f42180bdb70>,\n",
       "  <matplotlib.axis.YTick at 0x7f42180ca7f0>,\n",
       "  <matplotlib.axis.YTick at 0x7f42180cad68>,\n",
       "  <matplotlib.axis.YTick at 0x7f42180d22b0>,\n",
       "  <matplotlib.axis.YTick at 0x7f42180d27b8>,\n",
       "  <matplotlib.axis.YTick at 0x7f42180d2cc0>,\n",
       "  <matplotlib.axis.YTick at 0x7f42180d9208>,\n",
       "  <matplotlib.axis.YTick at 0x7f42180d9710>,\n",
       "  <matplotlib.axis.YTick at 0x7f42180d9c18>],\n",
       " <a list of 30 Text yticklabel objects>)"
      ]
     },
     "execution_count": 20,
     "metadata": {},
     "output_type": "execute_result"
    },
    {
     "data": {
      "image/png": "[encoded data removed]",
      "text/plain": [
       "<Figure size 432x288 with 1 Axes>"
      ]
     },
     "metadata": {},
     "output_type": "display_data"
    }
   ],
   "source": [
    "# PLOT FEATURE IMPORTANCE (summed absolute weights)\n",
    "\n",
    "# simplify feature weights--sum together all weights for a given category (all nationalities)\n",
    "num_features = num_pipeline.named_steps['selector'].get_feature_names()\n",
    "cat_features = cat_pipeline_reg.named_steps['labeler'].get_feature_names()\n",
    "cat_classes = cat_pipeline_reg.named_steps['labeler'].get_orig_classes()\n",
    "attributes = np.append(num_features,pd.unique(cat_classes)) \n",
    "attributes_long = num_features + cat_classes #for each of >1000 feature, lists original feature name, i.e. nat or tracid\n",
    "feature_weight_simple = np.zeros(len(attributes))\n",
    "for i in range(len(attributes)):\n",
    "    weights = feature_weight[[x == attributes[i] for x in attributes_long]]\n",
    "    feature_weight_simple[i] = np.sum(weights)\n",
    "    \n",
    "indices = np.argsort(feature_weight_simple)\n",
    "plt.title('Feature Importances')\n",
    "plt.barh(range(len(indices)), feature_weight_simple[indices], align='center')\n",
    "plt.yticks(range(len(indices)), [attributes[i] for i in indices])\n"
   ]
  },
  {
   "cell_type": "markdown",
   "metadata": {},
   "source": [
    "## Evaluate on Test Set"
   ]
  },
  {
   "cell_type": "code",
   "execution_count": 21,
   "metadata": {},
   "outputs": [],
   "source": [
    "test = file[file.idncase.isin(test_cases.num)] #don't need this now\n",
    "test_data = clean.transform(test)\n",
    "test_data.dtypes\n",
    "y_test = test_data['dec']\n",
    "X_test = test_data.drop(columns=['dec'], axis=1)"
   ]
  },
  {
   "cell_type": "code",
   "execution_count": 22,
   "metadata": {},
   "outputs": [
    {
     "data": {
      "text/plain": [
       "nat                                 object\n",
       "case_type                           object\n",
       "c_asy_type                          object\n",
       "hearing_loc_code                    object\n",
       "attorney_flag                      float64\n",
       "tracid                              object\n",
       "hearing_city                        object\n",
       "base_city                           object\n",
       "adj_medium                          object\n",
       "sched_type                          object\n",
       "lang_hearing                        object\n",
       "numHearingsPerProc                   int64\n",
       "durationFirstLastHearing             int64\n",
       "pres_aff                            object\n",
       "osc_date_delta                       int64\n",
       "caseDuration                         int64\n",
       "hearingDayOfWeek                    object\n",
       "hearingYear                        float64\n",
       "hearingMonth                        object\n",
       "nat_num_last1yr_late               float64\n",
       "nat_gr_last1yr_late                float64\n",
       "nat_dmy_last1yr_late               float64\n",
       "tracid_num_last1yr_late            float64\n",
       "tracid_gr_last1yr_late             float64\n",
       "tracid_dmy_last1yr_late            float64\n",
       "base_city_code_num_last1yr_late    float64\n",
       "base_city_code_gr_last1yr_late     float64\n",
       "base_city_code_dmy_last1yr_late    float64\n",
       "tracid_gr_last10d                  float64\n",
       "tracid_dmy_last10d                 float64\n",
       "dtype: object"
      ]
     },
     "execution_count": 22,
     "metadata": {},
     "output_type": "execute_result"
    }
   ],
   "source": [
    "X_test.dtypes"
   ]
  },
  {
   "cell_type": "code",
   "execution_count": null,
   "metadata": {},
   "outputs": [],
   "source": [
    "test = file[file.idncase.isin(test_cases.num)] #don't need this now\n",
    "test_data = clean.transform(test)\n",
    "y_test = test_data['dec']\n",
    "X_test = test_data.drop(columns=['dec'], axis=1)\n",
    "X_test_tr = full_pipeline_reg.transform(X_test)"
   ]
  },
  {
   "cell_type": "code",
   "execution_count": null,
   "metadata": {},
   "outputs": [],
   "source": [
    "#num_features = num_pipeline.named_steps['selector'].get_feature_names()\n",
    "#cat_features = cat_pipeline.named_steps['labeler'].get_feature_names()"
   ]
  },
  {
   "cell_type": "code",
   "execution_count": null,
   "metadata": {},
   "outputs": [],
   "source": [
    "print(final_model.score(X_test_tr, y_test))"
   ]
  },
  {
   "cell_type": "markdown",
   "metadata": {},
   "source": [
    "## Hyperparameter Grid Search On Decision Tree"
   ]
  },
  {
   "cell_type": "code",
   "execution_count": 29,
   "metadata": {},
   "outputs": [],
   "source": [
    "# DELETE THIS ENTIRE SECTION?!!?!?\n",
    "X_train_tr = full_pipeline.fit_transform(X_train)"
   ]
  },
  {
   "cell_type": "code",
   "execution_count": 30,
   "metadata": {},
   "outputs": [
    {
     "data": {
      "text/plain": [
       "(438696, 26)"
      ]
     },
     "execution_count": 30,
     "metadata": {},
     "output_type": "execute_result"
    }
   ],
   "source": [
    "X_train_tr.shape"
   ]
  },
  {
   "cell_type": "code",
   "execution_count": 24,
   "metadata": {},
   "outputs": [
    {
     "ename": "AttributeError",
     "evalue": "'numpy.ndarray' object has no attribute 'head'",
     "output_type": "error",
     "traceback": [
      "\u001b[0;31m---------------------------------------------------------------------------\u001b[0m",
      "\u001b[0;31mAttributeError\u001b[0m                            Traceback (most recent call last)",
      "\u001b[0;32m<ipython-input-24-dff43687e26b>\u001b[0m in \u001b[0;36m<module>\u001b[0;34m()\u001b[0m\n\u001b[0;32m----> 1\u001b[0;31m \u001b[0mX_train_tr\u001b[0m\u001b[0;34m.\u001b[0m\u001b[0mhead\u001b[0m\u001b[0;34m\u001b[0m\u001b[0m\n\u001b[0m",
      "\u001b[0;31mAttributeError\u001b[0m: 'numpy.ndarray' object has no attribute 'head'"
     ]
    }
   ],
   "source": [
    "X_train_tr.head"
   ]
  },
  {
   "cell_type": "code",
   "execution_count": 61,
   "metadata": {},
   "outputs": [],
   "source": [
    "param_grid_dt = {\"max_depth\": [10, 5, 3, 1, None],\n",
    "        \"max_features\": randint(1, min(20,X_train_tr.shape[1]-1)),\n",
    "        \"min_samples_leaf\": randint(1, 20),\n",
    "        \"criterion\": [\"gini\", \"entropy\"]}"
   ]
  },
  {
   "cell_type": "code",
   "execution_count": 62,
   "metadata": {},
   "outputs": [
    {
     "name": "stdout",
     "output_type": "stream",
     "text": [
      "   mean_fit_time  mean_score_time  mean_test_score  mean_train_score  \\\n",
      "0       0.953832         0.110080         0.655707          0.763854   \n",
      "1       1.909836         0.136338         0.630299          0.752670   \n",
      "2       1.818806         0.163459         0.651519          0.879750   \n",
      "3       1.009844         0.094178         0.572087          0.607357   \n",
      "4       1.712396         0.062882         0.673123          0.817665   \n",
      "5       1.075524         0.067035         0.601877          0.711458   \n",
      "6       0.933877         0.088933         0.603698          0.707013   \n",
      "7       0.861367         0.136385         0.543261          0.607910   \n",
      "8       1.334851         0.082000         0.667590          0.813420   \n",
      "9       0.838890         0.059585         0.653073          0.771945   \n",
      "\n",
      "  param_criterion param_max_depth param_max_features param_min_samples_leaf  \\\n",
      "0         entropy              10                  1                     13   \n",
      "1            gini               5                  5                      7   \n",
      "2            gini            None                  1                      3   \n",
      "3         entropy               1                  3                      8   \n",
      "4         entropy              10                  5                      3   \n",
      "5         entropy               3                  5                     11   \n",
      "6         entropy               5                  1                     12   \n",
      "7            gini               1                  6                      4   \n",
      "8         entropy              10                  4                      7   \n",
      "9         entropy              10                  1                     18   \n",
      "\n",
      "                                              params  rank_test_score  \\\n",
      "0  {'criterion': 'entropy', 'max_depth': 10, 'max...                3   \n",
      "1  {'criterion': 'gini', 'max_depth': 5, 'max_fea...                6   \n",
      "2  {'criterion': 'gini', 'max_depth': None, 'max_...                5   \n",
      "3  {'criterion': 'entropy', 'max_depth': 1, 'max_...                9   \n",
      "4  {'criterion': 'entropy', 'max_depth': 10, 'max...                1   \n",
      "5  {'criterion': 'entropy', 'max_depth': 3, 'max_...                8   \n",
      "6  {'criterion': 'entropy', 'max_depth': 5, 'max_...                7   \n",
      "7  {'criterion': 'gini', 'max_depth': 1, 'max_fea...               10   \n",
      "8  {'criterion': 'entropy', 'max_depth': 10, 'max...                2   \n",
      "9  {'criterion': 'entropy', 'max_depth': 10, 'max...                4   \n",
      "\n",
      "        ...         split2_test_score  split2_train_score  split3_test_score  \\\n",
      "0       ...                  0.709707            0.772540           0.629552   \n",
      "1       ...                  0.667103            0.744418           0.600680   \n",
      "2       ...                  0.713839            0.890363           0.634137   \n",
      "3       ...                  0.573281            0.608674           0.552271   \n",
      "4       ...                  0.733652            0.804110           0.651969   \n",
      "5       ...                  0.681676            0.689139           0.606615   \n",
      "6       ...                  0.598700            0.693685           0.656392   \n",
      "7       ...                  0.577628            0.620946           0.539961   \n",
      "8       ...                  0.715027            0.802696           0.653253   \n",
      "9       ...                  0.691386            0.766468           0.617163   \n",
      "\n",
      "   split3_train_score  split4_test_score  split4_train_score  std_fit_time  \\\n",
      "0            0.782312           0.788219            0.722580      0.158876   \n",
      "1            0.768402           0.700362            0.734777      0.089529   \n",
      "2            0.859631           0.656553            0.879059      0.208778   \n",
      "3            0.620948           0.656397            0.587896      0.085820   \n",
      "4            0.825715           0.700782            0.796218      0.255181   \n",
      "5            0.726515           0.498736            0.702010      0.246061   \n",
      "6            0.717095           0.583362            0.680825      0.144272   \n",
      "7            0.590523           0.578538            0.580879      0.262255   \n",
      "8            0.824116           0.681813            0.794828      0.161616   \n",
      "9            0.753589           0.655975            0.759233      0.101584   \n",
      "\n",
      "   std_score_time  std_test_score  std_train_score  \n",
      "0        0.041978        0.085646         0.021244  \n",
      "1        0.072410        0.045040         0.013027  \n",
      "2        0.075674        0.036671         0.010883  \n",
      "3        0.046663        0.045560         0.010875  \n",
      "4        0.026302        0.040002         0.014991  \n",
      "5        0.034219        0.058654         0.014100  \n",
      "6        0.048967        0.039147         0.016939  \n",
      "7        0.062467        0.031129         0.021253  \n",
      "8        0.031644        0.027659         0.012236  \n",
      "9        0.027266        0.040858         0.019426  \n",
      "\n",
      "[10 rows x 24 columns]\n"
     ]
    }
   ],
   "source": [
    "dec_tree = DecisionTreeClassifier()\n",
    "grid_search_dt = RandomizedSearchCV(dec_tree, param_grid_dt, cv=5, scoring='roc_auc', n_jobs=-1)\n",
    "grid_search_dt.fit(X_train_tr, y_train)\n",
    "result = pd.DataFrame(grid_search_dt.cv_results_)\n",
    "print(result)"
   ]
  },
  {
   "cell_type": "code",
   "execution_count": 63,
   "metadata": {},
   "outputs": [
    {
     "ename": "NameError",
     "evalue": "name 'X_test_tr' is not defined",
     "output_type": "error",
     "traceback": [
      "\u001b[0;31m---------------------------------------------------------------------------\u001b[0m",
      "\u001b[0;31mNameError\u001b[0m                                 Traceback (most recent call last)",
      "\u001b[0;32m<ipython-input-63-42e8a1b1446d>\u001b[0m in \u001b[0;36m<module>\u001b[0;34m()\u001b[0m\n\u001b[1;32m      1\u001b[0m \u001b[0mfinal_model_dt\u001b[0m \u001b[0;34m=\u001b[0m \u001b[0mgrid_search_dt\u001b[0m\u001b[0;34m.\u001b[0m\u001b[0mbest_estimator_\u001b[0m\u001b[0;34m\u001b[0m\u001b[0m\n\u001b[0;32m----> 2\u001b[0;31m \u001b[0mprint\u001b[0m\u001b[0;34m(\u001b[0m\u001b[0mfinal_model_dt\u001b[0m\u001b[0;34m.\u001b[0m\u001b[0mscore\u001b[0m\u001b[0;34m(\u001b[0m\u001b[0mX_test_tr\u001b[0m\u001b[0;34m,\u001b[0m \u001b[0my_test\u001b[0m\u001b[0;34m)\u001b[0m\u001b[0;34m)\u001b[0m\u001b[0;34m\u001b[0m\u001b[0m\n\u001b[0m",
      "\u001b[0;31mNameError\u001b[0m: name 'X_test_tr' is not defined"
     ]
    }
   ],
   "source": [
    "final_model_dt = grid_search_dt.best_estimator_\n",
    "print(final_model_dt.score(X_test_tr, y_test))"
   ]
  },
  {
   "cell_type": "code",
   "execution_count": 64,
   "metadata": {},
   "outputs": [
    {
     "data": {
      "text/plain": [
       "Text(0.5,0,'Relative Importance')"
      ]
     },
     "execution_count": 64,
     "metadata": {},
     "output_type": "execute_result"
    },
    {
     "data": {
      "image/png": "[encoded data removed]",
      "text/plain": [
       "<Figure size 432x288 with 1 Axes>"
      ]
     },
     "metadata": {},
     "output_type": "display_data"
    }
   ],
   "source": [
    "feature_weight_dt = grid_search_dt.best_estimator_.feature_importances_\n",
    "num_features = num_pipeline.named_steps['selector'].get_feature_names()\n",
    "cat_features = cat_pipeline.named_steps['selector'].get_feature_names()\n",
    "attributes = num_features + cat_features\n",
    "indices = np.argsort(feature_weight_dt)\n",
    "ordered_attributes = [attributes[i] for i in indices]\n",
    "\n",
    "plt.figure(1)\n",
    "plt.title('Feature Importances')\n",
    "plt.barh(range(len(indices)), feature_weight_dt[indices], align='center')\n",
    "plt.yticks(range(len(indices)), ordered_attributes)\n",
    "plt.xlabel('Relative Importance')"
   ]
  },
  {
   "cell_type": "markdown",
   "metadata": {},
   "source": [
    "## Hyperparameter Grid Search On Random forest"
   ]
  },
  {
   "cell_type": "code",
   "execution_count": 31,
   "metadata": {},
   "outputs": [],
   "source": [
    "# HYPERPARAMETERS FOR RANDOM FOREST\n",
    "\n",
    "param_grid_rf = {\n",
    "    'n_estimators': [100, 300, 500],\n",
    "    'max_features': [2, 4, 6, 8, 10],\n",
    "    'bootstrap': [False, True],\n",
    "    'max_depth':[2, 4, 6, 8]\n",
    "}"
   ]
  },
  {
   "cell_type": "code",
   "execution_count": null,
   "metadata": {},
   "outputs": [],
   "source": [
    "# FIT AND PRINT RESULTS OF RANDOM FOREST\n",
    "\n",
    "rf = RandomForestClassifier()\n",
    "grid_search_rf = RandomizedSearchCV(rf, param_grid_rf, cv=5, scoring='roc_auc', n_jobs=-1)\n",
    "grid_search_rf.fit(X_train_tr, y_train)\n",
    "result = pd.DataFrame(grid_search_rf.cv_results_)\n",
    "print(result)"
   ]
  },
  {
   "cell_type": "code",
   "execution_count": 17,
   "metadata": {},
   "outputs": [
    {
     "ename": "NameError",
     "evalue": "name 'X_test_tr' is not defined",
     "output_type": "error",
     "traceback": [
      "\u001b[0;31m---------------------------------------------------------------------------\u001b[0m",
      "\u001b[0;31mNameError\u001b[0m                                 Traceback (most recent call last)",
      "\u001b[0;32m<ipython-input-17-eb7ab3d4a2c5>\u001b[0m in \u001b[0;36m<module>\u001b[0;34m()\u001b[0m\n\u001b[1;32m      1\u001b[0m \u001b[0mfinal_model_rf\u001b[0m \u001b[0;34m=\u001b[0m \u001b[0mgrid_search_rf\u001b[0m\u001b[0;34m.\u001b[0m\u001b[0mbest_estimator_\u001b[0m\u001b[0;34m\u001b[0m\u001b[0m\n\u001b[0;32m----> 2\u001b[0;31m \u001b[0mprint\u001b[0m\u001b[0;34m(\u001b[0m\u001b[0mfinal_model_rf\u001b[0m\u001b[0;34m.\u001b[0m\u001b[0mscore\u001b[0m\u001b[0;34m(\u001b[0m\u001b[0mX_test_tr\u001b[0m\u001b[0;34m,\u001b[0m \u001b[0my_test\u001b[0m\u001b[0;34m)\u001b[0m\u001b[0;34m)\u001b[0m\u001b[0;34m\u001b[0m\u001b[0m\n\u001b[0m",
      "\u001b[0;31mNameError\u001b[0m: name 'X_test_tr' is not defined"
     ]
    }
   ],
   "source": [
    "# EVALUATE RANDOM FOREST ON TEST SET\n",
    "\n",
    "final_model_rf = grid_search_rf.best_estimator_\n",
    "print(final_model_rf.score(X_test_tr, y_test))"
   ]
  },
  {
   "cell_type": "code",
   "execution_count": 19,
   "metadata": {},
   "outputs": [
    {
     "data": {
      "text/plain": [
       "Text(0.5,0,'Relative Importance')"
      ]
     },
     "execution_count": 19,
     "metadata": {},
     "output_type": "execute_result"
    },
    {
     "data": {
      "image/png": "[encoded data removed]",
      "text/plain": [
       "<Figure size 432x288 with 1 Axes>"
      ]
     },
     "metadata": {},
     "output_type": "display_data"
    }
   ],
   "source": [
    "# PLOT FEATURE IMPORTANCE\n",
    "\n",
    "feature_weight_rf = grid_search_rf.best_estimator_.feature_importances_\n",
    "indices_rf = np.argsort(feature_weight_rf)\n",
    "num_features = num_pipeline.named_steps['selector'].get_feature_names()\n",
    "cat_features = cat_pipeline.named_steps['selector'].get_feature_names()\n",
    "attributes = num_features + cat_features\n",
    "ordered_attributes_rf = [attributes[i] for i in indices_rf]\n",
    "plt.figure(1)\n",
    "plt.title('Feature Importances')\n",
    "plt.barh(range(len(indices_rf)), feature_weight_rf[indices_rf], align='center')\n",
    "plt.yticks(range(len(indices_rf)), ordered_attributes_rf)\n",
    "plt.xlabel('Relative Importance')"
   ]
  }
 ],
 "metadata": {
  "kernelspec": {
   "display_name": "Python 3",
   "language": "python",
   "name": "python3"
  },
  "language_info": {
   "codemirror_mode": {
    "name": "ipython",
    "version": 3
   },
   "file_extension": ".py",
   "mimetype": "text/x-python",
   "name": "python",
   "nbconvert_exporter": "python",
   "pygments_lexer": "ipython3",
   "version": "3.6.4"
  }
 },
 "nbformat": 4,
 "nbformat_minor": 2
}
