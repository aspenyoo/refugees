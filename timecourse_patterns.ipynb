{
 "cells": [
  {
   "cell_type": "code",
   "execution_count": 12,
   "metadata": {},
   "outputs": [],
   "source": [
    "import pandas as pd\n",
    "import numpy as np\n",
    "import warnings; \n",
    "import matplotlib.pyplot as plt\n",
    "warnings.simplefilter('ignore')\n",
    "#from sklearn.preprocessing import CategoricalEncoder\n",
    "from sklearn.linear_model import LogisticRegression\n",
    "from sklearn.model_selection import cross_val_score, train_test_split\n",
    "from sklearn.base import BaseEstimator, TransformerMixin\n",
    "from sklearn.pipeline import Pipeline, FeatureUnion\n",
    "from sklearn.preprocessing import LabelEncoder, OneHotEncoder, StandardScaler\n",
    "from sklearn.tree import DecisionTreeClassifier\n",
    "from sklearn.model_selection import GridSearchCV, RandomizedSearchCV\n",
    "from scipy.stats import randint\n",
    "from sklearn.ensemble import RandomForestClassifier\n",
    "\n"
   ]
  },
  {
   "cell_type": "markdown",
   "metadata": {},
   "source": [
    "## Creating Test/Train Sets"
   ]
  },
  {
   "cell_type": "code",
   "execution_count": 41,
   "metadata": {},
   "outputs": [],
   "source": [
    "# this is to toggle the 2 types of time course variables\n",
    "flag_tc = 0\n",
    "\n",
    "if flag_tc:   \n",
    "    tc_cols = ['tracid_gr_1_10d','tracid_gr_11_20d',\n",
    "           'tracid_gr_21_30d', 'tracid_gr_31_40d', 'tracid_gr_41_50d',\n",
    "            'tracid_gr_51_60d', 'tracid_gr_61_70d',\n",
    "           'tracid_gr_71_80d', 'tracid_gr_81_90d','tracid_gr_91_100d']\n",
    "else:\n",
    "    tc_cols = ['nat_gr_1yr', 'nat_gr_2yr','nat_gr_3yr','nat_gr_4yr','nat_gr_5yr',\n",
    "                'nat_gr_6yr','nat_gr_7yr','nat_gr_8yr','nat_gr_9yr','nat_gr_10yr']"
   ]
  },
  {
   "cell_type": "code",
   "execution_count": 42,
   "metadata": {},
   "outputs": [],
   "source": [
    "# loading appropriate files\n",
    "path = '/data/WorkData/spatialtemporal/'\n",
    "file = pd.read_csv(path + 'finalmerge_any_late.csv')\n",
    "timefile = pd.read_csv(path + 'gr_lastyear_late.csv')\n",
    "extra_timefile = pd.read_csv('/data/WorkData/spatialtemporal/extra_timefeatures_late.csv')\n",
    "test_cases = pd.read_csv(path + 'test_cases_last_hearing.csv', header=None)"
   ]
  },
  {
   "cell_type": "code",
   "execution_count": 43,
   "metadata": {},
   "outputs": [
    {
     "data": {
      "text/plain": [
       "Index(['idncase', 'idnproceeding', 'dec', 'numAppsPerProc', 'nat', 'case_type',\n",
       "       'c_asy_type', 'base_city_code', 'hearing_loc_code', 'osc_date',\n",
       "       'comp_date', 'attorney_flag', 'tracid', 'hearing_city', 'base_city',\n",
       "       'numProcPerCase', 'adj_medium', 'adj_date', 'sched_type',\n",
       "       'lang_hearing', 'notice_desc', 'adj_time_start2', 'adj_time_stop2',\n",
       "       'durationHearing', 'adj_rsn_desc', 'numHearingsPerProc',\n",
       "       'durationFirstLastHearing', 'averageHearingDur', 'pres_aff',\n",
       "       'osc_date_delta', 'caseDuration', 'hearingDayOfWeek', 'hearingYear',\n",
       "       'hearingMonth'],\n",
       "      dtype='object')"
      ]
     },
     "execution_count": 43,
     "metadata": {},
     "output_type": "execute_result"
    }
   ],
   "source": [
    "file.columns"
   ]
  },
  {
   "cell_type": "code",
   "execution_count": 44,
   "metadata": {},
   "outputs": [],
   "source": [
    "\n",
    "file = pd.merge(file, timefile, on=['idnproceeding','idncase'])\n",
    "\n",
    "file = pd.merge(file, pd.concat((extra_timefile['idnproceeding'],extra_timefile[tc_cols]),axis=1), on='idnproceeding')\n",
    "\n"
   ]
  },
  {
   "cell_type": "code",
   "execution_count": 45,
   "metadata": {},
   "outputs": [],
   "source": [
    "# get training data set\n",
    "test_cases = test_cases.rename(columns={0:'num'})\n",
    "train = file[~file.idncase.isin(test_cases.num)]"
   ]
  },
  {
   "cell_type": "code",
   "execution_count": 46,
   "metadata": {},
   "outputs": [
    {
     "data": {
      "text/plain": [
       "Index(['idncase', 'idnproceeding', 'dec', 'numAppsPerProc', 'nat', 'case_type',\n",
       "       'c_asy_type', 'base_city_code', 'hearing_loc_code', 'osc_date',\n",
       "       'comp_date', 'attorney_flag', 'tracid', 'hearing_city', 'base_city',\n",
       "       'numProcPerCase', 'adj_medium', 'adj_date', 'sched_type',\n",
       "       'lang_hearing', 'notice_desc', 'adj_time_start2', 'adj_time_stop2',\n",
       "       'durationHearing', 'adj_rsn_desc', 'numHearingsPerProc',\n",
       "       'durationFirstLastHearing', 'averageHearingDur', 'pres_aff',\n",
       "       'osc_date_delta', 'caseDuration', 'hearingDayOfWeek', 'hearingYear',\n",
       "       'hearingMonth', 'nat_num_last1yr_late', 'nat_gr_last1yr_late',\n",
       "       'nat_dmy_last1yr_late', 'tracid_num_last1yr_late',\n",
       "       'tracid_gr_last1yr_late', 'tracid_dmy_last1yr_late',\n",
       "       'base_city_code_num_last1yr_late', 'base_city_code_gr_last1yr_late',\n",
       "       'base_city_code_dmy_last1yr_late', 'tracid_gr_last10d',\n",
       "       'tracid_dmy_last10d', 'nat_gr_1yr', 'nat_gr_2yr', 'nat_gr_3yr',\n",
       "       'nat_gr_4yr', 'nat_gr_5yr', 'nat_gr_6yr', 'nat_gr_7yr', 'nat_gr_8yr',\n",
       "       'nat_gr_9yr', 'nat_gr_10yr'],\n",
       "      dtype='object')"
      ]
     },
     "execution_count": 46,
     "metadata": {},
     "output_type": "execute_result"
    }
   ],
   "source": [
    "train.columns"
   ]
  },
  {
   "cell_type": "code",
   "execution_count": 47,
   "metadata": {},
   "outputs": [],
   "source": [
    "cols =  ['dec','tracid','nat','attorney_flag','c_asy_type','case_type']+tc_cols\n",
    "train_data = train[cols]"
   ]
  },
  {
   "cell_type": "code",
   "execution_count": 48,
   "metadata": {},
   "outputs": [
    {
     "data": {
      "text/plain": [
       "Index(['dec', 'tracid', 'nat', 'attorney_flag', 'c_asy_type', 'case_type',\n",
       "       'nat_gr_1yr', 'nat_gr_2yr', 'nat_gr_3yr', 'nat_gr_4yr', 'nat_gr_5yr',\n",
       "       'nat_gr_6yr', 'nat_gr_7yr', 'nat_gr_8yr', 'nat_gr_9yr', 'nat_gr_10yr'],\n",
       "      dtype='object')"
      ]
     },
     "execution_count": 48,
     "metadata": {},
     "output_type": "execute_result"
    }
   ],
   "source": [
    "train_data.columns"
   ]
  },
  {
   "cell_type": "code",
   "execution_count": 49,
   "metadata": {},
   "outputs": [],
   "source": [
    "# change variables that are incorrect dtypes\n",
    "\n",
    "train_data['tracid'] = train_data['tracid'].astype('str')\n",
    "train_data['nat'] = train_data['nat'].astype('str')\n",
    "train_data['case_type'] = train_data['case_type'].astype('str')\n",
    "train_data['c_asy_type'] = train_data['c_asy_type'].astype('str')\n",
    "\n",
    "\n",
    "    "
   ]
  },
  {
   "cell_type": "code",
   "execution_count": 50,
   "metadata": {},
   "outputs": [
    {
     "data": {
      "text/plain": [
       "dec              float64\n",
       "tracid            object\n",
       "nat               object\n",
       "attorney_flag    float64\n",
       "c_asy_type        object\n",
       "case_type         object\n",
       "nat_gr_1yr       float64\n",
       "nat_gr_2yr       float64\n",
       "nat_gr_3yr       float64\n",
       "nat_gr_4yr       float64\n",
       "nat_gr_5yr       float64\n",
       "nat_gr_6yr       float64\n",
       "nat_gr_7yr       float64\n",
       "nat_gr_8yr       float64\n",
       "nat_gr_9yr       float64\n",
       "nat_gr_10yr      float64\n",
       "dtype: object"
      ]
     },
     "execution_count": 50,
     "metadata": {},
     "output_type": "execute_result"
    }
   ],
   "source": [
    "# last minute inspection of dtypes to make sure they are correct\n",
    "train_data.dtypes"
   ]
  },
  {
   "cell_type": "code",
   "execution_count": 51,
   "metadata": {},
   "outputs": [],
   "source": [
    "y_train = train_data['dec']\n",
    "X_train = train_data.drop(columns=['dec'], axis=1)"
   ]
  },
  {
   "cell_type": "markdown",
   "metadata": {},
   "source": [
    "## Generating Pipeline"
   ]
  },
  {
   "cell_type": "code",
   "execution_count": 52,
   "metadata": {},
   "outputs": [],
   "source": [
    "class Selector(BaseEstimator, TransformerMixin):\n",
    "    def __init__(self, dtype):\n",
    "        self.dtype = dtype\n",
    "    def fit(self, X, y=None):\n",
    "        return self\n",
    "    def transform(self, X):\n",
    "        num_frame = X.select_dtypes(include=[self.dtype])\n",
    "        self.names = num_frame.columns\n",
    "        return num_frame\n",
    "    def get_feature_names(self):\n",
    "        return self.names.tolist()"
   ]
  },
  {
   "cell_type": "code",
   "execution_count": 53,
   "metadata": {},
   "outputs": [],
   "source": [
    "class CustomLabelEncoder(BaseEstimator, TransformerMixin):\n",
    "    def fit(self, X, y=None):\n",
    "        return self\n",
    "    def transform(self, X):\n",
    "        #X = np.asarray(pd.get_dummies(X))\n",
    "        #self.names = X.columns \n",
    "        self.names = np.array(0)\n",
    "        self.orig_classes = np.array(0)\n",
    "        for col in X.columns:\n",
    "            le = LabelEncoder()\n",
    "            X[col] = le.fit_transform(X[col])\n",
    "            #cat_frame = X.apply(le.fit_transform)\n",
    "            self.names = np.append(self.names, le.classes_)\n",
    "            c_list = np.array(0)\n",
    "            for f in le.classes_:\n",
    "                c_list = np.append(c_list,col)\n",
    "            c_list = c_list[1:]\n",
    "            self.orig_classes = np.append(self.orig_classes, c_list)\n",
    "        self.names = self.names[1:]\n",
    "        self.orig_classes =  self.orig_classes[1:]\n",
    "    \n",
    "        return X\n",
    "    def get_feature_names(self):\n",
    "        return self.names.tolist()\n",
    "    def get_orig_classes(self): \n",
    "        # returns original variable type of the feature, i.e. nat\n",
    "        return self.orig_classes.tolist()"
   ]
  },
  {
   "cell_type": "code",
   "execution_count": 54,
   "metadata": {},
   "outputs": [],
   "source": [
    "num_pipeline = Pipeline([\n",
    "        ('selector', Selector(np.number)),\n",
    "        ('scaler', StandardScaler()),\n",
    "])\n",
    "\n",
    "cat_pipeline = Pipeline([\n",
    "        ('selector', Selector('object')),\n",
    "        ('labeler', CustomLabelEncoder())\n",
    "        #('encoder', OneHotEncoder()),\n",
    "]) \n",
    "\n",
    "full_pipeline = FeatureUnion(transformer_list=[ \n",
    "        ('numerical', num_pipeline),  \n",
    "        ('categorical', cat_pipeline)   \n",
    "])  "
   ]
  },
  {
   "cell_type": "code",
   "execution_count": 55,
   "metadata": {},
   "outputs": [],
   "source": [
    "cat_pipeline_reg = Pipeline([\n",
    "        ('selector', Selector('object')),\n",
    "        ('labeler', CustomLabelEncoder()),\n",
    "        ('encoder', OneHotEncoder())\n",
    "]) \n",
    "\n",
    "full_pipeline_reg = FeatureUnion(transformer_list=[ \n",
    "        ('numerical', num_pipeline),  \n",
    "        ('categorical', cat_pipeline_reg)   \n",
    "])  "
   ]
  },
  {
   "cell_type": "markdown",
   "metadata": {},
   "source": [
    "## Pipeline-for regression models\n",
    "### (categorical variables one hot encoded)"
   ]
  },
  {
   "cell_type": "code",
   "execution_count": 56,
   "metadata": {},
   "outputs": [],
   "source": [
    "X_train_tr_reg = full_pipeline_reg.fit_transform(X_train)"
   ]
  },
  {
   "cell_type": "code",
   "execution_count": 57,
   "metadata": {},
   "outputs": [
    {
     "data": {
      "text/plain": [
       "['attorney_flag',\n",
       " 'nat_gr_1yr',\n",
       " 'nat_gr_2yr',\n",
       " 'nat_gr_3yr',\n",
       " 'nat_gr_4yr',\n",
       " 'nat_gr_5yr',\n",
       " 'nat_gr_6yr',\n",
       " 'nat_gr_7yr',\n",
       " 'nat_gr_8yr',\n",
       " 'nat_gr_9yr',\n",
       " 'nat_gr_10yr']"
      ]
     },
     "execution_count": 57,
     "metadata": {},
     "output_type": "execute_result"
    }
   ],
   "source": [
    "num_features = num_pipeline.named_steps['selector'].get_feature_names()\n",
    "cat_features = cat_pipeline_reg.named_steps['labeler'].get_feature_names()\n",
    "cat_classes = cat_pipeline_reg.named_steps['labeler'].get_orig_classes()\n",
    "num_features"
   ]
  },
  {
   "cell_type": "markdown",
   "metadata": {},
   "source": [
    "## Hyperparameter Grid Search On Logistic Regression"
   ]
  },
  {
   "cell_type": "code",
   "execution_count": 58,
   "metadata": {},
   "outputs": [],
   "source": [
    "c_vec = 10**np.arange(-5,1).astype('float64')\n",
    "param_grid = { 'C': c_vec}\n"
   ]
  },
  {
   "cell_type": "code",
   "execution_count": 59,
   "metadata": {},
   "outputs": [],
   "source": [
    "log_reg = LogisticRegression(penalty='l2')\n",
    "grid_search = GridSearchCV(log_reg, param_grid, cv=5, scoring='roc_auc', n_jobs=-1)\n",
    "\n",
    "grid_search.fit(X_train_tr_reg, y_train)\n",
    "result = pd.DataFrame(grid_search.cv_results_)"
   ]
  },
  {
   "cell_type": "code",
   "execution_count": 60,
   "metadata": {},
   "outputs": [
    {
     "name": "stdout",
     "output_type": "stream",
     "text": [
      "   mean_fit_time  mean_score_time  mean_test_score  mean_train_score param_C  \\\n",
      "0       1.846872         0.069104         0.804727          0.793958   1e-05   \n",
      "1       3.238727         0.066576         0.805005          0.810395  0.0001   \n",
      "2       5.906791         0.107801         0.799147          0.829426   0.001   \n",
      "3      10.809715         0.061024         0.797542          0.850974    0.01   \n",
      "4      14.440365         0.053802         0.793808          0.856188     0.1   \n",
      "5      17.452223         0.038009         0.791909          0.856678       1   \n",
      "\n",
      "          params  rank_test_score  split0_test_score  split0_train_score  \\\n",
      "0   {'C': 1e-05}                2           0.748140            0.807806   \n",
      "1  {'C': 0.0001}                1           0.774221            0.826278   \n",
      "2   {'C': 0.001}                3           0.777627            0.844239   \n",
      "3    {'C': 0.01}                4           0.777208            0.863520   \n",
      "4     {'C': 0.1}                5           0.777653            0.868378   \n",
      "5     {'C': 1.0}                6           0.776746            0.868852   \n",
      "\n",
      "   split1_test_score       ...         split2_test_score  split2_train_score  \\\n",
      "0           0.804064       ...                  0.803970            0.785049   \n",
      "1           0.781135       ...                  0.793068            0.802459   \n",
      "2           0.741825       ...                  0.791809            0.821848   \n",
      "3           0.725625       ...                  0.804079            0.844073   \n",
      "4           0.717422       ...                  0.803101            0.849801   \n",
      "5           0.715285       ...                  0.801395            0.850335   \n",
      "\n",
      "   split3_test_score  split3_train_score  split4_test_score  \\\n",
      "0           0.806837            0.801238           0.860627   \n",
      "1           0.813906            0.812948           0.862698   \n",
      "2           0.815424            0.829830           0.869050   \n",
      "3           0.803911            0.851861           0.876891   \n",
      "4           0.793204            0.857404           0.877660   \n",
      "5           0.790403            0.857882           0.875719   \n",
      "\n",
      "   split4_train_score  std_fit_time  std_score_time  std_test_score  \\\n",
      "0            0.786012      0.208991        0.023003        0.035587   \n",
      "1            0.802125      0.405131        0.020077        0.031836   \n",
      "2            0.821756      0.411134        0.049642        0.042318   \n",
      "3            0.843099      0.955667        0.009205        0.048918   \n",
      "4            0.847733      1.427913        0.009266        0.051407   \n",
      "5            0.848250      1.161454        0.003514        0.051415   \n",
      "\n",
      "   std_train_score  \n",
      "0         0.009006  \n",
      "1         0.008890  \n",
      "2         0.008196  \n",
      "3         0.007343  \n",
      "4         0.007272  \n",
      "5         0.007251  \n",
      "\n",
      "[6 rows x 21 columns]\n"
     ]
    }
   ],
   "source": [
    "print(result)"
   ]
  },
  {
   "cell_type": "code",
   "execution_count": 61,
   "metadata": {},
   "outputs": [],
   "source": [
    "final_model = grid_search.best_estimator_\n",
    "feature_weight = np.abs(grid_search.best_estimator_.coef_[0])"
   ]
  },
  {
   "cell_type": "code",
   "execution_count": 62,
   "metadata": {},
   "outputs": [
    {
     "data": {
      "text/plain": [
       "([<matplotlib.axis.YTick at 0x7f9429c4f780>,\n",
       "  <matplotlib.axis.YTick at 0x7f9429c4fcc0>,\n",
       "  <matplotlib.axis.YTick at 0x7f942a122128>,\n",
       "  <matplotlib.axis.YTick at 0x7f942a6cd5f8>,\n",
       "  <matplotlib.axis.YTick at 0x7f942a6cd780>,\n",
       "  <matplotlib.axis.YTick at 0x7f942a6cd278>,\n",
       "  <matplotlib.axis.YTick at 0x7f942a6cc780>,\n",
       "  <matplotlib.axis.YTick at 0x7f942a6cce80>,\n",
       "  <matplotlib.axis.YTick at 0x7f942a6cc240>,\n",
       "  <matplotlib.axis.YTick at 0x7f942a80c0f0>],\n",
       " <a list of 10 Text yticklabel objects>)"
      ]
     },
     "execution_count": 62,
     "metadata": {},
     "output_type": "execute_result"
    },
    {
     "data": {
      "image/png": "[encoded data removed]",
      "text/plain": [
       "<Figure size 432x288 with 1 Axes>"
      ]
     },
     "metadata": {},
     "output_type": "display_data"
    }
   ],
   "source": [
    "#  weights --just time features\n",
    "num_features = num_pipeline.named_steps['selector'].get_feature_names()\n",
    "indices = [i for i in range(len(num_features)) if num_features[i] in tc_cols]\n",
    "\n",
    "plt.title('Feature Importances')\n",
    "plt.barh(range(len(indices)), feature_weight[indices], align='center')\n",
    "plt.yticks(range(len(indices)), [num_features[i] for i in indices])\n"
   ]
  },
  {
   "cell_type": "code",
   "execution_count": 63,
   "metadata": {},
   "outputs": [
    {
     "data": {
      "text/plain": [
       "array([0.35735963, 0.5660048 , 0.25695048, 0.080542  , 0.01807568,\n",
       "       0.01122183, 0.03673228, 0.04286133, 0.03790376, 0.02316663,\n",
       "       0.00221167, 0.01218836, 0.00428617, 0.16767631, 0.05133141])"
      ]
     },
     "execution_count": 63,
     "metadata": {},
     "output_type": "execute_result"
    },
    {
     "data": {
      "image/png": "[encoded data removed]",
      "text/plain": [
       "<Figure size 432x288 with 1 Axes>"
      ]
     },
     "metadata": {},
     "output_type": "display_data"
    }
   ],
   "source": [
    "# all weights\n",
    "\n",
    "num_features = num_pipeline.named_steps['selector'].get_feature_names()\n",
    "cat_features = cat_pipeline_reg.named_steps['labeler'].get_feature_names()\n",
    "cat_classes = cat_pipeline_reg.named_steps['labeler'].get_orig_classes()\n",
    "attributes = np.append(num_features,pd.unique(cat_classes)) \n",
    "attributes_long = num_features + cat_classes #for each of >1000 feature, lists original feature name, i.e. nat or tracid\n",
    "feature_weight_simple = np.zeros(len(attributes))\n",
    "for i in range(len(attributes)):\n",
    "    weights = feature_weight[[x == attributes[i] for x in attributes_long]]\n",
    "    feature_weight_simple[i] = np.mean(weights)\n",
    "    \n",
    "indices = np.argsort(feature_weight_simple)\n",
    "plt.title('Feature Importances')\n",
    "plt.barh(range(len(indices)), feature_weight_simple[indices], align='center')\n",
    "plt.yticks(range(len(indices)), [attributes[i] for i in indices])\n",
    "feature_weight_simple"
   ]
  },
  {
   "cell_type": "code",
   "execution_count": null,
   "metadata": {},
   "outputs": [],
   "source": []
  }
 ],
 "metadata": {
  "kernelspec": {
   "display_name": "Python 3",
   "language": "python",
   "name": "python3"
  },
  "language_info": {
   "codemirror_mode": {
    "name": "ipython",
    "version": 3
   },
   "file_extension": ".py",
   "mimetype": "text/x-python",
   "name": "python",
   "nbconvert_exporter": "python",
   "pygments_lexer": "ipython3",
   "version": "3.6.4"
  }
 },
 "nbformat": 4,
 "nbformat_minor": 2
}
