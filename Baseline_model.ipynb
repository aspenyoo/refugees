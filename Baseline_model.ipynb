{
 "cells": [
  {
   "cell_type": "markdown",
   "metadata": {},
   "source": [
    "# Baseline_model.ipynb\n",
    "The goal of this model is to predict whether a refugee will be granted asylum based on information available before the actual hearing. For this baseline model, we fit an L2 logistic regression using three variables of interest, described below.\n",
    "\n",
    "#### Features  \n",
    "   * `nat`: applicant's nationality (one hot encoded)\n",
    "   * `tracid`: judge's identification number (one hot encoded)\n",
    "   * `osc_date`: the Notice to Appear date for each proceeding (continuous)  \n",
    "  \n",
    "<br>\n",
    "We define 'asylum granted' in two different ways. These slightly different definitions require different cleaning of the data, which lead to the following two datasets we use in the baseline model.\n",
    "1. `merged_full_asylum_master_app.csv`: individual (indicated by unique idnProceeding) is granted Full Asylum. \n",
    "2. `merged_any_master_app.csv`: individual is granted at least one of the following: Full Asylum, Withholding of Removal, Protection Under Convention Against Torture. \n"
   ]
  },
  {
   "cell_type": "markdown",
   "metadata": {},
   "source": [
    "## Format features\n",
    "Variables of interest had been cleaned and merged in Cleaning.ipynb. However, these features need to be transformed into the appropriate format (e.g., one hot encoded) for this model."
   ]
  },
  {
   "cell_type": "code",
   "execution_count": 54,
   "metadata": {},
   "outputs": [
    {
     "name": "stderr",
     "output_type": "stream",
     "text": [
      "/usr/local/anaconda/anaconda3/lib/python3.6/site-packages/sklearn/grid_search.py:42: DeprecationWarning: This module was deprecated in version 0.18 in favor of the model_selection module into which all the refactored classes and functions are moved. This module will be removed in 0.20.\n",
      "  DeprecationWarning)\n"
     ]
    }
   ],
   "source": [
    "import pandas as pd\n",
    "import numpy as np\n",
    "import matplotlib.pyplot as plt\n",
    "import scipy\n",
    "from scipy.sparse import csc_matrix\n",
    "from sklearn.preprocessing import LabelEncoder \n",
    "from sklearn.preprocessing import OneHotEncoder\n",
    "from sklearn.linear_model import LogisticRegression, LogisticRegressionCV\n",
    "from sklearn.grid_search import GridSearchCV\n",
    "from sklearn.cross_validation import cross_val_score\n",
    "from sklearn.cross_validation import train_test_split\n",
    "\n",
    "pd.set_option('precision', 5)"
   ]
  },
  {
   "cell_type": "code",
   "execution_count": 2,
   "metadata": {},
   "outputs": [],
   "source": [
    "# LOAD IN CLEANED DATASET\n",
    "path = '/home/emilyboeke/'\n",
    "\n",
    "master_app = pd.read_csv(path + 'merged_any_master_app.csv', low_memory=False)\n",
    "#master_app = pd.read_csv(path + 'merged_full_asylum_master_app.csv', low_memory=False)"
   ]
  },
  {
   "cell_type": "markdown",
   "metadata": {},
   "source": [
    "## Prepare variables to go into model"
   ]
  },
  {
   "cell_type": "code",
   "execution_count": 3,
   "metadata": {},
   "outputs": [],
   "source": [
    "# CHANGE OSC_DATE TO CONTINUOUS NUMBER (number of days since startdate)\n",
    "\n",
    "master_app['osc_date'] = pd.to_datetime(master_app['osc_date'],infer_datetime_format = True)\n",
    "osc_date_cont = []\n",
    "startdate = np.datetime64('1984-01-01') # earliest date. from which timedelta is calculated\n",
    "\n",
    "# change osc_date to continuous number\n",
    "for i in master_app.index:\n",
    "    x = master_app.loc[i,'osc_date'] - startdate\n",
    "    osc_date_cont.append(x.days)\n",
    "    \n",
    "osc_date_cont = np.array(osc_date_cont)"
   ]
  },
  {
   "cell_type": "code",
   "execution_count": 4,
   "metadata": {},
   "outputs": [],
   "source": [
    "# change dec to binary variable\n",
    "master_app.loc[(master_app[\"dec\"] == 'DENY'),'dec'] = 0\n",
    "master_app.loc[(master_app[\"dec\"] == 'GRANT'),'dec'] = 1\n",
    "\n",
    "y = master_app.dec\n",
    "#master_app.describe()"
   ]
  },
  {
   "cell_type": "code",
   "execution_count": 5,
   "metadata": {},
   "outputs": [],
   "source": [
    "# ONE HOT ENCODE CATEGORICAL VARIABLES\n",
    "\n",
    "# change string nationalities to integer categories \n",
    "le = LabelEncoder()\n",
    "nat = le.fit_transform(master_app['nat'])\n",
    "nat = np.reshape(nat,[len(nat),1])\n",
    "\n",
    "# get N x 2 array of features of interest\n",
    "feat_int = np.concatenate((master_app[['tracid']], nat), axis=1)\n",
    "feat_int.shape\n",
    "\n",
    "# get one hot encoder of features\n",
    "enc = OneHotEncoder()\n",
    "enc.fit(feat_int)  \n",
    "enc.feature_indices_\n",
    "\n",
    "# create sparse matrix of all observations in Compressed Sparse Row format\n",
    "feat_int = enc.transform(feat_int)"
   ]
  },
  {
   "cell_type": "code",
   "execution_count": 6,
   "metadata": {},
   "outputs": [],
   "source": [
    "# CONCATENATE ONE HOT ENCODED FEATURES WITH CONTINUOUS FEATURE\n",
    "\n",
    "# changes csr to csc, bc simpler to work with columns than rows\n",
    "feat_int = scipy.sparse.csr_matrix.tocsc(feat_int)\n",
    "\n",
    "# concatenating relevant fields\n",
    "new_data = np.concatenate((feat_int.data, osc_date_cont)) # non-zero values in matrix\n",
    "new_indices = np.concatenate((feat_int.indices, range(len(osc_date_cont)))) # row indices for each column\n",
    "new_ind_ptr = np.append(feat_int.indptr, feat_int.indptr[-1]+len(osc_date_cont))\n",
    "\n",
    "# making new matrix\n",
    "X = csc_matrix((new_data, new_indices, new_ind_ptr))\n"
   ]
  },
  {
   "cell_type": "markdown",
   "metadata": {},
   "source": [
    "## Implement L2 logistic regression\n",
    "\n",
    "We use sklearn to define a logistic regression with an L2 penalty."
   ]
  },
  {
   "cell_type": "code",
   "execution_count": 73,
   "metadata": {},
   "outputs": [
    {
     "data": {
      "text/plain": [
       "GridSearchCV(cv=5, error_score='raise',\n",
       "       estimator=LogisticRegression(C=1.0, class_weight=None, dual=False, fit_intercept=True,\n",
       "          intercept_scaling=1, max_iter=10000, multi_class='ovr', n_jobs=1,\n",
       "          penalty='l2', random_state=0, solver='liblinear', tol=1e-05,\n",
       "          verbose=0, warm_start=False),\n",
       "       fit_params={}, iid=True, n_jobs=1,\n",
       "       param_grid={'C': array([1.00000e-01, 3.59381e-01, 1.29155e+00, 4.64159e+00, 1.66810e+01,\n",
       "       5.99484e+01, 2.15443e+02, 7.74264e+02, 2.78256e+03, 1.00000e+04])},\n",
       "       pre_dispatch='2*n_jobs', refit=True, scoring='roc_auc', verbose=0)"
      ]
     },
     "execution_count": 73,
     "metadata": {},
     "output_type": "execute_result"
    }
   ],
   "source": [
    "# HYPER PARAMETER TUNING WITH GRID SEARCH CV\n",
    "\n",
    "grid = {'C': np.power(10.0,np.linspace(-1,4,10))}\n",
    "#grid = {\n",
    "#    'C': np.power(10.0, np.arange(-8, 3))\n",
    "     #, 'solver': ['newton-cg']\n",
    "#}\n",
    "clf = LogisticRegression(penalty='l2', random_state=0, max_iter=10000, tol=1e-5)\n",
    "gs = GridSearchCV(clf, grid, scoring='roc_auc', cv=5)\n",
    "gs.fit(X_train, y_train)"
   ]
  },
  {
   "cell_type": "code",
   "execution_count": 74,
   "metadata": {},
   "outputs": [
    {
     "name": "stdout",
     "output_type": "stream",
     "text": [
      "best score: 0.8282949446067122\n",
      "best estimator:  LogisticRegression(C=0.35938136638046275, class_weight=None, dual=False,\n",
      "          fit_intercept=True, intercept_scaling=1, max_iter=10000,\n",
      "          multi_class='ovr', n_jobs=1, penalty='l2', random_state=0,\n",
      "          solver='liblinear', tol=1e-05, verbose=0, warm_start=False)\n"
     ]
    }
   ],
   "source": [
    "print ('best score:', gs.best_score_)\n",
    "print('best estimator: ', gs.best_estimator_)"
   ]
  },
  {
   "cell_type": "code",
   "execution_count": 67,
   "metadata": {},
   "outputs": [],
   "source": [
    "# HYPER PARAMETER TUNING WITH LOGISTIC REGRESSION CV\n",
    "\n",
    "CVec = np.arange(-4, 11)\n",
    "logreg = LogisticRegressionCV(\n",
    "    Cs=list(np.power(10.0, CVec)), # 1 / regularization strength\n",
    "    cv = 5,\n",
    "    tol = 1e-5,\n",
    "    penalty = 'l2',\n",
    "    scoring = 'accuracy',\n",
    "    max_iter = 10000)\n",
    "\n",
    "model = logreg.fit(X_train,y_train)"
   ]
  },
  {
   "cell_type": "code",
   "execution_count": 56,
   "metadata": {},
   "outputs": [
    {
     "data": {
      "text/plain": [
       "{1: array([[0.65864427, 0.65859876, 0.65864427, 0.65859876, 0.65864427,\n",
       "         0.65859876, 0.65864427, 0.65859876, 0.65864427, 0.65859876,\n",
       "         0.65864427, 0.65859876, 0.65864427, 0.65859876, 0.65864427],\n",
       "        [0.6583559 , 0.6583559 , 0.6583559 , 0.6583559 , 0.6583559 ,\n",
       "         0.6583559 , 0.6583559 , 0.6583559 , 0.6583559 , 0.6583559 ,\n",
       "         0.6583559 , 0.6583559 , 0.6583559 , 0.6583559 , 0.6583559 ],\n",
       "        [0.6556323 , 0.6556323 , 0.6556323 , 0.6556323 , 0.6556323 ,\n",
       "         0.6556323 , 0.6556323 , 0.6556323 , 0.6556323 , 0.6556323 ,\n",
       "         0.6556323 , 0.6556323 , 0.6556323 , 0.6556323 , 0.6556323 ],\n",
       "        [0.65860236, 0.65860236, 0.65860236, 0.65860236, 0.65860236,\n",
       "         0.65860236, 0.65860236, 0.65860236, 0.65860236, 0.65860236,\n",
       "         0.65860236, 0.65860236, 0.65860236, 0.65860236, 0.65860236],\n",
       "        [0.65678164, 0.65677026, 0.65678164, 0.65677026, 0.65678164,\n",
       "         0.65677026, 0.65678164, 0.65677026, 0.65678164, 0.65677026,\n",
       "         0.65678164, 0.65677026, 0.65678164, 0.65677026, 0.65678164]])}"
      ]
     },
     "execution_count": 56,
     "metadata": {},
     "output_type": "execute_result"
    }
   ],
   "source": [
    "model.scores_"
   ]
  },
  {
   "cell_type": "code",
   "execution_count": 68,
   "metadata": {},
   "outputs": [
    {
     "data": {
      "image/png": "[encoded data removed]",
      "text/plain": [
       "<Figure size 432x288 with 1 Axes>"
      ]
     },
     "metadata": {},
     "output_type": "display_data"
    }
   ],
   "source": [
    "model.scores_[1][0]\n",
    "plt.plot(CVec,model.scores_[1][0-1])\n",
    "plt.show()\n",
    "#print ('Max auc_roc:', model.scores_[1].max())"
   ]
  },
  {
   "cell_type": "markdown",
   "metadata": {},
   "source": [
    "### Implement model on train/validation set"
   ]
  },
  {
   "cell_type": "code",
   "execution_count": 41,
   "metadata": {},
   "outputs": [],
   "source": [
    "# split data into train and validation\n",
    "X_train, X_test,y_train, y_test = train_test_split(X, y, test_size=0.2, random_state=0)"
   ]
  },
  {
   "cell_type": "code",
   "execution_count": 42,
   "metadata": {},
   "outputs": [
    {
     "ename": "TypeError",
     "evalue": "__init__() got an unexpected keyword argument 'scoring'",
     "output_type": "error",
     "traceback": [
      "\u001b[0;31m---------------------------------------------------------------------------\u001b[0m",
      "\u001b[0;31mTypeError\u001b[0m                                 Traceback (most recent call last)",
      "\u001b[0;32m<ipython-input-42-8e84edba2c07>\u001b[0m in \u001b[0;36m<module>\u001b[0;34m()\u001b[0m\n\u001b[1;32m      2\u001b[0m \u001b[0;34m\u001b[0m\u001b[0m\n\u001b[1;32m      3\u001b[0m \u001b[0malpha\u001b[0m \u001b[0;34m=\u001b[0m \u001b[0;36m.0036\u001b[0m\u001b[0;34m\u001b[0m\u001b[0m\n\u001b[0;32m----> 4\u001b[0;31m \u001b[0mLogReg\u001b[0m \u001b[0;34m=\u001b[0m \u001b[0mLogisticRegression\u001b[0m\u001b[0;34m(\u001b[0m\u001b[0mpenalty\u001b[0m\u001b[0;34m=\u001b[0m\u001b[0;34m'l2'\u001b[0m\u001b[0;34m,\u001b[0m\u001b[0mC\u001b[0m \u001b[0;34m=\u001b[0m \u001b[0malpha\u001b[0m\u001b[0;34m,\u001b[0m \u001b[0mscoring\u001b[0m\u001b[0;34m=\u001b[0m\u001b[0;34m'roc_auc'\u001b[0m\u001b[0;34m)\u001b[0m \u001b[0;31m# defining model: logistic regression with L2 penalization\u001b[0m\u001b[0;34m\u001b[0m\u001b[0m\n\u001b[0m\u001b[1;32m      5\u001b[0m \u001b[0;34m\u001b[0m\u001b[0m\n\u001b[1;32m      6\u001b[0m \u001b[0mmodel\u001b[0m \u001b[0;34m=\u001b[0m \u001b[0mLogReg\u001b[0m\u001b[0;34m.\u001b[0m\u001b[0mfit\u001b[0m\u001b[0;34m(\u001b[0m\u001b[0mX_train\u001b[0m\u001b[0;34m,\u001b[0m \u001b[0my_train\u001b[0m\u001b[0;34m)\u001b[0m\u001b[0;34m\u001b[0m\u001b[0m\n",
      "\u001b[0;31mTypeError\u001b[0m: __init__() got an unexpected keyword argument 'scoring'"
     ]
    }
   ],
   "source": [
    "# logistic regression with L2 penalty = .0036\n",
    "\n",
    "alpha = .0036\n",
    "LogReg = LogisticRegression(penalty='l2',C = alpha) # defining model: logistic regression with L2 penalization\n",
    "\n",
    "model = LogReg.fit(X_train, y_train)\n",
    "print(model.score(X_test,y_test))"
   ]
  },
  {
   "cell_type": "markdown",
   "metadata": {},
   "source": [
    "We find that the accuracy of predicting grant rate just from the applicant's nationality, the judge's ID, and the Notice to Appear date is sufficient to predict the following for each data set:  \n",
    "  * `merged2_master_app.csv`: around 73% accuracy\n",
    "  * `merged_any_master_app.csv`: around 73.3% accuracy\n",
    "  * `merged_full_asylum_master_app.csv`: around 73.5% accuracy\n",
    "\n"
   ]
  },
  {
   "cell_type": "code",
   "execution_count": 10,
   "metadata": {},
   "outputs": [
    {
     "name": "stdout",
     "output_type": "stream",
     "text": [
      "-1.888390763926314\n",
      "0.9809239771939438\n",
      "-0.004849619656256326\n"
     ]
    }
   ],
   "source": [
    "# print some summary stats on the weights\n",
    "coeffs = (model.coef_[0])\n",
    "\n",
    "print(min(coeffs))\n",
    "print(max(coeffs))\n",
    "print(np.mean(coeffs))"
   ]
  },
  {
   "cell_type": "code",
   "execution_count": 11,
   "metadata": {},
   "outputs": [
    {
     "data": {
      "text/plain": [
       "<Figure size 640x480 with 1 Axes>"
      ]
     },
     "metadata": {},
     "output_type": "display_data"
    }
   ],
   "source": [
    "# plot weights\n",
    "\n",
    "\n",
    "plt.hist(coeffs, bins='auto') \n",
    "plt.title(\"L2 logistic regression weights\")\n",
    "plt.show()"
   ]
  },
  {
   "cell_type": "code",
   "execution_count": null,
   "metadata": {},
   "outputs": [],
   "source": [
    "# LOOK AT LARGEST MAGNITUDE WEIGHTS\n",
    "\n",
    "from time import time\n",
    "from scipy.stats import randint as sp_randint\n",
    "\n",
    "from sklearn.model_selection import GridSearchCV\n",
    "from sklearn.model_selection import RandomizedSearchCV\n",
    "from sklearn.datasets import load_digits\n",
    "from sklearn.ensemble import RandomForestClassifier\n",
    "\n",
    "\n",
    "# build a classifier\n",
    "clf = RandomForestClassifier(n_estimators=20)\n",
    "\n",
    "\n",
    "# Utility function to report best scores\n",
    "def report(results, n_top=3):\n",
    "    for i in range(1, n_top + 1):\n",
    "        candidates = np.flatnonzero(results['rank_test_score'] == i)\n",
    "        for candidate in candidates:\n",
    "            print(\"Model with rank: {0}\".format(i))\n",
    "            print(\"Mean validation score: {0:.3f} (std: {1:.3f})\".format(\n",
    "                  results['mean_test_score'][candidate],\n",
    "                  results['std_test_score'][candidate]))\n",
    "            print(\"Parameters: {0}\".format(results['params'][candidate]))\n",
    "            print(\"\")\n",
    "\n",
    "\n",
    "            print(\"Model with rank: {0}\".format(i))\n",
    "            print(\"Mean validation score: {0:.3f} (std: {1:.3f})\".format(\n",
    "                  results['mean_test_score'][candidate],\n",
    "                  results['std_test_score'][candidate]))\n",
    "            print(\"Parameters: {0}\".format(results['params'][candidate]))\n",
    "            print(\"\")\n",
    "\n",
    "\n",
    "# specify parameters and distributions to sample from\n",
    "param_dist = {\"max_depth\": [3, None],\n",
    "              \"max_features\": sp_randint(1, 11),\n",
    "              \"min_samples_split\": sp_randint(2, 11),\n",
    "              \"min_samples_leaf\": sp_randint(1, 11),\n",
    "              \"bootstrap\": [True, False],\n",
    "              \"criterion\": [\"gini\", \"entropy\"]}\n",
    "\n",
    "# run randomized search\n",
    "n_iter_search = 20\n",
    "random_search = RandomizedSearchCV(clf, param_distributions=param_dist,\n",
    "                                   n_iter=n_iter_search)"
   ]
  },
  {
   "cell_type": "markdown",
   "metadata": {},
   "source": [
    "### Evaluate model using k-fold cross-validation"
   ]
  },
  {
   "cell_type": "code",
   "execution_count": 13,
   "metadata": {},
   "outputs": [
    {
     "name": "stdout",
     "output_type": "stream",
     "text": [
      "[0.64945327 0.69279295 0.64181681 0.70449565 0.72379751 0.71279633\n",
      " 0.71461142 0.71253071 0.78004294 0.64713565]\n",
      "0.6979473251269621\n"
     ]
    }
   ],
   "source": [
    "# evaluate the model using 10-fold cross-validation\n",
    "scores = cross_val_score(LogReg, X, y, scoring='accuracy', cv=10)\n",
    "print(scores)\n",
    "print(scores.mean())"
   ]
  }
 ],
 "metadata": {
  "kernelspec": {
   "display_name": "Python 3",
   "language": "python",
   "name": "python3"
  },
  "language_info": {
   "codemirror_mode": {
    "name": "ipython",
    "version": 3
   },
   "file_extension": ".py",
   "mimetype": "text/x-python",
   "name": "python",
   "nbconvert_exporter": "python",
   "pygments_lexer": "ipython3",
   "version": "3.6.4"
  }
 },
 "nbformat": 4,
 "nbformat_minor": 2
}
