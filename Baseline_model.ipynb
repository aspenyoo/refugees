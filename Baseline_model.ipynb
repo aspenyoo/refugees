{
 "cells": [
  {
   "cell_type": "markdown",
   "metadata": {},
   "source": [
    "# Baseline_model.ipynb\n",
    "The goal of this model is to predict whether a refugee will be granted asylum based on information available before the actual hearing. For this baseline model, we fit an L2 logistic regression using three variables of interest, described below.\n",
    "  \n",
    "Features  \n",
    "   * `nat`: applicant's nationality (one hot encoded)\n",
    "   * `tracid`: judge's identification number (one hot encoded)\n",
    "   * `osc_date`: the Notice to Appear date for each proceeding (continuous)  \n",
    "  \n",
    "  \n",
    "  \n",
    "We define 'asylum granted' in two different ways:\n",
    "1. `merged_full_asylum_master_app.csv`: individual (indicated by unique idnProceeding) is granted Full Asylum. \n",
    "2. `merged_any_master_app.csv`: individual is granted at least one of the following: Full Asylum, Withholding of Removal, Protection Under Convention Against Torture. \n"
   ]
  },
  {
   "cell_type": "markdown",
   "metadata": {},
   "source": [
    "## Create features\n",
    "Features had been cleaned and merged in Cleaning.ipynb. However, these features need a little further cleaning. Additionally, they need to be transformed into the appropriate format for this model."
   ]
  },
  {
   "cell_type": "code",
   "execution_count": 65,
   "metadata": {},
   "outputs": [],
   "source": [
    "import pandas as pd\n",
    "import numpy as np\n",
    "import scipy\n",
    "from scipy.sparse import csc_matrix\n",
    "from sklearn.preprocessing import LabelEncoder \n",
    "from sklearn.preprocessing import OneHotEncoder\n",
    "from sklearn.linear_model import LogisticRegression\n",
    "from sklearn.cross_validation import cross_val_score\n",
    "from sklearn.cross_validation import train_test_split\n",
    "\n",
    "pd.set_option('precision', 5)"
   ]
  },
  {
   "cell_type": "code",
   "execution_count": 66,
   "metadata": {},
   "outputs": [],
   "source": [
    "# LOAD IN CLEANED DATASET\n",
    "\n",
    "path = '/home/emilyboeke/'\n",
    "\n",
    "#master_app = pd.read_csv(path + 'merged2_master_app.csv', low_memory=False)\n",
    "#master_app = pd.read_csv(path + 'merged_any_master_app.csv', low_memory=False)\n",
    "master_app = pd.read_csv(path + 'merged_full_asylum_master_app.csv', low_memory=False)"
   ]
  },
  {
   "cell_type": "code",
   "execution_count": 67,
   "metadata": {},
   "outputs": [],
   "source": [
    "# ADDITIONAL LAST MINUTE DATA CLEANING\n",
    "\n",
    "# forgot to output excluding the auto-generated index column.... so now I'm dropping it. Can be optimized later\n",
    "master_app = master_app.drop(master_app.columns[0], axis=1)\n",
    "\n",
    "# change dec to binary number, so we can do summary stats on it\n",
    "master_app.loc[(master_app[\"dec\"] == 'DENY'),'dec'] = 0\n",
    "master_app.loc[(master_app[\"dec\"] == 'GRANT'),'dec'] = 1\n",
    "\n",
    "# delete NTA dates before 1984. \n",
    "master_app['osc_date'] = pd.to_datetime(master_app['osc_date'],infer_datetime_format = True)\n",
    "master_app = master_app[master_app.osc_date.dt.year>1984]\n",
    "\n",
    "#master_app.describe()"
   ]
  },
  {
   "cell_type": "code",
   "execution_count": 68,
   "metadata": {
    "scrolled": true
   },
   "outputs": [
    {
     "data": {
      "text/plain": [
       "(525435, 4)"
      ]
     },
     "execution_count": 68,
     "metadata": {},
     "output_type": "execute_result"
    }
   ],
   "source": [
    "# selecting relevant features and target variable.\n",
    "df = master_app[['osc_date', 'tracid', 'nat', 'dec']]\n",
    "df.shape\n",
    "\n",
    "#print(df.head(10))\n",
    "#df.describe()"
   ]
  },
  {
   "cell_type": "code",
   "execution_count": 69,
   "metadata": {},
   "outputs": [],
   "source": [
    "# CHANGE OSC_DATE TO CONTINUOUS NUMBER.\n",
    "\n",
    "osc_date_cont = []\n",
    "startdate = np.datetime64('1984-01-01') # earliest date. from which timedelta is calculated\n",
    "\n",
    "# change osc_date to continuous number\n",
    "for i in df.index:\n",
    "    x = df.loc[i,'osc_date'] - startdate\n",
    "    osc_date_cont.append(x.days)\n",
    "    \n",
    "osc_date_cont = np.array(osc_date_cont)"
   ]
  },
  {
   "cell_type": "code",
   "execution_count": 70,
   "metadata": {},
   "outputs": [],
   "source": [
    "# ONE HOT ENCODE CATEGORICAL VARIABLES\n",
    "\n",
    "# change string nationalities to integer categories \n",
    "le = LabelEncoder()\n",
    "nat_int = le.fit_transform(df['nat'])\n",
    "nat_int = np.reshape(nat_int,[len(nat_int),1])\n",
    "\n",
    "# get N x 2 array of features of interest\n",
    "feat_int = np.concatenate((df[['tracid']], nat_int), axis=1)\n",
    "feat_int.shape\n",
    "\n",
    "# get one hot encoder of features\n",
    "enc = OneHotEncoder()\n",
    "enc.fit(feat_int)  \n",
    "enc.feature_indices_\n",
    "\n",
    "# create sparse matrix of all observations in Compressed Sparse Row format\n",
    "blah = enc.transform(feat_int)"
   ]
  },
  {
   "cell_type": "code",
   "execution_count": 71,
   "metadata": {},
   "outputs": [],
   "source": [
    "# CONCATENATE ONE HOT ENCODED FEATURES WITH CONTINUOUS FEATURE\n",
    "\n",
    "# changes csr to csc, bc simpler to work with columns than rows\n",
    "blah = scipy.sparse.csr_matrix.tocsc(blah)\n",
    "\n",
    "# concatenating relevant fields\n",
    "new_data = np.concatenate((blah.data, osc_date_cont)) # non-zero values in matrix\n",
    "new_indices = np.concatenate((blah.indices, range(len(osc_date_cont)))) # row indices for each column\n",
    "new_ind_ptr = np.append(blah.indptr, blah.indptr[-1]+len(osc_date_cont))\n",
    "\n",
    "# making new matrix\n",
    "final_feature_mat = csc_matrix((new_data, new_indices, new_ind_ptr))"
   ]
  },
  {
   "cell_type": "markdown",
   "metadata": {},
   "source": [
    "## Implement L2 logistic regression\n",
    "\n",
    "We want to withhold a subset of the data for model comparisons across all models at the end. Therefore, we currently exclude 20% of the data from any analyses. All training and validation will be completed on the remaining 80% of the data.  \n",
    "  \n",
    "We use sklearn to define a logistic regression with an L2 penalty."
   ]
  },
  {
   "cell_type": "code",
   "execution_count": 72,
   "metadata": {
    "scrolled": true
   },
   "outputs": [],
   "source": [
    "X, X_test_donttouch, y, y_test_donttouch = train_test_split(\n",
    "    final_feature_mat, df['dec'], test_size=0.2, random_state=0)"
   ]
  },
  {
   "cell_type": "code",
   "execution_count": 73,
   "metadata": {},
   "outputs": [],
   "source": [
    "LogReg = LogisticRegression(penalty='l2') # defining model: logistic regression with L2 penalization"
   ]
  },
  {
   "cell_type": "markdown",
   "metadata": {},
   "source": [
    "### Implement model on train val set"
   ]
  },
  {
   "cell_type": "code",
   "execution_count": 74,
   "metadata": {},
   "outputs": [
    {
     "name": "stdout",
     "output_type": "stream",
     "text": [
      "0.736170982138609\n"
     ]
    }
   ],
   "source": [
    "# split data into train and validation\n",
    "X_train, X_test, y_train, y_test = train_test_split(X, y, test_size=0.2, random_state=0)\n",
    "\n",
    "model = LogReg.fit(X, y)\n",
    "print(model.score(X,y))"
   ]
  },
  {
   "cell_type": "markdown",
   "metadata": {},
   "source": [
    "We find that the accuracy of predicting grant rate just from the applicant's nationality, the judge's ID, and the Notice to Appear date is sufficient to predict the following for each data set:  \n",
    "  * `merged2_master_app.csv`: around 73% accuracy\n",
    "  * `merged_any_master_app.csv`: around 73.3% accuracy\n",
    "  * `merged_full_asylum_master_app.csv`: around 73.5% accuracy\n",
    "\n"
   ]
  },
  {
   "cell_type": "code",
   "execution_count": 63,
   "metadata": {},
   "outputs": [
    {
     "name": "stdout",
     "output_type": "stream",
     "text": [
      "-1.9266038718144862\n",
      "1.0484241636101161\n",
      "-0.004723420460197309\n"
     ]
    }
   ],
   "source": [
    "# print some summary stats on the coefficients\n",
    "coeffs = (model.coef_[0])\n",
    "\n",
    "print(min(coeffs))\n",
    "print(max(coeffs))\n",
    "print(np.mean(coeffs))"
   ]
  },
  {
   "cell_type": "code",
   "execution_count": 52,
   "metadata": {},
   "outputs": [
    {
     "data": {
      "image/png": "[encoded data removed]",
      "text/plain": [
       "<Figure size 432x288 with 1 Axes>"
      ]
     },
     "metadata": {},
     "output_type": "display_data"
    }
   ],
   "source": [
    "# plot coefficients\n",
    "\n",
    "import matplotlib.pyplot as plt\n",
    "plt.hist(coeffs, bins='auto') \n",
    "plt.title(\"L2 logistic regression weights\")\n",
    "plt.show()"
   ]
  },
  {
   "cell_type": "markdown",
   "metadata": {},
   "source": [
    "### evaluate model using k-fold cross-validation"
   ]
  },
  {
   "cell_type": "code",
   "execution_count": 75,
   "metadata": {},
   "outputs": [
    {
     "name": "stdout",
     "output_type": "stream",
     "text": [
      "[0.73413265 0.73767723 0.73558379 0.73441812 0.73604701 0.7358329\n",
      " 0.73326355 0.73890184 0.73590427 0.73685588]\n",
      "0.735861722359136\n"
     ]
    }
   ],
   "source": [
    "# evaluate the model using 10-fold cross-validation\n",
    "scores = cross_val_score(LogReg, X, y, scoring='accuracy', cv=10)\n",
    "print(scores)\n",
    "print(scores.mean())"
   ]
  },
  {
   "cell_type": "code",
   "execution_count": null,
   "metadata": {},
   "outputs": [],
   "source": []
  }
 ],
 "metadata": {
  "kernelspec": {
   "display_name": "Python 3",
   "language": "python",
   "name": "python3"
  },
  "language_info": {
   "codemirror_mode": {
    "name": "ipython",
    "version": 3
   },
   "file_extension": ".py",
   "mimetype": "text/x-python",
   "name": "python",
   "nbconvert_exporter": "python",
   "pygments_lexer": "ipython3",
   "version": "3.6.4"
  }
 },
 "nbformat": 4,
 "nbformat_minor": 2
}
