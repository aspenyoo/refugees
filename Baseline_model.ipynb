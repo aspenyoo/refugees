{
 "cells": [
  {
   "cell_type": "markdown",
   "metadata": {},
   "source": [
    "# Baseline_model.ipynb"
   ]
  },
  {
   "cell_type": "code",
   "execution_count": 2,
   "metadata": {},
   "outputs": [],
   "source": [
    "import pandas as pd\n",
    "import numpy as np\n",
    "pd.set_option('precision', 5)"
   ]
  },
  {
   "cell_type": "code",
   "execution_count": 28,
   "metadata": {},
   "outputs": [],
   "source": [
    "# load cleaned dataset\n",
    "path = '/home/emilyboeke/'\n",
    "master_app = pd.read_csv(path + 'merged_master_app.csv', low_memory=False)"
   ]
  },
  {
   "cell_type": "code",
   "execution_count": 29,
   "metadata": {},
   "outputs": [
    {
     "data": {
      "text/html": [
       "<div>\n",
       "<style scoped>\n",
       "    .dataframe tbody tr th:only-of-type {\n",
       "        vertical-align: middle;\n",
       "    }\n",
       "\n",
       "    .dataframe tbody tr th {\n",
       "        vertical-align: top;\n",
       "    }\n",
       "\n",
       "    .dataframe thead th {\n",
       "        text-align: right;\n",
       "    }\n",
       "</style>\n",
       "<table border=\"1\" class=\"dataframe\">\n",
       "  <thead>\n",
       "    <tr style=\"text-align: right;\">\n",
       "      <th></th>\n",
       "      <th>idnproceeding</th>\n",
       "      <th>idnProceedingAppln</th>\n",
       "      <th>idncase_x</th>\n",
       "      <th>numAppsPerProc</th>\n",
       "      <th>dec</th>\n",
       "      <th>idncase_y</th>\n",
       "      <th>tracid</th>\n",
       "    </tr>\n",
       "  </thead>\n",
       "  <tbody>\n",
       "    <tr>\n",
       "      <th>count</th>\n",
       "      <td>5.97954e+05</td>\n",
       "      <td>5.97954e+05</td>\n",
       "      <td>5.97954e+05</td>\n",
       "      <td>597954.00000</td>\n",
       "      <td>597954.00000</td>\n",
       "      <td>5.97954e+05</td>\n",
       "      <td>597954.00000</td>\n",
       "    </tr>\n",
       "    <tr>\n",
       "      <th>mean</th>\n",
       "      <td>2.67211e+06</td>\n",
       "      <td>1.49888e+06</td>\n",
       "      <td>4.21033e+06</td>\n",
       "      <td>2.76359</td>\n",
       "      <td>0.35989</td>\n",
       "      <td>4.21033e+06</td>\n",
       "      <td>146.29203</td>\n",
       "    </tr>\n",
       "    <tr>\n",
       "      <th>std</th>\n",
       "      <td>1.47372e+06</td>\n",
       "      <td>1.48408e+06</td>\n",
       "      <td>1.24113e+06</td>\n",
       "      <td>0.78502</td>\n",
       "      <td>0.47997</td>\n",
       "      <td>1.24113e+06</td>\n",
       "      <td>85.11498</td>\n",
       "    </tr>\n",
       "    <tr>\n",
       "      <th>min</th>\n",
       "      <td>8.50000e+01</td>\n",
       "      <td>9.00000e+00</td>\n",
       "      <td>2.04693e+06</td>\n",
       "      <td>1.00000</td>\n",
       "      <td>0.00000</td>\n",
       "      <td>2.04693e+06</td>\n",
       "      <td>1.00000</td>\n",
       "    </tr>\n",
       "    <tr>\n",
       "      <th>25%</th>\n",
       "      <td>1.56721e+06</td>\n",
       "      <td>3.59521e+05</td>\n",
       "      <td>3.27020e+06</td>\n",
       "      <td>2.00000</td>\n",
       "      <td>0.00000</td>\n",
       "      <td>3.27020e+06</td>\n",
       "      <td>91.00000</td>\n",
       "    </tr>\n",
       "    <tr>\n",
       "      <th>50%</th>\n",
       "      <td>2.59977e+06</td>\n",
       "      <td>6.76532e+05</td>\n",
       "      <td>4.06603e+06</td>\n",
       "      <td>3.00000</td>\n",
       "      <td>0.00000</td>\n",
       "      <td>4.06603e+06</td>\n",
       "      <td>144.00000</td>\n",
       "    </tr>\n",
       "    <tr>\n",
       "      <th>75%</th>\n",
       "      <td>3.77913e+06</td>\n",
       "      <td>3.10490e+06</td>\n",
       "      <td>5.17135e+06</td>\n",
       "      <td>3.00000</td>\n",
       "      <td>1.00000</td>\n",
       "      <td>5.17136e+06</td>\n",
       "      <td>199.00000</td>\n",
       "    </tr>\n",
       "    <tr>\n",
       "      <th>max</th>\n",
       "      <td>6.18304e+06</td>\n",
       "      <td>4.67936e+06</td>\n",
       "      <td>7.20315e+06</td>\n",
       "      <td>14.00000</td>\n",
       "      <td>1.00000</td>\n",
       "      <td>7.20315e+06</td>\n",
       "      <td>403.00000</td>\n",
       "    </tr>\n",
       "  </tbody>\n",
       "</table>\n",
       "</div>"
      ],
      "text/plain": [
       "       idnproceeding  idnProceedingAppln    idncase_x  numAppsPerProc  \\\n",
       "count    5.97954e+05         5.97954e+05  5.97954e+05    597954.00000   \n",
       "mean     2.67211e+06         1.49888e+06  4.21033e+06         2.76359   \n",
       "std      1.47372e+06         1.48408e+06  1.24113e+06         0.78502   \n",
       "min      8.50000e+01         9.00000e+00  2.04693e+06         1.00000   \n",
       "25%      1.56721e+06         3.59521e+05  3.27020e+06         2.00000   \n",
       "50%      2.59977e+06         6.76532e+05  4.06603e+06         3.00000   \n",
       "75%      3.77913e+06         3.10490e+06  5.17135e+06         3.00000   \n",
       "max      6.18304e+06         4.67936e+06  7.20315e+06        14.00000   \n",
       "\n",
       "                dec    idncase_y        tracid  \n",
       "count  597954.00000  5.97954e+05  597954.00000  \n",
       "mean        0.35989  4.21033e+06     146.29203  \n",
       "std         0.47997  1.24113e+06      85.11498  \n",
       "min         0.00000  2.04693e+06       1.00000  \n",
       "25%         0.00000  3.27020e+06      91.00000  \n",
       "50%         0.00000  4.06603e+06     144.00000  \n",
       "75%         1.00000  5.17136e+06     199.00000  \n",
       "max         1.00000  7.20315e+06     403.00000  "
      ]
     },
     "execution_count": 29,
     "metadata": {},
     "output_type": "execute_result"
    }
   ],
   "source": [
    "# A BIT OF RESIDUAL DATA CLEANING (CAN BE OPTIMIZED/FIXED LATER)\n",
    "\n",
    "# forgot to output excluding the auto-generated index column. dropping now\n",
    "master_app = master_app.drop(master_app.columns[0], axis=1)\n",
    "\n",
    "# drop NaNs. drops to 597954 obs\n",
    "#tracid            598132\n",
    "#nat               614012\n",
    "#(other variables have 614204 observations)\n",
    "master_app = master_app.dropna()\n",
    "\n",
    "# change dec to binary number, so we can do summary stats on it\n",
    "master_app.loc[(master_app[\"dec\"] == 'DENY'),'dec'] = 0\n",
    "master_app.loc[(master_app[\"dec\"] == 'GRANT'),'dec'] = 1\n",
    "\n",
    "master_app.describe()"
   ]
  },
  {
   "cell_type": "code",
   "execution_count": 33,
   "metadata": {
    "scrolled": true
   },
   "outputs": [
    {
     "name": "stdout",
     "output_type": "stream",
     "text": [
      "      osc_date  tracid nat  dec\n",
      "1   1994-11-04    71.0  HO    0\n",
      "2   1994-11-05   139.0  GT    1\n",
      "3   1994-11-05    70.0  ES    0\n",
      "4   1995-02-06    50.0  HO    0\n",
      "5   1995-02-06   126.0  CU    1\n",
      "6   1995-02-10    71.0  NU    0\n",
      "7   1995-02-10    71.0  NU    0\n",
      "8   1995-02-12    61.0  NU    0\n",
      "9   1995-02-17    70.0  NU    0\n",
      "10  1995-02-17    70.0  NU    0\n"
     ]
    },
    {
     "data": {
      "text/html": [
       "<div>\n",
       "<style scoped>\n",
       "    .dataframe tbody tr th:only-of-type {\n",
       "        vertical-align: middle;\n",
       "    }\n",
       "\n",
       "    .dataframe tbody tr th {\n",
       "        vertical-align: top;\n",
       "    }\n",
       "\n",
       "    .dataframe thead th {\n",
       "        text-align: right;\n",
       "    }\n",
       "</style>\n",
       "<table border=\"1\" class=\"dataframe\">\n",
       "  <thead>\n",
       "    <tr style=\"text-align: right;\">\n",
       "      <th></th>\n",
       "      <th>tracid</th>\n",
       "      <th>dec</th>\n",
       "    </tr>\n",
       "  </thead>\n",
       "  <tbody>\n",
       "    <tr>\n",
       "      <th>count</th>\n",
       "      <td>597954.00000</td>\n",
       "      <td>597954.00000</td>\n",
       "    </tr>\n",
       "    <tr>\n",
       "      <th>mean</th>\n",
       "      <td>146.29203</td>\n",
       "      <td>0.35989</td>\n",
       "    </tr>\n",
       "    <tr>\n",
       "      <th>std</th>\n",
       "      <td>85.11498</td>\n",
       "      <td>0.47997</td>\n",
       "    </tr>\n",
       "    <tr>\n",
       "      <th>min</th>\n",
       "      <td>1.00000</td>\n",
       "      <td>0.00000</td>\n",
       "    </tr>\n",
       "    <tr>\n",
       "      <th>25%</th>\n",
       "      <td>91.00000</td>\n",
       "      <td>0.00000</td>\n",
       "    </tr>\n",
       "    <tr>\n",
       "      <th>50%</th>\n",
       "      <td>144.00000</td>\n",
       "      <td>0.00000</td>\n",
       "    </tr>\n",
       "    <tr>\n",
       "      <th>75%</th>\n",
       "      <td>199.00000</td>\n",
       "      <td>1.00000</td>\n",
       "    </tr>\n",
       "    <tr>\n",
       "      <th>max</th>\n",
       "      <td>403.00000</td>\n",
       "      <td>1.00000</td>\n",
       "    </tr>\n",
       "  </tbody>\n",
       "</table>\n",
       "</div>"
      ],
      "text/plain": [
       "             tracid           dec\n",
       "count  597954.00000  597954.00000\n",
       "mean      146.29203       0.35989\n",
       "std        85.11498       0.47997\n",
       "min         1.00000       0.00000\n",
       "25%        91.00000       0.00000\n",
       "50%       144.00000       0.00000\n",
       "75%       199.00000       1.00000\n",
       "max       403.00000       1.00000"
      ]
     },
     "execution_count": 33,
     "metadata": {},
     "output_type": "execute_result"
    }
   ],
   "source": [
    "# selecting relevant features and target variable.\n",
    "df = master_app[['osc_date', 'tracid', 'nat', 'dec']]\n",
    "print(df.head(10))\n",
    "df.describe()"
   ]
  },
  {
   "cell_type": "code",
   "execution_count": null,
   "metadata": {},
   "outputs": [],
   "source": [
    "# CHANGE OSC_DATE TO CONTINUOUS NUMBER. ORDER DATA BY DATE\n",
    "\n",
    "# change osc_date to continuous number\n",
    "\n",
    "# order data by date"
   ]
  },
  {
   "cell_type": "code",
   "execution_count": 94,
   "metadata": {},
   "outputs": [
    {
     "data": {
      "text/plain": [
       "OneHotEncoder(categorical_features='all', dtype=<class 'numpy.float64'>,\n",
       "       handle_unknown='error', n_values='auto', sparse=True)"
      ]
     },
     "execution_count": 94,
     "metadata": {},
     "output_type": "execute_result"
    }
   ],
   "source": [
    "# ONE HOT ENCODE CATEGORICAL VARIABLES\n",
    "\n",
    "# change string nationalities to integer categories\n",
    "from sklearn.preprocessing import LabelEncoder  \n",
    "le = LabelEncoder()\n",
    "nat_int = le.fit_transform(df['nat'])\n",
    "nat_int = np.reshape(blah,[len(blah),1])\n",
    "\n",
    "# get N x 2 array of features\n",
    "feat_int = np.concatenate((df[['tracid']], nat_int), axis=1)\n",
    "feat_int.shape\n",
    "\n",
    "# get one hot encoder of features\n",
    "from sklearn.preprocessing import OneHotEncoder\n",
    "enc = OneHotEncoder()\n",
    "enc.fit(feat_int)  "
   ]
  },
  {
   "cell_type": "code",
   "execution_count": null,
   "metadata": {},
   "outputs": [],
   "source": [
    "# DOES NOT WORK YET\n",
    "# concatenate one hot encoded features with continuous features\n",
    "features = np.concatenate((enc.transform(feat_int),np.reshape(df['osc_date'],[len(df),1])))"
   ]
  },
  {
   "cell_type": "code",
   "execution_count": 95,
   "metadata": {},
   "outputs": [],
   "source": [
    "# SAVE THE LAST 20% OF DATA AND DO NOT TOUCH IT!\n",
    "\n",
    "idx = round(feat_int.shape[0] * .8)\n",
    "X = feat_int[0:idx]\n",
    "y = df['dec'][0:idx]\n",
    "\n",
    "X_test_donttouch = feat_int[idx:-1]\n",
    "y_test_donttouch = df['dec'][idx:-1]\n"
   ]
  },
  {
   "cell_type": "code",
   "execution_count": null,
   "metadata": {},
   "outputs": [],
   "source": [
    "# ridge regression\n"
   ]
  },
  {
   "cell_type": "code",
   "execution_count": 48,
   "metadata": {},
   "outputs": [],
   "source": [
    "# walk forward validation"
   ]
  }
 ],
 "metadata": {
  "kernelspec": {
   "display_name": "Python 3",
   "language": "python",
   "name": "python3"
  },
  "language_info": {
   "codemirror_mode": {
    "name": "ipython",
    "version": 3
   },
   "file_extension": ".py",
   "mimetype": "text/x-python",
   "name": "python",
   "nbconvert_exporter": "python",
   "pygments_lexer": "ipython3",
   "version": "3.6.4"
  }
 },
 "nbformat": 4,
 "nbformat_minor": 2
}
