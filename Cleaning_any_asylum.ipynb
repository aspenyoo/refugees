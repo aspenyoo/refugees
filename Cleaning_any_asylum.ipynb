{
 "cells": [
  {
   "cell_type": "markdown",
   "metadata": {},
   "source": [
    "# Cleaning_any_asylum.ipynb\n",
    "#### This script cleans and merges relevant variables across datasets\n",
    "#### considers a grant on any asylum case type (full, witholding, wcat) a \"grant\" decision on the case. \n",
    "#### Currently, it is doing cleaning and merging only for the baseline model."
   ]
  },
  {
   "cell_type": "code",
   "execution_count": 1,
   "metadata": {},
   "outputs": [],
   "source": [
    "import pandas as pd\n",
    "import numpy as np\n",
    "pd.set_option('precision', 5)"
   ]
  },
  {
   "cell_type": "code",
   "execution_count": 2,
   "metadata": {},
   "outputs": [],
   "source": [
    "path = '/data/Dropbox/Data/Asylum_Courts/raw'"
   ]
  },
  {
   "cell_type": "markdown",
   "metadata": {},
   "source": [
    "## Clean court_appln.csv\n",
    "\n",
    "relevant variables: idnProceeding, idnCase, Appl_Code"
   ]
  },
  {
   "cell_type": "code",
   "execution_count": 3,
   "metadata": {},
   "outputs": [],
   "source": [
    "app = pd.read_csv(path + '/court_appln.csv', low_memory=False)\n",
    "\n",
    "# descriptive stats\n",
    "#app.count()\n",
    "#app.describe()"
   ]
  },
  {
   "cell_type": "code",
   "execution_count": 4,
   "metadata": {},
   "outputs": [
    {
     "data": {
      "text/plain": [
       "idnProceedingAppln    4232861\n",
       "idnProceeding         4232861\n",
       "idnCase               4232857\n",
       "Appl_Code             4232859\n",
       "Appl_Recd_Date        4232826\n",
       "Appl_Dec              4232861\n",
       "numAppsPerProc        4232857\n",
       "dtype: int64"
      ]
     },
     "execution_count": 4,
     "metadata": {},
     "output_type": "execute_result"
    }
   ],
   "source": [
    "# adding placeholder number to count how many applications were filed for idnProceeding\n",
    "app['numAppsPerProc'] = 1\n",
    "app['numAppsPerProc'] = app['numAppsPerProc'].astype('int64')\n",
    "\n",
    "# adding additional feature based on how many applications have been filed for the same (idnCase, idnProceeding) pair\n",
    "app['numAppsPerProc'] = app.groupby(['idnCase', 'idnProceeding'])['numAppsPerProc'].transform('count')\n",
    "\n",
    "# dropping all applications with empty decisions\n",
    "app = app.dropna(subset=['Appl_Dec'])\n",
    "\n",
    "#app.describe()\n",
    "app.count()"
   ]
  },
  {
   "cell_type": "code",
   "execution_count": 5,
   "metadata": {},
   "outputs": [
    {
     "data": {
      "text/plain": [
       "idnProceedingAppln    2374977\n",
       "idnProceeding         2374977\n",
       "idnCase               2374977\n",
       "Appl_Code             2374976\n",
       "Appl_Recd_Date        2374951\n",
       "Appl_Dec              2374977\n",
       "numAppsPerProc        2374977\n",
       "dec                   2374977\n",
       "dtype: int64"
      ]
     },
     "execution_count": 5,
     "metadata": {},
     "output_type": "execute_result"
    }
   ],
   "source": [
    "# making a new variable, dec, simplifying grant decisions to DENY, GRANT, or nan\n",
    "app['dec']= np.nan\n",
    "app.loc[app.Appl_Dec.isin(['G','F','N','L','C']),'dec']= 'GRANT'\n",
    "app.loc[(app[\"Appl_Dec\"] == 'D'),'dec'] = 'DENY'\n",
    "app = app[app.dec.isin(['DENY','GRANT'])] # only include DENY or GRANT cases\n",
    "\n",
    "app.count()\n"
   ]
  },
  {
   "cell_type": "code",
   "execution_count": 6,
   "metadata": {},
   "outputs": [],
   "source": [
    "# only keep applications of type ASYL, ASYW, WCAT. sort by Grant, then deny, then case type in order (ASYL, ASYW, WCAT)\n",
    "#, then date within idnproceeding\n",
    "#sorting by date--if there are multiple applications with the same decision with the same case type, \n",
    "#take the most recent one.\n",
    "app = app[app.Appl_Code.isin(['ASYL','ASYW', 'WCAT'])]\n",
    "\n",
    "#sort multiple times because some need to be ascending and some descending\n",
    "app = app.sort_values(['idnProceeding','dec','Appl_Code','Appl_Recd_Date'],ascending=[True,False,True,False])\n"
   ]
  },
  {
   "cell_type": "code",
   "execution_count": 7,
   "metadata": {},
   "outputs": [],
   "source": [
    "app = app.rename(columns={\"idnCase\":\"idncase\", \"idnProceeding\":\"idnproceeding\"})"
   ]
  },
  {
   "cell_type": "code",
   "execution_count": 8,
   "metadata": {},
   "outputs": [
    {
     "data": {
      "text/html": [
       "<div>\n",
       "<style scoped>\n",
       "    .dataframe tbody tr th:only-of-type {\n",
       "        vertical-align: middle;\n",
       "    }\n",
       "\n",
       "    .dataframe tbody tr th {\n",
       "        vertical-align: top;\n",
       "    }\n",
       "\n",
       "    .dataframe thead th {\n",
       "        text-align: right;\n",
       "    }\n",
       "</style>\n",
       "<table border=\"1\" class=\"dataframe\">\n",
       "  <thead>\n",
       "    <tr style=\"text-align: right;\">\n",
       "      <th></th>\n",
       "      <th>idnProceedingAppln</th>\n",
       "      <th>idnproceeding</th>\n",
       "      <th>idncase</th>\n",
       "      <th>Appl_Code</th>\n",
       "      <th>Appl_Recd_Date</th>\n",
       "      <th>Appl_Dec</th>\n",
       "      <th>numAppsPerProc</th>\n",
       "      <th>dec</th>\n",
       "    </tr>\n",
       "  </thead>\n",
       "  <tbody>\n",
       "    <tr>\n",
       "      <th>40</th>\n",
       "      <td>41</td>\n",
       "      <td>75.0</td>\n",
       "      <td>3328085.0</td>\n",
       "      <td>ASYL</td>\n",
       "      <td>1994-12-20 00:00:00</td>\n",
       "      <td>D</td>\n",
       "      <td>3.0</td>\n",
       "      <td>DENY</td>\n",
       "    </tr>\n",
       "    <tr>\n",
       "      <th>836171</th>\n",
       "      <td>837950</td>\n",
       "      <td>75.0</td>\n",
       "      <td>3328085.0</td>\n",
       "      <td>ASYW</td>\n",
       "      <td>1994-12-20 00:00:00</td>\n",
       "      <td>D</td>\n",
       "      <td>3.0</td>\n",
       "      <td>DENY</td>\n",
       "    </tr>\n",
       "    <tr>\n",
       "      <th>42</th>\n",
       "      <td>43</td>\n",
       "      <td>85.0</td>\n",
       "      <td>3328111.0</td>\n",
       "      <td>ASYL</td>\n",
       "      <td>1995-04-02 00:00:00</td>\n",
       "      <td>D</td>\n",
       "      <td>3.0</td>\n",
       "      <td>DENY</td>\n",
       "    </tr>\n",
       "    <tr>\n",
       "      <th>836173</th>\n",
       "      <td>837952</td>\n",
       "      <td>85.0</td>\n",
       "      <td>3328111.0</td>\n",
       "      <td>ASYW</td>\n",
       "      <td>1995-04-02 00:00:00</td>\n",
       "      <td>D</td>\n",
       "      <td>3.0</td>\n",
       "      <td>DENY</td>\n",
       "    </tr>\n",
       "    <tr>\n",
       "      <th>48</th>\n",
       "      <td>49</td>\n",
       "      <td>103.0</td>\n",
       "      <td>3328153.0</td>\n",
       "      <td>ASYL</td>\n",
       "      <td>1995-05-05 00:00:00</td>\n",
       "      <td>G</td>\n",
       "      <td>2.0</td>\n",
       "      <td>GRANT</td>\n",
       "    </tr>\n",
       "    <tr>\n",
       "      <th>51</th>\n",
       "      <td>52</td>\n",
       "      <td>111.0</td>\n",
       "      <td>3328175.0</td>\n",
       "      <td>ASYL</td>\n",
       "      <td>1995-03-31 00:00:00</td>\n",
       "      <td>D</td>\n",
       "      <td>3.0</td>\n",
       "      <td>DENY</td>\n",
       "    </tr>\n",
       "    <tr>\n",
       "      <th>55</th>\n",
       "      <td>56</td>\n",
       "      <td>136.0</td>\n",
       "      <td>3327844.0</td>\n",
       "      <td>ASYL</td>\n",
       "      <td>1995-03-06 00:00:00</td>\n",
       "      <td>D</td>\n",
       "      <td>3.0</td>\n",
       "      <td>DENY</td>\n",
       "    </tr>\n",
       "    <tr>\n",
       "      <th>836186</th>\n",
       "      <td>837965</td>\n",
       "      <td>136.0</td>\n",
       "      <td>3327844.0</td>\n",
       "      <td>ASYW</td>\n",
       "      <td>1995-03-06 00:00:00</td>\n",
       "      <td>D</td>\n",
       "      <td>3.0</td>\n",
       "      <td>DENY</td>\n",
       "    </tr>\n",
       "    <tr>\n",
       "      <th>57</th>\n",
       "      <td>58</td>\n",
       "      <td>139.0</td>\n",
       "      <td>3327852.0</td>\n",
       "      <td>ASYL</td>\n",
       "      <td>1996-05-14 00:00:00</td>\n",
       "      <td>G</td>\n",
       "      <td>2.0</td>\n",
       "      <td>GRANT</td>\n",
       "    </tr>\n",
       "    <tr>\n",
       "      <th>836188</th>\n",
       "      <td>837967</td>\n",
       "      <td>139.0</td>\n",
       "      <td>3327852.0</td>\n",
       "      <td>ASYW</td>\n",
       "      <td>1996-05-14 00:00:00</td>\n",
       "      <td>G</td>\n",
       "      <td>2.0</td>\n",
       "      <td>GRANT</td>\n",
       "    </tr>\n",
       "  </tbody>\n",
       "</table>\n",
       "</div>"
      ],
      "text/plain": [
       "        idnProceedingAppln  idnproceeding    idncase Appl_Code  \\\n",
       "40                      41           75.0  3328085.0      ASYL   \n",
       "836171              837950           75.0  3328085.0      ASYW   \n",
       "42                      43           85.0  3328111.0      ASYL   \n",
       "836173              837952           85.0  3328111.0      ASYW   \n",
       "48                      49          103.0  3328153.0      ASYL   \n",
       "51                      52          111.0  3328175.0      ASYL   \n",
       "55                      56          136.0  3327844.0      ASYL   \n",
       "836186              837965          136.0  3327844.0      ASYW   \n",
       "57                      58          139.0  3327852.0      ASYL   \n",
       "836188              837967          139.0  3327852.0      ASYW   \n",
       "\n",
       "             Appl_Recd_Date Appl_Dec  numAppsPerProc    dec  \n",
       "40      1994-12-20 00:00:00        D             3.0   DENY  \n",
       "836171  1994-12-20 00:00:00        D             3.0   DENY  \n",
       "42      1995-04-02 00:00:00        D             3.0   DENY  \n",
       "836173  1995-04-02 00:00:00        D             3.0   DENY  \n",
       "48      1995-05-05 00:00:00        G             2.0  GRANT  \n",
       "51      1995-03-31 00:00:00        D             3.0   DENY  \n",
       "55      1995-03-06 00:00:00        D             3.0   DENY  \n",
       "836186  1995-03-06 00:00:00        D             3.0   DENY  \n",
       "57      1996-05-14 00:00:00        G             2.0  GRANT  \n",
       "836188  1996-05-14 00:00:00        G             2.0  GRANT  "
      ]
     },
     "execution_count": 8,
     "metadata": {},
     "output_type": "execute_result"
    }
   ],
   "source": [
    "app.head(10)"
   ]
  },
  {
   "cell_type": "code",
   "execution_count": 9,
   "metadata": {},
   "outputs": [],
   "source": [
    "# make unique--take the first application for each proceeding, when sorted in order dec (grant deny),\n",
    "#case type(ASYL, ASYW, WCAT), date\n",
    "app2 = app.groupby('idnproceeding', as_index=False).first()\n"
   ]
  },
  {
   "cell_type": "code",
   "execution_count": 10,
   "metadata": {},
   "outputs": [
    {
     "data": {
      "text/plain": [
       "idnproceeding         614388\n",
       "idnProceedingAppln    614388\n",
       "idncase               614388\n",
       "Appl_Code             614388\n",
       "Appl_Recd_Date        614387\n",
       "Appl_Dec              614388\n",
       "numAppsPerProc        614388\n",
       "dec                   614388\n",
       "dtype: int64"
      ]
     },
     "execution_count": 10,
     "metadata": {},
     "output_type": "execute_result"
    }
   ],
   "source": [
    "app2.count()"
   ]
  },
  {
   "cell_type": "code",
   "execution_count": 11,
   "metadata": {},
   "outputs": [
    {
     "data": {
      "text/html": [
       "<div>\n",
       "<style scoped>\n",
       "    .dataframe tbody tr th:only-of-type {\n",
       "        vertical-align: middle;\n",
       "    }\n",
       "\n",
       "    .dataframe tbody tr th {\n",
       "        vertical-align: top;\n",
       "    }\n",
       "\n",
       "    .dataframe thead th {\n",
       "        text-align: right;\n",
       "    }\n",
       "</style>\n",
       "<table border=\"1\" class=\"dataframe\">\n",
       "  <thead>\n",
       "    <tr style=\"text-align: right;\">\n",
       "      <th></th>\n",
       "      <th>idnproceeding</th>\n",
       "      <th>idnProceedingAppln</th>\n",
       "      <th>idncase</th>\n",
       "      <th>Appl_Code</th>\n",
       "      <th>Appl_Recd_Date</th>\n",
       "      <th>Appl_Dec</th>\n",
       "      <th>numAppsPerProc</th>\n",
       "      <th>dec</th>\n",
       "    </tr>\n",
       "  </thead>\n",
       "  <tbody>\n",
       "    <tr>\n",
       "      <th>0</th>\n",
       "      <td>75.0</td>\n",
       "      <td>41</td>\n",
       "      <td>3328085.0</td>\n",
       "      <td>ASYL</td>\n",
       "      <td>1994-12-20 00:00:00</td>\n",
       "      <td>D</td>\n",
       "      <td>3.0</td>\n",
       "      <td>DENY</td>\n",
       "    </tr>\n",
       "    <tr>\n",
       "      <th>1</th>\n",
       "      <td>85.0</td>\n",
       "      <td>43</td>\n",
       "      <td>3328111.0</td>\n",
       "      <td>ASYL</td>\n",
       "      <td>1995-04-02 00:00:00</td>\n",
       "      <td>D</td>\n",
       "      <td>3.0</td>\n",
       "      <td>DENY</td>\n",
       "    </tr>\n",
       "    <tr>\n",
       "      <th>2</th>\n",
       "      <td>103.0</td>\n",
       "      <td>49</td>\n",
       "      <td>3328153.0</td>\n",
       "      <td>ASYL</td>\n",
       "      <td>1995-05-05 00:00:00</td>\n",
       "      <td>G</td>\n",
       "      <td>2.0</td>\n",
       "      <td>GRANT</td>\n",
       "    </tr>\n",
       "    <tr>\n",
       "      <th>3</th>\n",
       "      <td>111.0</td>\n",
       "      <td>52</td>\n",
       "      <td>3328175.0</td>\n",
       "      <td>ASYL</td>\n",
       "      <td>1995-03-31 00:00:00</td>\n",
       "      <td>D</td>\n",
       "      <td>3.0</td>\n",
       "      <td>DENY</td>\n",
       "    </tr>\n",
       "    <tr>\n",
       "      <th>4</th>\n",
       "      <td>136.0</td>\n",
       "      <td>56</td>\n",
       "      <td>3327844.0</td>\n",
       "      <td>ASYL</td>\n",
       "      <td>1995-03-06 00:00:00</td>\n",
       "      <td>D</td>\n",
       "      <td>3.0</td>\n",
       "      <td>DENY</td>\n",
       "    </tr>\n",
       "    <tr>\n",
       "      <th>5</th>\n",
       "      <td>139.0</td>\n",
       "      <td>58</td>\n",
       "      <td>3327852.0</td>\n",
       "      <td>ASYL</td>\n",
       "      <td>1996-05-14 00:00:00</td>\n",
       "      <td>G</td>\n",
       "      <td>2.0</td>\n",
       "      <td>GRANT</td>\n",
       "    </tr>\n",
       "    <tr>\n",
       "      <th>6</th>\n",
       "      <td>145.0</td>\n",
       "      <td>60</td>\n",
       "      <td>3327869.0</td>\n",
       "      <td>ASYL</td>\n",
       "      <td>1995-11-29 00:00:00</td>\n",
       "      <td>D</td>\n",
       "      <td>3.0</td>\n",
       "      <td>DENY</td>\n",
       "    </tr>\n",
       "    <tr>\n",
       "      <th>7</th>\n",
       "      <td>147.0</td>\n",
       "      <td>61</td>\n",
       "      <td>3327877.0</td>\n",
       "      <td>ASYL</td>\n",
       "      <td>1995-11-29 00:00:00</td>\n",
       "      <td>D</td>\n",
       "      <td>3.0</td>\n",
       "      <td>DENY</td>\n",
       "    </tr>\n",
       "    <tr>\n",
       "      <th>8</th>\n",
       "      <td>149.0</td>\n",
       "      <td>62</td>\n",
       "      <td>3327884.0</td>\n",
       "      <td>ASYL</td>\n",
       "      <td>1995-04-14 00:00:00</td>\n",
       "      <td>D</td>\n",
       "      <td>3.0</td>\n",
       "      <td>DENY</td>\n",
       "    </tr>\n",
       "    <tr>\n",
       "      <th>9</th>\n",
       "      <td>159.0</td>\n",
       "      <td>63</td>\n",
       "      <td>3327927.0</td>\n",
       "      <td>ASYL</td>\n",
       "      <td>1995-07-25 00:00:00</td>\n",
       "      <td>D</td>\n",
       "      <td>3.0</td>\n",
       "      <td>DENY</td>\n",
       "    </tr>\n",
       "  </tbody>\n",
       "</table>\n",
       "</div>"
      ],
      "text/plain": [
       "   idnproceeding  idnProceedingAppln    idncase Appl_Code  \\\n",
       "0           75.0                  41  3328085.0      ASYL   \n",
       "1           85.0                  43  3328111.0      ASYL   \n",
       "2          103.0                  49  3328153.0      ASYL   \n",
       "3          111.0                  52  3328175.0      ASYL   \n",
       "4          136.0                  56  3327844.0      ASYL   \n",
       "5          139.0                  58  3327852.0      ASYL   \n",
       "6          145.0                  60  3327869.0      ASYL   \n",
       "7          147.0                  61  3327877.0      ASYL   \n",
       "8          149.0                  62  3327884.0      ASYL   \n",
       "9          159.0                  63  3327927.0      ASYL   \n",
       "\n",
       "        Appl_Recd_Date Appl_Dec  numAppsPerProc    dec  \n",
       "0  1994-12-20 00:00:00        D             3.0   DENY  \n",
       "1  1995-04-02 00:00:00        D             3.0   DENY  \n",
       "2  1995-05-05 00:00:00        G             2.0  GRANT  \n",
       "3  1995-03-31 00:00:00        D             3.0   DENY  \n",
       "4  1995-03-06 00:00:00        D             3.0   DENY  \n",
       "5  1996-05-14 00:00:00        G             2.0  GRANT  \n",
       "6  1995-11-29 00:00:00        D             3.0   DENY  \n",
       "7  1995-11-29 00:00:00        D             3.0   DENY  \n",
       "8  1995-04-14 00:00:00        D             3.0   DENY  \n",
       "9  1995-07-25 00:00:00        D             3.0   DENY  "
      ]
     },
     "execution_count": 11,
     "metadata": {},
     "output_type": "execute_result"
    }
   ],
   "source": [
    "app2.head(10)"
   ]
  },
  {
   "cell_type": "markdown",
   "metadata": {},
   "source": [
    "## Clean master.csv\n",
    "\n",
    "Relevant variables: idncase, idnproceeding, osc_date, tracid, nat"
   ]
  },
  {
   "cell_type": "code",
   "execution_count": 12,
   "metadata": {},
   "outputs": [],
   "source": [
    "# load in data\n",
    "master = pd.read_csv(path + '/master.csv', low_memory=False)\n",
    "#master.describe() # summary stats"
   ]
  },
  {
   "cell_type": "code",
   "execution_count": 13,
   "metadata": {},
   "outputs": [],
   "source": [
    "#drop empty cases and proceedings\n",
    "master = master.dropna(subset= ['idncase','idnproceeding'])\n",
    "#master.describe()"
   ]
  },
  {
   "cell_type": "code",
   "execution_count": 14,
   "metadata": {},
   "outputs": [],
   "source": [
    "# stuff on osc_date (date charges filed or NTA)\n",
    "master = master.dropna(subset=['osc_date']) # dropping empty dates\n",
    "\n",
    "master['osc_date'] = master['osc_date'].astype('str')\n",
    "master = master[master['osc_date'].apply(lambda x: len(x) == 9)] # delete dates invalid formats\n",
    "\n",
    "master['osc_date'] = pd.to_datetime(master['osc_date'], format='%d%b%Y') # change to date format \n",
    "#master.describe()"
   ]
  },
  {
   "cell_type": "code",
   "execution_count": null,
   "metadata": {},
   "outputs": [],
   "source": [
    "#comp date (date proceeding completed)\n",
    "master = master.dropna(subset=['comp_date']) # dropping empty dates\n",
    "\n",
    "master['comp_date'] = master['comp_date'].astype('str')\n",
    "master = master[master['comp_date'].apply(lambda x: len(x) == 9)] # delete dates invalid formats\n",
    "\n",
    "master['comp_date'] = pd.to_datetime(master['comp_date'], format='%d%b%Y') # change to date format "
   ]
  },
  {
   "cell_type": "code",
   "execution_count": null,
   "metadata": {},
   "outputs": [],
   "source": [
    "master.head(10)"
   ]
  },
  {
   "cell_type": "code",
   "execution_count": null,
   "metadata": {},
   "outputs": [],
   "source": [
    "# delete duplicates (since idnproceeding are unique, this shouldn't do anything)\n",
    "master = master.drop_duplicates(subset=['idncase', 'idnproceeding'])"
   ]
  },
  {
   "cell_type": "code",
   "execution_count": null,
   "metadata": {},
   "outputs": [],
   "source": [
    "# define master2, which only has variables of interest\n",
    "master2 = master[['idncase','idnproceeding', 'osc_date', 'comp_date','tracid', 'nat']]"
   ]
  },
  {
   "cell_type": "code",
   "execution_count": null,
   "metadata": {},
   "outputs": [],
   "source": [
    "master2.head(10)"
   ]
  },
  {
   "cell_type": "code",
   "execution_count": null,
   "metadata": {},
   "outputs": [],
   "source": [
    "master2.count()"
   ]
  },
  {
   "cell_type": "code",
   "execution_count": null,
   "metadata": {},
   "outputs": [],
   "source": [
    "master2['idnproceeding'] = master2['idnproceeding'].astype('float64')\n"
   ]
  },
  {
   "cell_type": "markdown",
   "metadata": {},
   "source": [
    "## Merge datasets"
   ]
  },
  {
   "cell_type": "code",
   "execution_count": null,
   "metadata": {},
   "outputs": [],
   "source": [
    "merged = pd.merge(app2, master2, on=['idnproceeding','idncase'])"
   ]
  },
  {
   "cell_type": "code",
   "execution_count": null,
   "metadata": {},
   "outputs": [],
   "source": [
    "merged.count()"
   ]
  },
  {
   "cell_type": "code",
   "execution_count": null,
   "metadata": {},
   "outputs": [],
   "source": [
    "merged.head(10)"
   ]
  },
  {
   "cell_type": "code",
   "execution_count": null,
   "metadata": {},
   "outputs": [],
   "source": [
    "#drop nan tracids and nat\n",
    "merged = merged.dropna(subset=['tracid','nat'])\n",
    "merged.count()\n"
   ]
  },
  {
   "cell_type": "code",
   "execution_count": null,
   "metadata": {},
   "outputs": [],
   "source": [
    " merged.groupby('tracid').count()"
   ]
  },
  {
   "cell_type": "code",
   "execution_count": null,
   "metadata": {},
   "outputs": [],
   "source": [
    "#drop all cases where judge has fewer than 100 cases--same as in gambler's fallacy paper\n",
    "tracid_100 = merged.groupby('tracid').idnproceeding.count()>=100 #bool indicating whether judge has at least 100 cases\n",
    "tracid_100 = tracid_100.index.values[tracid_100]#indices of judges with at least 100 cases\n",
    "merged2 = merged.loc[merged.tracid.isin(tracid_100)]\n",
    "merged2.count()"
   ]
  },
  {
   "cell_type": "code",
   "execution_count": null,
   "metadata": {},
   "outputs": [],
   "source": [
    "#there are 6377 osc dates before 1985, but I thought 1985 was supposed to be earliest year. \n",
    "merged2[merged2.osc_date.dt.year<1985]\n",
    "#when osc year is pre 1985, it is often many years before the appl_recd_date. some may be error, but some may \n",
    "#actually have occurred well before the court date?\n"
   ]
  },
  {
   "cell_type": "code",
   "execution_count": null,
   "metadata": {},
   "outputs": [],
   "source": [
    "#look at comp date--626 dates before 1985. drop these.\n",
    "len(merged2[merged2.comp_date.dt.year<1985])\n",
    "merged2 = merged2[merged2.comp_date.dt.year>1984]\n",
    "merged2.count()"
   ]
  },
  {
   "cell_type": "code",
   "execution_count": null,
   "metadata": {},
   "outputs": [],
   "source": [
    "merged2.groupby('dec').count()"
   ]
  },
  {
   "cell_type": "code",
   "execution_count": null,
   "metadata": {},
   "outputs": [],
   "source": [
    "# adding additional feature based on how many asylum proceedings have been filed for the same (idnCase) \n",
    "merged2['numProcPerCase'] = 1\n",
    "merged2['numProcPerCase'] = merged2['numProcPerCase'].astype('int64')\n",
    "merged2['numProcPerCase'] = merged2.groupby(['idncase'])['numProcPerCase'].transform('count')\n",
    "\n",
    "#make unique at idncase level, sorting with the same logic as used to sort applications\n",
    "#counting case as a grant if ANY proceeding was grant\n",
    "merged_case = merged2.sort_values(['idncase','dec','Appl_Code','Appl_Recd_Date'],ascending=[True,False,True,False])\n",
    "merged_case = merged_case.groupby('idncase',as_index=False ).first()"
   ]
  },
  {
   "cell_type": "code",
   "execution_count": null,
   "metadata": {},
   "outputs": [],
   "source": [
    "merged_case.groupby('dec').count()"
   ]
  },
  {
   "cell_type": "code",
   "execution_count": null,
   "metadata": {
    "scrolled": true
   },
   "outputs": [],
   "source": [
    "unique_nat = merged_case.nat.unique()\n",
    "unique_nat"
   ]
  },
  {
   "cell_type": "code",
   "execution_count": null,
   "metadata": {},
   "outputs": [],
   "source": [
    "#drop 159 cases with unknown nationalities\n",
    "merged_case = merged_case.loc[~(merged_case.nat=='??')]"
   ]
  },
  {
   "cell_type": "code",
   "execution_count": null,
   "metadata": {},
   "outputs": [],
   "source": [
    "#load nationality lookup table\n",
    "nat_lut =  pd.read_csv(path+ '/tblLookupNationality.csv',header=None)\n",
    "\n",
    "#drop 4 observations where the nationality code is not in the lookup table\n",
    "merged_case = merged_case.loc[merged_case.nat.isin(nat_lut[1])]\n",
    "\n",
    "#drop 2 observations with nationality code XX whic the LUT says corresponds \n",
    "#to \"BE REMOVED FROM THE UNITED STATES\"\n",
    "merged_case = merged_case.loc[~(merged_case.nat==\"XX\")]\n",
    "merged_case.count()"
   ]
  },
  {
   "cell_type": "code",
   "execution_count": null,
   "metadata": {},
   "outputs": [],
   "source": []
  },
  {
   "cell_type": "code",
   "execution_count": null,
   "metadata": {},
   "outputs": [],
   "source": [
    "#save data\n",
    "merged_case.to_csv('merged_any_master_app.csv',index=False)"
   ]
  },
  {
   "cell_type": "code",
   "execution_count": null,
   "metadata": {},
   "outputs": [],
   "source": []
  }
 ],
 "metadata": {
  "kernelspec": {
   "display_name": "Python 3",
   "language": "python",
   "name": "python3"
  },
  "language_info": {
   "codemirror_mode": {
    "name": "ipython",
    "version": 3
   },
   "file_extension": ".py",
   "mimetype": "text/x-python",
   "name": "python",
   "nbconvert_exporter": "python",
   "pygments_lexer": "ipython3",
   "version": "3.6.4"
  }
 },
 "nbformat": 4,
 "nbformat_minor": 2
}
