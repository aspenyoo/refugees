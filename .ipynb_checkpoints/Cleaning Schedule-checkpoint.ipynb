{
 "cells": [
  {
   "cell_type": "code",
   "execution_count": 1,
   "metadata": {},
   "outputs": [],
   "source": [
    "import pandas as pd\n",
    "import numpy as np\n",
    "pd.set_option('precision', 5)"
   ]
  },
  {
   "cell_type": "code",
   "execution_count": 2,
   "metadata": {},
   "outputs": [],
   "source": [
    "path = '/data/Dropbox/Data/Asylum_Courts/raw'"
   ]
  },
  {
   "cell_type": "code",
   "execution_count": 3,
   "metadata": {},
   "outputs": [],
   "source": [
    "sched = pd.read_csv(path + '/schedule.csv', low_memory=False)"
   ]
  },
  {
   "cell_type": "code",
   "execution_count": 4,
   "metadata": {},
   "outputs": [
    {
     "data": {
      "text/plain": [
       "idnschedule      15377519\n",
       "idncase          15377502\n",
       "idnproceeding    15377519\n",
       "adj_medium        8825704\n",
       "schedule_type    15377519\n",
       "adj_date         15377519\n",
       "dtype: int64"
      ]
     },
     "execution_count": 4,
     "metadata": {},
     "output_type": "execute_result"
    }
   ],
   "source": [
    "sched.count()"
   ]
  },
  {
   "cell_type": "code",
   "execution_count": 5,
   "metadata": {},
   "outputs": [],
   "source": [
    "sched_tbl = pd.read_csv(path + '/tbl_schedule.csv', low_memory=False)"
   ]
  },
  {
   "cell_type": "code",
   "execution_count": 6,
   "metadata": {},
   "outputs": [
    {
     "data": {
      "text/plain": [
       "IDNSCHEDULE         70553\n",
       "IDNPROCEEDING       70553\n",
       "IDNCASE             70551\n",
       "OSC_DATE            70553\n",
       "GENERATION          70553\n",
       "SUB_GENERATION      70553\n",
       "REC_TYPE            70553\n",
       "ALIEN_ATTY_CODE     63026\n",
       "LANG                70545\n",
       "HEARING_LOC_CODE    70545\n",
       "BASE_CITY_CODE      70545\n",
       "IJ_CODE             70545\n",
       "INTERPRETER_CODE        0\n",
       "INPUT_DATE          70553\n",
       "INPUT_TIME          70553\n",
       "UPDATE_DATE         70553\n",
       "UPDATE_TIME         70553\n",
       "ASSIGNMENT_PATH         0\n",
       "CONTINUE_FLAG           0\n",
       "CAL_TYPE            70553\n",
       "ADJ_DATE            70553\n",
       "ADJ_TIME_START      70553\n",
       "ADJ_TIME_STOP       37852\n",
       "ADJ_RSN             40793\n",
       "ADJ_MEDIUM          70147\n",
       "ADJ_MSG             69416\n",
       "ADJ_ELAP_DAYS       38533\n",
       "ID_1                70552\n",
       "LNGSESSNID              0\n",
       "SCHEDULE_TYPE       70552\n",
       "NOTICE_CODE            17\n",
       "DATBATCHMODIFIED     2778\n",
       "STRCREATEDBY        70552\n",
       "STRMODIFIEDBY       70552\n",
       "BLNCLOCKOVERRIDE    70552\n",
       "EOIRAttorneyID      35713\n",
       "dtype: int64"
      ]
     },
     "execution_count": 6,
     "metadata": {},
     "output_type": "execute_result"
    }
   ],
   "source": [
    "sched_tbl.count()"
   ]
  },
  {
   "cell_type": "code",
   "execution_count": null,
   "metadata": {},
   "outputs": [],
   "source": []
  }
 ],
 "metadata": {
  "kernelspec": {
   "display_name": "Python 3",
   "language": "python",
   "name": "python3"
  },
  "language_info": {
   "codemirror_mode": {
    "name": "ipython",
    "version": 3
   },
   "file_extension": ".py",
   "mimetype": "text/x-python",
   "name": "python",
   "nbconvert_exporter": "python",
   "pygments_lexer": "ipython3",
   "version": "3.6.4"
  }
 },
 "nbformat": 4,
 "nbformat_minor": 2
}
