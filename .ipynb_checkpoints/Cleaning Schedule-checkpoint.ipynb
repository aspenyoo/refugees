{
 "cells": [
  {
   "cell_type": "markdown",
   "metadata": {},
   "source": [
    "## Merging schedule.csv, merged_master_app.csv, and tbl_schedule.csv"
   ]
  },
  {
   "cell_type": "markdown",
   "metadata": {},
   "source": [
    "Merging all four files together. Please note that master_app already took care of master and application files."
   ]
  },
  {
   "cell_type": "code",
   "execution_count": 42,
   "metadata": {},
   "outputs": [],
   "source": [
    "import pandas as pd\n",
    "import numpy as np\n",
    "import matplotlib.pyplot as plt\n",
    "pd.set_option('precision', 5)"
   ]
  },
  {
   "cell_type": "code",
   "execution_count": 40,
   "metadata": {},
   "outputs": [],
   "source": [
    "# flags to toggle between model designs\n",
    "# 2 (asylum: full, any) x 2 (predictability: early, late)\n",
    "\n",
    "flag_full = 0 # is full asylum? if not, then any asylum\n",
    "flag_early = 0 # is early predictability? if not, then late predictability\n",
    "\n",
    "if flag_early:\n",
    "    tag_pred = 'early'\n",
    "else:\n",
    "    tag_pred = 'late'\n",
    "    \n",
    "if flag_full:\n",
    "    tag_asyl = 'full'\n",
    "else:\n",
    "    tag_asyl = 'any'"
   ]
  },
  {
   "cell_type": "code",
   "execution_count": 41,
   "metadata": {},
   "outputs": [],
   "source": [
    "path = '/data/Dropbox/Data/Asylum_Courts/raw'\n",
    "rubypath = '/home/yihsuanfu/'"
   ]
  },
  {
   "cell_type": "markdown",
   "metadata": {},
   "source": [
    "## Reading in master_app"
   ]
  },
  {
   "cell_type": "code",
   "execution_count": 4,
   "metadata": {},
   "outputs": [],
   "source": [
    "master_app = pd.read_csv('/data/WorkData/spatialtemporal/merged_master_app_' + tag_asyl + '.csv')"
   ]
  },
  {
   "cell_type": "code",
   "execution_count": 38,
   "metadata": {},
   "outputs": [
    {
     "data": {
      "text/html": [
       "<div>\n",
       "<style scoped>\n",
       "    .dataframe tbody tr th:only-of-type {\n",
       "        vertical-align: middle;\n",
       "    }\n",
       "\n",
       "    .dataframe tbody tr th {\n",
       "        vertical-align: top;\n",
       "    }\n",
       "\n",
       "    .dataframe thead th {\n",
       "        text-align: right;\n",
       "    }\n",
       "</style>\n",
       "<table border=\"1\" class=\"dataframe\">\n",
       "  <thead>\n",
       "    <tr style=\"text-align: right;\">\n",
       "      <th></th>\n",
       "      <th>idncase</th>\n",
       "      <th>idnproceeding</th>\n",
       "      <th>dec</th>\n",
       "      <th>numAppsPerProc</th>\n",
       "      <th>nat</th>\n",
       "      <th>case_type</th>\n",
       "      <th>c_asy_type</th>\n",
       "      <th>base_city_code</th>\n",
       "      <th>hearing_loc_code</th>\n",
       "      <th>osc_date</th>\n",
       "      <th>comp_date</th>\n",
       "      <th>attorney_flag</th>\n",
       "      <th>tracid</th>\n",
       "      <th>hearing_city</th>\n",
       "      <th>base_city</th>\n",
       "      <th>numProcPerCase</th>\n",
       "    </tr>\n",
       "  </thead>\n",
       "  <tbody>\n",
       "    <tr>\n",
       "      <th>0</th>\n",
       "      <td>2046931.0</td>\n",
       "      <td>3200059.0</td>\n",
       "      <td>0.0</td>\n",
       "      <td>3</td>\n",
       "      <td>CH</td>\n",
       "      <td>RMV</td>\n",
       "      <td>def</td>\n",
       "      <td>CHI</td>\n",
       "      <td>CHD</td>\n",
       "      <td>2003-09-09</td>\n",
       "      <td>2004-02-20</td>\n",
       "      <td>1.0</td>\n",
       "      <td>32.0</td>\n",
       "      <td>CHICAGO</td>\n",
       "      <td>CHICAGO</td>\n",
       "      <td>1</td>\n",
       "    </tr>\n",
       "    <tr>\n",
       "      <th>1</th>\n",
       "      <td>2046932.0</td>\n",
       "      <td>3371117.0</td>\n",
       "      <td>0.0</td>\n",
       "      <td>3</td>\n",
       "      <td>CH</td>\n",
       "      <td>RMV</td>\n",
       "      <td>def</td>\n",
       "      <td>NYC</td>\n",
       "      <td>NYC</td>\n",
       "      <td>2003-09-09</td>\n",
       "      <td>2005-05-13</td>\n",
       "      <td>1.0</td>\n",
       "      <td>148.0</td>\n",
       "      <td>NEW YORK</td>\n",
       "      <td>NEW YORK</td>\n",
       "      <td>1</td>\n",
       "    </tr>\n",
       "    <tr>\n",
       "      <th>2</th>\n",
       "      <td>2046933.0</td>\n",
       "      <td>3200063.0</td>\n",
       "      <td>0.0</td>\n",
       "      <td>3</td>\n",
       "      <td>CH</td>\n",
       "      <td>RMV</td>\n",
       "      <td>def</td>\n",
       "      <td>CLE</td>\n",
       "      <td>CEL</td>\n",
       "      <td>2003-09-16</td>\n",
       "      <td>2007-08-15</td>\n",
       "      <td>1.0</td>\n",
       "      <td>3.0</td>\n",
       "      <td>CLEVELAND</td>\n",
       "      <td>CLEVELAND</td>\n",
       "      <td>1</td>\n",
       "    </tr>\n",
       "    <tr>\n",
       "      <th>3</th>\n",
       "      <td>2046934.0</td>\n",
       "      <td>3200066.0</td>\n",
       "      <td>1.0</td>\n",
       "      <td>2</td>\n",
       "      <td>CM</td>\n",
       "      <td>RMV</td>\n",
       "      <td>def</td>\n",
       "      <td>CHI</td>\n",
       "      <td>CHD</td>\n",
       "      <td>2003-09-24</td>\n",
       "      <td>2004-01-06</td>\n",
       "      <td>1.0</td>\n",
       "      <td>31.0</td>\n",
       "      <td>CHICAGO</td>\n",
       "      <td>CHICAGO</td>\n",
       "      <td>1</td>\n",
       "    </tr>\n",
       "    <tr>\n",
       "      <th>4</th>\n",
       "      <td>2046935.0</td>\n",
       "      <td>3200067.0</td>\n",
       "      <td>0.0</td>\n",
       "      <td>2</td>\n",
       "      <td>CH</td>\n",
       "      <td>AOC</td>\n",
       "      <td>def</td>\n",
       "      <td>CHI</td>\n",
       "      <td>CHD</td>\n",
       "      <td>2003-09-08</td>\n",
       "      <td>2004-01-30</td>\n",
       "      <td>1.0</td>\n",
       "      <td>32.0</td>\n",
       "      <td>CHICAGO</td>\n",
       "      <td>CHICAGO</td>\n",
       "      <td>1</td>\n",
       "    </tr>\n",
       "  </tbody>\n",
       "</table>\n",
       "</div>"
      ],
      "text/plain": [
       "     idncase  idnproceeding  dec  numAppsPerProc nat case_type c_asy_type  \\\n",
       "0  2046931.0      3200059.0  0.0               3  CH       RMV        def   \n",
       "1  2046932.0      3371117.0  0.0               3  CH       RMV        def   \n",
       "2  2046933.0      3200063.0  0.0               3  CH       RMV        def   \n",
       "3  2046934.0      3200066.0  1.0               2  CM       RMV        def   \n",
       "4  2046935.0      3200067.0  0.0               2  CH       AOC        def   \n",
       "\n",
       "  base_city_code hearing_loc_code    osc_date   comp_date  attorney_flag  \\\n",
       "0            CHI              CHD  2003-09-09  2004-02-20            1.0   \n",
       "1            NYC              NYC  2003-09-09  2005-05-13            1.0   \n",
       "2            CLE              CEL  2003-09-16  2007-08-15            1.0   \n",
       "3            CHI              CHD  2003-09-24  2004-01-06            1.0   \n",
       "4            CHI              CHD  2003-09-08  2004-01-30            1.0   \n",
       "\n",
       "   tracid hearing_city        base_city  numProcPerCase  \n",
       "0    32.0      CHICAGO          CHICAGO               1  \n",
       "1   148.0     NEW YORK  NEW YORK                      1  \n",
       "2     3.0    CLEVELAND        CLEVELAND               1  \n",
       "3    31.0      CHICAGO          CHICAGO               1  \n",
       "4    32.0      CHICAGO          CHICAGO               1  "
      ]
     },
     "execution_count": 38,
     "metadata": {},
     "output_type": "execute_result"
    }
   ],
   "source": [
    "master_app.head(5)"
   ]
  },
  {
   "cell_type": "code",
   "execution_count": 6,
   "metadata": {},
   "outputs": [],
   "source": [
    "#master_app.count()"
   ]
  },
  {
   "cell_type": "code",
   "execution_count": 7,
   "metadata": {},
   "outputs": [],
   "source": [
    "# renaming variables \n",
    "#master_app = master_app.rename(columns={\"idncase_x\":\"idncase\", \"Appl_Recd_Date\":\"appl_recd_date\", \"Appl_Dec\":\"appl_dec\"})\n",
    "#master_app = master_app.drop('idnProceedingAppln', axis=1)"
   ]
  },
  {
   "cell_type": "markdown",
   "metadata": {},
   "source": [
    "## Finalizing  schedule.csv"
   ]
  },
  {
   "cell_type": "code",
   "execution_count": 8,
   "metadata": {},
   "outputs": [],
   "source": [
    "sched = pd.read_csv(path + '/schedule.csv', low_memory=False)"
   ]
  },
  {
   "cell_type": "code",
   "execution_count": 9,
   "metadata": {},
   "outputs": [],
   "source": [
    "sched['adj_date'] = sched['adj_date'].astype('str')\n",
    "# delete dates invalid formats\n",
    "sched = sched[sched['adj_date'].apply(lambda x: len(x) == 9)] \n",
    "sched['adj_date'] = pd.to_datetime(sched['adj_date'], format='%d%b%Y')"
   ]
  },
  {
   "cell_type": "code",
   "execution_count": 10,
   "metadata": {},
   "outputs": [],
   "source": [
    "schedtype_map = pd.read_csv(path + '/tbllookupSchedule_Type.csv', header=None)"
   ]
  },
  {
   "cell_type": "code",
   "execution_count": 11,
   "metadata": {},
   "outputs": [],
   "source": [
    "schedtype_map = schedtype_map.rename(columns={1:'schedule_type', 2:'sched_type'})\n",
    "schedtype_map = schedtype_map[['schedule_type', 'sched_type']]"
   ]
  },
  {
   "cell_type": "code",
   "execution_count": 12,
   "metadata": {},
   "outputs": [],
   "source": [
    "#schedtype_map.head(10)"
   ]
  },
  {
   "cell_type": "code",
   "execution_count": 13,
   "metadata": {},
   "outputs": [],
   "source": [
    "sched['schedule_type'] = sched['schedule_type'].astype('str').str.strip()\n",
    "schedtype_map['schedule_type'] = schedtype_map['schedule_type'].astype('str').str.strip()"
   ]
  },
  {
   "cell_type": "code",
   "execution_count": 14,
   "metadata": {},
   "outputs": [],
   "source": [
    "sched = pd.merge(sched, schedtype_map, on=['schedule_type'], how='left')"
   ]
  },
  {
   "cell_type": "code",
   "execution_count": 15,
   "metadata": {},
   "outputs": [],
   "source": [
    "sched = sched.drop(columns=['schedule_type', 'idnschedule'])"
   ]
  },
  {
   "cell_type": "code",
   "execution_count": 16,
   "metadata": {},
   "outputs": [],
   "source": [
    "sched['adj_medium'] = sched['adj_medium'].fillna('UNKNOWN')"
   ]
  },
  {
   "cell_type": "markdown",
   "metadata": {},
   "source": [
    "## Finalizing detailed_schedule.csv"
   ]
  },
  {
   "cell_type": "code",
   "execution_count": 17,
   "metadata": {},
   "outputs": [],
   "source": [
    "tbl_sched = pd.read_csv(rubypath + 'detailed_schedule.csv', low_memory=False)"
   ]
  },
  {
   "cell_type": "code",
   "execution_count": 18,
   "metadata": {},
   "outputs": [],
   "source": [
    "tbl_sched['adj_date'] = pd.to_datetime(tbl_sched['adj_date'])"
   ]
  },
  {
   "cell_type": "code",
   "execution_count": 19,
   "metadata": {},
   "outputs": [],
   "source": [
    "tbl_sched = tbl_sched.drop(columns=['idnschedule', 'hearing_loc_code', 'adj_rsn', 'sched_type', 'alien_atty_code', 'osc_date'])"
   ]
  },
  {
   "cell_type": "markdown",
   "metadata": {},
   "source": [
    "## Merge all files!"
   ]
  },
  {
   "cell_type": "code",
   "execution_count": 20,
   "metadata": {},
   "outputs": [],
   "source": [
    "# merging master_app.csv with schedule.csv\n",
    "merged_sched_master = pd.merge(master_app, sched, on=['idncase', 'idnproceeding'])\n",
    "#merged_sched_master.count()"
   ]
  },
  {
   "cell_type": "code",
   "execution_count": null,
   "metadata": {},
   "outputs": [],
   "source": [
    "# doing a left join-- this shows ~1000 applications didn't have hearings \n",
    "#test = pd.merge(master_app, sched, on=['idncase', 'idnproceeding'], how='left')\n",
    "#test.count()"
   ]
  },
  {
   "cell_type": "code",
   "execution_count": 21,
   "metadata": {},
   "outputs": [],
   "source": [
    "# checking merged dataframe\n",
    "#merged_sched_master.head(5)"
   ]
  },
  {
   "cell_type": "code",
   "execution_count": 22,
   "metadata": {},
   "outputs": [],
   "source": [
    "# merging with tbl_schedule.csv\n",
    "merged_sched_master = pd.merge(merged_sched_master, tbl_sched, on=['idncase', 'idnproceeding', 'adj_date'], how='left')\n",
    "merged_sched_master = merged_sched_master.sort_values(['idnproceeding','adj_date']).reset_index()"
   ]
  },
  {
   "cell_type": "markdown",
   "metadata": {},
   "source": [
    "## Generating features"
   ]
  },
  {
   "cell_type": "code",
   "execution_count": 23,
   "metadata": {},
   "outputs": [],
   "source": [
    "if not flag_early:\n",
    "    # NUMBER OF HEARINGS PER PROCEEDING \n",
    "    merged_sched_master['numHearingsPerProc'] = 1\n",
    "    merged_sched_master['numHearingsPerProc'] = merged_sched_master.groupby(['idncase', 'idnproceeding'])['numHearingsPerProc'].transform('count')\n",
    "\n",
    "    # NUMBER OF DAYS BETWEEN FIRST AND LAST HEARING\n",
    "    merged_sched_master['durationFirstLastHearing']= merged_sched_master.groupby(['idncase', 'idnproceeding'])['adj_date'].transform(lambda x: x.iloc[-1] - x.iloc[0]).dt.days\n",
    "    # this shows that many proceedings spanned an unreasonable amount of time (in days)\n",
    "    merged_sched_master.sort_values(['durationFirstLastHearing', 'idnproceeding', 'adj_date'], ascending=False).head(20)\n",
    "\n",
    "    # AVERAGE HEARING DURATION \n",
    "    merged_sched_master['averageHearingDur']= merged_sched_master.groupby(['idncase', 'idnproceeding'])['durationHearing'].transform('mean')"
   ]
  },
  {
   "cell_type": "code",
   "execution_count": 24,
   "metadata": {},
   "outputs": [],
   "source": [
    "# CURRENT PRESIDENT'S POLITICAL AFFILIATION\n",
    "pres = {1985:'REP', 1986:'REP', 1987:'REP', 1988:'REP', 1989:'REP', 1990:'REP', 1991:'REP', 1992:'REP', 1993:'DEM', 1994:'DEM', 1995:'DEM', 1996:'DEM', 1997:'DEM', 1998:'DEM', 1999:'DEM', 2000:'DEM', 2001:'REP', 2002:'REP', 2003:'REP', 2004:'REP', 2005:'REP', 2006:'REP', 2007:'REP', 2008:'REP', 2009:'DEM', 2010:'DEM', 2011:'DEM', 2012:'DEM', 2013:'DEM', 2014:'DEM'}\n",
    "merged_sched_master['pres_aff'] = merged_sched_master['adj_date'].dt.year.map(pres)"
   ]
  },
  {
   "cell_type": "markdown",
   "metadata": {},
   "source": [
    "## Selecting the first (for early) or last (for late) hearing for each idncase"
   ]
  },
  {
   "cell_type": "code",
   "execution_count": 25,
   "metadata": {},
   "outputs": [],
   "source": [
    "if flag_early: # early predictability\n",
    "    merged_sched_master = merged_sched_master.groupby(['idncase', 'idnproceeding'], as_index=False).first()\n",
    "else: # late predictability\n",
    "    merged_sched_master = merged_sched_master.groupby(['idncase', 'idnproceeding'], as_index=False).last()"
   ]
  },
  {
   "cell_type": "code",
   "execution_count": 26,
   "metadata": {},
   "outputs": [],
   "source": [
    "#merged_sched_master.head(5)"
   ]
  },
  {
   "cell_type": "code",
   "execution_count": 27,
   "metadata": {},
   "outputs": [
    {
     "data": {
      "text/plain": [
       "idncase             548371\n",
       "idnproceeding       548371\n",
       "index               548371\n",
       "dec                 548371\n",
       "numAppsPerProc      548371\n",
       "nat                 548371\n",
       "case_type           548371\n",
       "c_asy_type          548371\n",
       "base_city_code      548371\n",
       "hearing_loc_code    548371\n",
       "osc_date            548371\n",
       "comp_date           548371\n",
       "attorney_flag       548371\n",
       "tracid              548371\n",
       "hearing_city        548371\n",
       "base_city           548371\n",
       "numProcPerCase      548371\n",
       "adj_medium          548371\n",
       "adj_date            548371\n",
       "sched_type          548371\n",
       "lang                257918\n",
       "lang_hearing        258735\n",
       "notice_desc         258735\n",
       "adj_time_start2     258735\n",
       "adj_time_stop2      258735\n",
       "durationHearing     258735\n",
       "adj_rsn_desc        258735\n",
       "pres_aff            548270\n",
       "dtype: int64"
      ]
     },
     "execution_count": 27,
     "metadata": {},
     "output_type": "execute_result"
    }
   ],
   "source": [
    "merged_sched_master.count()"
   ]
  },
  {
   "cell_type": "code",
   "execution_count": 28,
   "metadata": {},
   "outputs": [],
   "source": [
    "merged_sched_master['lang_hearing'] = merged_sched_master['lang_hearing'].fillna('UNKNOWN')\n",
    "\n",
    "#merged_sched_master['notice_desc'] = merged_sched_master['notice_desc'].fillna('UNKNOWN')\n",
    "#merged_sched_master['adj_rsn_desc'] = merged_sched_master['adj_rsn_desc'].fillna('UNKNOWN')"
   ]
  },
  {
   "cell_type": "code",
   "execution_count": 29,
   "metadata": {},
   "outputs": [],
   "source": [
    "#merged_sched_master.head(5)"
   ]
  },
  {
   "cell_type": "markdown",
   "metadata": {},
   "source": [
    "## Generating \"case duration\" feature"
   ]
  },
  {
   "cell_type": "code",
   "execution_count": 30,
   "metadata": {},
   "outputs": [],
   "source": [
    "merged_sched_master['osc_date'] = pd.to_datetime(merged_sched_master['osc_date'],infer_datetime_format = True)\n",
    "startdate = np.datetime64('1984-01-01') # earliest osc_date in training set\n",
    "merged_sched_master['osc_date_delta'] = merged_sched_master['osc_date'].apply(lambda x: (x - startdate).days)"
   ]
  },
  {
   "cell_type": "code",
   "execution_count": 31,
   "metadata": {},
   "outputs": [],
   "source": [
    "# get case duration feature\n",
    "if not flag_early: \n",
    "    merged_sched_master['comp_date'] = pd.to_datetime(merged_sched_master['comp_date'])\n",
    "    #merged_sched_master['osc_date'] = pd.to_datetime(merged_sched_master['osc_date'])\n",
    "    merged_sched_master['caseDuration'] = merged_sched_master.apply(lambda x: x['comp_date'] - x['osc_date'], axis=1).dt.days"
   ]
  },
  {
   "cell_type": "code",
   "execution_count": 32,
   "metadata": {},
   "outputs": [],
   "source": [
    "# making more variables\n",
    "merged_sched_master['hearingDayOfWeek'] = merged_sched_master['adj_date'].dt.weekday_name\n",
    "merged_sched_master['hearingYear'] = merged_sched_master['adj_date'].dt.year\n",
    "merged_sched_master['hearingMonth'] = merged_sched_master['adj_date'].dt.month"
   ]
  },
  {
   "cell_type": "code",
   "execution_count": null,
   "metadata": {},
   "outputs": [],
   "source": [
    "#merged_sched_master.to_csv('../merged_any_master_schedule_v2.csv', index=False)\n",
    "\n",
    "#merged_sched_master = pd.read_csv('../merged_any_master_schedule_v2.csv')\n",
    "\n",
    "#merged_sched_master['comp_date'] = pd.to_datetime(merged_sched_master['comp_date'],infer_datetime_format = True)\n",
    "#merged_sched_master.sort_values(['comp_date']).head(3)\n",
    "#merged_sched_master = merged_sched_master.drop(columns=['adj_date', 'adj_time_start2', 'adj_time_stop2'])\n",
    "\n",
    "#startdate = np.datetime64('1985-01-02')\n",
    "#merged_sched_master['comp_date_in_days'] = merged_sched_master['comp_date'].apply(lambda x: (x - startdate).days)\n",
    "\n",
    "#merged_sched_master = merged_sched_master.drop(columns=['comp_date'])"
   ]
  },
  {
   "cell_type": "code",
   "execution_count": 33,
   "metadata": {},
   "outputs": [],
   "source": [
    "merged_sched_master = merged_sched_master.drop(columns=['index', 'lang'])"
   ]
  },
  {
   "cell_type": "code",
   "execution_count": 34,
   "metadata": {},
   "outputs": [],
   "source": [
    "merged_sched_master.to_csv('/data/WorkData/spatialtemporal/finalmerge_'+ tag_asyl + '_' + tag_pred + '.csv', index=False)"
   ]
  },
  {
   "cell_type": "code",
   "execution_count": null,
   "metadata": {},
   "outputs": [],
   "source": []
  },
  {
   "cell_type": "code",
   "execution_count": null,
   "metadata": {},
   "outputs": [],
   "source": []
  },
  {
   "cell_type": "code",
   "execution_count": null,
   "metadata": {},
   "outputs": [],
   "source": []
  },
  {
   "cell_type": "code",
   "execution_count": null,
   "metadata": {},
   "outputs": [],
   "source": []
  },
  {
   "cell_type": "markdown",
   "metadata": {},
   "source": [
    "\n",
    "\n",
    "\n",
    "\n",
    "\n",
    "# PLOTS. AFTER SAVING DATA FILE"
   ]
  },
  {
   "cell_type": "markdown",
   "metadata": {},
   "source": [
    "## Histogram of numerical features"
   ]
  },
  {
   "cell_type": "code",
   "execution_count": 61,
   "metadata": {},
   "outputs": [
    {
     "data": {
      "image/png": "[encoded data removed]",
      "text/plain": [
       "<Figure size 1440x1080 with 6 Axes>"
      ]
     },
     "metadata": {},
     "output_type": "display_data"
    }
   ],
   "source": [
    "merged_sched_master.hist(bins=100, column=['numAppsPerProc', 'numHearingsPerProc', 'numProcPerCase', 'durationFirstLastHearing', 'averageHearingDur'], figsize=(20, 15))\n",
    "plt.show()"
   ]
  },
  {
   "cell_type": "markdown",
   "metadata": {},
   "source": [
    "## Average hearing duration v.s. grant rate"
   ]
  },
  {
   "cell_type": "code",
   "execution_count": 62,
   "metadata": {},
   "outputs": [],
   "source": [
    "avgHDur_grantR = merged_sched_master[merged_sched_master.averageHearingDur <= 500]"
   ]
  },
  {
   "cell_type": "code",
   "execution_count": 63,
   "metadata": {},
   "outputs": [
    {
     "name": "stderr",
     "output_type": "stream",
     "text": [
      "/usr/local/anaconda/anaconda3/lib/python3.6/site-packages/ipykernel_launcher.py:1: SettingWithCopyWarning: \n",
      "A value is trying to be set on a copy of a slice from a DataFrame.\n",
      "Try using .loc[row_indexer,col_indexer] = value instead\n",
      "\n",
      "See the caveats in the documentation: http://pandas.pydata.org/pandas-docs/stable/indexing.html#indexing-view-versus-copy\n",
      "  \"\"\"Entry point for launching an IPython kernel.\n"
     ]
    }
   ],
   "source": [
    "avgHDur_grantR['rangeInc100'] = pd.cut(avgHDur_grantR['averageHearingDur'], np.arange(0, 500, 50))"
   ]
  },
  {
   "cell_type": "code",
   "execution_count": 64,
   "metadata": {},
   "outputs": [],
   "source": [
    "avgHDur_grantR = avgHDur_grantR.groupby(['rangeInc100', 'dec'])['dec'].count()"
   ]
  },
  {
   "cell_type": "code",
   "execution_count": 65,
   "metadata": {},
   "outputs": [],
   "source": [
    "avgHDur_grantR  = avgHDur_grantR.groupby(level=0).apply(lambda x: x / x.sum())"
   ]
  },
  {
   "cell_type": "code",
   "execution_count": 67,
   "metadata": {},
   "outputs": [
    {
     "data": {
      "text/plain": [
       "<matplotlib.axes._subplots.AxesSubplot at 0x7f58dbb5dcc0>"
      ]
     },
     "execution_count": 67,
     "metadata": {},
     "output_type": "execute_result"
    },
    {
     "data": {
      "image/png": "[encoded data removed]",
      "text/plain": [
       "<Figure size 432x288 with 1 Axes>"
      ]
     },
     "metadata": {},
     "output_type": "display_data"
    }
   ],
   "source": [
    "avgHDur_grantR.unstack().reset_index().plot(x='rangeInc100', y=1, kind='bar', title='Average Hearing Duation v.s. Grant Rate')"
   ]
  },
  {
   "cell_type": "markdown",
   "metadata": {},
   "source": [
    "## Number of applications/proceeding v.s grant rate"
   ]
  },
  {
   "cell_type": "code",
   "execution_count": 68,
   "metadata": {},
   "outputs": [],
   "source": [
    "numApp_grantRate = merged_sched_master.groupby(['numAppsPerProc', 'dec'])['dec'].count()"
   ]
  },
  {
   "cell_type": "code",
   "execution_count": 69,
   "metadata": {},
   "outputs": [
    {
     "data": {
      "text/plain": [
       "numAppsPerProc  dec\n",
       "1               0.0    0.25604\n",
       "                1.0    0.74396\n",
       "2               0.0    0.75280\n",
       "                1.0    0.24720\n",
       "3               0.0    0.86713\n",
       "                1.0    0.13287\n",
       "4               0.0    0.75455\n",
       "                1.0    0.24545\n",
       "5               0.0    0.79070\n",
       "                1.0    0.20930\n",
       "6               0.0    0.88889\n",
       "                1.0    0.11111\n",
       "Name: dec, dtype: float64"
      ]
     },
     "execution_count": 69,
     "metadata": {},
     "output_type": "execute_result"
    }
   ],
   "source": [
    "numApp_grantRate = numApp_grantRate.groupby(level=0).apply(lambda x: x / x.sum())\n",
    "numApp_grantRate"
   ]
  },
  {
   "cell_type": "code",
   "execution_count": 70,
   "metadata": {},
   "outputs": [
    {
     "data": {
      "text/plain": [
       "<matplotlib.axes._subplots.AxesSubplot at 0x7f58db7a8a20>"
      ]
     },
     "execution_count": 70,
     "metadata": {},
     "output_type": "execute_result"
    },
    {
     "data": {
      "image/png": "[encoded data removed]",
      "text/plain": [
       "<Figure size 432x288 with 1 Axes>"
      ]
     },
     "metadata": {},
     "output_type": "display_data"
    }
   ],
   "source": [
    "numApp_grantRate.unstack().reset_index().plot(x='numAppsPerProc', y=1, kind='bar', title='Number of Applications/Proc v.s. Grant Rate')"
   ]
  },
  {
   "cell_type": "markdown",
   "metadata": {},
   "source": [
    "## Number of days elapsed between first and last hearing v.s grant rate"
   ]
  },
  {
   "cell_type": "code",
   "execution_count": 71,
   "metadata": {},
   "outputs": [],
   "source": [
    "# getting rid of the rows where days elapsed is greater than 2000\n",
    "durationFirstLastHearing_grantR = merged_sched_master[merged_sched_master.durationFirstLastHearing < 2000]"
   ]
  },
  {
   "cell_type": "code",
   "execution_count": 72,
   "metadata": {},
   "outputs": [
    {
     "name": "stderr",
     "output_type": "stream",
     "text": [
      "/usr/local/anaconda/anaconda3/lib/python3.6/site-packages/ipykernel_launcher.py:2: SettingWithCopyWarning: \n",
      "A value is trying to be set on a copy of a slice from a DataFrame.\n",
      "Try using .loc[row_indexer,col_indexer] = value instead\n",
      "\n",
      "See the caveats in the documentation: http://pandas.pydata.org/pandas-docs/stable/indexing.html#indexing-view-versus-copy\n",
      "  \n"
     ]
    }
   ],
   "source": [
    "# binning days elapsed into incremental periods of 3 months \n",
    "durationFirstLastHearing_grantR['rangeInc90'] = pd.cut(durationFirstLastHearing_grantR['durationFirstLastHearing'], np.arange(0, 2000, 90))"
   ]
  },
  {
   "cell_type": "code",
   "execution_count": 73,
   "metadata": {},
   "outputs": [],
   "source": [
    "durationFirstLastHearing_grantR = durationFirstLastHearing_grantR.groupby(['rangeInc90', 'dec'])['dec'].count()"
   ]
  },
  {
   "cell_type": "code",
   "execution_count": 74,
   "metadata": {},
   "outputs": [],
   "source": [
    "durationFirstLastHearing_grantR = durationFirstLastHearing_grantR.groupby(level=0).apply(lambda x: x / x.sum())"
   ]
  },
  {
   "cell_type": "code",
   "execution_count": 75,
   "metadata": {},
   "outputs": [
    {
     "data": {
      "text/plain": [
       "rangeInc90    dec\n",
       "(0, 90]       0.0    0.65242\n",
       "              1.0    0.34758\n",
       "(90, 180]     0.0    0.63455\n",
       "              1.0    0.36545\n",
       "(180, 270]    0.0    0.60949\n",
       "              1.0    0.39051\n",
       "(270, 360]    0.0    0.58804\n",
       "              1.0    0.41196\n",
       "(360, 450]    0.0    0.57676\n",
       "              1.0    0.42324\n",
       "(450, 540]    0.0    0.55474\n",
       "              1.0    0.44526\n",
       "(540, 630]    0.0    0.52478\n",
       "              1.0    0.47522\n",
       "(630, 720]    0.0    0.51035\n",
       "              1.0    0.48965\n",
       "(720, 810]    0.0    0.49931\n",
       "              1.0    0.50069\n",
       "(810, 900]    0.0    0.49613\n",
       "              1.0    0.50387\n",
       "(900, 990]    0.0    0.49614\n",
       "              1.0    0.50386\n",
       "(990, 1080]   0.0    0.49583\n",
       "              1.0    0.50417\n",
       "(1080, 1170]  0.0    0.48558\n",
       "              1.0    0.51442\n",
       "(1170, 1260]  0.0    0.48947\n",
       "              1.0    0.51053\n",
       "(1260, 1350]  0.0    0.47747\n",
       "              1.0    0.52253\n",
       "(1350, 1440]  0.0    0.47064\n",
       "              1.0    0.52936\n",
       "(1440, 1530]  0.0    0.47219\n",
       "              1.0    0.52781\n",
       "(1530, 1620]  0.0    0.48404\n",
       "              1.0    0.51596\n",
       "(1620, 1710]  0.0    0.46213\n",
       "              1.0    0.53787\n",
       "(1710, 1800]  0.0    0.50753\n",
       "              1.0    0.49247\n",
       "(1800, 1890]  0.0    0.47377\n",
       "              1.0    0.52623\n",
       "(1890, 1980]  0.0    0.47981\n",
       "              1.0    0.52019\n",
       "Name: dec, dtype: float64"
      ]
     },
     "execution_count": 75,
     "metadata": {},
     "output_type": "execute_result"
    }
   ],
   "source": [
    "durationFirstLastHearing_grantR"
   ]
  },
  {
   "cell_type": "code",
   "execution_count": 76,
   "metadata": {},
   "outputs": [
    {
     "data": {
      "text/plain": [
       "<matplotlib.axes._subplots.AxesSubplot at 0x7f58db79e048>"
      ]
     },
     "execution_count": 76,
     "metadata": {},
     "output_type": "execute_result"
    },
    {
     "data": {
      "image/png": "[encoded data removed]",
      "text/plain": [
       "<Figure size 432x288 with 1 Axes>"
      ]
     },
     "metadata": {},
     "output_type": "display_data"
    }
   ],
   "source": [
    "durationFirstLastHearing_grantR.unstack().reset_index().plot(x='rangeInc90', y=1, kind='bar', title='Number of Days Elapsed Between First and Last Hearing v.s. Grant Rate')"
   ]
  },
  {
   "cell_type": "markdown",
   "metadata": {},
   "source": [
    "## Number of hearings/proceeding v.s. grant rate"
   ]
  },
  {
   "cell_type": "code",
   "execution_count": 77,
   "metadata": {},
   "outputs": [],
   "source": [
    "# getting rid of rows where there are more than 20 hearings \n",
    "numHearing_grantR = merged_sched_master[merged_sched_master.numHearingsPerProc < 20]"
   ]
  },
  {
   "cell_type": "code",
   "execution_count": 78,
   "metadata": {},
   "outputs": [],
   "source": [
    "numHearing_grantR = numHearing_grantR.groupby(['numHearingsPerProc', 'dec'])['dec'].count()"
   ]
  },
  {
   "cell_type": "code",
   "execution_count": 79,
   "metadata": {},
   "outputs": [],
   "source": [
    "numHearing_grantR = numHearing_grantR.groupby(level=0).apply(lambda x: x / x.sum())"
   ]
  },
  {
   "cell_type": "code",
   "execution_count": 80,
   "metadata": {},
   "outputs": [
    {
     "data": {
      "text/plain": [
       "<matplotlib.axes._subplots.AxesSubplot at 0x7f58db7a8b70>"
      ]
     },
     "execution_count": 80,
     "metadata": {},
     "output_type": "execute_result"
    },
    {
     "data": {
      "image/png": "[encoded data removed]",
      "text/plain": [
       "<Figure size 432x288 with 1 Axes>"
      ]
     },
     "metadata": {},
     "output_type": "display_data"
    }
   ],
   "source": [
    "numHearing_grantR.unstack().reset_index().plot(x='numHearingsPerProc', y=1, kind='bar', title='Number of Hearings/Proceeding v.s. Grant Rate')"
   ]
  },
  {
   "cell_type": "markdown",
   "metadata": {},
   "source": [
    "## Political affiliation of president at the time of hearing v.s. grant rate"
   ]
  },
  {
   "cell_type": "code",
   "execution_count": 81,
   "metadata": {},
   "outputs": [],
   "source": [
    "pres_grantR = merged_sched_master.groupby(['pres_aff', 'dec'])['dec'].count()"
   ]
  },
  {
   "cell_type": "code",
   "execution_count": 82,
   "metadata": {},
   "outputs": [],
   "source": [
    "pres_grantR = pres_grantR.groupby(level=0).apply(lambda x: x / x.sum())"
   ]
  },
  {
   "cell_type": "code",
   "execution_count": 83,
   "metadata": {},
   "outputs": [
    {
     "data": {
      "text/plain": [
       "pres_aff  dec\n",
       "DEM       0.0    0.61530\n",
       "          1.0    0.38470\n",
       "REP       0.0    0.57636\n",
       "          1.0    0.42364\n",
       "Name: dec, dtype: float64"
      ]
     },
     "execution_count": 83,
     "metadata": {},
     "output_type": "execute_result"
    }
   ],
   "source": [
    "pres_grantR"
   ]
  },
  {
   "cell_type": "code",
   "execution_count": 84,
   "metadata": {},
   "outputs": [
    {
     "data": {
      "text/plain": [
       "<matplotlib.axes._subplots.AxesSubplot at 0x7f58db7a5f98>"
      ]
     },
     "execution_count": 84,
     "metadata": {},
     "output_type": "execute_result"
    },
    {
     "data": {
      "image/png": "[encoded data removed]",
      "text/plain": [
       "<Figure size 432x288 with 1 Axes>"
      ]
     },
     "metadata": {},
     "output_type": "display_data"
    }
   ],
   "source": [
    "pres_grantR.unstack().reset_index().plot(x='pres_aff', y=1, kind='bar', title='President Affiliation At Hearing v.s. Grant Rate')"
   ]
  }
 ],
 "metadata": {
  "kernelspec": {
   "display_name": "Python 3",
   "language": "python",
   "name": "python3"
  },
  "language_info": {
   "codemirror_mode": {
    "name": "ipython",
    "version": 3
   },
   "file_extension": ".py",
   "mimetype": "text/x-python",
   "name": "python",
   "nbconvert_exporter": "python",
   "pygments_lexer": "ipython3",
   "version": "3.6.4"
  }
 },
 "nbformat": 4,
 "nbformat_minor": 2
}
